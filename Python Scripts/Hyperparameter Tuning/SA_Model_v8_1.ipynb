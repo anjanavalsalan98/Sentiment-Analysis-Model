{
 "cells": [
  {
   "cell_type": "code",
   "execution_count": 1,
   "id": "9f6f8310",
   "metadata": {},
   "outputs": [
    {
     "name": "stdout",
     "output_type": "stream",
     "text": [
      "Using TensorFlow version 2.6.0\n"
     ]
    }
   ],
   "source": [
    "%matplotlib inline\n",
    "\n",
    "import tensorflow as tf\n",
    "import numpy as np\n",
    "import pandas as pd\n",
    "import matplotlib.pyplot as plt\n",
    "import nltk\n",
    "import random\n",
    "\n",
    "\n",
    "def show_history(h):\n",
    "    epochs_trained = len(h.history['loss'])\n",
    "    plt.figure(figsize=(16, 6))\n",
    "\n",
    "    plt.subplot(1, 2, 1)\n",
    "    plt.plot(range(0, epochs_trained), h.history.get('accuracy'), label='Training')\n",
    "    plt.plot(range(0, epochs_trained), h.history.get('val_accuracy'), label='Validation')\n",
    "    plt.ylim([0., 1.])\n",
    "    plt.xlabel('Epochs')\n",
    "    plt.ylabel('Accuracy')\n",
    "    plt.legend()\n",
    "\n",
    "    plt.subplot(1, 2, 2)\n",
    "    plt.plot(range(0, epochs_trained), h.history.get('loss'), label='Training')\n",
    "    plt.plot(range(0, epochs_trained), h.history.get('val_loss'), label='Validation')\n",
    "    plt.xlabel('Epochs')\n",
    "    plt.ylabel('Loss')\n",
    "    plt.legend()\n",
    "    plt.show()\n",
    "\n",
    "    \n",
    "def show_confusion_matrix(y_true, y_pred, classes):\n",
    "    from sklearn.metrics import confusion_matrix\n",
    "    \n",
    "    cm = confusion_matrix(y_true, y_pred, normalize='true')\n",
    "\n",
    "    plt.figure(figsize=(8, 8))\n",
    "    sp = plt.subplot(1, 1, 1)\n",
    "    ctx = sp.matshow(cm)\n",
    "    plt.xticks(list(range(0, 6)), labels=classes)\n",
    "    plt.yticks(list(range(0, 6)), labels=classes)\n",
    "    plt.colorbar(ctx)\n",
    "    plt.show()\n",
    "\n",
    "    \n",
    "print('Using TensorFlow version', tf.__version__)"
   ]
  },
  {
   "cell_type": "code",
   "execution_count": 2,
   "id": "e4ab793f",
   "metadata": {},
   "outputs": [
    {
     "name": "stdout",
     "output_type": "stream",
     "text": [
      "                                                    text    label\n",
      "0      On days when I feel close to my partner and ot...      joy\n",
      "1      Every time I imagine that someone I love or I ...     fear\n",
      "2      When I had been obviously unjustly treated and...    anger\n",
      "3      When I think about the short time that we live...  sadness\n",
      "4      After my girlfriend had taken her exam we went...      joy\n",
      "...                                                  ...      ...\n",
      "19458  i just had a very brief time in the beanbag an...        0\n",
      "19459  i am now turning and i feel pathetic that i am...        0\n",
      "19460                     i feel strong and good overall        1\n",
      "19461  i feel like this was such a rude comment and i...        3\n",
      "19462  i know a lot but i feel so stupid because i ca...        0\n",
      "\n",
      "[19463 rows x 2 columns]\n",
      "                                                   text    label\n",
      "0                 South Korea cheating for gold medals.    anger\n",
      "1     My friend has to go on field trips, he just to...  sadness\n",
      "2     I met a friend I had not seen for a long time ...      joy\n",
      "3                 Going to the examn not well prepared.     fear\n",
      "4     Overhear people talking about me and saying th...    anger\n",
      "...                                                 ...      ...\n",
      "2428  i just keep feeling like someone is being unki...        3\n",
      "2429  im feeling a little cranky negative after this...        3\n",
      "2430  i feel that i am useful to my people and that ...        1\n",
      "2431  im feeling more comfortable with derby i feel ...        1\n",
      "2432  i feel all weird when i have to meet w people ...        4\n",
      "\n",
      "[2433 rows x 2 columns]\n",
      "                                                   text    label\n",
      "0     The news of the natural calamity, an earthquak...  sadness\n",
      "1     I felt happy at the end of a 10 day student ca...      joy\n",
      "2     One of my fellow students had bunked field wor...     fear\n",
      "3     I had made an error in planning a programme an...    anger\n",
      "4     I was in love with a girl but had to separate ...  sadness\n",
      "...                                                 ...      ...\n",
      "2428  im having ssa examination tomorrow in the morn...        0\n",
      "2429  i constantly worry about their fight against n...        1\n",
      "2430  i feel its important to share this info for th...        1\n",
      "2431  i truly feel that if you are passionate enough...        1\n",
      "2432  i feel like i just wanna buy any cute make up ...        1\n",
      "\n",
      "[2433 rows x 2 columns]\n"
     ]
    }
   ],
   "source": [
    "train = pd.read_csv(\"G:\\My Drive\\AnjanaValsalan_ECNG 3020\\Implementation Files\\Datasets\\ECNG3020_Final_Dataset\\ECNG3020_Train_Dataset.csv\")\n",
    "test = pd.read_csv(\"G:\\My Drive\\AnjanaValsalan_ECNG 3020\\Implementation Files\\Datasets\\ECNG3020_Final_Dataset\\ECNG3020_Test_Dataset.csv\")\n",
    "val = pd.read_csv(\"G:\\My Drive\\AnjanaValsalan_ECNG 3020\\Implementation Files\\Datasets\\ECNG3020_Final_Dataset\\ECNG3020_Val_Dataset.csv\")\n",
    "print(train)\n",
    "print(test)\n",
    "print(val)"
   ]
  },
  {
   "cell_type": "code",
   "execution_count": 3,
   "id": "5779f865",
   "metadata": {},
   "outputs": [],
   "source": [
    "def get_sentence(data):\n",
    "    sentences = data['text']\n",
    "    labels = data['label']\n",
    "    labels = labels.replace([\"0\",\"1\",\"2\",\"3\",\"4\",\"5\"],['sadness','joy','love','anger','fear','surprise'])\n",
    "    return sentences, labels"
   ]
  },
  {
   "cell_type": "code",
   "execution_count": 4,
   "id": "510d4a46",
   "metadata": {},
   "outputs": [],
   "source": [
    "sentences, labels = get_sentence(train)"
   ]
  },
  {
   "cell_type": "code",
   "execution_count": 5,
   "id": "3ac81801",
   "metadata": {},
   "outputs": [
    {
     "name": "stdout",
     "output_type": "stream",
     "text": [
      "0            joy\n",
      "1           fear\n",
      "2          anger\n",
      "3        sadness\n",
      "4            joy\n",
      "          ...   \n",
      "19458    sadness\n",
      "19459    sadness\n",
      "19460        joy\n",
      "19461      anger\n",
      "19462    sadness\n",
      "Name: label, Length: 19463, dtype: object\n"
     ]
    }
   ],
   "source": [
    "print(labels)"
   ]
  },
  {
   "cell_type": "code",
   "execution_count": 6,
   "id": "79f87832",
   "metadata": {},
   "outputs": [],
   "source": [
    "from tensorflow.keras.preprocessing.text import Tokenizer"
   ]
  },
  {
   "cell_type": "code",
   "execution_count": 7,
   "id": "0df6fd3c",
   "metadata": {},
   "outputs": [],
   "source": [
    "tokenizer = Tokenizer(num_words=10000, oov_token='<UNK>')\n",
    "tokenizer.fit_on_texts(sentences)"
   ]
  },
  {
   "cell_type": "code",
   "execution_count": 8,
   "id": "53051c6c",
   "metadata": {},
   "outputs": [
    {
     "data": {
      "text/plain": [
       "[[168, 45, 2, 946, 10, 136, 2, 89, 38, 2, 83, 1213, 7, 1241, 1145, 80, 344]]"
      ]
     },
     "execution_count": 8,
     "metadata": {},
     "output_type": "execute_result"
    }
   ],
   "source": [
    "tokenizer.texts_to_sequences([sentences[1]])"
   ]
  },
  {
   "cell_type": "code",
   "execution_count": 9,
   "id": "ea76037a",
   "metadata": {},
   "outputs": [
    {
     "data": {
      "text/plain": [
       "'Every time I imagine that someone I love or I could contact a serious illness, even death.'"
      ]
     },
     "execution_count": 9,
     "metadata": {},
     "output_type": "execute_result"
    }
   ],
   "source": [
    "sentences[1]"
   ]
  },
  {
   "cell_type": "code",
   "execution_count": 10,
   "id": "a35eece0",
   "metadata": {},
   "outputs": [
    {
     "data": {
      "text/plain": [
       "<function matplotlib.pyplot.show(close=None, block=None)>"
      ]
     },
     "execution_count": 10,
     "metadata": {},
     "output_type": "execute_result"
    },
    {
     "data": {
      "image/png": "[encoded data removed]",
      "text/plain": [
       "<Figure size 432x288 with 1 Axes>"
      ]
     },
     "metadata": {
      "needs_background": "light"
     },
     "output_type": "display_data"
    }
   ],
   "source": [
    "lengths = [len(t.split(' ')) for t in sentences]\n",
    "plt.hist(lengths, bins = len(set(lengths)))\n",
    "plt.show"
   ]
  },
  {
   "cell_type": "code",
   "execution_count": 11,
   "id": "addd4297",
   "metadata": {},
   "outputs": [],
   "source": [
    "max_length = 50\n",
    "from tensorflow.keras.preprocessing.sequence import pad_sequences"
   ]
  },
  {
   "cell_type": "code",
   "execution_count": 12,
   "id": "2a37d030",
   "metadata": {},
   "outputs": [],
   "source": [
    "def get_sequences(tokenizer, sentences):\n",
    "  sequences = tokenizer.texts_to_sequences(sentences)\n",
    "  padded = pad_sequences(sequences, truncating='post' , padding='post', maxlen = max_length)\n",
    "  return padded"
   ]
  },
  {
   "cell_type": "code",
   "execution_count": 13,
   "id": "687ac355",
   "metadata": {},
   "outputs": [],
   "source": [
    "padded_train_seq = get_sequences(tokenizer, sentences)"
   ]
  },
  {
   "cell_type": "code",
   "execution_count": 14,
   "id": "8640f02e",
   "metadata": {},
   "outputs": [
    {
     "data": {
      "text/plain": [
       "array([[ 30, 157,  17, ...,   0,   0,   0],\n",
       "       [168,  45,   2, ...,   0,   0,   0],\n",
       "       [ 17,   2,  32, ...,   0,   0,   0],\n",
       "       ...,\n",
       "       [  2,   4, 370, ...,   0,   0,   0],\n",
       "       [  2,   4,  18, ...,   0,   0,   0],\n",
       "       [  2,  53,   7, ...,   0,   0,   0]])"
      ]
     },
     "execution_count": 14,
     "metadata": {},
     "output_type": "execute_result"
    }
   ],
   "source": [
    "padded_train_seq"
   ]
  },
  {
   "cell_type": "code",
   "execution_count": 15,
   "id": "afef3ad0",
   "metadata": {},
   "outputs": [
    {
     "name": "stdout",
     "output_type": "stream",
     "text": [
      "['joy', 'fear', 'anger', 'sadness', 'love', 'surprise']\n"
     ]
    }
   ],
   "source": [
    "#classes = set(labels)\n",
    "classes = ['joy', 'fear', 'anger', 'sadness', 'love', 'surprise']\n",
    "print(classes)"
   ]
  },
  {
   "cell_type": "code",
   "execution_count": 16,
   "id": "81e6bdfb",
   "metadata": {},
   "outputs": [
    {
     "data": {
      "image/png": "[encoded data removed]",
      "text/plain": [
       "<Figure size 432x288 with 1 Axes>"
      ]
     },
     "metadata": {
      "needs_background": "light"
     },
     "output_type": "display_data"
    }
   ],
   "source": [
    "plt.hist(labels, bins=11)\n",
    "plt.show()"
   ]
  },
  {
   "cell_type": "code",
   "execution_count": 17,
   "id": "ed68e501",
   "metadata": {},
   "outputs": [],
   "source": [
    "class_to_index = dict((c,i) for i, c in enumerate(classes))\n",
    "index_to_class = dict((v, k) for k, v in class_to_index.items())"
   ]
  },
  {
   "cell_type": "code",
   "execution_count": 18,
   "id": "c333e971",
   "metadata": {},
   "outputs": [
    {
     "data": {
      "text/plain": [
       "{'joy': 0, 'fear': 1, 'anger': 2, 'sadness': 3, 'love': 4, 'surprise': 5}"
      ]
     },
     "execution_count": 18,
     "metadata": {},
     "output_type": "execute_result"
    }
   ],
   "source": [
    "class_to_index"
   ]
  },
  {
   "cell_type": "code",
   "execution_count": 19,
   "id": "4c71dd58",
   "metadata": {},
   "outputs": [
    {
     "data": {
      "text/plain": [
       "{0: 'joy', 1: 'fear', 2: 'anger', 3: 'sadness', 4: 'love', 5: 'surprise'}"
      ]
     },
     "execution_count": 19,
     "metadata": {},
     "output_type": "execute_result"
    }
   ],
   "source": [
    "index_to_class"
   ]
  },
  {
   "cell_type": "code",
   "execution_count": 20,
   "id": "43a08207",
   "metadata": {},
   "outputs": [],
   "source": [
    "names_to_ids = lambda labels: np.array([class_to_index.get(x) for x in labels])"
   ]
  },
  {
   "cell_type": "code",
   "execution_count": 21,
   "id": "fe8afd18",
   "metadata": {},
   "outputs": [
    {
     "name": "stdout",
     "output_type": "stream",
     "text": [
      "0\n"
     ]
    }
   ],
   "source": [
    "train_labels = names_to_ids(labels)\n",
    "print(train_labels[0])"
   ]
  },
  {
   "cell_type": "code",
   "execution_count": 33,
   "id": "82dc21b6",
   "metadata": {},
   "outputs": [],
   "source": [
    "model = tf.keras.models.Sequential([\n",
    "        tf.keras.layers.Embedding(10000, 16, input_length=max_length),\n",
    "        tf.keras.layers.Bidirectional(tf.keras.layers.LSTM(20, return_sequences=True)),\n",
    "        tf.keras.layers.Bidirectional(tf.keras.layers.LSTM(20)),\n",
    "#         tf.keras.layers.Dropout(.25, input_shape=(2,)),\n",
    "        tf.keras.layers.Dense(6, activation='softmax')\n",
    "])\n",
    "\n",
    "model.compile(\n",
    "    loss='sparse_categorical_crossentropy',\n",
    "    optimizer='adam',\n",
    "    metrics=['accuracy']\n",
    ")"
   ]
  },
  {
   "cell_type": "code",
   "execution_count": 34,
   "id": "55055da2",
   "metadata": {},
   "outputs": [
    {
     "name": "stdout",
     "output_type": "stream",
     "text": [
      "Model: \"sequential_1\"\n",
      "_________________________________________________________________\n",
      "Layer (type)                 Output Shape              Param #   \n",
      "=================================================================\n",
      "embedding_1 (Embedding)      (None, 50, 16)            160000    \n",
      "_________________________________________________________________\n",
      "bidirectional_2 (Bidirection (None, 50, 40)            5920      \n",
      "_________________________________________________________________\n",
      "bidirectional_3 (Bidirection (None, 40)                9760      \n",
      "_________________________________________________________________\n",
      "dense_1 (Dense)              (None, 6)                 246       \n",
      "=================================================================\n",
      "Total params: 175,926\n",
      "Trainable params: 175,926\n",
      "Non-trainable params: 0\n",
      "_________________________________________________________________\n"
     ]
    }
   ],
   "source": [
    "model.summary()"
   ]
  },
  {
   "cell_type": "code",
   "execution_count": 35,
   "id": "2c2ecfd9",
   "metadata": {},
   "outputs": [],
   "source": [
    "val_sentence, val_labels = get_sentence(val)\n",
    "val_seq = get_sequences(tokenizer, val_sentence)\n",
    "val_labels = names_to_ids(val_labels)"
   ]
  },
  {
   "cell_type": "code",
   "execution_count": 36,
   "id": "e6e1a7e9",
   "metadata": {},
   "outputs": [
    {
     "data": {
      "text/plain": [
       "('The news of the natural calamity, an earthquake in which hundreds of Mexican people died.',\n",
       " 3)"
      ]
     },
     "execution_count": 36,
     "metadata": {},
     "output_type": "execute_result"
    }
   ],
   "source": [
    "val_sentence[0], val_labels[0]"
   ]
  },
  {
   "cell_type": "code",
   "execution_count": 37,
   "id": "ab409216",
   "metadata": {},
   "outputs": [
    {
     "name": "stdout",
     "output_type": "stream",
     "text": [
      "Epoch 1/20\n",
      "609/609 [==============================] - 17s 19ms/step - loss: 1.3438 - accuracy: 0.4652 - val_loss: 0.9980 - val_accuracy: 0.6465\n",
      "Epoch 2/20\n",
      "609/609 [==============================] - 10s 17ms/step - loss: 0.6921 - accuracy: 0.7558 - val_loss: 0.5757 - val_accuracy: 0.8085\n",
      "Epoch 3/20\n",
      "609/609 [==============================] - 12s 19ms/step - loss: 0.3766 - accuracy: 0.8765 - val_loss: 0.4557 - val_accuracy: 0.8487\n",
      "Epoch 4/20\n",
      "609/609 [==============================] - 12s 19ms/step - loss: 0.2245 - accuracy: 0.9288 - val_loss: 0.4447 - val_accuracy: 0.8574\n",
      "Epoch 5/20\n",
      "609/609 [==============================] - 12s 19ms/step - loss: 0.1591 - accuracy: 0.9498 - val_loss: 0.4296 - val_accuracy: 0.8635\n",
      "Epoch 6/20\n",
      "609/609 [==============================] - 11s 19ms/step - loss: 0.1244 - accuracy: 0.9606 - val_loss: 0.4501 - val_accuracy: 0.8652\n",
      "Epoch 7/20\n",
      "609/609 [==============================] - 12s 19ms/step - loss: 0.1089 - accuracy: 0.9667 - val_loss: 0.4520 - val_accuracy: 0.8734\n",
      "Epoch 8/20\n",
      "609/609 [==============================] - 12s 20ms/step - loss: 0.0825 - accuracy: 0.9747 - val_loss: 0.4855 - val_accuracy: 0.8685\n",
      "Epoch 9/20\n",
      "609/609 [==============================] - 12s 20ms/step - loss: 0.0752 - accuracy: 0.9771 - val_loss: 0.5174 - val_accuracy: 0.8705\n"
     ]
    }
   ],
   "source": [
    "h = model.fit(\n",
    "    padded_train_seq, train_labels,\n",
    "    validation_data=(val_seq, val_labels),\n",
    "    epochs=20,\n",
    "    callbacks=[\n",
    "               tf.keras.callbacks.EarlyStopping(monitor='val_accuracy', patience=2)\n",
    "    ]\n",
    ")"
   ]
  },
  {
   "cell_type": "code",
   "execution_count": 38,
   "id": "de395e9f",
   "metadata": {},
   "outputs": [
    {
     "data": {
      "image/png": "[encoded data removed]",
      "text/plain": [
       "<Figure size 1152x432 with 2 Axes>"
      ]
     },
     "metadata": {
      "needs_background": "light"
     },
     "output_type": "display_data"
    }
   ],
   "source": [
    "show_history(h)"
   ]
  },
  {
   "cell_type": "code",
   "execution_count": 39,
   "id": "489a6064",
   "metadata": {},
   "outputs": [],
   "source": [
    "test_sentence, test_labels = get_sentence(test)\n",
    "test_seq = get_sequences(tokenizer, test_sentence)\n",
    "test_labels = names_to_ids(test_labels)"
   ]
  },
  {
   "cell_type": "code",
   "execution_count": 40,
   "id": "dacd9097",
   "metadata": {},
   "outputs": [
    {
     "name": "stdout",
     "output_type": "stream",
     "text": [
      "77/77 [==============================] - 1s 9ms/step - loss: 0.6333 - accuracy: 0.8335\n"
     ]
    }
   ],
   "source": [
    "_=model.evaluate(test_seq, test_labels)"
   ]
  },
  {
   "cell_type": "code",
   "execution_count": 41,
   "id": "be5c1a79",
   "metadata": {},
   "outputs": [
    {
     "name": "stdout",
     "output_type": "stream",
     "text": [
      "Sentence: My 80 year old grandfather underwent three successive operations during a single year. The third operation was risky and I was scared that he would die and feared that my grandmother would be very sad.\n",
      "Emotion: fear\n",
      "Predicted Emotion: sadness\n"
     ]
    }
   ],
   "source": [
    "i = random.randint(0, len(test_labels) - 1)\n",
    "\n",
    "print('Sentence:', test_sentence[i])\n",
    "print('Emotion:', index_to_class[test_labels[i]])\n",
    "\n",
    "p = model.predict(np.expand_dims(test_seq[i], axis=0))[0]\n",
    "pred_class = index_to_class[np.argmax(p).astype('uint8')]\n",
    "\n",
    "print('Predicted Emotion:', pred_class)"
   ]
  },
  {
   "cell_type": "code",
   "execution_count": 42,
   "id": "3f45be1e",
   "metadata": {},
   "outputs": [],
   "source": [
    "preds = np.argmax(model.predict(test_seq), axis=-1)"
   ]
  },
  {
   "cell_type": "code",
   "execution_count": 43,
   "id": "697a2473",
   "metadata": {},
   "outputs": [
    {
     "data": {
      "image/png": "[encoded data removed]",
      "text/plain": [
       "<Figure size 576x576 with 2 Axes>"
      ]
     },
     "metadata": {
      "needs_background": "light"
     },
     "output_type": "display_data"
    }
   ],
   "source": [
    "show_confusion_matrix(test_labels, preds, list(classes))"
   ]
  },
  {
   "cell_type": "code",
   "execution_count": null,
   "id": "39d3cb03",
   "metadata": {},
   "outputs": [],
   "source": [
    "from datetime import datetime\n",
    "model.save(\"C:/Users/valsa/OneDrive - The University of the West Indies, St. Augustine/Final Year/ECNG 3020/Iris/Python Scripts/SA_Model_Final_v8\")"
   ]
  },
  {
   "cell_type": "code",
   "execution_count": null,
   "id": "79eb37f6",
   "metadata": {},
   "outputs": [],
   "source": []
  }
 ],
 "metadata": {
  "kernelspec": {
   "display_name": "Python 3 (ipykernel)",
   "language": "python",
   "name": "python3"
  },
  "language_info": {
   "codemirror_mode": {
    "name": "ipython",
    "version": 3
   },
   "file_extension": ".py",
   "mimetype": "text/x-python",
   "name": "python",
   "nbconvert_exporter": "python",
   "pygments_lexer": "ipython3",
   "version": "3.8.8"
  }
 },
 "nbformat": 4,
 "nbformat_minor": 5
}
