{
 "cells": [
  {
   "cell_type": "code",
   "execution_count": 35,
   "id": "cd2685f5",
   "metadata": {},
   "outputs": [
    {
     "name": "stdout",
     "output_type": "stream",
     "text": [
      "Using TensorFlow version 2.6.0\n"
     ]
    }
   ],
   "source": [
    "import tensorflow as tf\n",
    "import nltk\n",
    "import matplotlib.pyplot as plt\n",
    "import numpy as np\n",
    "import pandas as pd\n",
    "import random\n",
    "from sklearn.model_selection import train_test_split \n",
    "from tensorflow.keras.preprocessing.text import Tokenizer \n",
    "\n",
    "def show_history(h):\n",
    "    epochs_trained = len(h.history['loss'])\n",
    "    plt.figure(figsize=(16, 6))\n",
    "\n",
    "    plt.subplot(1, 2, 1)\n",
    "    plt.plot(range(0, epochs_trained), h.history.get('accuracy'), label='Training')\n",
    "    plt.plot(range(0, epochs_trained), h.history.get('val_accuracy'), label='Validation')\n",
    "    plt.ylim([0., 1.])\n",
    "    plt.xlabel('Epochs')\n",
    "    plt.ylabel('Accuracy')\n",
    "    plt.legend()\n",
    "\n",
    "    plt.subplot(1, 2, 2)\n",
    "    plt.plot(range(0, epochs_trained), h.history.get('loss'), label='Training')\n",
    "    plt.plot(range(0, epochs_trained), h.history.get('val_loss'), label='Validation')\n",
    "    plt.xlabel('Epochs')\n",
    "    plt.ylabel('Loss')\n",
    "    plt.legend()\n",
    "    plt.show()\n",
    "\n",
    "    \n",
    "def show_confusion_matrix(y_true, y_pred, classes):\n",
    "    from sklearn.metrics import confusion_matrix\n",
    "    \n",
    "    cm = confusion_matrix(y_true, y_pred, normalize='true')\n",
    "\n",
    "    plt.figure(figsize=(6, 6))\n",
    "    sp = plt.subplot(1, 1, 1)\n",
    "    ctx = sp.matshow(cm)\n",
    "    plt.xticks(list(range(0, 6)), labels=classes)\n",
    "    plt.yticks(list(range(0, 6)), labels=classes)\n",
    "    plt.colorbar(ctx)\n",
    "    plt.show()\n",
    "   \n",
    "print('Using TensorFlow version', tf.__version__)"
   ]
  },
  {
   "cell_type": "code",
   "execution_count": 36,
   "id": "bee4be3a",
   "metadata": {},
   "outputs": [
    {
     "name": "stderr",
     "output_type": "stream",
     "text": [
      "Using custom data configuration default\n",
      "Reusing dataset emotion (C:\\Users\\valsa\\.cache\\huggingface\\datasets\\emotion\\default\\0.0.0\\348f63ca8e27b3713b6c04d723efe6d824a56fb3d1449794716c0f0296072705)\n"
     ]
    },
    {
     "data": {
      "application/vnd.jupyter.widget-view+json": {
       "model_id": "d938bbd7e0c54d53bb2f295854a651ed",
       "version_major": 2,
       "version_minor": 0
      },
      "text/plain": [
       "  0%|          | 0/3 [00:00<?, ?it/s]"
      ]
     },
     "metadata": {},
     "output_type": "display_data"
    }
   ],
   "source": [
    "from datasets import load_dataset\n",
    "emotion_dataset = load_dataset(\"emotion\")"
   ]
  },
  {
   "cell_type": "code",
   "execution_count": 37,
   "id": "2e2b6104",
   "metadata": {},
   "outputs": [
    {
     "name": "stdout",
     "output_type": "stream",
     "text": [
      "{'text': 'i didnt feel humiliated', 'label': 0}\n",
      "['text', 'label']\n",
      "{'text': Value(dtype='string', id=None), 'label': ClassLabel(num_classes=6, names=['sadness', 'joy', 'love', 'anger', 'fear', 'surprise'], names_file=None, id=None)}\n"
     ]
    }
   ],
   "source": [
    "emotion_train = emotion_dataset['train']\n",
    "print(emotion_train[0])\n",
    "print(emotion_train.column_names)\n",
    "print(emotion_train.features)"
   ]
  },
  {
   "cell_type": "code",
   "execution_count": 38,
   "id": "751c66bf",
   "metadata": {},
   "outputs": [],
   "source": [
    "emotion_dataset.set_format(type=\"pandas\")\n",
    "df1 = emotion_dataset[\"train\"][:]\n",
    "test = emotion_dataset[\"test\"][:]\n",
    "val = emotion_dataset[\"validation\"][:]"
   ]
  },
  {
   "cell_type": "code",
   "execution_count": 39,
   "id": "ac084ace",
   "metadata": {},
   "outputs": [
    {
     "name": "stdout",
     "output_type": "stream",
     "text": [
      "['sadness' 'anger' 'love' 'surprise' 'fear' 'joy']\n",
      "16000\n"
     ]
    }
   ],
   "source": [
    "df1 = df1.rename(columns={'text':'sentence','label':'emotion'})\n",
    "df1 = df1[[\"emotion\", \"sentence\"]]\n",
    "df1 = df1.replace([0,1,2,3,4,5],['sadness','joy','love','anger','fear','surprise'])\n",
    "print(df1.emotion.unique())\n",
    "print(len(df1))"
   ]
  },
  {
   "cell_type": "code",
   "execution_count": 6,
   "id": "f7cd6ba3",
   "metadata": {},
   "outputs": [
    {
     "name": "stdout",
     "output_type": "stream",
     "text": [
      "['sadness' 'joy' 'fear' 'anger' 'love' 'surprise']\n",
      "2000\n"
     ]
    }
   ],
   "source": [
    "test = test.rename(columns={'text':'sentence','label':'emotion'})\n",
    "test = test[[\"emotion\", \"sentence\"]]\n",
    "test = test.replace([0,1,2,3,4,5],['sadness','joy','love','anger','fear','surprise'])\n",
    "# test = test[test.emotion != 'surprise']\n",
    "# test = test[test.emotion != 'love']\n",
    "print(test.emotion.unique())\n",
    "print(len(test))"
   ]
  },
  {
   "cell_type": "code",
   "execution_count": 7,
   "id": "5f21d9a5",
   "metadata": {},
   "outputs": [
    {
     "name": "stdout",
     "output_type": "stream",
     "text": [
      "['sadness' 'love' 'anger' 'joy' 'fear' 'surprise']\n",
      "2000\n"
     ]
    }
   ],
   "source": [
    "val = val.rename(columns={'text':'sentence','label':'emotion'})\n",
    "val = val[[\"emotion\", \"sentence\"]]\n",
    "val = val.replace([0,1,2,3,4,5],['sadness','joy','love','anger','fear','surprise'])\n",
    "# val = val[val.emotion != 'surprise']\n",
    "# val = val[val.emotion != 'love']\n",
    "print(val.emotion.unique())\n",
    "print(len(val))"
   ]
  },
  {
   "cell_type": "code",
   "execution_count": 33,
   "id": "cb9adb90",
   "metadata": {},
   "outputs": [
    {
     "name": "stdout",
     "output_type": "stream",
     "text": [
      "['joy' 'fear' 'anger' 'sadness' 'disgust' 'shame' 'guilt']\n",
      "7516\n"
     ]
    }
   ],
   "source": [
    "df2 = pd.read_csv('G:\\My Drive\\AnjanaValsalan_ECNG 3020\\Implementation Files\\Datasets\\ISEAR csv\\ISEAR.csv')\n",
    "df2.dropna(axis=1, how=\"any\", thresh=None, subset=None, inplace=True)\n",
    "df2 = df2[df2.emotion != 'disgust']\n",
    "df2 = df2[df2.emotion != 'shame']\n",
    "df2 = df2[df2.emotion != 'guilt']\n",
    "print(df2.emotion.unique())\n",
    "print(len(df2))"
   ]
  },
  {
   "cell_type": "code",
   "execution_count": null,
   "id": "34fcfcc2",
   "metadata": {},
   "outputs": [],
   "source": [
    "frames = [df1, df2]\n",
    "df = pd.concat(frames)\n",
    "df = df[df.emotion != 'surprise']\n",
    "df = df[df.emotion != 'love']\n",
    "df = df.reset_index(drop=True)\n",
    "df.emotion.unique()\n",
    "len(df)"
   ]
  },
  {
   "cell_type": "code",
   "execution_count": 8,
   "id": "03e18989",
   "metadata": {},
   "outputs": [
    {
     "data": {
      "text/html": [
       "<div>\n",
       "<style scoped>\n",
       "    .dataframe tbody tr th:only-of-type {\n",
       "        vertical-align: middle;\n",
       "    }\n",
       "\n",
       "    .dataframe tbody tr th {\n",
       "        vertical-align: top;\n",
       "    }\n",
       "\n",
       "    .dataframe thead th {\n",
       "        text-align: right;\n",
       "    }\n",
       "</style>\n",
       "<table border=\"1\" class=\"dataframe\">\n",
       "  <thead>\n",
       "    <tr style=\"text-align: right;\">\n",
       "      <th></th>\n",
       "      <th>sentence</th>\n",
       "    </tr>\n",
       "    <tr>\n",
       "      <th>emotion</th>\n",
       "      <th></th>\n",
       "    </tr>\n",
       "  </thead>\n",
       "  <tbody>\n",
       "    <tr>\n",
       "      <th>anger</th>\n",
       "      <td>2159</td>\n",
       "    </tr>\n",
       "    <tr>\n",
       "      <th>fear</th>\n",
       "      <td>1937</td>\n",
       "    </tr>\n",
       "    <tr>\n",
       "      <th>joy</th>\n",
       "      <td>5362</td>\n",
       "    </tr>\n",
       "    <tr>\n",
       "      <th>love</th>\n",
       "      <td>1304</td>\n",
       "    </tr>\n",
       "    <tr>\n",
       "      <th>sadness</th>\n",
       "      <td>4666</td>\n",
       "    </tr>\n",
       "    <tr>\n",
       "      <th>surprise</th>\n",
       "      <td>572</td>\n",
       "    </tr>\n",
       "  </tbody>\n",
       "</table>\n",
       "</div>"
      ],
      "text/plain": [
       "          sentence\n",
       "emotion           \n",
       "anger         2159\n",
       "fear          1937\n",
       "joy           5362\n",
       "love          1304\n",
       "sadness       4666\n",
       "surprise       572"
      ]
     },
     "execution_count": 8,
     "metadata": {},
     "output_type": "execute_result"
    }
   ],
   "source": [
    "df1.groupby(['emotion']).count()"
   ]
  },
  {
   "cell_type": "code",
   "execution_count": null,
   "id": "49bb1adf",
   "metadata": {},
   "outputs": [],
   "source": [
    "sad_df = df.loc[df['emotion'] == 'sadness']\n",
    "sad_list = sad_df.values.tolist()\n",
    "rand = np.random.RandomState(32).permutation(len(sad_list))\n",
    "sad_array = np.array(sad_df)[rand]\n",
    "sad = sad_array[0: 3000]\n",
    "sad_list = sad.tolist()\n",
    "sad_df = pd.DataFrame(sad_list, columns=['emotion','sentence'])"
   ]
  },
  {
   "cell_type": "code",
   "execution_count": null,
   "id": "0f35cba6",
   "metadata": {},
   "outputs": [],
   "source": [
    "ang_df = df.loc[df['emotion'] == 'anger']\n",
    "ang_list = ang_df.values.tolist()\n",
    "rand = np.random.RandomState(32).permutation(len(ang_list))\n",
    "ang_array = np.array(ang_df)[rand]\n",
    "ang = ang_array[0: 3000]\n",
    "ang_list = ang.tolist()\n",
    "ang_df = pd.DataFrame(ang_list, columns=['emotion','sentence'])"
   ]
  },
  {
   "cell_type": "code",
   "execution_count": null,
   "id": "635126d0",
   "metadata": {},
   "outputs": [],
   "source": [
    "fear_df = df.loc[df['emotion'] == 'fear']\n",
    "fear_list = fear_df.values.tolist()\n",
    "rand = np.random.RandomState(32).permutation(len(fear_list))\n",
    "fear_array = np.array(fear_df)[rand]\n",
    "fear = fear_array[0: 3000]\n",
    "fear_list = fear.tolist()\n",
    "fear_df = pd.DataFrame(fear_list, columns=['emotion','sentence'])"
   ]
  },
  {
   "cell_type": "code",
   "execution_count": null,
   "id": "a387e625",
   "metadata": {},
   "outputs": [],
   "source": [
    "joy_df = df.loc[df['emotion'] == 'joy']\n",
    "joy_list = joy_df.values.tolist()\n",
    "rand = np.random.RandomState(32).permutation(len(joy_list))\n",
    "joy_array = np.array(joy_df)[rand]\n",
    "joy = joy_array[0: 3000]\n",
    "joy_list = joy.tolist()\n",
    "joy_df = pd.DataFrame(joy_list, columns=['emotion','sentence'])"
   ]
  },
  {
   "cell_type": "markdown",
   "id": "15923a80",
   "metadata": {},
   "source": [
    "frames = [sad_df, ang_df, fear_df, joy_df]\n",
    "df = pd.concat(frames)\n",
    "from sklearn.utils import shuffle\n",
    "df = shuffle(df)\n",
    "df = df.reset_index(drop=True)"
   ]
  },
  {
   "cell_type": "markdown",
   "id": "9d4eda64",
   "metadata": {},
   "source": [
    "df.to_csv(r'G:\\My Drive\\AnjanaValsalan_ECNG 3020\\Implementation Files\\Datasets\\ISEAR_and_HF.csv')"
   ]
  },
  {
   "cell_type": "code",
   "execution_count": 9,
   "id": "1e1c4a67",
   "metadata": {},
   "outputs": [],
   "source": [
    "text_train = df1.drop(columns = ['emotion']).copy()\n",
    "label_train = df1['emotion']\n",
    "text_test = test.drop(columns = ['emotion']).copy()\n",
    "label_test = test['emotion']\n",
    "text_val = val.drop(columns = ['emotion']).copy()\n",
    "label_val = val['emotion']"
   ]
  },
  {
   "cell_type": "code",
   "execution_count": 10,
   "id": "f8c3e23f",
   "metadata": {},
   "outputs": [],
   "source": [
    "text_train_list=[ i[0] for i in text_train.values.tolist()]\n",
    "label_train_list=[ i[0] for i in label_train.values.tolist()]\n",
    "text_val_list=[ i[0] for i in text_val.values.tolist()]\n",
    "label_val_list=[ i[0] for i in label_val.values.tolist()]\n",
    "text_test_list=[ i[0] for i in text_test.values.tolist()]\n",
    "label_test_list=[ i[0] for i in label_test.values.tolist()]"
   ]
  },
  {
   "cell_type": "code",
   "execution_count": 11,
   "id": "948f1cb6",
   "metadata": {},
   "outputs": [
    {
     "data": {
      "text/plain": [
       "[[4, 5, 6, 2, 7, 3, 8, 9, 3, 10, 11, 12, 2, 13, 14, 15, 16, 17, 18, 19, 20]]"
      ]
     },
     "execution_count": 11,
     "metadata": {},
     "output_type": "execute_result"
    }
   ],
   "source": [
    "tokenizer = Tokenizer(num_words=1000000, oov_token='<UNK>')\n",
    "tokenizer.fit_on_texts([text_train_list[1]])\n",
    "tokenizer.texts_to_sequences([text_train_list[1]])"
   ]
  },
  {
   "cell_type": "code",
   "execution_count": 12,
   "id": "ceb89e92",
   "metadata": {},
   "outputs": [
    {
     "data": {
      "text/plain": [
       "<function matplotlib.pyplot.show(close=None, block=None)>"
      ]
     },
     "execution_count": 12,
     "metadata": {},
     "output_type": "execute_result"
    },
    {
     "data": {
      "image/png": "[encoded data removed]",
      "text/plain": [
       "<Figure size 432x288 with 1 Axes>"
      ]
     },
     "metadata": {
      "needs_background": "light"
     },
     "output_type": "display_data"
    }
   ],
   "source": [
    "lengths = [len(t.split(' ')) for t in text_train_list]\n",
    "plt.hist(lengths, bins = len(set(lengths)))\n",
    "plt.show"
   ]
  },
  {
   "cell_type": "code",
   "execution_count": 13,
   "id": "03a62180",
   "metadata": {},
   "outputs": [],
   "source": [
    "max_length = 60\n",
    "from tensorflow.keras.preprocessing.sequence import pad_sequences\n",
    "\n",
    "def get_sequences(tokenizer, text_train_list):\n",
    "    sequences = tokenizer.texts_to_sequences(text_train_list)\n",
    "    padded = pad_sequences(sequences, truncating='post', padding='post', maxlen = max_length)\n",
    "    return padded\n",
    "\n",
    "padded_train_seq = get_sequences(tokenizer,text_train_list)"
   ]
  },
  {
   "cell_type": "code",
   "execution_count": 14,
   "id": "6e6ab2f2",
   "metadata": {},
   "outputs": [
    {
     "name": "stdout",
     "output_type": "stream",
     "text": [
      "{'surprise', 'anger', 'sadness', 'love', 'fear', 'joy'}\n"
     ]
    }
   ],
   "source": [
    "classes = set(label_train)\n",
    "print(classes)"
   ]
  },
  {
   "cell_type": "code",
   "execution_count": 15,
   "id": "2ea4b2f9",
   "metadata": {},
   "outputs": [
    {
     "data": {
      "image/png": "[encoded data removed]",
      "text/plain": [
       "<Figure size 432x288 with 1 Axes>"
      ]
     },
     "metadata": {
      "needs_background": "light"
     },
     "output_type": "display_data"
    }
   ],
   "source": [
    "plt.hist(label_train, bins=18)\n",
    "plt.show()"
   ]
  },
  {
   "cell_type": "code",
   "execution_count": 16,
   "id": "98a88837",
   "metadata": {},
   "outputs": [],
   "source": [
    "class_to_index = dict((c,i) for i, c in enumerate(classes))\n",
    "index_to_class = dict((v, k) for k, v in class_to_index.items())"
   ]
  },
  {
   "cell_type": "code",
   "execution_count": 17,
   "id": "5c998169",
   "metadata": {},
   "outputs": [],
   "source": [
    "names_to_ids = lambda label_train: np.array([class_to_index.get(x) for x in label_train])\n",
    "\n",
    "train_labels = names_to_ids(label_train)"
   ]
  },
  {
   "cell_type": "code",
   "execution_count": 18,
   "id": "f4e3a15a",
   "metadata": {},
   "outputs": [],
   "source": [
    "model = tf.keras.models.Sequential([\n",
    "    tf.keras.layers.Embedding(10000, 16, input_length=max_length),\n",
    "    tf.keras.layers.Bidirectional(tf.keras.layers.LSTM(20, return_sequences=True)),\n",
    "    tf.keras.layers.Bidirectional(tf.keras.layers.LSTM(20)),\n",
    "    #tf.keras.layers.Dropout(.2, input_shape=(2,)),\n",
    "    tf.keras.layers.Dense(6, activation='softmax')\n",
    "    \n",
    "])"
   ]
  },
  {
   "cell_type": "code",
   "execution_count": 19,
   "id": "1fb24c68",
   "metadata": {},
   "outputs": [],
   "source": [
    "optimizer = tf.keras.optimizers.Adam(\n",
    "    learning_rate=0.001, beta_1=0.9, beta_2=0.999, epsilon=1e-07, amsgrad=False,\n",
    "    name='Adam'\n",
    ")\n",
    "\n",
    "model.compile(\n",
    "    loss='sparse_categorical_crossentropy',\n",
    "    optimizer = optimizer,\n",
    "    metrics=['accuracy']\n",
    ")"
   ]
  },
  {
   "cell_type": "code",
   "execution_count": 20,
   "id": "ada665a7",
   "metadata": {},
   "outputs": [
    {
     "name": "stdout",
     "output_type": "stream",
     "text": [
      "Model: \"sequential\"\n",
      "_________________________________________________________________\n",
      "Layer (type)                 Output Shape              Param #   \n",
      "=================================================================\n",
      "embedding (Embedding)        (None, 60, 16)            160000    \n",
      "_________________________________________________________________\n",
      "bidirectional (Bidirectional (None, 60, 40)            5920      \n",
      "_________________________________________________________________\n",
      "bidirectional_1 (Bidirection (None, 40)                9760      \n",
      "_________________________________________________________________\n",
      "dense (Dense)                (None, 6)                 246       \n",
      "=================================================================\n",
      "Total params: 175,926\n",
      "Trainable params: 175,926\n",
      "Non-trainable params: 0\n",
      "_________________________________________________________________\n"
     ]
    }
   ],
   "source": [
    "model.summary()"
   ]
  },
  {
   "cell_type": "code",
   "execution_count": 21,
   "id": "819af712",
   "metadata": {},
   "outputs": [],
   "source": [
    "text_val_seq = get_sequences(tokenizer, text_val_list)\n",
    "label_val = names_to_ids(label_val)"
   ]
  },
  {
   "cell_type": "code",
   "execution_count": 22,
   "id": "0bc4c990",
   "metadata": {},
   "outputs": [
    {
     "name": "stdout",
     "output_type": "stream",
     "text": [
      "Epoch 1/20\n",
      "500/500 [==============================] - 16s 17ms/step - loss: 1.5837 - accuracy: 0.3371 - val_loss: 1.5772 - val_accuracy: 0.3520\n",
      "Epoch 2/20\n",
      "500/500 [==============================] - 6s 12ms/step - loss: 1.5712 - accuracy: 0.3485 - val_loss: 1.5794 - val_accuracy: 0.3520\n",
      "Epoch 3/20\n",
      "500/500 [==============================] - 6s 12ms/step - loss: 1.5684 - accuracy: 0.3503 - val_loss: 1.5827 - val_accuracy: 0.3535\n",
      "Epoch 4/20\n",
      "500/500 [==============================] - 6s 13ms/step - loss: 1.5674 - accuracy: 0.3524 - val_loss: 1.5734 - val_accuracy: 0.3550\n",
      "Epoch 5/20\n",
      "500/500 [==============================] - 6s 13ms/step - loss: 1.5657 - accuracy: 0.3496 - val_loss: 1.5802 - val_accuracy: 0.3285\n",
      "Epoch 6/20\n",
      "500/500 [==============================] - 7s 13ms/step - loss: 1.5642 - accuracy: 0.3542 - val_loss: 1.5767 - val_accuracy: 0.3575\n",
      "Epoch 7/20\n",
      "500/500 [==============================] - 7s 13ms/step - loss: 1.5625 - accuracy: 0.3557 - val_loss: 1.5699 - val_accuracy: 0.3550\n",
      "Epoch 8/20\n",
      "500/500 [==============================] - 7s 14ms/step - loss: 1.5597 - accuracy: 0.3581 - val_loss: 1.5693 - val_accuracy: 0.3665\n",
      "Epoch 9/20\n",
      "500/500 [==============================] - 7s 13ms/step - loss: 1.5591 - accuracy: 0.3554 - val_loss: 1.5675 - val_accuracy: 0.3600\n",
      "Epoch 10/20\n",
      "500/500 [==============================] - 7s 13ms/step - loss: 1.5575 - accuracy: 0.3579 - val_loss: 1.5727 - val_accuracy: 0.3570\n"
     ]
    }
   ],
   "source": [
    "h = model.fit(\n",
    "padded_train_seq, train_labels,\n",
    "validation_data=(text_val_seq, label_val),\n",
    "epochs=20,\n",
    "callbacks=[\n",
    "    tf.keras.callbacks.EarlyStopping(monitor='val_accuracy', patience = 2)\n",
    "])"
   ]
  },
  {
   "cell_type": "code",
   "execution_count": 23,
   "id": "bbcafebb",
   "metadata": {},
   "outputs": [
    {
     "data": {
      "image/png": "[encoded data removed]",
      "text/plain": [
       "<Figure size 1152x432 with 2 Axes>"
      ]
     },
     "metadata": {
      "needs_background": "light"
     },
     "output_type": "display_data"
    }
   ],
   "source": [
    "show_history(h)"
   ]
  },
  {
   "cell_type": "code",
   "execution_count": 24,
   "id": "136ed469",
   "metadata": {},
   "outputs": [],
   "source": [
    "test_seq = get_sequences(tokenizer, text_test_list)\n",
    "test_labels = names_to_ids(label_test)"
   ]
  },
  {
   "cell_type": "code",
   "execution_count": 25,
   "id": "9381e137",
   "metadata": {},
   "outputs": [
    {
     "name": "stdout",
     "output_type": "stream",
     "text": [
      "63/63 [==============================] - 0s 8ms/step - loss: 1.5476 - accuracy: 0.3550\n"
     ]
    }
   ],
   "source": [
    "_= model.evaluate(test_seq, test_labels)"
   ]
  },
  {
   "cell_type": "code",
   "execution_count": 26,
   "id": "ac197897",
   "metadata": {},
   "outputs": [
    {
     "name": "stdout",
     "output_type": "stream",
     "text": [
      "Sentence: i dont know if i should let go and feel that vain or should i wait and stay in vain\n",
      "Emotion: sadness\n",
      "Predicted Emotion: joy\n"
     ]
    }
   ],
   "source": [
    "i = random.randint(0, len(test_labels) - 1)\n",
    "\n",
    "print('Sentence:', text_test_list[i])\n",
    "print('Emotion:', index_to_class[test_labels[i]])\n",
    "\n",
    "p = model.predict(np.expand_dims(test_seq[i], axis=0))[0]\n",
    "pred_class = index_to_class[np.argmax(p).astype('uint8')]\n",
    "\n",
    "print('Predicted Emotion:', pred_class)"
   ]
  },
  {
   "cell_type": "code",
   "execution_count": 27,
   "id": "972f0a5f",
   "metadata": {},
   "outputs": [
    {
     "data": {
      "image/png": "[encoded data removed]",
      "text/plain": [
       "<Figure size 432x432 with 2 Axes>"
      ]
     },
     "metadata": {
      "needs_background": "light"
     },
     "output_type": "display_data"
    }
   ],
   "source": [
    "preds = np.argmax(model.predict(test_seq), axis=-1)\n",
    "show_confusion_matrix(test_labels, preds, list(classes))"
   ]
  },
  {
   "cell_type": "code",
   "execution_count": null,
   "id": "82881bbb",
   "metadata": {},
   "outputs": [],
   "source": []
  },
  {
   "cell_type": "code",
   "execution_count": null,
   "id": "6447aadd",
   "metadata": {},
   "outputs": [],
   "source": []
  }
 ],
 "metadata": {
  "kernelspec": {
   "display_name": "Python [conda env:ECNG3020] *",
   "language": "python",
   "name": "conda-env-ECNG3020-py"
  },
  "language_info": {
   "codemirror_mode": {
    "name": "ipython",
    "version": 3
   },
   "file_extension": ".py",
   "mimetype": "text/x-python",
   "name": "python",
   "nbconvert_exporter": "python",
   "pygments_lexer": "ipython3",
   "version": "3.8.8"
  }
 },
 "nbformat": 4,
 "nbformat_minor": 5
}
