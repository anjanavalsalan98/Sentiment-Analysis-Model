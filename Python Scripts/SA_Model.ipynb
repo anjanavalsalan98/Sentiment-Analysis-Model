{
 "cells": [
  {
   "cell_type": "code",
   "execution_count": 45,
   "id": "458cb484",
   "metadata": {},
   "outputs": [
    {
     "name": "stdout",
     "output_type": "stream",
     "text": [
      "Python 3.9.7\n"
     ]
    }
   ],
   "source": [
    "!python --version"
   ]
  },
  {
   "cell_type": "code",
   "execution_count": 46,
   "id": "99df6b5a",
   "metadata": {},
   "outputs": [
    {
     "name": "stdout",
     "output_type": "stream",
     "text": [
      "Requirement already satisfied: nlp in c:\\software development\\anaconda\\envs\\ecng3020\\lib\\site-packages (0.4.0)\n",
      "Requirement already satisfied: tqdm>=4.27 in c:\\software development\\anaconda\\envs\\ecng3020\\lib\\site-packages (from nlp) (4.62.3)\n",
      "Requirement already satisfied: numpy in c:\\software development\\anaconda\\envs\\ecng3020\\lib\\site-packages (from nlp) (1.21.4)\n",
      "Requirement already satisfied: requests>=2.19.0 in c:\\software development\\anaconda\\envs\\ecng3020\\lib\\site-packages (from nlp) (2.26.0)\n",
      "Requirement already satisfied: filelock in c:\\software development\\anaconda\\envs\\ecng3020\\lib\\site-packages (from nlp) (3.4.0)\n",
      "Requirement already satisfied: dill in c:\\software development\\anaconda\\envs\\ecng3020\\lib\\site-packages (from nlp) (0.3.4)\n",
      "Requirement already satisfied: xxhash in c:\\software development\\anaconda\\envs\\ecng3020\\lib\\site-packages (from nlp) (2.0.2)\n",
      "Requirement already satisfied: pandas in c:\\software development\\anaconda\\envs\\ecng3020\\lib\\site-packages (from nlp) (1.3.4)\n",
      "Requirement already satisfied: pyarrow>=0.16.0 in c:\\software development\\anaconda\\envs\\ecng3020\\lib\\site-packages (from nlp) (6.0.0)\n",
      "Requirement already satisfied: idna<4,>=2.5 in c:\\software development\\anaconda\\envs\\ecng3020\\lib\\site-packages (from requests>=2.19.0->nlp) (3.3)\n",
      "Requirement already satisfied: urllib3<1.27,>=1.21.1 in c:\\software development\\anaconda\\envs\\ecng3020\\lib\\site-packages (from requests>=2.19.0->nlp) (1.26.7)\n",
      "Requirement already satisfied: certifi>=2017.4.17 in c:\\software development\\anaconda\\envs\\ecng3020\\lib\\site-packages (from requests>=2.19.0->nlp) (2021.10.8)\n",
      "Requirement already satisfied: charset-normalizer~=2.0.0 in c:\\software development\\anaconda\\envs\\ecng3020\\lib\\site-packages (from requests>=2.19.0->nlp) (2.0.7)\n",
      "Requirement already satisfied: colorama in c:\\software development\\anaconda\\envs\\ecng3020\\lib\\site-packages (from tqdm>=4.27->nlp) (0.4.4)\n",
      "Requirement already satisfied: pytz>=2017.3 in c:\\software development\\anaconda\\envs\\ecng3020\\lib\\site-packages (from pandas->nlp) (2021.3)\n",
      "Requirement already satisfied: python-dateutil>=2.7.3 in c:\\software development\\anaconda\\envs\\ecng3020\\lib\\site-packages (from pandas->nlp) (2.8.2)\n",
      "Requirement already satisfied: six>=1.5 in c:\\software development\\anaconda\\envs\\ecng3020\\lib\\site-packages (from python-dateutil>=2.7.3->pandas->nlp) (1.16.0)\n"
     ]
    }
   ],
   "source": [
    "!pip install nlp"
   ]
  },
  {
   "cell_type": "code",
   "execution_count": 47,
   "id": "fdb35ad8",
   "metadata": {},
   "outputs": [
    {
     "name": "stdout",
     "output_type": "stream",
     "text": [
      "Requirement already satisfied: tensorflow in c:\\software development\\anaconda\\envs\\ecng3020\\lib\\site-packages (2.7.0)\n",
      "Requirement already satisfied: grpcio<2.0,>=1.24.3 in c:\\software development\\anaconda\\envs\\ecng3020\\lib\\site-packages (from tensorflow) (1.41.1)\n",
      "Requirement already satisfied: libclang>=9.0.1 in c:\\software development\\anaconda\\envs\\ecng3020\\lib\\site-packages (from tensorflow) (12.0.0)\n",
      "Requirement already satisfied: flatbuffers<3.0,>=1.12 in c:\\software development\\anaconda\\envs\\ecng3020\\lib\\site-packages (from tensorflow) (2.0)\n",
      "Requirement already satisfied: keras-preprocessing>=1.1.1 in c:\\software development\\anaconda\\envs\\ecng3020\\lib\\site-packages (from tensorflow) (1.1.2)\n",
      "Requirement already satisfied: opt-einsum>=2.3.2 in c:\\software development\\anaconda\\envs\\ecng3020\\lib\\site-packages (from tensorflow) (3.3.0)\n",
      "Requirement already satisfied: tensorflow-estimator<2.8,~=2.7.0rc0 in c:\\software development\\anaconda\\envs\\ecng3020\\lib\\site-packages (from tensorflow) (2.7.0)\n",
      "Requirement already satisfied: typing-extensions>=3.6.6 in c:\\software development\\anaconda\\envs\\ecng3020\\lib\\site-packages (from tensorflow) (4.0.0)\n",
      "Requirement already satisfied: h5py>=2.9.0 in c:\\software development\\anaconda\\envs\\ecng3020\\lib\\site-packages (from tensorflow) (3.5.0)\n",
      "Requirement already satisfied: six>=1.12.0 in c:\\software development\\anaconda\\envs\\ecng3020\\lib\\site-packages (from tensorflow) (1.16.0)\n",
      "Requirement already satisfied: google-pasta>=0.1.1 in c:\\software development\\anaconda\\envs\\ecng3020\\lib\\site-packages (from tensorflow) (0.2.0)\n",
      "Requirement already satisfied: wrapt>=1.11.0 in c:\\software development\\anaconda\\envs\\ecng3020\\lib\\site-packages (from tensorflow) (1.13.3)\n",
      "Requirement already satisfied: astunparse>=1.6.0 in c:\\software development\\anaconda\\envs\\ecng3020\\lib\\site-packages (from tensorflow) (1.6.3)\n",
      "Requirement already satisfied: tensorboard~=2.6 in c:\\software development\\anaconda\\envs\\ecng3020\\lib\\site-packages (from tensorflow) (2.7.0)\n",
      "Requirement already satisfied: protobuf>=3.9.2 in c:\\software development\\anaconda\\envs\\ecng3020\\lib\\site-packages (from tensorflow) (3.19.1)\n",
      "Requirement already satisfied: wheel<1.0,>=0.32.0 in c:\\software development\\anaconda\\envs\\ecng3020\\lib\\site-packages (from tensorflow) (0.37.0)\n",
      "Requirement already satisfied: numpy>=1.14.5 in c:\\software development\\anaconda\\envs\\ecng3020\\lib\\site-packages (from tensorflow) (1.21.4)\n",
      "Requirement already satisfied: termcolor>=1.1.0 in c:\\software development\\anaconda\\envs\\ecng3020\\lib\\site-packages (from tensorflow) (1.1.0)\n",
      "Requirement already satisfied: gast<0.5.0,>=0.2.1 in c:\\software development\\anaconda\\envs\\ecng3020\\lib\\site-packages (from tensorflow) (0.4.0)\n",
      "Requirement already satisfied: tensorflow-io-gcs-filesystem>=0.21.0 in c:\\software development\\anaconda\\envs\\ecng3020\\lib\\site-packages (from tensorflow) (0.22.0)\n",
      "Requirement already satisfied: absl-py>=0.4.0 in c:\\software development\\anaconda\\envs\\ecng3020\\lib\\site-packages (from tensorflow) (1.0.0)\n",
      "Requirement already satisfied: keras<2.8,>=2.7.0rc0 in c:\\software development\\anaconda\\envs\\ecng3020\\lib\\site-packages (from tensorflow) (2.7.0)\n",
      "Requirement already satisfied: tensorboard-plugin-wit>=1.6.0 in c:\\software development\\anaconda\\envs\\ecng3020\\lib\\site-packages (from tensorboard~=2.6->tensorflow) (1.8.0)\n",
      "Requirement already satisfied: setuptools>=41.0.0 in c:\\software development\\anaconda\\envs\\ecng3020\\lib\\site-packages (from tensorboard~=2.6->tensorflow) (58.0.4)\n",
      "Requirement already satisfied: markdown>=2.6.8 in c:\\software development\\anaconda\\envs\\ecng3020\\lib\\site-packages (from tensorboard~=2.6->tensorflow) (3.3.4)\n",
      "Requirement already satisfied: google-auth<3,>=1.6.3 in c:\\software development\\anaconda\\envs\\ecng3020\\lib\\site-packages (from tensorboard~=2.6->tensorflow) (2.3.3)\n",
      "Requirement already satisfied: google-auth-oauthlib<0.5,>=0.4.1 in c:\\software development\\anaconda\\envs\\ecng3020\\lib\\site-packages (from tensorboard~=2.6->tensorflow) (0.4.6)\n",
      "Requirement already satisfied: tensorboard-data-server<0.7.0,>=0.6.0 in c:\\software development\\anaconda\\envs\\ecng3020\\lib\\site-packages (from tensorboard~=2.6->tensorflow) (0.6.1)\n",
      "Requirement already satisfied: requests<3,>=2.21.0 in c:\\software development\\anaconda\\envs\\ecng3020\\lib\\site-packages (from tensorboard~=2.6->tensorflow) (2.26.0)\n",
      "Requirement already satisfied: werkzeug>=0.11.15 in c:\\software development\\anaconda\\envs\\ecng3020\\lib\\site-packages (from tensorboard~=2.6->tensorflow) (2.0.2)\n",
      "Requirement already satisfied: rsa<5,>=3.1.4 in c:\\software development\\anaconda\\envs\\ecng3020\\lib\\site-packages (from google-auth<3,>=1.6.3->tensorboard~=2.6->tensorflow) (4.7.2)\n",
      "Requirement already satisfied: cachetools<5.0,>=2.0.0 in c:\\software development\\anaconda\\envs\\ecng3020\\lib\\site-packages (from google-auth<3,>=1.6.3->tensorboard~=2.6->tensorflow) (4.2.4)\n",
      "Requirement already satisfied: pyasn1-modules>=0.2.1 in c:\\software development\\anaconda\\envs\\ecng3020\\lib\\site-packages (from google-auth<3,>=1.6.3->tensorboard~=2.6->tensorflow) (0.2.8)\n",
      "Requirement already satisfied: requests-oauthlib>=0.7.0 in c:\\software development\\anaconda\\envs\\ecng3020\\lib\\site-packages (from google-auth-oauthlib<0.5,>=0.4.1->tensorboard~=2.6->tensorflow) (1.3.0)\n",
      "Requirement already satisfied: pyasn1<0.5.0,>=0.4.6 in c:\\software development\\anaconda\\envs\\ecng3020\\lib\\site-packages (from pyasn1-modules>=0.2.1->google-auth<3,>=1.6.3->tensorboard~=2.6->tensorflow) (0.4.8)\n",
      "Requirement already satisfied: certifi>=2017.4.17 in c:\\software development\\anaconda\\envs\\ecng3020\\lib\\site-packages (from requests<3,>=2.21.0->tensorboard~=2.6->tensorflow) (2021.10.8)\n",
      "Requirement already satisfied: charset-normalizer~=2.0.0 in c:\\software development\\anaconda\\envs\\ecng3020\\lib\\site-packages (from requests<3,>=2.21.0->tensorboard~=2.6->tensorflow) (2.0.7)\n",
      "Requirement already satisfied: urllib3<1.27,>=1.21.1 in c:\\software development\\anaconda\\envs\\ecng3020\\lib\\site-packages (from requests<3,>=2.21.0->tensorboard~=2.6->tensorflow) (1.26.7)\n",
      "Requirement already satisfied: idna<4,>=2.5 in c:\\software development\\anaconda\\envs\\ecng3020\\lib\\site-packages (from requests<3,>=2.21.0->tensorboard~=2.6->tensorflow) (3.3)\n",
      "Requirement already satisfied: oauthlib>=3.0.0 in c:\\software development\\anaconda\\envs\\ecng3020\\lib\\site-packages (from requests-oauthlib>=0.7.0->google-auth-oauthlib<0.5,>=0.4.1->tensorboard~=2.6->tensorflow) (3.1.1)\n"
     ]
    }
   ],
   "source": [
    "!pip install tensorflow"
   ]
  },
  {
   "cell_type": "code",
   "execution_count": 48,
   "id": "b008b55d",
   "metadata": {},
   "outputs": [
    {
     "name": "stdout",
     "output_type": "stream",
     "text": [
      "Requirement already satisfied: matplotlib in c:\\software development\\anaconda\\envs\\ecng3020\\lib\\site-packages (3.5.0)\n",
      "Requirement already satisfied: numpy>=1.17 in c:\\software development\\anaconda\\envs\\ecng3020\\lib\\site-packages (from matplotlib) (1.21.4)\n",
      "Requirement already satisfied: setuptools-scm>=4 in c:\\software development\\anaconda\\envs\\ecng3020\\lib\\site-packages (from matplotlib) (6.3.2)\n",
      "Requirement already satisfied: fonttools>=4.22.0 in c:\\software development\\anaconda\\envs\\ecng3020\\lib\\site-packages (from matplotlib) (4.28.1)\n",
      "Requirement already satisfied: cycler>=0.10 in c:\\software development\\anaconda\\envs\\ecng3020\\lib\\site-packages (from matplotlib) (0.11.0)\n",
      "Requirement already satisfied: kiwisolver>=1.0.1 in c:\\software development\\anaconda\\envs\\ecng3020\\lib\\site-packages (from matplotlib) (1.3.2)\n",
      "Requirement already satisfied: python-dateutil>=2.7 in c:\\software development\\anaconda\\envs\\ecng3020\\lib\\site-packages (from matplotlib) (2.8.2)\n",
      "Requirement already satisfied: packaging>=20.0 in c:\\software development\\anaconda\\envs\\ecng3020\\lib\\site-packages (from matplotlib) (21.0)\n",
      "Requirement already satisfied: pyparsing>=2.2.1 in c:\\software development\\anaconda\\envs\\ecng3020\\lib\\site-packages (from matplotlib) (3.0.4)\n",
      "Requirement already satisfied: pillow>=6.2.0 in c:\\software development\\anaconda\\envs\\ecng3020\\lib\\site-packages (from matplotlib) (8.4.0)\n",
      "Requirement already satisfied: six>=1.5 in c:\\software development\\anaconda\\envs\\ecng3020\\lib\\site-packages (from python-dateutil>=2.7->matplotlib) (1.16.0)\n",
      "Requirement already satisfied: setuptools in c:\\software development\\anaconda\\envs\\ecng3020\\lib\\site-packages (from setuptools-scm>=4->matplotlib) (58.0.4)\n",
      "Requirement already satisfied: tomli>=1.0.0 in c:\\software development\\anaconda\\envs\\ecng3020\\lib\\site-packages (from setuptools-scm>=4->matplotlib) (1.2.2)\n"
     ]
    }
   ],
   "source": [
    "!pip install matplotlib"
   ]
  },
  {
   "cell_type": "code",
   "execution_count": 49,
   "id": "94f3ba9e",
   "metadata": {},
   "outputs": [
    {
     "name": "stdout",
     "output_type": "stream",
     "text": [
      "Requirement already satisfied: pyreadstat in c:\\software development\\anaconda\\envs\\ecng3020\\lib\\site-packages (1.1.3)\n",
      "Requirement already satisfied: pandas>0.24.0 in c:\\software development\\anaconda\\envs\\ecng3020\\lib\\site-packages (from pyreadstat) (1.3.4)\n",
      "Requirement already satisfied: python-dateutil>=2.7.3 in c:\\software development\\anaconda\\envs\\ecng3020\\lib\\site-packages (from pandas>0.24.0->pyreadstat) (2.8.2)\n",
      "Requirement already satisfied: pytz>=2017.3 in c:\\software development\\anaconda\\envs\\ecng3020\\lib\\site-packages (from pandas>0.24.0->pyreadstat) (2021.3)\n",
      "Requirement already satisfied: numpy>=1.17.3 in c:\\software development\\anaconda\\envs\\ecng3020\\lib\\site-packages (from pandas>0.24.0->pyreadstat) (1.21.4)\n",
      "Requirement already satisfied: six>=1.5 in c:\\software development\\anaconda\\envs\\ecng3020\\lib\\site-packages (from python-dateutil>=2.7.3->pandas>0.24.0->pyreadstat) (1.16.0)\n"
     ]
    }
   ],
   "source": [
    "!pip install pyreadstat"
   ]
  },
  {
   "cell_type": "code",
   "execution_count": 50,
   "id": "0d1d0448",
   "metadata": {},
   "outputs": [
    {
     "name": "stdout",
     "output_type": "stream",
     "text": [
      "Requirement already satisfied: nltk in c:\\software development\\anaconda\\envs\\ecng3020\\lib\\site-packages (3.6.5)\n",
      "Requirement already satisfied: regex>=2021.8.3 in c:\\software development\\anaconda\\envs\\ecng3020\\lib\\site-packages (from nltk) (2021.11.10)\n",
      "Requirement already satisfied: tqdm in c:\\software development\\anaconda\\envs\\ecng3020\\lib\\site-packages (from nltk) (4.62.3)\n",
      "Requirement already satisfied: click in c:\\software development\\anaconda\\envs\\ecng3020\\lib\\site-packages (from nltk) (8.0.3)\n",
      "Requirement already satisfied: joblib in c:\\software development\\anaconda\\envs\\ecng3020\\lib\\site-packages (from nltk) (1.1.0)\n",
      "Requirement already satisfied: colorama in c:\\software development\\anaconda\\envs\\ecng3020\\lib\\site-packages (from click->nltk) (0.4.4)\n"
     ]
    }
   ],
   "source": [
    "!pip install nltk"
   ]
  },
  {
   "cell_type": "code",
   "execution_count": 51,
   "id": "b25f0736",
   "metadata": {},
   "outputs": [
    {
     "name": "stdout",
     "output_type": "stream",
     "text": [
      "Requirement already satisfied: sklearn in c:\\software development\\anaconda\\envs\\ecng3020\\lib\\site-packages (0.0)\n",
      "Requirement already satisfied: scikit-learn in c:\\software development\\anaconda\\envs\\ecng3020\\lib\\site-packages (from sklearn) (1.0.1)\n",
      "Requirement already satisfied: numpy>=1.14.6 in c:\\software development\\anaconda\\envs\\ecng3020\\lib\\site-packages (from scikit-learn->sklearn) (1.21.4)\n",
      "Requirement already satisfied: threadpoolctl>=2.0.0 in c:\\software development\\anaconda\\envs\\ecng3020\\lib\\site-packages (from scikit-learn->sklearn) (3.0.0)\n",
      "Requirement already satisfied: joblib>=0.11 in c:\\software development\\anaconda\\envs\\ecng3020\\lib\\site-packages (from scikit-learn->sklearn) (1.1.0)\n",
      "Requirement already satisfied: scipy>=1.1.0 in c:\\software development\\anaconda\\envs\\ecng3020\\lib\\site-packages (from scikit-learn->sklearn) (1.7.2)\n"
     ]
    }
   ],
   "source": [
    "!pip install sklearn"
   ]
  },
  {
   "cell_type": "code",
   "execution_count": 52,
   "id": "4f97cad8",
   "metadata": {},
   "outputs": [
    {
     "name": "stdout",
     "output_type": "stream",
     "text": [
      "Using TensorFlow version 2.7.0\n"
     ]
    }
   ],
   "source": [
    "import tensorflow as tf\n",
    "import nltk\n",
    "import matplotlib.pyplot as plt\n",
    "import numpy as np\n",
    "import pandas as pd\n",
    "import random\n",
    "from sklearn.model_selection import train_test_split \n",
    "from tensorflow.keras.preprocessing.text import Tokenizer \n",
    "\n",
    "def show_history(h):\n",
    "    epochs_trained = len(h.history['loss'])\n",
    "    plt.figure(figsize=(16, 6))\n",
    "\n",
    "    plt.subplot(1, 2, 1)\n",
    "    plt.plot(range(0, epochs_trained), h.history.get('accuracy'), label='Training')\n",
    "    plt.plot(range(0, epochs_trained), h.history.get('val_accuracy'), label='Validation')\n",
    "    plt.ylim([0., 1.])\n",
    "    plt.xlabel('Epochs')\n",
    "    plt.ylabel('Accuracy')\n",
    "    plt.legend()\n",
    "\n",
    "    plt.subplot(1, 2, 2)\n",
    "    plt.plot(range(0, epochs_trained), h.history.get('loss'), label='Training')\n",
    "    plt.plot(range(0, epochs_trained), h.history.get('val_loss'), label='Validation')\n",
    "    plt.xlabel('Epochs')\n",
    "    plt.ylabel('Loss')\n",
    "    plt.legend()\n",
    "    plt.show()\n",
    "\n",
    "    \n",
    "def show_confusion_matrix(y_true, y_pred, classes):\n",
    "    from sklearn.metrics import confusion_matrix\n",
    "    \n",
    "    cm = confusion_matrix(y_true, y_pred, normalize='true')\n",
    "\n",
    "    plt.figure(figsize=(8, 8))\n",
    "    sp = plt.subplot(1, 1, 1)\n",
    "    ctx = sp.matshow(cm)\n",
    "    plt.xticks(list(range(0, 6)), labels=classes)\n",
    "    plt.yticks(list(range(0, 6)), labels=classes)\n",
    "    plt.colorbar(ctx)\n",
    "    plt.show()\n",
    "   \n",
    "print('Using TensorFlow version', tf.__version__)"
   ]
  },
  {
   "cell_type": "code",
   "execution_count": 53,
   "id": "c906e49c",
   "metadata": {},
   "outputs": [],
   "source": [
    "df = pd.read_csv('G:\\My Drive\\AnjanaValsalan_ECNG 3020\\Implementation Files\\ISEAR csv\\ISEAR.csv')"
   ]
  },
  {
   "cell_type": "code",
   "execution_count": 54,
   "id": "0fabe038",
   "metadata": {},
   "outputs": [
    {
     "data": {
      "text/html": [
       "<div>\n",
       "<style scoped>\n",
       "    .dataframe tbody tr th:only-of-type {\n",
       "        vertical-align: middle;\n",
       "    }\n",
       "\n",
       "    .dataframe tbody tr th {\n",
       "        vertical-align: top;\n",
       "    }\n",
       "\n",
       "    .dataframe thead th {\n",
       "        text-align: right;\n",
       "    }\n",
       "</style>\n",
       "<table border=\"1\" class=\"dataframe\">\n",
       "  <thead>\n",
       "    <tr style=\"text-align: right;\">\n",
       "      <th></th>\n",
       "      <th>emotion</th>\n",
       "      <th>sentence</th>\n",
       "      <th>Unnamed: 2</th>\n",
       "    </tr>\n",
       "  </thead>\n",
       "  <tbody>\n",
       "    <tr>\n",
       "      <th>0</th>\n",
       "      <td>joy</td>\n",
       "      <td>On days when I feel close to my partner and ot...</td>\n",
       "      <td>NaN</td>\n",
       "    </tr>\n",
       "    <tr>\n",
       "      <th>1</th>\n",
       "      <td>fear</td>\n",
       "      <td>Every time I imagine that someone I love or I ...</td>\n",
       "      <td>NaN</td>\n",
       "    </tr>\n",
       "    <tr>\n",
       "      <th>2</th>\n",
       "      <td>anger</td>\n",
       "      <td>When I had been obviously unjustly treated and...</td>\n",
       "      <td>NaN</td>\n",
       "    </tr>\n",
       "    <tr>\n",
       "      <th>3</th>\n",
       "      <td>sadness</td>\n",
       "      <td>When I think about the short time that we live...</td>\n",
       "      <td>NaN</td>\n",
       "    </tr>\n",
       "    <tr>\n",
       "      <th>4</th>\n",
       "      <td>disgust</td>\n",
       "      <td>At a gathering I found myself involuntarily si...</td>\n",
       "      <td>NaN</td>\n",
       "    </tr>\n",
       "  </tbody>\n",
       "</table>\n",
       "</div>"
      ],
      "text/plain": [
       "   emotion                                           sentence Unnamed: 2\n",
       "0      joy  On days when I feel close to my partner and ot...        NaN\n",
       "1     fear  Every time I imagine that someone I love or I ...        NaN\n",
       "2    anger  When I had been obviously unjustly treated and...        NaN\n",
       "3  sadness  When I think about the short time that we live...        NaN\n",
       "4  disgust  At a gathering I found myself involuntarily si...        NaN"
      ]
     },
     "execution_count": 54,
     "metadata": {},
     "output_type": "execute_result"
    }
   ],
   "source": [
    "df.head(5)"
   ]
  },
  {
   "cell_type": "code",
   "execution_count": 55,
   "id": "03213e17",
   "metadata": {},
   "outputs": [],
   "source": [
    "df.dropna(axis=1, how=\"any\", thresh=None, subset=None, inplace=True)"
   ]
  },
  {
   "cell_type": "code",
   "execution_count": 56,
   "id": "fe0adcbc",
   "metadata": {},
   "outputs": [
    {
     "data": {
      "text/html": [
       "<div>\n",
       "<style scoped>\n",
       "    .dataframe tbody tr th:only-of-type {\n",
       "        vertical-align: middle;\n",
       "    }\n",
       "\n",
       "    .dataframe tbody tr th {\n",
       "        vertical-align: top;\n",
       "    }\n",
       "\n",
       "    .dataframe thead th {\n",
       "        text-align: right;\n",
       "    }\n",
       "</style>\n",
       "<table border=\"1\" class=\"dataframe\">\n",
       "  <thead>\n",
       "    <tr style=\"text-align: right;\">\n",
       "      <th></th>\n",
       "      <th>emotion</th>\n",
       "      <th>sentence</th>\n",
       "    </tr>\n",
       "  </thead>\n",
       "  <tbody>\n",
       "    <tr>\n",
       "      <th>0</th>\n",
       "      <td>joy</td>\n",
       "      <td>On days when I feel close to my partner and ot...</td>\n",
       "    </tr>\n",
       "    <tr>\n",
       "      <th>1</th>\n",
       "      <td>fear</td>\n",
       "      <td>Every time I imagine that someone I love or I ...</td>\n",
       "    </tr>\n",
       "    <tr>\n",
       "      <th>2</th>\n",
       "      <td>anger</td>\n",
       "      <td>When I had been obviously unjustly treated and...</td>\n",
       "    </tr>\n",
       "    <tr>\n",
       "      <th>3</th>\n",
       "      <td>sadness</td>\n",
       "      <td>When I think about the short time that we live...</td>\n",
       "    </tr>\n",
       "    <tr>\n",
       "      <th>4</th>\n",
       "      <td>disgust</td>\n",
       "      <td>At a gathering I found myself involuntarily si...</td>\n",
       "    </tr>\n",
       "  </tbody>\n",
       "</table>\n",
       "</div>"
      ],
      "text/plain": [
       "   emotion                                           sentence\n",
       "0      joy  On days when I feel close to my partner and ot...\n",
       "1     fear  Every time I imagine that someone I love or I ...\n",
       "2    anger  When I had been obviously unjustly treated and...\n",
       "3  sadness  When I think about the short time that we live...\n",
       "4  disgust  At a gathering I found myself involuntarily si..."
      ]
     },
     "execution_count": 56,
     "metadata": {},
     "output_type": "execute_result"
    }
   ],
   "source": [
    "df.head(5)"
   ]
  },
  {
   "cell_type": "code",
   "execution_count": 57,
   "id": "0620c770",
   "metadata": {},
   "outputs": [
    {
     "name": "stdout",
     "output_type": "stream",
     "text": [
      "(6012, 1)\n",
      "(6012,)\n",
      "(752, 1)\n",
      "(752,)\n",
      "(752, 1)\n",
      "(752,)\n"
     ]
    },
    {
     "data": {
      "text/plain": [
       "(None, None)"
      ]
     },
     "execution_count": 57,
     "metadata": {},
     "output_type": "execute_result"
    }
   ],
   "source": [
    "train_size=0.8\n",
    "\n",
    "text = df.drop(columns = ['emotion']).copy()\n",
    "label = df['emotion']\n",
    "\n",
    "text_train, text_rem, label_train, label_rem = train_test_split(text,label, train_size=0.8)\n",
    "\n",
    "test_size = 0.5\n",
    "text_valid, text_test, label_valid, label_test = train_test_split(text_rem,label_rem,train_size=0.5)\n",
    "\n",
    "print(text_train.shape), print(label_train.shape)\n",
    "print(text_valid.shape), print(label_valid.shape)\n",
    "print(text_test.shape), print(label_test.shape)"
   ]
  },
  {
   "cell_type": "code",
   "execution_count": 58,
   "id": "e4a0006a",
   "metadata": {},
   "outputs": [
    {
     "data": {
      "text/plain": [
       "4728    disgust\n",
       "5336      guilt\n",
       "517     sadness\n",
       "1853    sadness\n",
       "5981    sadness\n",
       "         ...   \n",
       "6436    sadness\n",
       "4949       fear\n",
       "3316    sadness\n",
       "6024      guilt\n",
       "1427       fear\n",
       "Name: emotion, Length: 752, dtype: object"
      ]
     },
     "execution_count": 58,
     "metadata": {},
     "output_type": "execute_result"
    }
   ],
   "source": [
    "label_test"
   ]
  },
  {
   "cell_type": "code",
   "execution_count": 59,
   "id": "955cb3f7",
   "metadata": {},
   "outputs": [],
   "source": [
    "text_train_list=[ i[0] for i in text_train.values.tolist()]"
   ]
  },
  {
   "cell_type": "code",
   "execution_count": 60,
   "id": "49cbfaab",
   "metadata": {},
   "outputs": [],
   "source": [
    "tokenizer = Tokenizer(num_words=1000000, oov_token='<UNK>')\n",
    "tokenizer.fit_on_texts([text_train_list[1]])"
   ]
  },
  {
   "cell_type": "code",
   "execution_count": 61,
   "id": "2cffdab8",
   "metadata": {},
   "outputs": [
    {
     "data": {
      "text/plain": [
       "[[4, 5, 6, 2, 7, 2, 3, 8, 9, 10, 11, 12, 3, 13, 14]]"
      ]
     },
     "execution_count": 61,
     "metadata": {},
     "output_type": "execute_result"
    }
   ],
   "source": [
    "tokenizer.texts_to_sequences([text_train_list[1]])"
   ]
  },
  {
   "cell_type": "code",
   "execution_count": 62,
   "id": "8b9c15f7",
   "metadata": {},
   "outputs": [
    {
     "data": {
      "text/plain": [
       "'When I was face to face with my deceived friend after sleeping  \\nwith his wife.'"
      ]
     },
     "execution_count": 62,
     "metadata": {},
     "output_type": "execute_result"
    }
   ],
   "source": [
    "text_train_list[1]"
   ]
  },
  {
   "cell_type": "code",
   "execution_count": 63,
   "id": "251e4fba",
   "metadata": {},
   "outputs": [
    {
     "data": {
      "text/plain": [
       "<function matplotlib.pyplot.show(close=None, block=None)>"
      ]
     },
     "execution_count": 63,
     "metadata": {},
     "output_type": "execute_result"
    },
    {
     "data": {
      "image/png": "[encoded data removed]",
      "text/plain": [
       "<Figure size 432x288 with 1 Axes>"
      ]
     },
     "metadata": {
      "needs_background": "light"
     },
     "output_type": "display_data"
    }
   ],
   "source": [
    "lengths = [len(t.split(' ')) for t in text_train_list]\n",
    "plt.hist(lengths, bins = len(set(lengths)))\n",
    "plt.show"
   ]
  },
  {
   "cell_type": "code",
   "execution_count": 64,
   "id": "353c782b",
   "metadata": {},
   "outputs": [],
   "source": [
    "max_length = 200\n",
    "from tensorflow.keras.preprocessing.sequence import pad_sequences"
   ]
  },
  {
   "cell_type": "code",
   "execution_count": 65,
   "id": "d82ad814",
   "metadata": {},
   "outputs": [],
   "source": [
    "def get_sequences(tokenizer, text_train_list):\n",
    "    sequences = tokenizer.texts_to_sequences(text_train_list)\n",
    "    padded = pad_sequences(sequences, truncating='post', padding='post', maxlen = max_length)\n",
    "    return padded"
   ]
  },
  {
   "cell_type": "code",
   "execution_count": 66,
   "id": "7e1aa07b",
   "metadata": {},
   "outputs": [],
   "source": [
    "padded_train_seq = get_sequences(tokenizer,text_train_list)"
   ]
  },
  {
   "cell_type": "code",
   "execution_count": 67,
   "id": "4850b902",
   "metadata": {},
   "outputs": [
    {
     "data": {
      "text/plain": [
       "array([[4, 1, 1, ..., 0, 0, 0],\n",
       "       [4, 5, 6, ..., 0, 0, 0],\n",
       "       [1, 1, 1, ..., 0, 0, 0],\n",
       "       ...,\n",
       "       [1, 1, 1, ..., 0, 0, 0],\n",
       "       [5, 6, 1, ..., 0, 0, 0],\n",
       "       [4, 5, 6, ..., 0, 0, 0]])"
      ]
     },
     "execution_count": 67,
     "metadata": {},
     "output_type": "execute_result"
    }
   ],
   "source": [
    "padded_train_seq"
   ]
  },
  {
   "cell_type": "code",
   "execution_count": 68,
   "id": "a2402f93",
   "metadata": {},
   "outputs": [
    {
     "name": "stdout",
     "output_type": "stream",
     "text": [
      "{'disgust', 'guilt', 'sadness', 'joy', 'fear', 'shame', 'anger'}\n"
     ]
    }
   ],
   "source": [
    "classes = set(label_train)\n",
    "print(classes)"
   ]
  },
  {
   "cell_type": "code",
   "execution_count": 69,
   "id": "d47b44fe",
   "metadata": {},
   "outputs": [
    {
     "data": {
      "image/png": "[encoded data removed]",
      "text/plain": [
       "<Figure size 432x288 with 1 Axes>"
      ]
     },
     "metadata": {
      "needs_background": "light"
     },
     "output_type": "display_data"
    }
   ],
   "source": [
    "plt.hist(label_train, bins=14)\n",
    "plt.show()"
   ]
  },
  {
   "cell_type": "code",
   "execution_count": 70,
   "id": "38f785bc",
   "metadata": {},
   "outputs": [],
   "source": [
    "class_to_index = dict((c,i) for i, c in enumerate(classes))\n",
    "index_to_class = dict((v, k) for k, v in class_to_index.items())"
   ]
  },
  {
   "cell_type": "code",
   "execution_count": 71,
   "id": "4fbdc8f1",
   "metadata": {},
   "outputs": [
    {
     "data": {
      "text/plain": [
       "{'disgust': 0,\n",
       " 'guilt': 1,\n",
       " 'sadness': 2,\n",
       " 'joy': 3,\n",
       " 'fear': 4,\n",
       " 'shame': 5,\n",
       " 'anger': 6}"
      ]
     },
     "execution_count": 71,
     "metadata": {},
     "output_type": "execute_result"
    }
   ],
   "source": [
    "class_to_index"
   ]
  },
  {
   "cell_type": "code",
   "execution_count": 72,
   "id": "6647de2f",
   "metadata": {},
   "outputs": [
    {
     "data": {
      "text/plain": [
       "{0: 'disgust',\n",
       " 1: 'guilt',\n",
       " 2: 'sadness',\n",
       " 3: 'joy',\n",
       " 4: 'fear',\n",
       " 5: 'shame',\n",
       " 6: 'anger'}"
      ]
     },
     "execution_count": 72,
     "metadata": {},
     "output_type": "execute_result"
    }
   ],
   "source": [
    "index_to_class"
   ]
  },
  {
   "cell_type": "code",
   "execution_count": 73,
   "id": "8a2ebc96",
   "metadata": {},
   "outputs": [],
   "source": [
    "names_to_ids = lambda label_train: np.array([class_to_index.get(x) for x in label_train])"
   ]
  },
  {
   "cell_type": "code",
   "execution_count": 74,
   "id": "af9bf6de",
   "metadata": {},
   "outputs": [
    {
     "name": "stdout",
     "output_type": "stream",
     "text": [
      "2\n"
     ]
    }
   ],
   "source": [
    "train_labels = names_to_ids(label_train)\n",
    "print(train_labels[0])"
   ]
  },
  {
   "cell_type": "code",
   "execution_count": 75,
   "id": "1f9ef5eb",
   "metadata": {},
   "outputs": [],
   "source": [
    "model = tf.keras.models.Sequential([\n",
    "    tf.keras.layers.Embedding(7517, 16, input_length=max_length),\n",
    "    tf.keras.layers.Bidirectional(tf.keras.layers.LSTM(20, return_sequences=True)),\n",
    "    tf.keras.layers.Bidirectional(tf.keras.layers.LSTM(20)),\n",
    "    tf.keras.layers.Dense(7, activation='softmax')\n",
    "])\n",
    "\n",
    "optimizer = tf.keras.optimizers.Adam(\n",
    "    learning_rate=0.001, beta_1=0.9, beta_2=0.999, epsilon=1e-07, amsgrad=False,\n",
    "    name='Adam'\n",
    ")\n",
    "\n",
    "model.compile(\n",
    "    loss='sparse_categorical_crossentropy',\n",
    "    optimizer = optimizer,\n",
    "    metrics=['accuracy']\n",
    ")"
   ]
  },
  {
   "cell_type": "code",
   "execution_count": 76,
   "id": "5941550c",
   "metadata": {},
   "outputs": [
    {
     "name": "stdout",
     "output_type": "stream",
     "text": [
      "Model: \"sequential_2\"\n",
      "_________________________________________________________________\n",
      " Layer (type)                Output Shape              Param #   \n",
      "=================================================================\n",
      " embedding_2 (Embedding)     (None, 200, 16)           120272    \n",
      "                                                                 \n",
      " bidirectional_4 (Bidirectio  (None, 200, 40)          5920      \n",
      " nal)                                                            \n",
      "                                                                 \n",
      " bidirectional_5 (Bidirectio  (None, 40)               9760      \n",
      " nal)                                                            \n",
      "                                                                 \n",
      " dense_2 (Dense)             (None, 7)                 287       \n",
      "                                                                 \n",
      "=================================================================\n",
      "Total params: 136,239\n",
      "Trainable params: 136,239\n",
      "Non-trainable params: 0\n",
      "_________________________________________________________________\n"
     ]
    }
   ],
   "source": [
    "model.summary()"
   ]
  },
  {
   "cell_type": "code",
   "execution_count": 77,
   "id": "e7f1a67a",
   "metadata": {},
   "outputs": [],
   "source": [
    "text_valid_list=[ i[0] for i in text_valid.values.tolist()]"
   ]
  },
  {
   "cell_type": "code",
   "execution_count": 78,
   "id": "aedfccc0",
   "metadata": {},
   "outputs": [],
   "source": [
    "text_val_seq = get_sequences(tokenizer, text_valid_list)"
   ]
  },
  {
   "cell_type": "code",
   "execution_count": 79,
   "id": "0ebba778",
   "metadata": {},
   "outputs": [
    {
     "data": {
      "text/plain": [
       "array([2, 1, 4, ..., 3, 5, 4])"
      ]
     },
     "execution_count": 79,
     "metadata": {},
     "output_type": "execute_result"
    }
   ],
   "source": [
    "train_labels"
   ]
  },
  {
   "cell_type": "code",
   "execution_count": 80,
   "id": "47cd8f53",
   "metadata": {},
   "outputs": [],
   "source": [
    "label_valid = names_to_ids(label_valid)"
   ]
  },
  {
   "cell_type": "code",
   "execution_count": 81,
   "id": "02d209e6",
   "metadata": {},
   "outputs": [
    {
     "data": {
      "text/plain": [
       "array([3, 0, 0, 1, 1, 0, 0, 4, 5, 5, 2, 4, 5, 2, 4, 6, 1, 5, 4, 2, 1, 2,\n",
       "       1, 0, 2, 2, 3, 5, 6, 6, 4, 0, 3, 2, 4, 5, 1, 5, 3, 6, 0, 6, 6, 2,\n",
       "       4, 4, 4, 6, 2, 1, 6, 1, 2, 2, 6, 6, 3, 6, 0, 2, 1, 4, 4, 1, 3, 0,\n",
       "       3, 2, 1, 1, 3, 4, 5, 6, 3, 3, 1, 1, 6, 5, 2, 4, 4, 3, 4, 3, 6, 3,\n",
       "       5, 3, 2, 3, 3, 4, 1, 2, 1, 2, 2, 0, 3, 5, 4, 3, 4, 5, 6, 3, 4, 1,\n",
       "       0, 0, 5, 5, 0, 3, 3, 0, 1, 3, 2, 6, 5, 4, 4, 4, 2, 4, 2, 3, 6, 6,\n",
       "       2, 3, 3, 3, 1, 2, 0, 6, 3, 0, 3, 5, 1, 5, 5, 6, 1, 2, 2, 3, 2, 3,\n",
       "       5, 4, 2, 2, 2, 6, 3, 2, 6, 4, 0, 6, 0, 0, 6, 3, 3, 3, 2, 2, 3, 6,\n",
       "       5, 0, 1, 0, 1, 2, 1, 2, 4, 0, 4, 6, 3, 0, 4, 1, 3, 3, 6, 2, 0, 3,\n",
       "       3, 5, 6, 1, 4, 2, 6, 2, 6, 4, 5, 0, 0, 6, 4, 4, 3, 4, 6, 6, 0, 5,\n",
       "       0, 5, 5, 4, 3, 2, 5, 5, 6, 5, 0, 3, 6, 1, 0, 5, 5, 4, 2, 1, 2, 5,\n",
       "       5, 2, 3, 5, 3, 1, 1, 2, 4, 0, 0, 3, 4, 0, 3, 0, 4, 0, 5, 2, 4, 1,\n",
       "       0, 0, 1, 4, 3, 6, 0, 0, 6, 6, 0, 6, 2, 2, 0, 0, 3, 0, 6, 5, 3, 4,\n",
       "       5, 1, 5, 6, 5, 4, 4, 5, 2, 1, 5, 2, 0, 0, 3, 4, 4, 6, 4, 4, 4, 3,\n",
       "       6, 3, 4, 5, 0, 1, 4, 2, 3, 2, 0, 1, 6, 2, 3, 5, 4, 1, 4, 6, 5, 2,\n",
       "       1, 4, 1, 2, 0, 1, 0, 1, 0, 2, 1, 4, 4, 4, 3, 4, 5, 4, 5, 3, 3, 4,\n",
       "       5, 0, 2, 5, 2, 3, 0, 4, 2, 3, 3, 6, 1, 0, 2, 6, 2, 5, 0, 4, 4, 3,\n",
       "       4, 2, 5, 2, 5, 0, 2, 5, 0, 2, 2, 6, 2, 5, 6, 6, 0, 2, 6, 4, 3, 4,\n",
       "       6, 5, 3, 1, 6, 4, 0, 6, 6, 4, 2, 6, 6, 3, 5, 3, 1, 5, 6, 2, 1, 1,\n",
       "       5, 1, 3, 6, 0, 2, 1, 6, 1, 5, 6, 1, 4, 2, 1, 3, 3, 3, 4, 2, 6, 2,\n",
       "       3, 5, 2, 4, 0, 5, 0, 2, 4, 2, 1, 6, 1, 6, 2, 5, 4, 1, 1, 6, 3, 0,\n",
       "       1, 5, 3, 2, 6, 6, 4, 3, 4, 6, 3, 5, 0, 0, 0, 2, 2, 1, 5, 4, 4, 1,\n",
       "       1, 4, 2, 3, 2, 4, 3, 1, 4, 5, 5, 0, 4, 6, 0, 1, 4, 4, 6, 5, 0, 4,\n",
       "       2, 4, 4, 4, 2, 1, 6, 6, 1, 3, 3, 0, 0, 2, 6, 1, 5, 2, 3, 6, 1, 6,\n",
       "       3, 0, 1, 2, 4, 4, 4, 4, 5, 2, 3, 2, 4, 4, 0, 3, 1, 0, 4, 0, 6, 6,\n",
       "       1, 5, 2, 1, 0, 2, 6, 0, 3, 6, 6, 5, 5, 6, 6, 1, 4, 4, 0, 2, 3, 3,\n",
       "       0, 3, 2, 0, 2, 4, 2, 4, 6, 5, 0, 5, 0, 3, 3, 3, 1, 0, 5, 2, 6, 0,\n",
       "       5, 1, 5, 1, 3, 2, 5, 1, 6, 3, 2, 6, 6, 1, 6, 6, 5, 4, 3, 6, 3, 6,\n",
       "       6, 3, 1, 1, 4, 4, 4, 2, 5, 0, 1, 5, 1, 5, 1, 5, 1, 4, 5, 6, 4, 6,\n",
       "       5, 6, 0, 3, 0, 2, 0, 1, 1, 6, 5, 0, 0, 5, 5, 4, 6, 3, 1, 2, 4, 0,\n",
       "       1, 3, 6, 2, 4, 5, 3, 0, 2, 1, 4, 0, 6, 5, 6, 6, 4, 2, 1, 5, 1, 1,\n",
       "       3, 2, 4, 6, 2, 1, 0, 2, 3, 5, 1, 1, 4, 2, 4, 4, 4, 6, 6, 3, 1, 5,\n",
       "       3, 5, 3, 6, 4, 5, 5, 3, 0, 4, 5, 2, 4, 5, 0, 1, 5, 6, 0, 5, 5, 3,\n",
       "       6, 2, 2, 4, 3, 0, 3, 0, 2, 0, 4, 6, 0, 6, 0, 2, 4, 5, 2, 0, 4, 0,\n",
       "       3, 4, 2, 0])"
      ]
     },
     "execution_count": 81,
     "metadata": {},
     "output_type": "execute_result"
    }
   ],
   "source": [
    "label_valid"
   ]
  },
  {
   "cell_type": "code",
   "execution_count": 89,
   "id": "be1237e8",
   "metadata": {
    "scrolled": false
   },
   "outputs": [
    {
     "name": "stdout",
     "output_type": "stream",
     "text": [
      "Epoch 1/100\n",
      "602/602 [==============================] - 67s 111ms/step - loss: 1.8164 - accuracy: 0.2793 - val_loss: 1.8671 - val_accuracy: 0.2527\n",
      "Epoch 2/100\n",
      "602/602 [==============================] - 69s 115ms/step - loss: 1.7964 - accuracy: 0.2904 - val_loss: 1.8761 - val_accuracy: 0.2420\n",
      "Epoch 3/100\n",
      "602/602 [==============================] - 67s 112ms/step - loss: 1.7904 - accuracy: 0.2917 - val_loss: 1.8507 - val_accuracy: 0.2487\n",
      "Epoch 4/100\n",
      "602/602 [==============================] - 65s 108ms/step - loss: 1.7853 - accuracy: 0.2929 - val_loss: 1.8711 - val_accuracy: 0.2407\n",
      "Epoch 5/100\n",
      "602/602 [==============================] - 66s 110ms/step - loss: 1.7812 - accuracy: 0.2957 - val_loss: 1.8665 - val_accuracy: 0.2447\n",
      "Epoch 6/100\n",
      "602/602 [==============================] - 68s 113ms/step - loss: 1.7782 - accuracy: 0.2984 - val_loss: 1.8656 - val_accuracy: 0.2540\n",
      "Epoch 7/100\n",
      "602/602 [==============================] - 71s 118ms/step - loss: 1.7697 - accuracy: 0.3024 - val_loss: 1.8687 - val_accuracy: 0.2500\n",
      "Epoch 8/100\n",
      "602/602 [==============================] - 69s 114ms/step - loss: 1.7691 - accuracy: 0.3072 - val_loss: 1.8667 - val_accuracy: 0.2487\n",
      "Epoch 9/100\n",
      "602/602 [==============================] - 69s 114ms/step - loss: 1.7648 - accuracy: 0.3022 - val_loss: 1.8797 - val_accuracy: 0.2660\n",
      "Epoch 10/100\n",
      "602/602 [==============================] - 68s 112ms/step - loss: 1.7638 - accuracy: 0.3095 - val_loss: 1.8726 - val_accuracy: 0.2513\n",
      "Epoch 11/100\n",
      "602/602 [==============================] - 66s 109ms/step - loss: 1.7504 - accuracy: 0.3160 - val_loss: 1.8654 - val_accuracy: 0.2473\n",
      "Epoch 12/100\n",
      "602/602 [==============================] - 66s 109ms/step - loss: 1.7553 - accuracy: 0.3167 - val_loss: 1.8839 - val_accuracy: 0.2420\n",
      "Epoch 13/100\n",
      "602/602 [==============================] - 66s 110ms/step - loss: 1.7479 - accuracy: 0.3185 - val_loss: 1.8717 - val_accuracy: 0.2473\n",
      "Epoch 14/100\n",
      "602/602 [==============================] - 67s 112ms/step - loss: 1.7399 - accuracy: 0.3214 - val_loss: 1.8845 - val_accuracy: 0.2407\n",
      "Epoch 15/100\n",
      "602/602 [==============================] - 69s 114ms/step - loss: 1.7346 - accuracy: 0.3200 - val_loss: 1.8688 - val_accuracy: 0.2620\n",
      "Epoch 16/100\n",
      "602/602 [==============================] - 74s 124ms/step - loss: 1.7282 - accuracy: 0.3295 - val_loss: 1.8756 - val_accuracy: 0.2447\n",
      "Epoch 17/100\n",
      "602/602 [==============================] - 76s 126ms/step - loss: 1.7294 - accuracy: 0.3275 - val_loss: 1.8801 - val_accuracy: 0.2394\n",
      "Epoch 18/100\n",
      "602/602 [==============================] - 75s 125ms/step - loss: 1.7216 - accuracy: 0.3250 - val_loss: 1.8840 - val_accuracy: 0.2487\n",
      "Epoch 19/100\n",
      "602/602 [==============================] - 76s 126ms/step - loss: 1.7163 - accuracy: 0.3337 - val_loss: 1.8809 - val_accuracy: 0.2327\n"
     ]
    }
   ],
   "source": [
    "h = model.fit(\n",
    "padded_train_seq, train_labels,\n",
    "validation_data=(text_val_seq, label_valid),\n",
    "batch_size = 10,\n",
    "epochs=100,\n",
    "callbacks=[\n",
    "    tf.keras.callbacks.EarlyStopping(monitor='val_accuracy', patience=10)\n",
    "])"
   ]
  },
  {
   "cell_type": "code",
   "execution_count": 90,
   "id": "e43c9d3d",
   "metadata": {},
   "outputs": [
    {
     "data": {
      "image/png": "[encoded data removed]",
      "text/plain": [
       "<Figure size 1152x432 with 2 Axes>"
      ]
     },
     "metadata": {
      "needs_background": "light"
     },
     "output_type": "display_data"
    }
   ],
   "source": [
    "show_history(h)"
   ]
  },
  {
   "cell_type": "code",
   "execution_count": 40,
   "id": "30f1acf3",
   "metadata": {},
   "outputs": [],
   "source": [
    "test_seq = get_sequences(tokenizer, text_test)\n",
    "label_test = names_to_ids(label_test)"
   ]
  },
  {
   "cell_type": "code",
   "execution_count": 41,
   "id": "8f921540",
   "metadata": {},
   "outputs": [
    {
     "ename": "ValueError",
     "evalue": "Data cardinality is ambiguous:\n  x sizes: 1\n  y sizes: 752\nMake sure all arrays contain the same number of samples.",
     "output_type": "error",
     "traceback": [
      "\u001b[1;31m---------------------------------------------------------------------------\u001b[0m",
      "\u001b[1;31mValueError\u001b[0m                                Traceback (most recent call last)",
      "\u001b[1;32m~\\AppData\\Local\\Temp/ipykernel_19876/2665835465.py\u001b[0m in \u001b[0;36m<module>\u001b[1;34m\u001b[0m\n\u001b[1;32m----> 1\u001b[1;33m \u001b[0m_\u001b[0m\u001b[1;33m=\u001b[0m\u001b[0mmodel\u001b[0m\u001b[1;33m.\u001b[0m\u001b[0mevaluate\u001b[0m\u001b[1;33m(\u001b[0m\u001b[0mtest_seq\u001b[0m\u001b[1;33m,\u001b[0m \u001b[0mlabel_test\u001b[0m\u001b[1;33m)\u001b[0m\u001b[1;33m\u001b[0m\u001b[1;33m\u001b[0m\u001b[0m\n\u001b[0m",
      "\u001b[1;32mC:\\Software Development\\Anaconda\\envs\\ECNG3020\\lib\\site-packages\\keras\\utils\\traceback_utils.py\u001b[0m in \u001b[0;36merror_handler\u001b[1;34m(*args, **kwargs)\u001b[0m\n\u001b[0;32m     65\u001b[0m     \u001b[1;32mexcept\u001b[0m \u001b[0mException\u001b[0m \u001b[1;32mas\u001b[0m \u001b[0me\u001b[0m\u001b[1;33m:\u001b[0m  \u001b[1;31m# pylint: disable=broad-except\u001b[0m\u001b[1;33m\u001b[0m\u001b[1;33m\u001b[0m\u001b[0m\n\u001b[0;32m     66\u001b[0m       \u001b[0mfiltered_tb\u001b[0m \u001b[1;33m=\u001b[0m \u001b[0m_process_traceback_frames\u001b[0m\u001b[1;33m(\u001b[0m\u001b[0me\u001b[0m\u001b[1;33m.\u001b[0m\u001b[0m__traceback__\u001b[0m\u001b[1;33m)\u001b[0m\u001b[1;33m\u001b[0m\u001b[1;33m\u001b[0m\u001b[0m\n\u001b[1;32m---> 67\u001b[1;33m       \u001b[1;32mraise\u001b[0m \u001b[0me\u001b[0m\u001b[1;33m.\u001b[0m\u001b[0mwith_traceback\u001b[0m\u001b[1;33m(\u001b[0m\u001b[0mfiltered_tb\u001b[0m\u001b[1;33m)\u001b[0m \u001b[1;32mfrom\u001b[0m \u001b[1;32mNone\u001b[0m\u001b[1;33m\u001b[0m\u001b[1;33m\u001b[0m\u001b[0m\n\u001b[0m\u001b[0;32m     68\u001b[0m     \u001b[1;32mfinally\u001b[0m\u001b[1;33m:\u001b[0m\u001b[1;33m\u001b[0m\u001b[1;33m\u001b[0m\u001b[0m\n\u001b[0;32m     69\u001b[0m       \u001b[1;32mdel\u001b[0m \u001b[0mfiltered_tb\u001b[0m\u001b[1;33m\u001b[0m\u001b[1;33m\u001b[0m\u001b[0m\n",
      "\u001b[1;32mC:\\Software Development\\Anaconda\\envs\\ECNG3020\\lib\\site-packages\\keras\\engine\\data_adapter.py\u001b[0m in \u001b[0;36m_check_data_cardinality\u001b[1;34m(data)\u001b[0m\n\u001b[0;32m   1655\u001b[0m                            for i in tf.nest.flatten(single_data)))\n\u001b[0;32m   1656\u001b[0m     \u001b[0mmsg\u001b[0m \u001b[1;33m+=\u001b[0m \u001b[1;34m\"Make sure all arrays contain the same number of samples.\"\u001b[0m\u001b[1;33m\u001b[0m\u001b[1;33m\u001b[0m\u001b[0m\n\u001b[1;32m-> 1657\u001b[1;33m     \u001b[1;32mraise\u001b[0m \u001b[0mValueError\u001b[0m\u001b[1;33m(\u001b[0m\u001b[0mmsg\u001b[0m\u001b[1;33m)\u001b[0m\u001b[1;33m\u001b[0m\u001b[1;33m\u001b[0m\u001b[0m\n\u001b[0m\u001b[0;32m   1658\u001b[0m \u001b[1;33m\u001b[0m\u001b[0m\n\u001b[0;32m   1659\u001b[0m \u001b[1;33m\u001b[0m\u001b[0m\n",
      "\u001b[1;31mValueError\u001b[0m: Data cardinality is ambiguous:\n  x sizes: 1\n  y sizes: 752\nMake sure all arrays contain the same number of samples."
     ]
    }
   ],
   "source": [
    "_=model.evaluate(test_seq, label_test)"
   ]
  },
  {
   "cell_type": "code",
   "execution_count": null,
   "id": "177af65c",
   "metadata": {},
   "outputs": [],
   "source": []
  }
 ],
 "metadata": {
  "kernelspec": {
   "display_name": "SA_E3020",
   "language": "python",
   "name": "sa_e3020"
  },
  "language_info": {
   "codemirror_mode": {
    "name": "ipython",
    "version": 3
   },
   "file_extension": ".py",
   "mimetype": "text/x-python",
   "name": "python",
   "nbconvert_exporter": "python",
   "pygments_lexer": "ipython3",
   "version": "3.8.8"
  }
 },
 "nbformat": 4,
 "nbformat_minor": 5
}
