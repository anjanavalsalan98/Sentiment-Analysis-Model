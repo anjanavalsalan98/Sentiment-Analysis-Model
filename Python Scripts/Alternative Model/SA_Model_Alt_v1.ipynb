{
 "cells": [
  {
   "cell_type": "code",
   "execution_count": 10,
   "id": "9f6f8310",
   "metadata": {},
   "outputs": [
    {
     "name": "stdout",
     "output_type": "stream",
     "text": [
      "Using TensorFlow version 2.6.0\n"
     ]
    }
   ],
   "source": [
    "%matplotlib inline\n",
    "\n",
    "import tensorflow as tf\n",
    "import numpy as np\n",
    "import pandas as pd\n",
    "import matplotlib.pyplot as plt\n",
    "import nltk\n",
    "import random\n",
    "from sklearn.metrics import classification_report\n",
    "from sklearn.metrics import fbeta_score\n",
    "\n",
    "\n",
    "def show_history(h):\n",
    "    epochs_trained = len(h.history['loss'])\n",
    "    plt.figure(figsize=(16, 6))\n",
    "\n",
    "    plt.subplot(1, 2, 1)\n",
    "    plt.plot(range(0, epochs_trained), h.history.get('accuracy'), label='Training')\n",
    "    plt.plot(range(0, epochs_trained), h.history.get('val_accuracy'), label='Validation')\n",
    "    plt.ylim([0., 1.])\n",
    "    plt.xlabel('Epochs')\n",
    "    plt.ylabel('Accuracy')\n",
    "    plt.legend()\n",
    "\n",
    "    plt.subplot(1, 2, 2)\n",
    "    plt.plot(range(0, epochs_trained), h.history.get('loss'), label='Training')\n",
    "    plt.plot(range(0, epochs_trained), h.history.get('val_loss'), label='Validation')\n",
    "    plt.xlabel('Epochs')\n",
    "    plt.ylabel('Loss')\n",
    "    plt.legend()\n",
    "    plt.show()\n",
    "\n",
    "    \n",
    "def show_confusion_matrix(y_true, y_pred, classes):\n",
    "    from sklearn.metrics import confusion_matrix\n",
    "    \n",
    "    cm = confusion_matrix(y_true, y_pred, normalize='true')\n",
    "\n",
    "    plt.figure(figsize=(8, 8))\n",
    "    sp = plt.subplot(1, 1, 1)\n",
    "    ctx = sp.matshow(cm)\n",
    "    plt.xticks(list(range(0, 6)), labels=classes)\n",
    "    plt.yticks(list(range(0, 6)), labels=classes)\n",
    "    plt.colorbar(ctx)\n",
    "    plt.show()\n",
    "\n",
    "    \n",
    "print('Using TensorFlow version', tf.__version__)"
   ]
  },
  {
   "cell_type": "code",
   "execution_count": 11,
   "id": "8d973ac8",
   "metadata": {},
   "outputs": [
    {
     "data": {
      "text/plain": [
       "'1.0.2'"
      ]
     },
     "execution_count": 11,
     "metadata": {},
     "output_type": "execute_result"
    }
   ],
   "source": [
    "sklearn.__version__"
   ]
  },
  {
   "cell_type": "code",
   "execution_count": 2,
   "id": "e4ab793f",
   "metadata": {},
   "outputs": [],
   "source": [
    "train = pd.read_csv(\"G:\\My Drive\\AnjanaValsalan_ECNG 3020\\Implementation Files\\Datasets\\ECNG3020_Final_Dataset\\ECNG3020_Train_Dataset.csv\")\n",
    "test = pd.read_csv(\"G:\\My Drive\\AnjanaValsalan_ECNG 3020\\Implementation Files\\Datasets\\ECNG3020_Final_Dataset\\ECNG3020_Test_Dataset.csv\")\n",
    "val = pd.read_csv(\"G:\\My Drive\\AnjanaValsalan_ECNG 3020\\Implementation Files\\Datasets\\ECNG3020_Final_Dataset\\ECNG3020_Val_Dataset.csv\")"
   ]
  },
  {
   "cell_type": "code",
   "execution_count": 3,
   "id": "5779f865",
   "metadata": {},
   "outputs": [],
   "source": [
    "def get_text(data):\n",
    "    text = data['text']\n",
    "    labels = data['label']\n",
    "    labels = labels.replace([\"0\",\"1\",\"2\",\"3\",\"4\",\"5\"],['sadness','joy','love','anger','fear','surprise'])\n",
    "    return text, labels"
   ]
  },
  {
   "cell_type": "code",
   "execution_count": 4,
   "id": "510d4a46",
   "metadata": {},
   "outputs": [],
   "source": [
    "text, labels = get_text(train)"
   ]
  },
  {
   "cell_type": "code",
   "execution_count": 5,
   "id": "3ac81801",
   "metadata": {},
   "outputs": [
    {
     "name": "stdout",
     "output_type": "stream",
     "text": [
      "0            joy\n",
      "1           fear\n",
      "2          anger\n",
      "3        sadness\n",
      "4            joy\n",
      "          ...   \n",
      "19458    sadness\n",
      "19459    sadness\n",
      "19460        joy\n",
      "19461      anger\n",
      "19462    sadness\n",
      "Name: label, Length: 19463, dtype: object\n"
     ]
    }
   ],
   "source": [
    "print(labels)"
   ]
  },
  {
   "cell_type": "code",
   "execution_count": 6,
   "id": "79f87832",
   "metadata": {},
   "outputs": [],
   "source": [
    "from tensorflow.keras.preprocessing.text import Tokenizer"
   ]
  },
  {
   "cell_type": "code",
   "execution_count": 7,
   "id": "0df6fd3c",
   "metadata": {},
   "outputs": [],
   "source": [
    "tokenizer = Tokenizer(num_words=10000, oov_token='<UNK>')\n",
    "tokenizer.fit_on_texts(text)"
   ]
  },
  {
   "cell_type": "code",
   "execution_count": 8,
   "id": "53051c6c",
   "metadata": {},
   "outputs": [
    {
     "data": {
      "text/plain": [
       "[[168, 45, 2, 946, 10, 136, 2, 89, 38, 2, 83, 1213, 7, 1241, 1145, 80, 344]]"
      ]
     },
     "execution_count": 8,
     "metadata": {},
     "output_type": "execute_result"
    }
   ],
   "source": [
    "tokenizer.texts_to_sequences([text[1]])"
   ]
  },
  {
   "cell_type": "code",
   "execution_count": 9,
   "id": "ea76037a",
   "metadata": {},
   "outputs": [
    {
     "data": {
      "text/plain": [
       "'Every time I imagine that someone I love or I could contact a serious illness, even death.'"
      ]
     },
     "execution_count": 9,
     "metadata": {},
     "output_type": "execute_result"
    }
   ],
   "source": [
    "text[1]"
   ]
  },
  {
   "cell_type": "code",
   "execution_count": 10,
   "id": "a35eece0",
   "metadata": {},
   "outputs": [
    {
     "data": {
      "text/plain": [
       "<function matplotlib.pyplot.show(close=None, block=None)>"
      ]
     },
     "execution_count": 10,
     "metadata": {},
     "output_type": "execute_result"
    },
    {
     "data": {
      "image/png": "[encoded data removed]",
      "text/plain": [
       "<Figure size 432x288 with 1 Axes>"
      ]
     },
     "metadata": {
      "needs_background": "light"
     },
     "output_type": "display_data"
    }
   ],
   "source": [
    "lengths = [len(t.split(' ')) for t in text]\n",
    "plt.hist(lengths, bins = len(set(lengths)))\n",
    "plt.show"
   ]
  },
  {
   "cell_type": "code",
   "execution_count": 11,
   "id": "addd4297",
   "metadata": {},
   "outputs": [],
   "source": [
    "maxlength = 50\n",
    "from tensorflow.keras.preprocessing.sequence import pad_sequences"
   ]
  },
  {
   "cell_type": "code",
   "execution_count": 12,
   "id": "2a37d030",
   "metadata": {},
   "outputs": [],
   "source": [
    "def get_sequences(tokenizer, text):\n",
    "  sequences = tokenizer.texts_to_sequences(text)\n",
    "  padded = pad_sequences(sequences, truncating='post' , padding='post', maxlen = maxlength)\n",
    "  return padded"
   ]
  },
  {
   "cell_type": "code",
   "execution_count": 13,
   "id": "687ac355",
   "metadata": {},
   "outputs": [],
   "source": [
    "padded_train_seq = get_sequences(tokenizer, text)"
   ]
  },
  {
   "cell_type": "code",
   "execution_count": 14,
   "id": "8640f02e",
   "metadata": {},
   "outputs": [
    {
     "data": {
      "text/plain": [
       "array([[ 30, 157,  17, ...,   0,   0,   0],\n",
       "       [168,  45,   2, ...,   0,   0,   0],\n",
       "       [ 17,   2,  32, ...,   0,   0,   0],\n",
       "       ...,\n",
       "       [  2,   4, 370, ...,   0,   0,   0],\n",
       "       [  2,   4,  18, ...,   0,   0,   0],\n",
       "       [  2,  53,   7, ...,   0,   0,   0]])"
      ]
     },
     "execution_count": 14,
     "metadata": {},
     "output_type": "execute_result"
    }
   ],
   "source": [
    "padded_train_seq"
   ]
  },
  {
   "cell_type": "code",
   "execution_count": 15,
   "id": "afef3ad0",
   "metadata": {},
   "outputs": [
    {
     "name": "stdout",
     "output_type": "stream",
     "text": [
      "['joy', 'fear', 'anger', 'sadness', 'love', 'surprise']\n"
     ]
    }
   ],
   "source": [
    "#classes = set(labels)\n",
    "classes = ['joy', 'fear', 'anger', 'sadness', 'love', 'surprise']\n",
    "print(classes)"
   ]
  },
  {
   "cell_type": "code",
   "execution_count": 16,
   "id": "81e6bdfb",
   "metadata": {},
   "outputs": [
    {
     "data": {
      "image/png": "[encoded data removed]",
      "text/plain": [
       "<Figure size 432x288 with 1 Axes>"
      ]
     },
     "metadata": {
      "needs_background": "light"
     },
     "output_type": "display_data"
    }
   ],
   "source": [
    "plt.hist(labels, bins=11)\n",
    "plt.show()"
   ]
  },
  {
   "cell_type": "code",
   "execution_count": 17,
   "id": "ed68e501",
   "metadata": {},
   "outputs": [],
   "source": [
    "class_to_index = dict((c,i) for i, c in enumerate(classes))\n",
    "index_to_class = dict((v, k) for k, v in class_to_index.items())"
   ]
  },
  {
   "cell_type": "code",
   "execution_count": 18,
   "id": "c333e971",
   "metadata": {},
   "outputs": [
    {
     "data": {
      "text/plain": [
       "{'joy': 0, 'fear': 1, 'anger': 2, 'sadness': 3, 'love': 4, 'surprise': 5}"
      ]
     },
     "execution_count": 18,
     "metadata": {},
     "output_type": "execute_result"
    }
   ],
   "source": [
    "class_to_index"
   ]
  },
  {
   "cell_type": "code",
   "execution_count": 19,
   "id": "4c71dd58",
   "metadata": {},
   "outputs": [
    {
     "data": {
      "text/plain": [
       "{0: 'joy', 1: 'fear', 2: 'anger', 3: 'sadness', 4: 'love', 5: 'surprise'}"
      ]
     },
     "execution_count": 19,
     "metadata": {},
     "output_type": "execute_result"
    }
   ],
   "source": [
    "index_to_class"
   ]
  },
  {
   "cell_type": "code",
   "execution_count": 20,
   "id": "43a08207",
   "metadata": {},
   "outputs": [],
   "source": [
    "names_to_ids = lambda labels: np.array([class_to_index.get(x) for x in labels])"
   ]
  },
  {
   "cell_type": "code",
   "execution_count": 21,
   "id": "fe8afd18",
   "metadata": {},
   "outputs": [
    {
     "name": "stdout",
     "output_type": "stream",
     "text": [
      "0\n"
     ]
    }
   ],
   "source": [
    "train_labels = names_to_ids(labels)\n",
    "print(train_labels[0])"
   ]
  },
  {
   "cell_type": "code",
   "execution_count": 22,
   "id": "82dc21b6",
   "metadata": {},
   "outputs": [],
   "source": [
    "l2 = tf.keras.regularizers.L2(\n",
    "    l2=0.02)\n",
    "\n",
    "model = tf.keras.models.Sequential([\n",
    "        tf.keras.layers.Embedding(10000, 16, input_length=maxlen),\n",
    "        tf.keras.layers.Bidirectional(tf.keras.layers.GRU(20, return_sequences=True)),\n",
    "        tf.keras.layers.Bidirectional(tf.keras.layers.GRU(20)),\n",
    "        tf.keras.layers.Dropout(.5, input_shape=(2,)),\n",
    "        tf.keras.layers.Dense(6, activation='softmax',kernel_regularizer = l2)\n",
    "])\n",
    "\n",
    "optimizer = tf.keras.optimizers.Adam(\n",
    "     learning_rate=0.01)\n",
    "\n",
    "model.compile(\n",
    "    loss='sparse_categorical_crossentropy',\n",
    "    optimizer= optimizer,\n",
    "    metrics=['accuracy']\n",
    ")"
   ]
  },
  {
   "cell_type": "code",
   "execution_count": 23,
   "id": "55055da2",
   "metadata": {},
   "outputs": [
    {
     "name": "stdout",
     "output_type": "stream",
     "text": [
      "Model: \"sequential\"\n",
      "_________________________________________________________________\n",
      "Layer (type)                 Output Shape              Param #   \n",
      "=================================================================\n",
      "embedding (Embedding)        (None, 50, 16)            160000    \n",
      "_________________________________________________________________\n",
      "bidirectional (Bidirectional (None, 50, 40)            4560      \n",
      "_________________________________________________________________\n",
      "bidirectional_1 (Bidirection (None, 40)                7440      \n",
      "_________________________________________________________________\n",
      "dropout (Dropout)            (None, 40)                0         \n",
      "_________________________________________________________________\n",
      "dense (Dense)                (None, 6)                 246       \n",
      "=================================================================\n",
      "Total params: 172,246\n",
      "Trainable params: 172,246\n",
      "Non-trainable params: 0\n",
      "_________________________________________________________________\n"
     ]
    }
   ],
   "source": [
    "model.summary()"
   ]
  },
  {
   "cell_type": "code",
   "execution_count": 24,
   "id": "2c2ecfd9",
   "metadata": {},
   "outputs": [],
   "source": [
    "val_text, val_labels = get_text(val)\n",
    "val_seq = get_sequences(tokenizer, val_text)\n",
    "val_labels = names_to_ids(val_labels)"
   ]
  },
  {
   "cell_type": "code",
   "execution_count": 25,
   "id": "e6e1a7e9",
   "metadata": {},
   "outputs": [
    {
     "data": {
      "text/plain": [
       "('The news of the natural calamity, an earthquake in which hundreds of Mexican people died.',\n",
       " 3)"
      ]
     },
     "execution_count": 25,
     "metadata": {},
     "output_type": "execute_result"
    }
   ],
   "source": [
    "val_text[0], val_labels[0]"
   ]
  },
  {
   "cell_type": "code",
   "execution_count": 26,
   "id": "ab409216",
   "metadata": {},
   "outputs": [
    {
     "name": "stdout",
     "output_type": "stream",
     "text": [
      "Epoch 1/20\n",
      "609/609 [==============================] - 18s 17ms/step - loss: 0.9512 - accuracy: 0.6487 - val_loss: 0.4691 - val_accuracy: 0.8561\n"
     ]
    },
    {
     "name": "stderr",
     "output_type": "stream",
     "text": [
      "WARNING:absl:Found untraced functions such as gru_cell_1_layer_call_fn, gru_cell_1_layer_call_and_return_conditional_losses, gru_cell_2_layer_call_fn, gru_cell_2_layer_call_and_return_conditional_losses, gru_cell_4_layer_call_fn while saving (showing 5 of 20). These functions will not be directly callable after loading.\n"
     ]
    },
    {
     "name": "stdout",
     "output_type": "stream",
     "text": [
      "INFO:tensorflow:Assets written to: C:/Users/valsa/OneDrive - The University of the West Indies, St. Augustine/Final Year/ECNG 3020/Iris/Python Scripts/Alternative Model\\Best Model\\assets\n"
     ]
    },
    {
     "name": "stderr",
     "output_type": "stream",
     "text": [
      "INFO:tensorflow:Assets written to: C:/Users/valsa/OneDrive - The University of the West Indies, St. Augustine/Final Year/ECNG 3020/Iris/Python Scripts/Alternative Model\\Best Model\\assets\n"
     ]
    },
    {
     "name": "stdout",
     "output_type": "stream",
     "text": [
      "Epoch 2/20\n",
      "609/609 [==============================] - 9s 15ms/step - loss: 0.4143 - accuracy: 0.8889 - val_loss: 0.4031 - val_accuracy: 0.8857\n"
     ]
    },
    {
     "name": "stderr",
     "output_type": "stream",
     "text": [
      "WARNING:absl:Found untraced functions such as gru_cell_1_layer_call_fn, gru_cell_1_layer_call_and_return_conditional_losses, gru_cell_2_layer_call_fn, gru_cell_2_layer_call_and_return_conditional_losses, gru_cell_4_layer_call_fn while saving (showing 5 of 20). These functions will not be directly callable after loading.\n"
     ]
    },
    {
     "name": "stdout",
     "output_type": "stream",
     "text": [
      "INFO:tensorflow:Assets written to: C:/Users/valsa/OneDrive - The University of the West Indies, St. Augustine/Final Year/ECNG 3020/Iris/Python Scripts/Alternative Model\\Best Model\\assets\n"
     ]
    },
    {
     "name": "stderr",
     "output_type": "stream",
     "text": [
      "INFO:tensorflow:Assets written to: C:/Users/valsa/OneDrive - The University of the West Indies, St. Augustine/Final Year/ECNG 3020/Iris/Python Scripts/Alternative Model\\Best Model\\assets\n"
     ]
    },
    {
     "name": "stdout",
     "output_type": "stream",
     "text": [
      "Epoch 3/20\n",
      "609/609 [==============================] - 10s 16ms/step - loss: 0.3279 - accuracy: 0.9183 - val_loss: 0.3852 - val_accuracy: 0.8882\n"
     ]
    },
    {
     "name": "stderr",
     "output_type": "stream",
     "text": [
      "WARNING:absl:Found untraced functions such as gru_cell_1_layer_call_fn, gru_cell_1_layer_call_and_return_conditional_losses, gru_cell_2_layer_call_fn, gru_cell_2_layer_call_and_return_conditional_losses, gru_cell_4_layer_call_fn while saving (showing 5 of 20). These functions will not be directly callable after loading.\n"
     ]
    },
    {
     "name": "stdout",
     "output_type": "stream",
     "text": [
      "INFO:tensorflow:Assets written to: C:/Users/valsa/OneDrive - The University of the West Indies, St. Augustine/Final Year/ECNG 3020/Iris/Python Scripts/Alternative Model\\Best Model\\assets\n"
     ]
    },
    {
     "name": "stderr",
     "output_type": "stream",
     "text": [
      "INFO:tensorflow:Assets written to: C:/Users/valsa/OneDrive - The University of the West Indies, St. Augustine/Final Year/ECNG 3020/Iris/Python Scripts/Alternative Model\\Best Model\\assets\n"
     ]
    },
    {
     "name": "stdout",
     "output_type": "stream",
     "text": [
      "Epoch 4/20\n",
      "609/609 [==============================] - 9s 15ms/step - loss: 0.2794 - accuracy: 0.9361 - val_loss: 0.4369 - val_accuracy: 0.8845\n",
      "Epoch 5/20\n",
      "609/609 [==============================] - 9s 15ms/step - loss: 0.2663 - accuracy: 0.9409 - val_loss: 0.4182 - val_accuracy: 0.8927\n",
      "Epoch 6/20\n",
      "609/609 [==============================] - 9s 15ms/step - loss: 0.2452 - accuracy: 0.9502 - val_loss: 0.4182 - val_accuracy: 0.8886\n",
      "Epoch 7/20\n",
      "609/609 [==============================] - 9s 15ms/step - loss: 0.2298 - accuracy: 0.9580 - val_loss: 0.4376 - val_accuracy: 0.8919\n"
     ]
    }
   ],
   "source": [
    "from datetime import datetime\n",
    "\n",
    "h = model.fit(\n",
    "    padded_train_seq, train_labels,\n",
    "    validation_data=(val_seq, val_labels),\n",
    "    epochs=20,\n",
    "    callbacks=[\n",
    "               tf.keras.callbacks.EarlyStopping(monitor='val_accuracy', patience=2),\n",
    "        tf.keras.callbacks.ModelCheckpoint(filepath = \"C:/Users/valsa/OneDrive - The University of the West Indies, St. Augustine/Final Year/ECNG 3020/Iris/Python Scripts/Alternative Model/Best Model\".format(datetime.now().strftime(\"%d%m%Y_%H_%M_%S\")),save_best_only=True)\n",
    "    ]\n",
    ")"
   ]
  },
  {
   "cell_type": "code",
   "execution_count": 27,
   "id": "de395e9f",
   "metadata": {},
   "outputs": [
    {
     "data": {
      "image/png": "[encoded data removed]",
      "text/plain": [
       "<Figure size 1152x432 with 2 Axes>"
      ]
     },
     "metadata": {
      "needs_background": "light"
     },
     "output_type": "display_data"
    }
   ],
   "source": [
    "show_history(h)"
   ]
  },
  {
   "cell_type": "code",
   "execution_count": 28,
   "id": "489a6064",
   "metadata": {},
   "outputs": [],
   "source": [
    "test_text, test_labels = get_text(test)\n",
    "test_seq = get_sequences(tokenizer, test_text)\n",
    "test_labels = names_to_ids(test_labels)"
   ]
  },
  {
   "cell_type": "code",
   "execution_count": 29,
   "id": "dacd9097",
   "metadata": {},
   "outputs": [
    {
     "name": "stdout",
     "output_type": "stream",
     "text": [
      "77/77 [==============================] - 0s 6ms/step - loss: 0.4748 - accuracy: 0.8709\n"
     ]
    }
   ],
   "source": [
    "_=model.evaluate(test_seq, test_labels)"
   ]
  },
  {
   "cell_type": "code",
   "execution_count": 30,
   "id": "be5c1a79",
   "metadata": {},
   "outputs": [
    {
     "name": "stdout",
     "output_type": "stream",
     "text": [
      "Sentence: i am feeling very strange but this is also present movement and i am trying this as one of way\n",
      "Emotion: fear\n",
      "Predicted Emotion: fear\n"
     ]
    }
   ],
   "source": [
    "i = random.randint(0, len(test_labels) - 1)\n",
    "\n",
    "print('Sentence:', test_text[i])\n",
    "print('Emotion:', index_to_class[test_labels[i]])\n",
    "\n",
    "p = model.predict(np.expand_dims(test_seq[i], axis=0))[0]\n",
    "pred_class = index_to_class[np.argmax(p).astype('uint8')]\n",
    "\n",
    "print('Predicted Emotion:', pred_class)"
   ]
  },
  {
   "cell_type": "code",
   "execution_count": 31,
   "id": "3f45be1e",
   "metadata": {},
   "outputs": [],
   "source": [
    "preds = np.argmax(model.predict(test_seq), axis=-1)"
   ]
  },
  {
   "cell_type": "code",
   "execution_count": 32,
   "id": "697a2473",
   "metadata": {},
   "outputs": [
    {
     "data": {
      "image/png": "[encoded data removed]",
      "text/plain": [
       "<Figure size 576x576 with 2 Axes>"
      ]
     },
     "metadata": {
      "needs_background": "light"
     },
     "output_type": "display_data"
    }
   ],
   "source": [
    "show_confusion_matrix(test_labels, preds, list(classes))"
   ]
  },
  {
   "cell_type": "code",
   "execution_count": 33,
   "id": "4c1bec55",
   "metadata": {},
   "outputs": [
    {
     "name": "stdout",
     "output_type": "stream",
     "text": [
      "              precision    recall  f1-score   support\n",
      "\n",
      "           0       0.90      0.90      0.90       808\n",
      "           1       0.81      0.86      0.83       326\n",
      "           2       0.82      0.83      0.82       380\n",
      "           3       0.93      0.88      0.90       694\n",
      "           4       0.80      0.90      0.85       159\n",
      "           5       0.78      0.65      0.71        66\n",
      "\n",
      "    accuracy                           0.87      2433\n",
      "   macro avg       0.84      0.84      0.84      2433\n",
      "weighted avg       0.87      0.87      0.87      2433\n",
      "\n"
     ]
    }
   ],
   "source": [
    "print(classification_report(test_labels, preds))"
   ]
  },
  {
   "cell_type": "code",
   "execution_count": 34,
   "id": "39d3cb03",
   "metadata": {},
   "outputs": [
    {
     "name": "stderr",
     "output_type": "stream",
     "text": [
      "WARNING:absl:Found untraced functions such as gru_cell_1_layer_call_fn, gru_cell_1_layer_call_and_return_conditional_losses, gru_cell_2_layer_call_fn, gru_cell_2_layer_call_and_return_conditional_losses, gru_cell_4_layer_call_fn while saving (showing 5 of 20). These functions will not be directly callable after loading.\n"
     ]
    },
    {
     "name": "stdout",
     "output_type": "stream",
     "text": [
      "INFO:tensorflow:Assets written to: C:/Users/valsa/OneDrive - The University of the West Indies, St. Augustine/Final Year/ECNG 3020/Python Scripts/Alternative Model/SA_Model_Alt_14022022_22_35_48\\assets\n"
     ]
    },
    {
     "name": "stderr",
     "output_type": "stream",
     "text": [
      "INFO:tensorflow:Assets written to: C:/Users/valsa/OneDrive - The University of the West Indies, St. Augustine/Final Year/ECNG 3020/Python Scripts/Alternative Model/SA_Model_Alt_14022022_22_35_48\\assets\n"
     ]
    }
   ],
   "source": [
    "from datetime import datetime\n",
    "model.save(\"C:/Users/valsa/OneDrive - The University of the West Indies, St. Augustine/Final Year/ECNG 3020/Python Scripts/Alternative Model/SA_Model_Alt_{}\".format(datetime.now().strftime(\"%d%m%Y_%H_%M_%S\")))"
   ]
  },
  {
   "cell_type": "code",
   "execution_count": null,
   "id": "79eb37f6",
   "metadata": {},
   "outputs": [],
   "source": []
  }
 ],
 "metadata": {
  "kernelspec": {
   "display_name": "Python 3 (ipykernel)",
   "language": "python",
   "name": "python3"
  },
  "language_info": {
   "codemirror_mode": {
    "name": "ipython",
    "version": 3
   },
   "file_extension": ".py",
   "mimetype": "text/x-python",
   "name": "python",
   "nbconvert_exporter": "python",
   "pygments_lexer": "ipython3",
   "version": "3.8.8"
  }
 },
 "nbformat": 4,
 "nbformat_minor": 5
}
