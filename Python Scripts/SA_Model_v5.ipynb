{
 "cells": [
  {
   "cell_type": "code",
   "execution_count": 1,
   "id": "9f6f8310",
   "metadata": {},
   "outputs": [
    {
     "name": "stdout",
     "output_type": "stream",
     "text": [
      "Using TensorFlow version 2.6.0\n"
     ]
    }
   ],
   "source": [
    "%matplotlib inline\n",
    "\n",
    "import tensorflow as tf\n",
    "import numpy as np\n",
    "import pandas as pd\n",
    "import matplotlib.pyplot as plt\n",
    "import nltk\n",
    "import random\n",
    "\n",
    "\n",
    "def show_history(h):\n",
    "    epochs_trained = len(h.history['loss'])\n",
    "    plt.figure(figsize=(16, 6))\n",
    "\n",
    "    plt.subplot(1, 2, 1)\n",
    "    plt.plot(range(0, epochs_trained), h.history.get('accuracy'), label='Training')\n",
    "    plt.plot(range(0, epochs_trained), h.history.get('val_accuracy'), label='Validation')\n",
    "    plt.ylim([0., 1.])\n",
    "    plt.xlabel('Epochs')\n",
    "    plt.ylabel('Accuracy')\n",
    "    plt.legend()\n",
    "\n",
    "    plt.subplot(1, 2, 2)\n",
    "    plt.plot(range(0, epochs_trained), h.history.get('loss'), label='Training')\n",
    "    plt.plot(range(0, epochs_trained), h.history.get('val_loss'), label='Validation')\n",
    "    plt.xlabel('Epochs')\n",
    "    plt.ylabel('Loss')\n",
    "    plt.legend()\n",
    "    plt.show()\n",
    "\n",
    "    \n",
    "def show_confusion_matrix(y_true, y_pred, classes):\n",
    "    from sklearn.metrics import confusion_matrix\n",
    "    \n",
    "    cm = confusion_matrix(y_true, y_pred, normalize='true')\n",
    "\n",
    "    plt.figure(figsize=(8, 8))\n",
    "    sp = plt.subplot(1, 1, 1)\n",
    "    ctx = sp.matshow(cm)\n",
    "    plt.xticks(list(range(0, 4)), labels=classes)\n",
    "    plt.yticks(list(range(0, 4)), labels=classes)\n",
    "    plt.colorbar(ctx)\n",
    "    plt.show()\n",
    "\n",
    "    \n",
    "print('Using TensorFlow version', tf.__version__)"
   ]
  },
  {
   "cell_type": "code",
   "execution_count": 2,
   "id": "e8a44263",
   "metadata": {},
   "outputs": [
    {
     "data": {
      "text/html": [
       "<div>\n",
       "<style scoped>\n",
       "    .dataframe tbody tr th:only-of-type {\n",
       "        vertical-align: middle;\n",
       "    }\n",
       "\n",
       "    .dataframe tbody tr th {\n",
       "        vertical-align: top;\n",
       "    }\n",
       "\n",
       "    .dataframe thead th {\n",
       "        text-align: right;\n",
       "    }\n",
       "</style>\n",
       "<table border=\"1\" class=\"dataframe\">\n",
       "  <thead>\n",
       "    <tr style=\"text-align: right;\">\n",
       "      <th></th>\n",
       "      <th>text</th>\n",
       "    </tr>\n",
       "    <tr>\n",
       "      <th>label</th>\n",
       "      <th></th>\n",
       "    </tr>\n",
       "  </thead>\n",
       "  <tbody>\n",
       "    <tr>\n",
       "      <th>anger</th>\n",
       "      <td>1079</td>\n",
       "    </tr>\n",
       "    <tr>\n",
       "      <th>fear</th>\n",
       "      <td>1076</td>\n",
       "    </tr>\n",
       "    <tr>\n",
       "      <th>joy</th>\n",
       "      <td>1092</td>\n",
       "    </tr>\n",
       "    <tr>\n",
       "      <th>sadness</th>\n",
       "      <td>1082</td>\n",
       "    </tr>\n",
       "  </tbody>\n",
       "</table>\n",
       "</div>"
      ],
      "text/plain": [
       "         text\n",
       "label        \n",
       "anger    1079\n",
       "fear     1076\n",
       "joy      1092\n",
       "sadness  1082"
      ]
     },
     "execution_count": 2,
     "metadata": {},
     "output_type": "execute_result"
    }
   ],
   "source": [
    "ISEAR_dataset = pd.read_csv('G:\\My Drive\\AnjanaValsalan_ECNG 3020\\Implementation Files\\Datasets\\ISEAR csv\\ISEAR.csv')\n",
    "ISEAR_dataset.dropna(axis=1, how=\"any\", thresh=None, subset=None, inplace=True)\n",
    "ISEAR_dataset = ISEAR_dataset[ISEAR_dataset.emotion != 'disgust']\n",
    "ISEAR_dataset = ISEAR_dataset[ISEAR_dataset.emotion != 'shame']\n",
    "ISEAR_dataset = ISEAR_dataset[ISEAR_dataset.emotion != 'guilt']\n",
    "ISEAR_dataset = ISEAR_dataset[[\"sentence\", \"emotion\"]]\n",
    "ISEAR_dataset = ISEAR_dataset.rename(columns={'sentence':'text','emotion':'label'})\n",
    "ISEAR_dataset.groupby(['label']).count()"
   ]
  },
  {
   "cell_type": "code",
   "execution_count": 87,
   "id": "d6d384d9",
   "metadata": {},
   "outputs": [],
   "source": [
    "for index, row in ISEAR_dataset.iterrows():\n",
    "    row[\"text\"] = row[\"text\"].strip().replace(\"   \",\" \").replace(\"  \",\" \")"
   ]
  },
  {
   "cell_type": "code",
   "execution_count": 88,
   "id": "078696dd",
   "metadata": {},
   "outputs": [],
   "source": [
    "ISEAR_train = ISEAR_dataset[0: int(0.8*len(ISEAR_dataset))]\n",
    "ISEAR_val = ISEAR_dataset[int(0.8*len(ISEAR_dataset)):int(0.9*len(ISEAR_dataset))]\n",
    "ISEAR_test = ISEAR_dataset[int(0.9*len(ISEAR_dataset)):]"
   ]
  },
  {
   "cell_type": "code",
   "execution_count": 89,
   "id": "8584a7cd",
   "metadata": {},
   "outputs": [
    {
     "name": "stdout",
     "output_type": "stream",
     "text": [
      "                                                   text    label\n",
      "0     On days when I feel close to my partner and ot...      joy\n",
      "1     Every time I imagine that someone I love or I ...     fear\n",
      "2     When I had been obviously unjustly treated and...    anger\n",
      "3     When I think about the short time that we live...  sadness\n",
      "7     After my girlfriend had taken her exam we went...      joy\n",
      "...                                                 ...      ...\n",
      "6001  I felt angry when repeated pleas to the ticket...    anger\n",
      "6002  I am filled with gloom and sadness at the deat...  sadness\n",
      "6006  When India first won the world cup cricket tou...      joy\n",
      "6007  I was then in the 10th standard and was going ...     fear\n",
      "6008  I was travelling from Delhi to Bombay. I had b...    anger\n",
      "\n",
      "[3463 rows x 2 columns]\n"
     ]
    }
   ],
   "source": [
    "print(ISEAR_train)"
   ]
  },
  {
   "cell_type": "code",
   "execution_count": 90,
   "id": "2158b4e3",
   "metadata": {},
   "outputs": [
    {
     "name": "stderr",
     "output_type": "stream",
     "text": [
      "Using custom data configuration default\n",
      "Reusing dataset emotion (C:\\Users\\valsa\\.cache\\huggingface\\datasets\\emotion\\default\\0.0.0\\348f63ca8e27b3713b6c04d723efe6d824a56fb3d1449794716c0f0296072705)\n"
     ]
    },
    {
     "data": {
      "application/vnd.jupyter.widget-view+json": {
       "model_id": "23ed66a1f4c243bb8ffbe716517631d4",
       "version_major": 2,
       "version_minor": 0
      },
      "text/plain": [
       "  0%|          | 0/3 [00:00<?, ?it/s]"
      ]
     },
     "metadata": {},
     "output_type": "display_data"
    }
   ],
   "source": [
    "from datasets import load_dataset\n",
    "dataset = load_dataset(\"emotion\")"
   ]
  },
  {
   "cell_type": "code",
   "execution_count": 91,
   "id": "4eb4c838",
   "metadata": {},
   "outputs": [],
   "source": [
    "dataset.set_format(type=\"pandas\")\n",
    "train = dataset[\"train\"][:]\n",
    "test = dataset[\"test\"][:]\n",
    "val = dataset[\"validation\"][:]"
   ]
  },
  {
   "cell_type": "code",
   "execution_count": 92,
   "id": "6d2a31f1",
   "metadata": {},
   "outputs": [],
   "source": [
    "train = train[train.label != 2]\n",
    "train = train[train.label != 5]\n",
    "frames = [ISEAR_train, train]\n",
    "train = pd.concat(frames)\n",
    "train = train.reset_index(drop=True)\n",
    "\n",
    "test = test[test.label != 2]\n",
    "test = test[test.label != 5]\n",
    "frames = [ISEAR_test, test]\n",
    "test = pd.concat(frames)\n",
    "test = test.reset_index(drop=True)\n",
    "\n",
    "val = val[val.label != 2]\n",
    "val = val[val.label != 5]\n",
    "frames = [ISEAR_val, val]\n",
    "val = pd.concat(frames)\n",
    "val = val.reset_index(drop=True)"
   ]
  },
  {
   "cell_type": "code",
   "execution_count": 93,
   "id": "5779f865",
   "metadata": {},
   "outputs": [],
   "source": [
    "def get_tweet(data):\n",
    "    tweets = data['text']\n",
    "    labels = data['label']\n",
    "    labels = labels.replace([0,1,3,4],['sadness','joy','anger','fear'])\n",
    "    return tweets, labels"
   ]
  },
  {
   "cell_type": "code",
   "execution_count": 94,
   "id": "510d4a46",
   "metadata": {},
   "outputs": [],
   "source": [
    "tweets, labels = get_tweet(train)"
   ]
  },
  {
   "cell_type": "code",
   "execution_count": 95,
   "id": "3ac81801",
   "metadata": {},
   "outputs": [
    {
     "name": "stdout",
     "output_type": "stream",
     "text": [
      "                                                    text    label\n",
      "0      On days when I feel close to my partner and ot...      joy\n",
      "1      Every time I imagine that someone I love or I ...     fear\n",
      "2      When I had been obviously unjustly treated and...    anger\n",
      "3      When I think about the short time that we live...  sadness\n",
      "4      After my girlfriend had taken her exam we went...      joy\n",
      "...                                                  ...      ...\n",
      "17582  i just had a very brief time in the beanbag an...        0\n",
      "17583  i am now turning and i feel pathetic that i am...        0\n",
      "17584                     i feel strong and good overall        1\n",
      "17585  i feel like this was such a rude comment and i...        3\n",
      "17586  i know a lot but i feel so stupid because i ca...        0\n",
      "\n",
      "[17587 rows x 2 columns]\n"
     ]
    }
   ],
   "source": [
    "print(train)"
   ]
  },
  {
   "cell_type": "code",
   "execution_count": 96,
   "id": "79f87832",
   "metadata": {},
   "outputs": [],
   "source": [
    "from tensorflow.keras.preprocessing.text import Tokenizer"
   ]
  },
  {
   "cell_type": "code",
   "execution_count": 97,
   "id": "0df6fd3c",
   "metadata": {},
   "outputs": [],
   "source": [
    "tokenizer = Tokenizer(num_words=10000, oov_token='<UNK>')\n",
    "tokenizer.fit_on_texts(tweets)"
   ]
  },
  {
   "cell_type": "code",
   "execution_count": 98,
   "id": "53051c6c",
   "metadata": {},
   "outputs": [
    {
     "data": {
      "text/plain": [
       "[[173, 46, 2, 969, 10, 136, 2, 103, 38, 2, 82, 1149, 7, 1203, 1046, 80, 328]]"
      ]
     },
     "execution_count": 98,
     "metadata": {},
     "output_type": "execute_result"
    }
   ],
   "source": [
    "tokenizer.texts_to_sequences([tweets[1]])"
   ]
  },
  {
   "cell_type": "code",
   "execution_count": 99,
   "id": "ea76037a",
   "metadata": {},
   "outputs": [
    {
     "data": {
      "text/plain": [
       "'Every time I imagine that someone I love or I could contact a serious illness, even death.'"
      ]
     },
     "execution_count": 99,
     "metadata": {},
     "output_type": "execute_result"
    }
   ],
   "source": [
    "tweets[1]"
   ]
  },
  {
   "cell_type": "code",
   "execution_count": 100,
   "id": "a35eece0",
   "metadata": {},
   "outputs": [
    {
     "data": {
      "text/plain": [
       "<function matplotlib.pyplot.show(close=None, block=None)>"
      ]
     },
     "execution_count": 100,
     "metadata": {},
     "output_type": "execute_result"
    },
    {
     "data": {
      "image/png": "[encoded data removed]",
      "text/plain": [
       "<Figure size 432x288 with 1 Axes>"
      ]
     },
     "metadata": {
      "needs_background": "light"
     },
     "output_type": "display_data"
    }
   ],
   "source": [
    "lengths = [len(t.split(' ')) for t in tweets]\n",
    "plt.hist(lengths, bins = len(set(lengths)))\n",
    "plt.show"
   ]
  },
  {
   "cell_type": "code",
   "execution_count": 101,
   "id": "addd4297",
   "metadata": {},
   "outputs": [],
   "source": [
    "maxlen = 50\n",
    "from tensorflow.keras.preprocessing.sequence import pad_sequences"
   ]
  },
  {
   "cell_type": "code",
   "execution_count": 102,
   "id": "2a37d030",
   "metadata": {},
   "outputs": [],
   "source": [
    "def get_sequences(tokenizer, tweets):\n",
    "  sequences = tokenizer.texts_to_sequences(tweets)\n",
    "  padded = pad_sequences(sequences, truncating='post' , padding='post', maxlen = maxlen)\n",
    "  return padded"
   ]
  },
  {
   "cell_type": "code",
   "execution_count": 103,
   "id": "687ac355",
   "metadata": {},
   "outputs": [],
   "source": [
    "padded_train_seq = get_sequences(tokenizer, tweets)"
   ]
  },
  {
   "cell_type": "code",
   "execution_count": 104,
   "id": "8640f02e",
   "metadata": {},
   "outputs": [
    {
     "data": {
      "text/plain": [
       "array([[ 29, 155,  16, ...,   0,   0,   0],\n",
       "       [173,  46,   2, ...,   0,   0,   0],\n",
       "       [ 16,   2,  30, ...,   0,   0,   0],\n",
       "       ...,\n",
       "       [  2,   5, 359, ...,   0,   0,   0],\n",
       "       [  2,   5,  18, ...,   0,   0,   0],\n",
       "       [  2,  52,   7, ...,   0,   0,   0]])"
      ]
     },
     "execution_count": 104,
     "metadata": {},
     "output_type": "execute_result"
    }
   ],
   "source": [
    "padded_train_seq"
   ]
  },
  {
   "cell_type": "code",
   "execution_count": 105,
   "id": "afef3ad0",
   "metadata": {},
   "outputs": [
    {
     "name": "stdout",
     "output_type": "stream",
     "text": [
      "{'anger', 'fear', 'joy', 'sadness'}\n"
     ]
    }
   ],
   "source": [
    "classes = set(labels)\n",
    "print(classes)"
   ]
  },
  {
   "cell_type": "code",
   "execution_count": 106,
   "id": "81e6bdfb",
   "metadata": {},
   "outputs": [
    {
     "data": {
      "image/png": "[encoded data removed]",
      "text/plain": [
       "<Figure size 432x288 with 1 Axes>"
      ]
     },
     "metadata": {
      "needs_background": "light"
     },
     "output_type": "display_data"
    }
   ],
   "source": [
    "plt.hist(labels, bins=11)\n",
    "plt.show()"
   ]
  },
  {
   "cell_type": "code",
   "execution_count": 107,
   "id": "ed68e501",
   "metadata": {},
   "outputs": [],
   "source": [
    "class_to_index = dict((c,i) for i, c in enumerate(classes))\n",
    "index_to_class = dict((v, k) for k, v in class_to_index.items())"
   ]
  },
  {
   "cell_type": "code",
   "execution_count": 108,
   "id": "c333e971",
   "metadata": {},
   "outputs": [
    {
     "data": {
      "text/plain": [
       "{'anger': 0, 'fear': 1, 'joy': 2, 'sadness': 3}"
      ]
     },
     "execution_count": 108,
     "metadata": {},
     "output_type": "execute_result"
    }
   ],
   "source": [
    "class_to_index"
   ]
  },
  {
   "cell_type": "code",
   "execution_count": 109,
   "id": "4c71dd58",
   "metadata": {},
   "outputs": [
    {
     "data": {
      "text/plain": [
       "{0: 'anger', 1: 'fear', 2: 'joy', 3: 'sadness'}"
      ]
     },
     "execution_count": 109,
     "metadata": {},
     "output_type": "execute_result"
    }
   ],
   "source": [
    "index_to_class"
   ]
  },
  {
   "cell_type": "code",
   "execution_count": 110,
   "id": "43a08207",
   "metadata": {},
   "outputs": [],
   "source": [
    "names_to_ids = lambda labels: np.array([class_to_index.get(x) for x in labels])"
   ]
  },
  {
   "cell_type": "code",
   "execution_count": 111,
   "id": "fe8afd18",
   "metadata": {},
   "outputs": [
    {
     "name": "stdout",
     "output_type": "stream",
     "text": [
      "2\n"
     ]
    }
   ],
   "source": [
    "train_labels = names_to_ids(labels)\n",
    "print(train_labels[0])"
   ]
  },
  {
   "cell_type": "code",
   "execution_count": 112,
   "id": "82dc21b6",
   "metadata": {},
   "outputs": [],
   "source": [
    "model = tf.keras.models.Sequential([\n",
    "        tf.keras.layers.Embedding(10000, 16, input_length=maxlen),\n",
    "        tf.keras.layers.Bidirectional(tf.keras.layers.LSTM(20, return_sequences=True)),\n",
    "        tf.keras.layers.Bidirectional(tf.keras.layers.LSTM(20)),\n",
    "        tf.keras.layers.Dense(6, activation='softmax')\n",
    "])\n",
    "\n",
    "model.compile(\n",
    "    loss='sparse_categorical_crossentropy',\n",
    "    optimizer='adam',\n",
    "    metrics=['accuracy']\n",
    ")"
   ]
  },
  {
   "cell_type": "code",
   "execution_count": 113,
   "id": "55055da2",
   "metadata": {},
   "outputs": [
    {
     "name": "stdout",
     "output_type": "stream",
     "text": [
      "Model: \"sequential_2\"\n",
      "_________________________________________________________________\n",
      "Layer (type)                 Output Shape              Param #   \n",
      "=================================================================\n",
      "embedding_2 (Embedding)      (None, 50, 16)            160000    \n",
      "_________________________________________________________________\n",
      "bidirectional_4 (Bidirection (None, 50, 40)            5920      \n",
      "_________________________________________________________________\n",
      "bidirectional_5 (Bidirection (None, 40)                9760      \n",
      "_________________________________________________________________\n",
      "dense_2 (Dense)              (None, 6)                 246       \n",
      "=================================================================\n",
      "Total params: 175,926\n",
      "Trainable params: 175,926\n",
      "Non-trainable params: 0\n",
      "_________________________________________________________________\n"
     ]
    }
   ],
   "source": [
    "model.summary()"
   ]
  },
  {
   "cell_type": "code",
   "execution_count": 114,
   "id": "2c2ecfd9",
   "metadata": {},
   "outputs": [],
   "source": [
    "val_tweets, val_labels = get_tweet(val)\n",
    "val_seq = get_sequences(tokenizer, val_tweets)\n",
    "val_labels = names_to_ids(val_labels)"
   ]
  },
  {
   "cell_type": "code",
   "execution_count": 115,
   "id": "e6e1a7e9",
   "metadata": {},
   "outputs": [
    {
     "data": {
      "text/plain": [
       "('The news of the natural calamity, an earthquake in which hundreds of Mexican people died.',\n",
       " 3)"
      ]
     },
     "execution_count": 115,
     "metadata": {},
     "output_type": "execute_result"
    }
   ],
   "source": [
    "val_tweets[0], val_labels[0]"
   ]
  },
  {
   "cell_type": "code",
   "execution_count": 116,
   "id": "ab409216",
   "metadata": {},
   "outputs": [
    {
     "name": "stdout",
     "output_type": "stream",
     "text": [
      "Epoch 1/20\n",
      "550/550 [==============================] - 15s 16ms/step - loss: 1.1581 - accuracy: 0.4721 - val_loss: 0.6746 - val_accuracy: 0.7042\n",
      "Epoch 2/20\n",
      "550/550 [==============================] - 7s 13ms/step - loss: 0.5030 - accuracy: 0.7895 - val_loss: 0.5356 - val_accuracy: 0.7948\n",
      "Epoch 3/20\n",
      "550/550 [==============================] - 7s 13ms/step - loss: 0.3070 - accuracy: 0.8936 - val_loss: 0.4357 - val_accuracy: 0.8615\n",
      "Epoch 4/20\n",
      "550/550 [==============================] - 7s 13ms/step - loss: 0.2028 - accuracy: 0.9356 - val_loss: 0.4454 - val_accuracy: 0.8666\n",
      "Epoch 5/20\n",
      "550/550 [==============================] - 7s 13ms/step - loss: 0.1559 - accuracy: 0.9531 - val_loss: 0.4252 - val_accuracy: 0.8717\n",
      "Epoch 6/20\n",
      "550/550 [==============================] - 7s 13ms/step - loss: 0.1223 - accuracy: 0.9641 - val_loss: 0.4323 - val_accuracy: 0.8804\n",
      "Epoch 7/20\n",
      "550/550 [==============================] - 7s 13ms/step - loss: 0.0932 - accuracy: 0.9734 - val_loss: 0.4786 - val_accuracy: 0.8763\n",
      "Epoch 8/20\n",
      "550/550 [==============================] - 7s 13ms/step - loss: 0.0830 - accuracy: 0.9774 - val_loss: 0.4517 - val_accuracy: 0.8790\n"
     ]
    }
   ],
   "source": [
    "h = model.fit(\n",
    "    padded_train_seq, train_labels,\n",
    "    validation_data=(val_seq, val_labels),\n",
    "    epochs=20,\n",
    "    callbacks=[\n",
    "               tf.keras.callbacks.EarlyStopping(monitor='val_accuracy', patience=2)\n",
    "    ]\n",
    ")"
   ]
  },
  {
   "cell_type": "code",
   "execution_count": 117,
   "id": "de395e9f",
   "metadata": {},
   "outputs": [
    {
     "data": {
      "image/png": "[encoded data removed]",
      "text/plain": [
       "<Figure size 1152x432 with 2 Axes>"
      ]
     },
     "metadata": {
      "needs_background": "light"
     },
     "output_type": "display_data"
    }
   ],
   "source": [
    "show_history(h)"
   ]
  },
  {
   "cell_type": "code",
   "execution_count": 118,
   "id": "489a6064",
   "metadata": {},
   "outputs": [],
   "source": [
    "test_tweets, test_labels = get_tweet(test)\n",
    "test_seq = get_sequences(tokenizer, test_tweets)\n",
    "test_labels = names_to_ids(test_labels)"
   ]
  },
  {
   "cell_type": "code",
   "execution_count": 119,
   "id": "dacd9097",
   "metadata": {},
   "outputs": [
    {
     "name": "stdout",
     "output_type": "stream",
     "text": [
      "69/69 [==============================] - 2s 11ms/step - loss: 0.5185 - accuracy: 0.8673\n"
     ]
    }
   ],
   "source": [
    "_=model.evaluate(test_seq, test_labels)"
   ]
  },
  {
   "cell_type": "code",
   "execution_count": 120,
   "id": "be5c1a79",
   "metadata": {},
   "outputs": [
    {
     "name": "stdout",
     "output_type": "stream",
     "text": [
      "Sentence: i feel like uninstalling skype deactivateing all of my facebook amp hatena accounts since im becoming a hateful person amp i dont want to get any worse than i am right now\n",
      "Emotion: anger\n",
      "Predicted Emotion: anger\n"
     ]
    }
   ],
   "source": [
    "i = random.randint(0, len(test_labels) - 1)\n",
    "\n",
    "print('Sentence:', test_tweets[i])\n",
    "print('Emotion:', index_to_class[test_labels[i]])\n",
    "\n",
    "p = model.predict(np.expand_dims(test_seq[i], axis=0))[0]\n",
    "pred_class = index_to_class[np.argmax(p).astype('uint8')]\n",
    "\n",
    "print('Predicted Emotion:', pred_class)"
   ]
  },
  {
   "cell_type": "code",
   "execution_count": 121,
   "id": "3f45be1e",
   "metadata": {},
   "outputs": [],
   "source": [
    "preds = np.argmax(model.predict(test_seq), axis=-1)"
   ]
  },
  {
   "cell_type": "code",
   "execution_count": 122,
   "id": "697a2473",
   "metadata": {},
   "outputs": [
    {
     "data": {
      "image/png": "[encoded data removed]",
      "text/plain": [
       "<Figure size 576x576 with 2 Axes>"
      ]
     },
     "metadata": {
      "needs_background": "light"
     },
     "output_type": "display_data"
    }
   ],
   "source": [
    "show_confusion_matrix(test_labels, preds, list(classes))"
   ]
  },
  {
   "cell_type": "code",
   "execution_count": null,
   "id": "39d3cb03",
   "metadata": {},
   "outputs": [],
   "source": []
  }
 ],
 "metadata": {
  "kernelspec": {
   "display_name": "Python [conda env:ECNG3020] *",
   "language": "python",
   "name": "conda-env-ECNG3020-py"
  },
  "language_info": {
   "codemirror_mode": {
    "name": "ipython",
    "version": 3
   },
   "file_extension": ".py",
   "mimetype": "text/x-python",
   "name": "python",
   "nbconvert_exporter": "python",
   "pygments_lexer": "ipython3",
   "version": "3.8.8"
  }
 },
 "nbformat": 4,
 "nbformat_minor": 5
}
