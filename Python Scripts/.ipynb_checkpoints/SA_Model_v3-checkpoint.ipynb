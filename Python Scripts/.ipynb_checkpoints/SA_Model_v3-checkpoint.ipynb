{
 "cells": [
  {
   "cell_type": "code",
   "execution_count": 1,
   "id": "df2aa2e0",
   "metadata": {},
   "outputs": [
    {
     "name": "stdout",
     "output_type": "stream",
     "text": [
      "Using TensorFlow version 2.7.0\n"
     ]
    }
   ],
   "source": [
    "import tensorflow as tf\n",
    "import nltk\n",
    "import matplotlib.pyplot as plt\n",
    "import numpy as np\n",
    "import pandas as pd\n",
    "import random\n",
    "from sklearn.model_selection import train_test_split \n",
    "from tensorflow.keras.preprocessing.text import Tokenizer \n",
    "\n",
    "def show_history(h):\n",
    "    epochs_trained = len(h.history['loss'])\n",
    "    plt.figure(figsize=(16, 6))\n",
    "\n",
    "    plt.subplot(1, 2, 1)\n",
    "    plt.plot(range(0, epochs_trained), h.history.get('accuracy'), label='Training')\n",
    "    plt.plot(range(0, epochs_trained), h.history.get('val_accuracy'), label='Validation')\n",
    "    plt.ylim([0., 1.])\n",
    "    plt.xlabel('Epochs')\n",
    "    plt.ylabel('Accuracy')\n",
    "    plt.legend()\n",
    "\n",
    "    plt.subplot(1, 2, 2)\n",
    "    plt.plot(range(0, epochs_trained), h.history.get('loss'), label='Training')\n",
    "    plt.plot(range(0, epochs_trained), h.history.get('val_loss'), label='Validation')\n",
    "    plt.xlabel('Epochs')\n",
    "    plt.ylabel('Loss')\n",
    "    plt.legend()\n",
    "    plt.show()\n",
    "\n",
    "    \n",
    "def show_confusion_matrix(y_true, y_pred, classes):\n",
    "    from sklearn.metrics import confusion_matrix\n",
    "    \n",
    "    cm = confusion_matrix(y_true, y_pred, normalize='true')\n",
    "\n",
    "    plt.figure(figsize=(8, 8))\n",
    "    sp = plt.subplot(1, 1, 1)\n",
    "    ctx = sp.matshow(cm)\n",
    "    plt.xticks(list(range(0, 6)), labels=classes)\n",
    "    plt.yticks(list(range(0, 6)), labels=classes)\n",
    "    plt.colorbar(ctx)\n",
    "    plt.show()\n",
    "   \n",
    "print('Using TensorFlow version', tf.__version__)"
   ]
  },
  {
   "cell_type": "code",
   "execution_count": 2,
   "id": "0b78abe5",
   "metadata": {},
   "outputs": [
    {
     "name": "stdout",
     "output_type": "stream",
     "text": [
      "Requirement already satisfied: datasets in c:\\software development\\anaconda\\envs\\ecng3020\\lib\\site-packages (1.16.1)\n",
      "Requirement already satisfied: xxhash in c:\\software development\\anaconda\\envs\\ecng3020\\lib\\site-packages (from datasets) (2.0.2)\n",
      "Requirement already satisfied: numpy>=1.17 in c:\\software development\\anaconda\\envs\\ecng3020\\lib\\site-packages (from datasets) (1.21.4)\n",
      "Requirement already satisfied: tqdm>=4.62.1 in c:\\software development\\anaconda\\envs\\ecng3020\\lib\\site-packages (from datasets) (4.62.3)\n",
      "Requirement already satisfied: aiohttp in c:\\software development\\anaconda\\envs\\ecng3020\\lib\\site-packages (from datasets) (3.8.1)\n",
      "Requirement already satisfied: dill in c:\\software development\\anaconda\\envs\\ecng3020\\lib\\site-packages (from datasets) (0.3.4)\n",
      "Requirement already satisfied: requests>=2.19.0 in c:\\software development\\anaconda\\envs\\ecng3020\\lib\\site-packages (from datasets) (2.26.0)\n",
      "Requirement already satisfied: pyarrow!=4.0.0,>=3.0.0 in c:\\software development\\anaconda\\envs\\ecng3020\\lib\\site-packages (from datasets) (6.0.0)\n",
      "Requirement already satisfied: fsspec[http]>=2021.05.0 in c:\\software development\\anaconda\\envs\\ecng3020\\lib\\site-packages (from datasets) (2021.11.1)\n",
      "Requirement already satisfied: huggingface-hub<1.0.0,>=0.1.0 in c:\\software development\\anaconda\\envs\\ecng3020\\lib\\site-packages (from datasets) (0.2.1)\n",
      "Requirement already satisfied: pandas in c:\\software development\\anaconda\\envs\\ecng3020\\lib\\site-packages (from datasets) (1.3.4)\n",
      "Requirement already satisfied: packaging in c:\\software development\\anaconda\\envs\\ecng3020\\lib\\site-packages (from datasets) (21.0)\n",
      "Requirement already satisfied: multiprocess in c:\\software development\\anaconda\\envs\\ecng3020\\lib\\site-packages (from datasets) (0.70.12.2)\n",
      "Requirement already satisfied: typing-extensions>=3.7.4.3 in c:\\software development\\anaconda\\envs\\ecng3020\\lib\\site-packages (from huggingface-hub<1.0.0,>=0.1.0->datasets) (4.0.0)\n",
      "Requirement already satisfied: pyyaml in c:\\software development\\anaconda\\envs\\ecng3020\\lib\\site-packages (from huggingface-hub<1.0.0,>=0.1.0->datasets) (6.0)\n",
      "Requirement already satisfied: filelock in c:\\software development\\anaconda\\envs\\ecng3020\\lib\\site-packages (from huggingface-hub<1.0.0,>=0.1.0->datasets) (3.4.0)\n",
      "Requirement already satisfied: pyparsing>=2.0.2 in c:\\software development\\anaconda\\envs\\ecng3020\\lib\\site-packages (from packaging->datasets) (3.0.4)\n",
      "Requirement already satisfied: charset-normalizer~=2.0.0 in c:\\software development\\anaconda\\envs\\ecng3020\\lib\\site-packages (from requests>=2.19.0->datasets) (2.0.7)\n",
      "Requirement already satisfied: urllib3<1.27,>=1.21.1 in c:\\software development\\anaconda\\envs\\ecng3020\\lib\\site-packages (from requests>=2.19.0->datasets) (1.26.7)\n",
      "Requirement already satisfied: certifi>=2017.4.17 in c:\\software development\\anaconda\\envs\\ecng3020\\lib\\site-packages (from requests>=2.19.0->datasets) (2021.10.8)\n",
      "Requirement already satisfied: idna<4,>=2.5 in c:\\software development\\anaconda\\envs\\ecng3020\\lib\\site-packages (from requests>=2.19.0->datasets) (3.3)\n",
      "Requirement already satisfied: colorama in c:\\software development\\anaconda\\envs\\ecng3020\\lib\\site-packages (from tqdm>=4.62.1->datasets) (0.4.4)\n",
      "Requirement already satisfied: attrs>=17.3.0 in c:\\software development\\anaconda\\envs\\ecng3020\\lib\\site-packages (from aiohttp->datasets) (21.2.0)\n",
      "Requirement already satisfied: async-timeout<5.0,>=4.0.0a3 in c:\\software development\\anaconda\\envs\\ecng3020\\lib\\site-packages (from aiohttp->datasets) (4.0.1)\n",
      "Requirement already satisfied: multidict<7.0,>=4.5 in c:\\software development\\anaconda\\envs\\ecng3020\\lib\\site-packages (from aiohttp->datasets) (5.2.0)\n",
      "Requirement already satisfied: yarl<2.0,>=1.0 in c:\\software development\\anaconda\\envs\\ecng3020\\lib\\site-packages (from aiohttp->datasets) (1.7.2)\n",
      "Requirement already satisfied: frozenlist>=1.1.1 in c:\\software development\\anaconda\\envs\\ecng3020\\lib\\site-packages (from aiohttp->datasets) (1.2.0)\n",
      "Requirement already satisfied: aiosignal>=1.1.2 in c:\\software development\\anaconda\\envs\\ecng3020\\lib\\site-packages (from aiohttp->datasets) (1.2.0)\n",
      "Requirement already satisfied: python-dateutil>=2.7.3 in c:\\software development\\anaconda\\envs\\ecng3020\\lib\\site-packages (from pandas->datasets) (2.8.2)\n",
      "Requirement already satisfied: pytz>=2017.3 in c:\\software development\\anaconda\\envs\\ecng3020\\lib\\site-packages (from pandas->datasets) (2021.3)\n",
      "Requirement already satisfied: six>=1.5 in c:\\software development\\anaconda\\envs\\ecng3020\\lib\\site-packages (from python-dateutil>=2.7.3->pandas->datasets) (1.16.0)\n"
     ]
    }
   ],
   "source": [
    "!pip install datasets"
   ]
  },
  {
   "cell_type": "code",
   "execution_count": 3,
   "id": "5ccb1adf",
   "metadata": {},
   "outputs": [
    {
     "name": "stderr",
     "output_type": "stream",
     "text": [
      "Using custom data configuration default\n",
      "Reusing dataset emotion (C:\\Users\\valsa\\.cache\\huggingface\\datasets\\emotion\\default\\0.0.0\\348f63ca8e27b3713b6c04d723efe6d824a56fb3d1449794716c0f0296072705)\n"
     ]
    },
    {
     "data": {
      "application/vnd.jupyter.widget-view+json": {
       "model_id": "57c0811cf40b4db69f53a42ec539a536",
       "version_major": 2,
       "version_minor": 0
      },
      "text/plain": [
       "  0%|          | 0/3 [00:00<?, ?it/s]"
      ]
     },
     "metadata": {},
     "output_type": "display_data"
    }
   ],
   "source": [
    "from datasets import load_dataset\n",
    "import pandas as pd\n",
    "import numpy as np\n",
    "\n",
    "emotion_dataset = load_dataset(\"emotion\")"
   ]
  },
  {
   "cell_type": "code",
   "execution_count": 4,
   "id": "df898b43",
   "metadata": {},
   "outputs": [
    {
     "name": "stdout",
     "output_type": "stream",
     "text": [
      "{'text': 'i didnt feel humiliated', 'label': 0}\n",
      "['text', 'label']\n",
      "{'text': Value(dtype='string', id=None), 'label': ClassLabel(num_classes=6, names=['sadness', 'joy', 'love', 'anger', 'fear', 'surprise'], names_file=None, id=None)}\n"
     ]
    }
   ],
   "source": [
    "emotion_train = emotion_dataset['train']\n",
    "print(emotion_train[0])\n",
    "print(emotion_train.column_names)\n",
    "print(emotion_train.features)"
   ]
  },
  {
   "cell_type": "code",
   "execution_count": 5,
   "id": "22c3d2f3",
   "metadata": {},
   "outputs": [],
   "source": [
    "emotion_dataset.set_format(type=\"pandas\")\n",
    "df1 = emotion_dataset[\"train\"][:]\n",
    "test = emotion_dataset[\"test\"][:]\n",
    "val = emotion_dataset[\"validation\"][:]"
   ]
  },
  {
   "cell_type": "code",
   "execution_count": 6,
   "id": "4ebc66a5",
   "metadata": {},
   "outputs": [],
   "source": [
    "df1 = df1.rename(columns={'text':'sentence','label':'emotion'})\n",
    "df1 = df1[[\"emotion\", \"sentence\"]]\n",
    "df1.emotion.unique()\n",
    "df1 = df1.replace([0,1,2,3,4,5],['sadness','joy','love','anger','fear','surprise'])"
   ]
  },
  {
   "cell_type": "code",
   "execution_count": 7,
   "id": "f93d41e8",
   "metadata": {},
   "outputs": [],
   "source": [
    "df2 = pd.read_csv('G:\\My Drive\\AnjanaValsalan_ECNG 3020\\Implementation Files\\ISEAR csv\\ISEAR.csv')\n",
    "df2.dropna(axis=1, how=\"any\", thresh=None, subset=None, inplace=True)"
   ]
  },
  {
   "cell_type": "code",
   "execution_count": 8,
   "id": "31c0967f",
   "metadata": {},
   "outputs": [
    {
     "data": {
      "text/plain": [
       "array(['sadness', 'anger', 'love', 'fear', 'joy', 'disgust', 'guilt'],\n",
       "      dtype=object)"
      ]
     },
     "execution_count": 8,
     "metadata": {},
     "output_type": "execute_result"
    }
   ],
   "source": [
    "frames = [df1, df2]\n",
    "df = pd.concat(frames)\n",
    "df = df.reset_index(drop=True)\n",
    "df = df[df.emotion != 'shame']\n",
    "df = df[df.emotion != 'surprise']\n",
    "df.emotion.unique()"
   ]
  },
  {
   "cell_type": "code",
   "execution_count": 9,
   "id": "f00b45f3",
   "metadata": {},
   "outputs": [
    {
     "data": {
      "text/html": [
       "<div>\n",
       "<style scoped>\n",
       "    .dataframe tbody tr th:only-of-type {\n",
       "        vertical-align: middle;\n",
       "    }\n",
       "\n",
       "    .dataframe tbody tr th {\n",
       "        vertical-align: top;\n",
       "    }\n",
       "\n",
       "    .dataframe thead th {\n",
       "        text-align: right;\n",
       "    }\n",
       "</style>\n",
       "<table border=\"1\" class=\"dataframe\">\n",
       "  <thead>\n",
       "    <tr style=\"text-align: right;\">\n",
       "      <th></th>\n",
       "      <th>sentence</th>\n",
       "    </tr>\n",
       "    <tr>\n",
       "      <th>emotion</th>\n",
       "      <th></th>\n",
       "    </tr>\n",
       "  </thead>\n",
       "  <tbody>\n",
       "    <tr>\n",
       "      <th>anger</th>\n",
       "      <td>3238</td>\n",
       "    </tr>\n",
       "    <tr>\n",
       "      <th>disgust</th>\n",
       "      <td>1066</td>\n",
       "    </tr>\n",
       "    <tr>\n",
       "      <th>fear</th>\n",
       "      <td>3013</td>\n",
       "    </tr>\n",
       "    <tr>\n",
       "      <th>guilt</th>\n",
       "      <td>1050</td>\n",
       "    </tr>\n",
       "    <tr>\n",
       "      <th>joy</th>\n",
       "      <td>6454</td>\n",
       "    </tr>\n",
       "    <tr>\n",
       "      <th>love</th>\n",
       "      <td>1304</td>\n",
       "    </tr>\n",
       "    <tr>\n",
       "      <th>sadness</th>\n",
       "      <td>5748</td>\n",
       "    </tr>\n",
       "  </tbody>\n",
       "</table>\n",
       "</div>"
      ],
      "text/plain": [
       "         sentence\n",
       "emotion          \n",
       "anger        3238\n",
       "disgust      1066\n",
       "fear         3013\n",
       "guilt        1050\n",
       "joy          6454\n",
       "love         1304\n",
       "sadness      5748"
      ]
     },
     "execution_count": 9,
     "metadata": {},
     "output_type": "execute_result"
    }
   ],
   "source": [
    "df.groupby(['emotion']).count()"
   ]
  },
  {
   "cell_type": "code",
   "execution_count": 10,
   "id": "d8bdf9db",
   "metadata": {},
   "outputs": [],
   "source": [
    "sad_df = df.loc[df['emotion'] == 'sadness']\n",
    "sad_list = sad_df.values.tolist()\n",
    "rand = np.random.RandomState(32).permutation(len(sad_list))\n",
    "sad_array = np.array(sad_df)[rand]\n",
    "sad = sad_array[0: 1050]\n",
    "sad_list = sad.tolist()\n",
    "sad_df = pd.DataFrame(sad_list, columns=['emotion','sentence'])"
   ]
  },
  {
   "cell_type": "code",
   "execution_count": 11,
   "id": "c4eb45d7",
   "metadata": {},
   "outputs": [],
   "source": [
    "ang_df = df.loc[df['emotion'] == 'anger']\n",
    "ang_list = ang_df.values.tolist()\n",
    "rand = np.random.RandomState(32).permutation(len(ang_list))\n",
    "ang_array = np.array(ang_df)[rand]\n",
    "ang = ang_array[0: 1050]\n",
    "ang_list = ang.tolist()\n",
    "ang_df = pd.DataFrame(ang_list, columns=['emotion','sentence'])"
   ]
  },
  {
   "cell_type": "code",
   "execution_count": 12,
   "id": "c1137c4b",
   "metadata": {},
   "outputs": [],
   "source": [
    "dis_df = df.loc[df['emotion'] == 'disgust']\n",
    "dis_list = dis_df.values.tolist()\n",
    "rand = np.random.RandomState(32).permutation(len(dis_list))\n",
    "dis_array = np.array(dis_df)[rand]\n",
    "dis = dis_array[0: 1050]\n",
    "dis_list = dis.tolist()\n",
    "dis_df = pd.DataFrame(dis_list, columns=['emotion','sentence'])"
   ]
  },
  {
   "cell_type": "code",
   "execution_count": 13,
   "id": "89a8b94d",
   "metadata": {},
   "outputs": [],
   "source": [
    "fear_df = df.loc[df['emotion'] == 'fear']\n",
    "fear_list = fear_df.values.tolist()\n",
    "rand = np.random.RandomState(32).permutation(len(fear_list))\n",
    "fear_array = np.array(fear_df)[rand]\n",
    "fear = fear_array[0: 1050]\n",
    "fear_list = fear.tolist()\n",
    "fear_df = pd.DataFrame(fear_list, columns=['emotion','sentence'])"
   ]
  },
  {
   "cell_type": "code",
   "execution_count": 14,
   "id": "03ad807b",
   "metadata": {},
   "outputs": [],
   "source": [
    "guilt_df = df.loc[df['emotion'] == 'guilt']\n",
    "guilt_list = fear_df.values.tolist()\n",
    "rand = np.random.RandomState(32).permutation(len(guilt_list))\n",
    "guilt_array = np.array(guilt_df)[rand]\n",
    "guilt = guilt_array[0: 1050]\n",
    "guilt_list = guilt.tolist()\n",
    "guilt_df = pd.DataFrame(guilt_list, columns=['emotion','sentence'])"
   ]
  },
  {
   "cell_type": "code",
   "execution_count": 15,
   "id": "7cf44d90",
   "metadata": {},
   "outputs": [],
   "source": [
    "joy_df = df.loc[df['emotion'] == 'joy']\n",
    "joy_list = joy_df.values.tolist()\n",
    "rand = np.random.RandomState(32).permutation(len(joy_list))\n",
    "joy_array = np.array(joy_df)[rand]\n",
    "joy = joy_array[0: 1050]\n",
    "joy_list = joy.tolist()\n",
    "joy_df = pd.DataFrame(joy_list, columns=['emotion','sentence'])"
   ]
  },
  {
   "cell_type": "code",
   "execution_count": 16,
   "id": "a204e2b3",
   "metadata": {},
   "outputs": [],
   "source": [
    "love_df = df.loc[df['emotion'] == 'love']\n",
    "love_list = love_df.values.tolist()\n",
    "rand = np.random.RandomState(32).permutation(len(love_list))\n",
    "love_array = np.array(love_df)[rand]\n",
    "love = love_array[0: 1050]\n",
    "love_list = love.tolist()\n",
    "love_df = pd.DataFrame(love_list, columns=['emotion','sentence'])"
   ]
  },
  {
   "cell_type": "code",
   "execution_count": 17,
   "id": "71c6516f",
   "metadata": {},
   "outputs": [],
   "source": [
    "frames = [sad_df, ang_df, dis_df, fear_df, guilt_df, joy_df, love_df]\n",
    "df = pd.concat(frames)\n",
    "from sklearn.utils import shuffle\n",
    "df = shuffle(df)\n",
    "df = df.reset_index(drop=True)"
   ]
  },
  {
   "cell_type": "code",
   "execution_count": 18,
   "id": "797b4364",
   "metadata": {},
   "outputs": [],
   "source": [
    "text = df.drop(columns = ['emotion']).copy()\n",
    "label = df['emotion']\n",
    "\n",
    "text_list = text.values.tolist()\n",
    "label_list = label.values.tolist()"
   ]
  },
  {
   "cell_type": "code",
   "execution_count": 19,
   "id": "08568bf8",
   "metadata": {},
   "outputs": [],
   "source": [
    "rand = np.random.RandomState(32).permutation(len(label_list))\n",
    "text_array = np.array(text)[rand]\n",
    "label_array = np.array(label)[rand]\n",
    "\n",
    "text_train = text_array[0: int(0.8*len(text_array))]\n",
    "label_train = label_array[0: int(0.8*len(label_array))]\n",
    "text_val = text_array[int(0.8*len(text_array)):int(0.9*len(text_array))]\n",
    "label_val = label_array[int(0.8*len(label_array)):int(0.9*len(label_array))]\n",
    "text_test = text_array[int(0.9*len(text_array)):]\n",
    "label_test = label_array[int(0.9*len(label_array)):]"
   ]
  },
  {
   "cell_type": "code",
   "execution_count": 20,
   "id": "bbef8d36",
   "metadata": {},
   "outputs": [],
   "source": [
    "text_train_list=[ i[0] for i in text_train.tolist()]\n",
    "label_train_list=[ i[0] for i in label_train.tolist()]\n",
    "text_val_list=[ i[0] for i in text_val.tolist()]\n",
    "label_val_list=[ i[0] for i in label_val.tolist()]\n",
    "text_test_list=[ i[0] for i in text_test.tolist()]\n",
    "label_test_list=[ i[0] for i in label_test.tolist()]"
   ]
  },
  {
   "cell_type": "code",
   "execution_count": 21,
   "id": "3c2af39d",
   "metadata": {},
   "outputs": [
    {
     "data": {
      "text/plain": [
       "[[2, 3, 4, 5, 6, 7, 8, 9, 10, 11, 12, 13, 14, 15]]"
      ]
     },
     "execution_count": 21,
     "metadata": {},
     "output_type": "execute_result"
    }
   ],
   "source": [
    "tokenizer = Tokenizer(num_words=1000000, oov_token='<UNK>')\n",
    "tokenizer.fit_on_texts([text_train_list[1]])\n",
    "tokenizer.texts_to_sequences([text_train_list[1]])"
   ]
  },
  {
   "cell_type": "code",
   "execution_count": 22,
   "id": "e548a182",
   "metadata": {},
   "outputs": [
    {
     "data": {
      "text/plain": [
       "<function matplotlib.pyplot.show(close=None, block=None)>"
      ]
     },
     "execution_count": 22,
     "metadata": {},
     "output_type": "execute_result"
    },
    {
     "data": {
      "image/png": "[encoded data removed]",
      "text/plain": [
       "<Figure size 432x288 with 1 Axes>"
      ]
     },
     "metadata": {
      "needs_background": "light"
     },
     "output_type": "display_data"
    }
   ],
   "source": [
    "lengths = [len(t.split(' ')) for t in text_train_list]\n",
    "plt.hist(lengths, bins = len(set(lengths)))\n",
    "plt.show"
   ]
  },
  {
   "cell_type": "code",
   "execution_count": 23,
   "id": "c56b7f76",
   "metadata": {},
   "outputs": [],
   "source": [
    "max_length = 150\n",
    "from tensorflow.keras.preprocessing.sequence import pad_sequences\n",
    "\n",
    "def get_sequences(tokenizer, text_train_list):\n",
    "    sequences = tokenizer.texts_to_sequences(text_train_list)\n",
    "    padded = pad_sequences(sequences, truncating='post', padding='post', maxlen = max_length)\n",
    "    return padded\n",
    "\n",
    "padded_train_seq = get_sequences(tokenizer,text_train_list)"
   ]
  },
  {
   "cell_type": "code",
   "execution_count": 24,
   "id": "4813a95b",
   "metadata": {},
   "outputs": [
    {
     "name": "stdout",
     "output_type": "stream",
     "text": [
      "{'guilt', 'joy', 'love', 'fear', 'anger', 'disgust', 'sadness'}\n"
     ]
    }
   ],
   "source": [
    "classes = set(label_train)\n",
    "print(classes)"
   ]
  },
  {
   "cell_type": "code",
   "execution_count": 25,
   "id": "6475d3ec",
   "metadata": {},
   "outputs": [
    {
     "data": {
      "image/png": "[encoded data removed]",
      "text/plain": [
       "<Figure size 432x288 with 1 Axes>"
      ]
     },
     "metadata": {
      "needs_background": "light"
     },
     "output_type": "display_data"
    }
   ],
   "source": [
    "plt.hist(label_train, bins=18)\n",
    "plt.show()"
   ]
  },
  {
   "cell_type": "code",
   "execution_count": 26,
   "id": "ea94bc6f",
   "metadata": {},
   "outputs": [],
   "source": [
    "class_to_index = dict((c,i) for i, c in enumerate(classes))\n",
    "index_to_class = dict((v, k) for k, v in class_to_index.items())"
   ]
  },
  {
   "cell_type": "code",
   "execution_count": 27,
   "id": "0ae2ba3a",
   "metadata": {},
   "outputs": [],
   "source": [
    "names_to_ids = lambda label_train: np.array([class_to_index.get(x) for x in label_train])\n",
    "\n",
    "train_labels = names_to_ids(label_train)"
   ]
  },
  {
   "cell_type": "code",
   "execution_count": 28,
   "id": "b7897b0d",
   "metadata": {},
   "outputs": [],
   "source": [
    "model = tf.keras.models.Sequential([\n",
    "    tf.keras.layers.Embedding(23516, 16, input_length=max_length),\n",
    "    tf.keras.layers.Bidirectional(tf.keras.layers.LSTM(20, return_sequences=True)),\n",
    "    tf.keras.layers.Bidirectional(tf.keras.layers.LSTM(20)),\n",
    "    tf.keras.layers.Dense(9, activation='softmax')\n",
    "])\n",
    "\n",
    "optimizer = tf.keras.optimizers.Adam(\n",
    "    learning_rate=0.001, beta_1=0.9, beta_2=0.999, epsilon=1e-07, amsgrad=False,\n",
    "    name='Adam'\n",
    ")\n",
    "\n",
    "model.compile(\n",
    "    loss='sparse_categorical_crossentropy',\n",
    "    optimizer = optimizer,\n",
    "    metrics=['accuracy']\n",
    ")"
   ]
  },
  {
   "cell_type": "code",
   "execution_count": 29,
   "id": "a0c1bf05",
   "metadata": {},
   "outputs": [
    {
     "name": "stdout",
     "output_type": "stream",
     "text": [
      "Model: \"sequential\"\n",
      "_________________________________________________________________\n",
      " Layer (type)                Output Shape              Param #   \n",
      "=================================================================\n",
      " embedding (Embedding)       (None, 150, 16)           376256    \n",
      "                                                                 \n",
      " bidirectional (Bidirectiona  (None, 150, 40)          5920      \n",
      " l)                                                              \n",
      "                                                                 \n",
      " bidirectional_1 (Bidirectio  (None, 40)               9760      \n",
      " nal)                                                            \n",
      "                                                                 \n",
      " dense (Dense)               (None, 9)                 369       \n",
      "                                                                 \n",
      "=================================================================\n",
      "Total params: 392,305\n",
      "Trainable params: 392,305\n",
      "Non-trainable params: 0\n",
      "_________________________________________________________________\n"
     ]
    }
   ],
   "source": [
    "model.summary()"
   ]
  },
  {
   "cell_type": "code",
   "execution_count": 30,
   "id": "a9d6a991",
   "metadata": {},
   "outputs": [],
   "source": [
    "text_val_list=[ i[0] for i in text_val.tolist()]\n",
    "text_val_seq = get_sequences(tokenizer, text_val_list)\n",
    "label_val = names_to_ids(label_val)"
   ]
  },
  {
   "cell_type": "code",
   "execution_count": 31,
   "id": "86b9de34",
   "metadata": {},
   "outputs": [
    {
     "name": "stdout",
     "output_type": "stream",
     "text": [
      "Epoch 1/100\n",
      "30/30 [==============================] - 10s 202ms/step - loss: 2.0861 - accuracy: 0.1376 - val_loss: 1.9751 - val_accuracy: 0.1388\n",
      "Epoch 2/100\n",
      "30/30 [==============================] - 5s 156ms/step - loss: 1.9600 - accuracy: 0.1512 - val_loss: 1.9526 - val_accuracy: 0.1551\n",
      "Epoch 3/100\n",
      "30/30 [==============================] - 5s 155ms/step - loss: 1.9465 - accuracy: 0.1633 - val_loss: 1.9393 - val_accuracy: 0.1551\n",
      "Epoch 4/100\n",
      "30/30 [==============================] - 5s 157ms/step - loss: 1.9402 - accuracy: 0.1685 - val_loss: 1.9342 - val_accuracy: 0.2068\n",
      "Epoch 5/100\n",
      "30/30 [==============================] - 5s 158ms/step - loss: 1.9194 - accuracy: 0.1920 - val_loss: 1.8846 - val_accuracy: 0.1946\n",
      "Epoch 6/100\n",
      "30/30 [==============================] - 5s 157ms/step - loss: 1.8665 - accuracy: 0.2233 - val_loss: 1.8326 - val_accuracy: 0.2204\n",
      "Epoch 7/100\n",
      "30/30 [==============================] - 5s 169ms/step - loss: 1.8310 - accuracy: 0.2349 - val_loss: 1.8136 - val_accuracy: 0.2381\n",
      "Epoch 8/100\n",
      "30/30 [==============================] - 5s 167ms/step - loss: 1.8108 - accuracy: 0.2378 - val_loss: 1.8038 - val_accuracy: 0.2095\n",
      "Epoch 9/100\n",
      "30/30 [==============================] - 5s 168ms/step - loss: 1.8008 - accuracy: 0.2473 - val_loss: 1.7918 - val_accuracy: 0.2313\n",
      "Epoch 10/100\n",
      "30/30 [==============================] - 5s 168ms/step - loss: 1.7926 - accuracy: 0.2473 - val_loss: 1.7907 - val_accuracy: 0.2204\n",
      "Epoch 11/100\n",
      "30/30 [==============================] - 5s 170ms/step - loss: 1.7904 - accuracy: 0.2507 - val_loss: 1.7909 - val_accuracy: 0.2259\n",
      "Epoch 12/100\n",
      "30/30 [==============================] - 5s 168ms/step - loss: 1.7930 - accuracy: 0.2517 - val_loss: 1.7840 - val_accuracy: 0.2435\n",
      "Epoch 13/100\n",
      "30/30 [==============================] - 5s 169ms/step - loss: 1.7886 - accuracy: 0.2464 - val_loss: 1.7875 - val_accuracy: 0.2490\n",
      "Epoch 14/100\n",
      "30/30 [==============================] - 5s 168ms/step - loss: 1.7835 - accuracy: 0.2549 - val_loss: 1.7797 - val_accuracy: 0.2476\n",
      "Epoch 15/100\n",
      "30/30 [==============================] - 5s 170ms/step - loss: 1.7784 - accuracy: 0.2634 - val_loss: 1.7747 - val_accuracy: 0.2463\n",
      "Epoch 16/100\n",
      "30/30 [==============================] - 5s 169ms/step - loss: 1.7782 - accuracy: 0.2595 - val_loss: 1.7843 - val_accuracy: 0.2639\n",
      "Epoch 17/100\n",
      "30/30 [==============================] - 5s 169ms/step - loss: 1.7793 - accuracy: 0.2600 - val_loss: 1.7729 - val_accuracy: 0.2585\n",
      "Epoch 18/100\n",
      "30/30 [==============================] - 5s 168ms/step - loss: 1.7731 - accuracy: 0.2646 - val_loss: 1.7758 - val_accuracy: 0.2517\n",
      "Epoch 19/100\n",
      "30/30 [==============================] - 5s 169ms/step - loss: 1.7670 - accuracy: 0.2741 - val_loss: 1.7680 - val_accuracy: 0.2490\n",
      "Epoch 20/100\n",
      "30/30 [==============================] - 5s 167ms/step - loss: 1.7661 - accuracy: 0.2684 - val_loss: 1.7677 - val_accuracy: 0.2599\n",
      "Epoch 21/100\n",
      "30/30 [==============================] - 5s 173ms/step - loss: 1.7675 - accuracy: 0.2673 - val_loss: 1.7783 - val_accuracy: 0.2667\n",
      "Epoch 22/100\n",
      "30/30 [==============================] - 5s 171ms/step - loss: 1.7628 - accuracy: 0.2753 - val_loss: 1.7553 - val_accuracy: 0.2830\n",
      "Epoch 23/100\n",
      "30/30 [==============================] - 5s 168ms/step - loss: 1.7592 - accuracy: 0.2772 - val_loss: 1.7684 - val_accuracy: 0.2531\n",
      "Epoch 24/100\n",
      "30/30 [==============================] - 5s 171ms/step - loss: 1.7531 - accuracy: 0.2798 - val_loss: 1.7564 - val_accuracy: 0.2599\n",
      "Epoch 25/100\n",
      "30/30 [==============================] - 5s 172ms/step - loss: 1.7520 - accuracy: 0.2740 - val_loss: 1.7520 - val_accuracy: 0.2735\n",
      "Epoch 26/100\n",
      "30/30 [==============================] - 5s 171ms/step - loss: 1.7505 - accuracy: 0.2759 - val_loss: 1.7536 - val_accuracy: 0.2531\n",
      "Epoch 27/100\n",
      "30/30 [==============================] - 5s 172ms/step - loss: 1.7469 - accuracy: 0.2808 - val_loss: 1.7557 - val_accuracy: 0.2503\n",
      "Epoch 28/100\n",
      "30/30 [==============================] - 5s 173ms/step - loss: 1.7483 - accuracy: 0.2769 - val_loss: 1.7622 - val_accuracy: 0.2503\n",
      "Epoch 29/100\n",
      "30/30 [==============================] - 5s 172ms/step - loss: 1.7469 - accuracy: 0.2866 - val_loss: 1.7540 - val_accuracy: 0.2463\n",
      "Epoch 30/100\n",
      "30/30 [==============================] - 5s 174ms/step - loss: 1.7426 - accuracy: 0.2811 - val_loss: 1.7464 - val_accuracy: 0.2735\n",
      "Epoch 31/100\n",
      "30/30 [==============================] - 5s 175ms/step - loss: 1.7417 - accuracy: 0.2859 - val_loss: 1.7531 - val_accuracy: 0.2680\n",
      "Epoch 32/100\n",
      "30/30 [==============================] - 5s 172ms/step - loss: 1.7467 - accuracy: 0.2786 - val_loss: 1.7570 - val_accuracy: 0.2667\n"
     ]
    }
   ],
   "source": [
    "h = model.fit(\n",
    "padded_train_seq, train_labels,\n",
    "validation_data=(text_val_seq, label_val),\n",
    "batch_size = 200,\n",
    "epochs=100,\n",
    "callbacks=[\n",
    "    tf.keras.callbacks.EarlyStopping(monitor='val_accuracy', patience = 10)\n",
    "])"
   ]
  },
  {
   "cell_type": "code",
   "execution_count": 32,
   "id": "c933dc59",
   "metadata": {},
   "outputs": [
    {
     "data": {
      "image/png": "[encoded data removed]",
      "text/plain": [
       "<Figure size 1152x432 with 2 Axes>"
      ]
     },
     "metadata": {
      "needs_background": "light"
     },
     "output_type": "display_data"
    }
   ],
   "source": [
    "show_history(h)"
   ]
  },
  {
   "cell_type": "code",
   "execution_count": 34,
   "id": "eb0ed521",
   "metadata": {},
   "outputs": [],
   "source": [
    "test_seq = get_sequences(tokenizer, text_test_list)\n",
    "test_labels = names_to_ids(label_test_list)"
   ]
  },
  {
   "cell_type": "code",
   "execution_count": 35,
   "id": "bd1271e7",
   "metadata": {},
   "outputs": [
    {
     "ename": "ValueError",
     "evalue": "Failed to convert a NumPy array to a Tensor (Unsupported object type NoneType).",
     "output_type": "error",
     "traceback": [
      "\u001b[1;31m---------------------------------------------------------------------------\u001b[0m",
      "\u001b[1;31mValueError\u001b[0m                                Traceback (most recent call last)",
      "\u001b[1;32m~\\AppData\\Local\\Temp/ipykernel_12812/266869710.py\u001b[0m in \u001b[0;36m<module>\u001b[1;34m\u001b[0m\n\u001b[1;32m----> 1\u001b[1;33m \u001b[0m_\u001b[0m\u001b[1;33m=\u001b[0m\u001b[0mmodel\u001b[0m\u001b[1;33m.\u001b[0m\u001b[0mevaluate\u001b[0m\u001b[1;33m(\u001b[0m\u001b[0mtest_seq\u001b[0m\u001b[1;33m,\u001b[0m \u001b[0mtest_labels\u001b[0m\u001b[1;33m)\u001b[0m\u001b[1;33m\u001b[0m\u001b[1;33m\u001b[0m\u001b[0m\n\u001b[0m",
      "\u001b[1;32mC:\\Software Development\\Anaconda\\envs\\ECNG3020\\lib\\site-packages\\keras\\utils\\traceback_utils.py\u001b[0m in \u001b[0;36merror_handler\u001b[1;34m(*args, **kwargs)\u001b[0m\n\u001b[0;32m     65\u001b[0m     \u001b[1;32mexcept\u001b[0m \u001b[0mException\u001b[0m \u001b[1;32mas\u001b[0m \u001b[0me\u001b[0m\u001b[1;33m:\u001b[0m  \u001b[1;31m# pylint: disable=broad-except\u001b[0m\u001b[1;33m\u001b[0m\u001b[1;33m\u001b[0m\u001b[0m\n\u001b[0;32m     66\u001b[0m       \u001b[0mfiltered_tb\u001b[0m \u001b[1;33m=\u001b[0m \u001b[0m_process_traceback_frames\u001b[0m\u001b[1;33m(\u001b[0m\u001b[0me\u001b[0m\u001b[1;33m.\u001b[0m\u001b[0m__traceback__\u001b[0m\u001b[1;33m)\u001b[0m\u001b[1;33m\u001b[0m\u001b[1;33m\u001b[0m\u001b[0m\n\u001b[1;32m---> 67\u001b[1;33m       \u001b[1;32mraise\u001b[0m \u001b[0me\u001b[0m\u001b[1;33m.\u001b[0m\u001b[0mwith_traceback\u001b[0m\u001b[1;33m(\u001b[0m\u001b[0mfiltered_tb\u001b[0m\u001b[1;33m)\u001b[0m \u001b[1;32mfrom\u001b[0m \u001b[1;32mNone\u001b[0m\u001b[1;33m\u001b[0m\u001b[1;33m\u001b[0m\u001b[0m\n\u001b[0m\u001b[0;32m     68\u001b[0m     \u001b[1;32mfinally\u001b[0m\u001b[1;33m:\u001b[0m\u001b[1;33m\u001b[0m\u001b[1;33m\u001b[0m\u001b[0m\n\u001b[0;32m     69\u001b[0m       \u001b[1;32mdel\u001b[0m \u001b[0mfiltered_tb\u001b[0m\u001b[1;33m\u001b[0m\u001b[1;33m\u001b[0m\u001b[0m\n",
      "\u001b[1;32mC:\\Software Development\\Anaconda\\envs\\ECNG3020\\lib\\site-packages\\tensorflow\\python\\framework\\constant_op.py\u001b[0m in \u001b[0;36mconvert_to_eager_tensor\u001b[1;34m(value, ctx, dtype)\u001b[0m\n\u001b[0;32m    104\u001b[0m       \u001b[0mdtype\u001b[0m \u001b[1;33m=\u001b[0m \u001b[0mdtypes\u001b[0m\u001b[1;33m.\u001b[0m\u001b[0mas_dtype\u001b[0m\u001b[1;33m(\u001b[0m\u001b[0mdtype\u001b[0m\u001b[1;33m)\u001b[0m\u001b[1;33m.\u001b[0m\u001b[0mas_datatype_enum\u001b[0m\u001b[1;33m\u001b[0m\u001b[1;33m\u001b[0m\u001b[0m\n\u001b[0;32m    105\u001b[0m   \u001b[0mctx\u001b[0m\u001b[1;33m.\u001b[0m\u001b[0mensure_initialized\u001b[0m\u001b[1;33m(\u001b[0m\u001b[1;33m)\u001b[0m\u001b[1;33m\u001b[0m\u001b[1;33m\u001b[0m\u001b[0m\n\u001b[1;32m--> 106\u001b[1;33m   \u001b[1;32mreturn\u001b[0m \u001b[0mops\u001b[0m\u001b[1;33m.\u001b[0m\u001b[0mEagerTensor\u001b[0m\u001b[1;33m(\u001b[0m\u001b[0mvalue\u001b[0m\u001b[1;33m,\u001b[0m \u001b[0mctx\u001b[0m\u001b[1;33m.\u001b[0m\u001b[0mdevice_name\u001b[0m\u001b[1;33m,\u001b[0m \u001b[0mdtype\u001b[0m\u001b[1;33m)\u001b[0m\u001b[1;33m\u001b[0m\u001b[1;33m\u001b[0m\u001b[0m\n\u001b[0m\u001b[0;32m    107\u001b[0m \u001b[1;33m\u001b[0m\u001b[0m\n\u001b[0;32m    108\u001b[0m \u001b[1;33m\u001b[0m\u001b[0m\n",
      "\u001b[1;31mValueError\u001b[0m: Failed to convert a NumPy array to a Tensor (Unsupported object type NoneType)."
     ]
    }
   ],
   "source": [
    "_=model.evaluate(test_seq, test_labels)"
   ]
  },
  {
   "cell_type": "code",
   "execution_count": null,
   "id": "0176420b",
   "metadata": {},
   "outputs": [],
   "source": []
  }
 ],
 "metadata": {
  "kernelspec": {
   "display_name": "Python 3 (ipykernel)",
   "language": "python",
   "name": "python3"
  },
  "language_info": {
   "codemirror_mode": {
    "name": "ipython",
    "version": 3
   },
   "file_extension": ".py",
   "mimetype": "text/x-python",
   "name": "python",
   "nbconvert_exporter": "python",
   "pygments_lexer": "ipython3",
   "version": "3.9.7"
  }
 },
 "nbformat": 4,
 "nbformat_minor": 5
}
