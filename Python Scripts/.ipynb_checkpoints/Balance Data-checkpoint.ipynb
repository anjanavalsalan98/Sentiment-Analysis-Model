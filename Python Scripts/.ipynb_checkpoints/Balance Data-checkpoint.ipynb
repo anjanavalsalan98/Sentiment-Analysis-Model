{
 "cells": [
  {
   "cell_type": "markdown",
   "id": "f19ced55",
   "metadata": {},
   "source": [
    "# Balancing the Dataset"
   ]
  },
  {
   "cell_type": "markdown",
   "id": "91612803",
   "metadata": {},
   "source": [
    "## Installing the Emotion dataset from Hugging Face"
   ]
  },
  {
   "cell_type": "code",
   "execution_count": 1,
   "id": "9911bab2",
   "metadata": {},
   "outputs": [
    {
     "name": "stdout",
     "output_type": "stream",
     "text": [
      "Requirement already satisfied: datasets in c:\\software development\\anaconda\\envs\\ecng3020\\lib\\site-packages (1.16.1)\n",
      "Requirement already satisfied: huggingface-hub<1.0.0,>=0.1.0 in c:\\software development\\anaconda\\envs\\ecng3020\\lib\\site-packages (from datasets) (0.2.1)\n",
      "Requirement already satisfied: fsspec[http]>=2021.05.0 in c:\\software development\\anaconda\\envs\\ecng3020\\lib\\site-packages (from datasets) (2021.11.1)\n",
      "Requirement already satisfied: requests>=2.19.0 in c:\\software development\\anaconda\\envs\\ecng3020\\lib\\site-packages (from datasets) (2.26.0)\n",
      "Requirement already satisfied: numpy>=1.17 in c:\\software development\\anaconda\\envs\\ecng3020\\lib\\site-packages (from datasets) (1.21.4)\n",
      "Requirement already satisfied: aiohttp in c:\\software development\\anaconda\\envs\\ecng3020\\lib\\site-packages (from datasets) (3.8.1)\n",
      "Requirement already satisfied: pyarrow!=4.0.0,>=3.0.0 in c:\\software development\\anaconda\\envs\\ecng3020\\lib\\site-packages (from datasets) (6.0.0)\n",
      "Requirement already satisfied: tqdm>=4.62.1 in c:\\software development\\anaconda\\envs\\ecng3020\\lib\\site-packages (from datasets) (4.62.3)\n",
      "Requirement already satisfied: dill in c:\\software development\\anaconda\\envs\\ecng3020\\lib\\site-packages (from datasets) (0.3.4)\n",
      "Requirement already satisfied: pandas in c:\\software development\\anaconda\\envs\\ecng3020\\lib\\site-packages (from datasets) (1.3.4)\n",
      "Requirement already satisfied: xxhash in c:\\software development\\anaconda\\envs\\ecng3020\\lib\\site-packages (from datasets) (2.0.2)\n",
      "Requirement already satisfied: packaging in c:\\software development\\anaconda\\envs\\ecng3020\\lib\\site-packages (from datasets) (21.0)\n",
      "Requirement already satisfied: multiprocess in c:\\software development\\anaconda\\envs\\ecng3020\\lib\\site-packages (from datasets) (0.70.12.2)\n",
      "Requirement already satisfied: pyyaml in c:\\software development\\anaconda\\envs\\ecng3020\\lib\\site-packages (from huggingface-hub<1.0.0,>=0.1.0->datasets) (6.0)\n",
      "Requirement already satisfied: filelock in c:\\software development\\anaconda\\envs\\ecng3020\\lib\\site-packages (from huggingface-hub<1.0.0,>=0.1.0->datasets) (3.4.0)\n",
      "Requirement already satisfied: typing-extensions>=3.7.4.3 in c:\\software development\\anaconda\\envs\\ecng3020\\lib\\site-packages (from huggingface-hub<1.0.0,>=0.1.0->datasets) (4.0.0)\n",
      "Requirement already satisfied: pyparsing>=2.0.2 in c:\\software development\\anaconda\\envs\\ecng3020\\lib\\site-packages (from packaging->datasets) (3.0.4)\n",
      "Requirement already satisfied: urllib3<1.27,>=1.21.1 in c:\\software development\\anaconda\\envs\\ecng3020\\lib\\site-packages (from requests>=2.19.0->datasets) (1.26.7)\n",
      "Requirement already satisfied: certifi>=2017.4.17 in c:\\software development\\anaconda\\envs\\ecng3020\\lib\\site-packages (from requests>=2.19.0->datasets) (2021.10.8)\n",
      "Requirement already satisfied: idna<4,>=2.5 in c:\\software development\\anaconda\\envs\\ecng3020\\lib\\site-packages (from requests>=2.19.0->datasets) (3.3)\n",
      "Requirement already satisfied: charset-normalizer~=2.0.0 in c:\\software development\\anaconda\\envs\\ecng3020\\lib\\site-packages (from requests>=2.19.0->datasets) (2.0.7)\n",
      "Requirement already satisfied: colorama in c:\\software development\\anaconda\\envs\\ecng3020\\lib\\site-packages (from tqdm>=4.62.1->datasets) (0.4.4)\n",
      "Requirement already satisfied: frozenlist>=1.1.1 in c:\\software development\\anaconda\\envs\\ecng3020\\lib\\site-packages (from aiohttp->datasets) (1.2.0)\n",
      "Requirement already satisfied: async-timeout<5.0,>=4.0.0a3 in c:\\software development\\anaconda\\envs\\ecng3020\\lib\\site-packages (from aiohttp->datasets) (4.0.1)\n",
      "Requirement already satisfied: attrs>=17.3.0 in c:\\software development\\anaconda\\envs\\ecng3020\\lib\\site-packages (from aiohttp->datasets) (21.2.0)\n",
      "Requirement already satisfied: multidict<7.0,>=4.5 in c:\\software development\\anaconda\\envs\\ecng3020\\lib\\site-packages (from aiohttp->datasets) (5.2.0)\n",
      "Requirement already satisfied: aiosignal>=1.1.2 in c:\\software development\\anaconda\\envs\\ecng3020\\lib\\site-packages (from aiohttp->datasets) (1.2.0)\n",
      "Requirement already satisfied: yarl<2.0,>=1.0 in c:\\software development\\anaconda\\envs\\ecng3020\\lib\\site-packages (from aiohttp->datasets) (1.7.2)\n",
      "Requirement already satisfied: pytz>=2017.3 in c:\\software development\\anaconda\\envs\\ecng3020\\lib\\site-packages (from pandas->datasets) (2021.3)\n",
      "Requirement already satisfied: python-dateutil>=2.7.3 in c:\\software development\\anaconda\\envs\\ecng3020\\lib\\site-packages (from pandas->datasets) (2.8.2)\n",
      "Requirement already satisfied: six>=1.5 in c:\\software development\\anaconda\\envs\\ecng3020\\lib\\site-packages (from python-dateutil>=2.7.3->pandas->datasets) (1.16.0)\n"
     ]
    }
   ],
   "source": [
    "!pip install datasets"
   ]
  },
  {
   "cell_type": "code",
   "execution_count": 2,
   "id": "116eee28",
   "metadata": {},
   "outputs": [
    {
     "name": "stderr",
     "output_type": "stream",
     "text": [
      "Using custom data configuration default\n",
      "Reusing dataset emotion (C:\\Users\\valsa\\.cache\\huggingface\\datasets\\emotion\\default\\0.0.0\\348f63ca8e27b3713b6c04d723efe6d824a56fb3d1449794716c0f0296072705)\n"
     ]
    },
    {
     "data": {
      "application/vnd.jupyter.widget-view+json": {
       "model_id": "c69c68a08e4c4cd0838d9b725a5381c0",
       "version_major": 2,
       "version_minor": 0
      },
      "text/plain": [
       "  0%|          | 0/3 [00:00<?, ?it/s]"
      ]
     },
     "metadata": {},
     "output_type": "display_data"
    }
   ],
   "source": [
    "from datasets import load_dataset\n",
    "import pandas as pd\n",
    "import numpy as np\n",
    "\n",
    "emotion_dataset = load_dataset(\"emotion\")"
   ]
  },
  {
   "cell_type": "code",
   "execution_count": 3,
   "id": "2c48d8f0",
   "metadata": {},
   "outputs": [
    {
     "name": "stdout",
     "output_type": "stream",
     "text": [
      "{'text': 'i didnt feel humiliated', 'label': 0}\n",
      "['text', 'label']\n",
      "{'text': Value(dtype='string', id=None), 'label': ClassLabel(num_classes=6, names=['sadness', 'joy', 'love', 'anger', 'fear', 'surprise'], names_file=None, id=None)}\n"
     ]
    }
   ],
   "source": [
    "emotion_train = emotion_dataset['train']\n",
    "print(emotion_train[0])\n",
    "print(emotion_train.column_names)\n",
    "print(emotion_train.features)"
   ]
  },
  {
   "cell_type": "code",
   "execution_count": 4,
   "id": "d3e01d16",
   "metadata": {},
   "outputs": [],
   "source": [
    "emotion_dataset.set_format(type=\"pandas\")\n",
    "df1 = emotion_dataset[\"train\"][:]\n",
    "test = emotion_dataset[\"test\"][:]\n",
    "val = emotion_dataset[\"validation\"][:]"
   ]
  },
  {
   "cell_type": "markdown",
   "id": "0382662b",
   "metadata": {},
   "source": [
    "## Renaming the Columns to Match ISEAR Dataset and Changing Emotion Labels"
   ]
  },
  {
   "cell_type": "code",
   "execution_count": 5,
   "id": "312df635",
   "metadata": {},
   "outputs": [],
   "source": [
    "df1 = df1.rename(columns={'text':'sentence','label':'emotion'})"
   ]
  },
  {
   "cell_type": "code",
   "execution_count": 6,
   "id": "58c8a0c2",
   "metadata": {},
   "outputs": [],
   "source": [
    "df1 = df1[[\"emotion\", \"sentence\"]]"
   ]
  },
  {
   "cell_type": "code",
   "execution_count": 7,
   "id": "0a15bca0",
   "metadata": {},
   "outputs": [
    {
     "data": {
      "text/plain": [
       "array([0, 3, 2, 5, 4, 1], dtype=int64)"
      ]
     },
     "execution_count": 7,
     "metadata": {},
     "output_type": "execute_result"
    }
   ],
   "source": [
    "df1.emotion.unique()"
   ]
  },
  {
   "cell_type": "code",
   "execution_count": 8,
   "id": "6ef227be",
   "metadata": {},
   "outputs": [],
   "source": [
    "df1 = df1.replace([0,1,2,3,4,5],['sadness','joy','love','anger','fear','surprise'])"
   ]
  },
  {
   "cell_type": "markdown",
   "id": "7bff38d5",
   "metadata": {},
   "source": [
    "## Loading in ISEAR Dataset"
   ]
  },
  {
   "cell_type": "code",
   "execution_count": 9,
   "id": "344a8d0a",
   "metadata": {},
   "outputs": [],
   "source": [
    "df2 = pd.read_csv('G:\\My Drive\\AnjanaValsalan_ECNG 3020\\Implementation Files\\ISEAR csv\\ISEAR.csv')"
   ]
  },
  {
   "cell_type": "code",
   "execution_count": 10,
   "id": "e29f1ff8",
   "metadata": {},
   "outputs": [],
   "source": [
    "df2.dropna(axis=1, how=\"any\", thresh=None, subset=None, inplace=True)"
   ]
  },
  {
   "cell_type": "markdown",
   "id": "c43cfd97",
   "metadata": {},
   "source": [
    "## Merging Isear Dataframe with Hugging Face Dataframe"
   ]
  },
  {
   "cell_type": "code",
   "execution_count": 11,
   "id": "b6faab42",
   "metadata": {},
   "outputs": [],
   "source": [
    "frames = [df1, df2]\n",
    "df = pd.concat(frames)"
   ]
  },
  {
   "cell_type": "code",
   "execution_count": 12,
   "id": "e34eb773",
   "metadata": {},
   "outputs": [],
   "source": [
    "df = df.reset_index(drop=True)"
   ]
  },
  {
   "cell_type": "markdown",
   "id": "29b3f713",
   "metadata": {},
   "source": [
    "## Deleting the Shame and Surprise Emotions"
   ]
  },
  {
   "cell_type": "code",
   "execution_count": 13,
   "id": "02c9e229",
   "metadata": {},
   "outputs": [],
   "source": [
    "df = df[df.emotion != 'shame']"
   ]
  },
  {
   "cell_type": "code",
   "execution_count": 14,
   "id": "edfef481",
   "metadata": {},
   "outputs": [],
   "source": [
    "df = df[df.emotion != 'surprise']"
   ]
  },
  {
   "cell_type": "code",
   "execution_count": 15,
   "id": "da9ed70e",
   "metadata": {},
   "outputs": [
    {
     "data": {
      "text/plain": [
       "array(['sadness', 'anger', 'love', 'fear', 'joy', 'disgust', 'guilt'],\n",
       "      dtype=object)"
      ]
     },
     "execution_count": 15,
     "metadata": {},
     "output_type": "execute_result"
    }
   ],
   "source": [
    "df.emotion.unique()"
   ]
  },
  {
   "cell_type": "code",
   "execution_count": 16,
   "id": "05793086",
   "metadata": {},
   "outputs": [
    {
     "data": {
      "text/html": [
       "<div>\n",
       "<style scoped>\n",
       "    .dataframe tbody tr th:only-of-type {\n",
       "        vertical-align: middle;\n",
       "    }\n",
       "\n",
       "    .dataframe tbody tr th {\n",
       "        vertical-align: top;\n",
       "    }\n",
       "\n",
       "    .dataframe thead th {\n",
       "        text-align: right;\n",
       "    }\n",
       "</style>\n",
       "<table border=\"1\" class=\"dataframe\">\n",
       "  <thead>\n",
       "    <tr style=\"text-align: right;\">\n",
       "      <th></th>\n",
       "      <th>sentence</th>\n",
       "    </tr>\n",
       "    <tr>\n",
       "      <th>emotion</th>\n",
       "      <th></th>\n",
       "    </tr>\n",
       "  </thead>\n",
       "  <tbody>\n",
       "    <tr>\n",
       "      <th>anger</th>\n",
       "      <td>3238</td>\n",
       "    </tr>\n",
       "    <tr>\n",
       "      <th>disgust</th>\n",
       "      <td>1066</td>\n",
       "    </tr>\n",
       "    <tr>\n",
       "      <th>fear</th>\n",
       "      <td>3013</td>\n",
       "    </tr>\n",
       "    <tr>\n",
       "      <th>guilt</th>\n",
       "      <td>1050</td>\n",
       "    </tr>\n",
       "    <tr>\n",
       "      <th>joy</th>\n",
       "      <td>6454</td>\n",
       "    </tr>\n",
       "    <tr>\n",
       "      <th>love</th>\n",
       "      <td>1304</td>\n",
       "    </tr>\n",
       "    <tr>\n",
       "      <th>sadness</th>\n",
       "      <td>5748</td>\n",
       "    </tr>\n",
       "  </tbody>\n",
       "</table>\n",
       "</div>"
      ],
      "text/plain": [
       "         sentence\n",
       "emotion          \n",
       "anger        3238\n",
       "disgust      1066\n",
       "fear         3013\n",
       "guilt        1050\n",
       "joy          6454\n",
       "love         1304\n",
       "sadness      5748"
      ]
     },
     "execution_count": 16,
     "metadata": {},
     "output_type": "execute_result"
    }
   ],
   "source": [
    "df.groupby(['emotion']).count()"
   ]
  },
  {
   "cell_type": "markdown",
   "id": "4a5402fd",
   "metadata": {},
   "source": [
    "## Removing Sadness Data"
   ]
  },
  {
   "cell_type": "code",
   "execution_count": 17,
   "id": "7990781b",
   "metadata": {},
   "outputs": [],
   "source": [
    "sad_df = df.loc[df['emotion'] == 'sadness']"
   ]
  },
  {
   "cell_type": "code",
   "execution_count": 18,
   "id": "2a858124",
   "metadata": {},
   "outputs": [],
   "source": [
    "sad_list = sad_df.values.tolist()"
   ]
  },
  {
   "cell_type": "code",
   "execution_count": 19,
   "id": "b9b6e333",
   "metadata": {},
   "outputs": [],
   "source": [
    "rand = np.random.RandomState(32).permutation(len(sad_list))"
   ]
  },
  {
   "cell_type": "code",
   "execution_count": 20,
   "id": "c465a3ae",
   "metadata": {},
   "outputs": [],
   "source": [
    "sad_array = np.array(sad_df)[rand]"
   ]
  },
  {
   "cell_type": "code",
   "execution_count": 21,
   "id": "47cb51de",
   "metadata": {},
   "outputs": [],
   "source": [
    "sad = sad_array[0: 1050]"
   ]
  },
  {
   "cell_type": "code",
   "execution_count": 22,
   "id": "03f24de1",
   "metadata": {},
   "outputs": [],
   "source": [
    "sad_list = sad.tolist()"
   ]
  },
  {
   "cell_type": "code",
   "execution_count": 23,
   "id": "e7e9600e",
   "metadata": {},
   "outputs": [],
   "source": [
    "sad_df = pd.DataFrame(sad_list, columns=['emotion','sentence'])"
   ]
  },
  {
   "cell_type": "markdown",
   "id": "8b2a50e8",
   "metadata": {},
   "source": [
    "## Removing Anger Data"
   ]
  },
  {
   "cell_type": "code",
   "execution_count": 24,
   "id": "d261acda",
   "metadata": {},
   "outputs": [],
   "source": [
    "ang_df = df.loc[df['emotion'] == 'anger']"
   ]
  },
  {
   "cell_type": "code",
   "execution_count": 25,
   "id": "501bbff0",
   "metadata": {},
   "outputs": [],
   "source": [
    "ang_list = ang_df.values.tolist()"
   ]
  },
  {
   "cell_type": "code",
   "execution_count": 26,
   "id": "25278f3e",
   "metadata": {},
   "outputs": [],
   "source": [
    "rand = np.random.RandomState(32).permutation(len(ang_list))"
   ]
  },
  {
   "cell_type": "code",
   "execution_count": 27,
   "id": "397529f6",
   "metadata": {},
   "outputs": [],
   "source": [
    "ang_array = np.array(ang_df)[rand]"
   ]
  },
  {
   "cell_type": "code",
   "execution_count": 28,
   "id": "879a5f22",
   "metadata": {},
   "outputs": [],
   "source": [
    "ang = ang_array[0: 1050]"
   ]
  },
  {
   "cell_type": "code",
   "execution_count": 29,
   "id": "c63407fd",
   "metadata": {},
   "outputs": [],
   "source": [
    "ang_list = ang.tolist()"
   ]
  },
  {
   "cell_type": "code",
   "execution_count": 30,
   "id": "e0e974b2",
   "metadata": {},
   "outputs": [],
   "source": [
    "ang_df = pd.DataFrame(ang_list, columns=['emotion','sentence'])"
   ]
  },
  {
   "cell_type": "markdown",
   "id": "dbe9e949",
   "metadata": {},
   "source": [
    "## Removing Disgust Data"
   ]
  },
  {
   "cell_type": "code",
   "execution_count": 31,
   "id": "88e9b0a3",
   "metadata": {},
   "outputs": [],
   "source": [
    "dis_df = df.loc[df['emotion'] == 'disgust']"
   ]
  },
  {
   "cell_type": "code",
   "execution_count": 32,
   "id": "fa7cfc38",
   "metadata": {},
   "outputs": [],
   "source": [
    "dis_list = dis_df.values.tolist()"
   ]
  },
  {
   "cell_type": "code",
   "execution_count": 33,
   "id": "95dace5a",
   "metadata": {},
   "outputs": [],
   "source": [
    "rand = np.random.RandomState(32).permutation(len(dis_list))"
   ]
  },
  {
   "cell_type": "code",
   "execution_count": 34,
   "id": "4316dc32",
   "metadata": {},
   "outputs": [],
   "source": [
    "dis_array = np.array(dis_df)[rand]"
   ]
  },
  {
   "cell_type": "code",
   "execution_count": 35,
   "id": "0812e5e9",
   "metadata": {},
   "outputs": [],
   "source": [
    "dis = dis_array[0: 1050]"
   ]
  },
  {
   "cell_type": "code",
   "execution_count": 36,
   "id": "689d179e",
   "metadata": {},
   "outputs": [],
   "source": [
    "dis_list = dis.tolist()"
   ]
  },
  {
   "cell_type": "code",
   "execution_count": 37,
   "id": "8ac47843",
   "metadata": {},
   "outputs": [],
   "source": [
    "dis_df = pd.DataFrame(dis_list, columns=['emotion','sentence'])"
   ]
  },
  {
   "cell_type": "code",
   "execution_count": 38,
   "id": "6e332e5a",
   "metadata": {},
   "outputs": [
    {
     "data": {
      "text/html": [
       "<div>\n",
       "<style scoped>\n",
       "    .dataframe tbody tr th:only-of-type {\n",
       "        vertical-align: middle;\n",
       "    }\n",
       "\n",
       "    .dataframe tbody tr th {\n",
       "        vertical-align: top;\n",
       "    }\n",
       "\n",
       "    .dataframe thead th {\n",
       "        text-align: right;\n",
       "    }\n",
       "</style>\n",
       "<table border=\"1\" class=\"dataframe\">\n",
       "  <thead>\n",
       "    <tr style=\"text-align: right;\">\n",
       "      <th></th>\n",
       "      <th>emotion</th>\n",
       "      <th>sentence</th>\n",
       "    </tr>\n",
       "  </thead>\n",
       "  <tbody>\n",
       "    <tr>\n",
       "      <th>0</th>\n",
       "      <td>disgust</td>\n",
       "      <td>I felt disgusted when I found out that someone...</td>\n",
       "    </tr>\n",
       "    <tr>\n",
       "      <th>1</th>\n",
       "      <td>disgust</td>\n",
       "      <td>The physical appearance of a meal.</td>\n",
       "    </tr>\n",
       "    <tr>\n",
       "      <th>2</th>\n",
       "      <td>disgust</td>\n",
       "      <td>Disgust with drunk people.</td>\n",
       "    </tr>\n",
       "    <tr>\n",
       "      <th>3</th>\n",
       "      <td>disgust</td>\n",
       "      <td>Being mistreated by my former primary school t...</td>\n",
       "    </tr>\n",
       "    <tr>\n",
       "      <th>4</th>\n",
       "      <td>disgust</td>\n",
       "      <td>The male friend of my mother (a widow) moved i...</td>\n",
       "    </tr>\n",
       "    <tr>\n",
       "      <th>...</th>\n",
       "      <td>...</td>\n",
       "      <td>...</td>\n",
       "    </tr>\n",
       "    <tr>\n",
       "      <th>1045</th>\n",
       "      <td>disgust</td>\n",
       "      <td>When a close relative got quite drunk. It was ...</td>\n",
       "    </tr>\n",
       "    <tr>\n",
       "      <th>1046</th>\n",
       "      <td>disgust</td>\n",
       "      <td>When I saw hundreds of snakes twisting over on...</td>\n",
       "    </tr>\n",
       "    <tr>\n",
       "      <th>1047</th>\n",
       "      <td>disgust</td>\n",
       "      <td>A colleague of mine asked a lecturer to put hi...</td>\n",
       "    </tr>\n",
       "    <tr>\n",
       "      <th>1048</th>\n",
       "      <td>disgust</td>\n",
       "      <td>I think I have hardly had a situation where I ...</td>\n",
       "    </tr>\n",
       "    <tr>\n",
       "      <th>1049</th>\n",
       "      <td>disgust</td>\n",
       "      <td>On a trip I passed by a cellulose factory. It ...</td>\n",
       "    </tr>\n",
       "  </tbody>\n",
       "</table>\n",
       "<p>1050 rows × 2 columns</p>\n",
       "</div>"
      ],
      "text/plain": [
       "      emotion                                           sentence\n",
       "0     disgust  I felt disgusted when I found out that someone...\n",
       "1     disgust                 The physical appearance of a meal.\n",
       "2     disgust                         Disgust with drunk people.\n",
       "3     disgust  Being mistreated by my former primary school t...\n",
       "4     disgust  The male friend of my mother (a widow) moved i...\n",
       "...       ...                                                ...\n",
       "1045  disgust  When a close relative got quite drunk. It was ...\n",
       "1046  disgust  When I saw hundreds of snakes twisting over on...\n",
       "1047  disgust  A colleague of mine asked a lecturer to put hi...\n",
       "1048  disgust  I think I have hardly had a situation where I ...\n",
       "1049  disgust  On a trip I passed by a cellulose factory. It ...\n",
       "\n",
       "[1050 rows x 2 columns]"
      ]
     },
     "execution_count": 38,
     "metadata": {},
     "output_type": "execute_result"
    }
   ],
   "source": [
    "dis_df"
   ]
  },
  {
   "cell_type": "markdown",
   "id": "1c324d3c",
   "metadata": {},
   "source": [
    "## Removing Fear Data"
   ]
  },
  {
   "cell_type": "code",
   "execution_count": 39,
   "id": "8fa4a911",
   "metadata": {},
   "outputs": [],
   "source": [
    "fear_df = df.loc[df['emotion'] == 'fear']"
   ]
  },
  {
   "cell_type": "code",
   "execution_count": 40,
   "id": "050c450b",
   "metadata": {},
   "outputs": [],
   "source": [
    "fear_list = fear_df.values.tolist()"
   ]
  },
  {
   "cell_type": "code",
   "execution_count": 41,
   "id": "05c766cb",
   "metadata": {},
   "outputs": [],
   "source": [
    "rand = np.random.RandomState(32).permutation(len(fear_list))"
   ]
  },
  {
   "cell_type": "code",
   "execution_count": 42,
   "id": "8aa99ded",
   "metadata": {},
   "outputs": [],
   "source": [
    "fear_array = np.array(fear_df)[rand]"
   ]
  },
  {
   "cell_type": "code",
   "execution_count": 43,
   "id": "be52590e",
   "metadata": {},
   "outputs": [],
   "source": [
    "fear = fear_array[0: 1050]"
   ]
  },
  {
   "cell_type": "code",
   "execution_count": 44,
   "id": "b545e912",
   "metadata": {},
   "outputs": [],
   "source": [
    "fear_list = fear.tolist()"
   ]
  },
  {
   "cell_type": "code",
   "execution_count": 45,
   "id": "84aa67a7",
   "metadata": {},
   "outputs": [],
   "source": [
    "fear_df = pd.DataFrame(fear_list, columns=['emotion','sentence'])"
   ]
  },
  {
   "cell_type": "code",
   "execution_count": 46,
   "id": "1cec1036",
   "metadata": {},
   "outputs": [
    {
     "data": {
      "text/html": [
       "<div>\n",
       "<style scoped>\n",
       "    .dataframe tbody tr th:only-of-type {\n",
       "        vertical-align: middle;\n",
       "    }\n",
       "\n",
       "    .dataframe tbody tr th {\n",
       "        vertical-align: top;\n",
       "    }\n",
       "\n",
       "    .dataframe thead th {\n",
       "        text-align: right;\n",
       "    }\n",
       "</style>\n",
       "<table border=\"1\" class=\"dataframe\">\n",
       "  <thead>\n",
       "    <tr style=\"text-align: right;\">\n",
       "      <th></th>\n",
       "      <th>emotion</th>\n",
       "      <th>sentence</th>\n",
       "    </tr>\n",
       "  </thead>\n",
       "  <tbody>\n",
       "    <tr>\n",
       "      <th>0</th>\n",
       "      <td>fear</td>\n",
       "      <td>i begun to feel distressed for you</td>\n",
       "    </tr>\n",
       "    <tr>\n",
       "      <th>1</th>\n",
       "      <td>fear</td>\n",
       "      <td>i feel like a person who tortured somebody bec...</td>\n",
       "    </tr>\n",
       "    <tr>\n",
       "      <th>2</th>\n",
       "      <td>fear</td>\n",
       "      <td>I was driving very fast on a small road and I ...</td>\n",
       "    </tr>\n",
       "    <tr>\n",
       "      <th>3</th>\n",
       "      <td>fear</td>\n",
       "      <td>i feel kind of reluctant and depressed when yo...</td>\n",
       "    </tr>\n",
       "    <tr>\n",
       "      <th>4</th>\n",
       "      <td>fear</td>\n",
       "      <td>i feel scared that i own it</td>\n",
       "    </tr>\n",
       "    <tr>\n",
       "      <th>...</th>\n",
       "      <td>...</td>\n",
       "      <td>...</td>\n",
       "    </tr>\n",
       "    <tr>\n",
       "      <th>1045</th>\n",
       "      <td>fear</td>\n",
       "      <td>i think my feelings remix is the result of how...</td>\n",
       "    </tr>\n",
       "    <tr>\n",
       "      <th>1046</th>\n",
       "      <td>fear</td>\n",
       "      <td>i was also feeling anxious around some of the ...</td>\n",
       "    </tr>\n",
       "    <tr>\n",
       "      <th>1047</th>\n",
       "      <td>fear</td>\n",
       "      <td>I felt fear once, when the car in which I trav...</td>\n",
       "    </tr>\n",
       "    <tr>\n",
       "      <th>1048</th>\n",
       "      <td>fear</td>\n",
       "      <td>i think that they pop up so automatically beca...</td>\n",
       "    </tr>\n",
       "    <tr>\n",
       "      <th>1049</th>\n",
       "      <td>fear</td>\n",
       "      <td>i put my knitting down and covered my ears wit...</td>\n",
       "    </tr>\n",
       "  </tbody>\n",
       "</table>\n",
       "<p>1050 rows × 2 columns</p>\n",
       "</div>"
      ],
      "text/plain": [
       "     emotion                                           sentence\n",
       "0       fear                 i begun to feel distressed for you\n",
       "1       fear  i feel like a person who tortured somebody bec...\n",
       "2       fear  I was driving very fast on a small road and I ...\n",
       "3       fear  i feel kind of reluctant and depressed when yo...\n",
       "4       fear                        i feel scared that i own it\n",
       "...      ...                                                ...\n",
       "1045    fear  i think my feelings remix is the result of how...\n",
       "1046    fear  i was also feeling anxious around some of the ...\n",
       "1047    fear  I felt fear once, when the car in which I trav...\n",
       "1048    fear  i think that they pop up so automatically beca...\n",
       "1049    fear  i put my knitting down and covered my ears wit...\n",
       "\n",
       "[1050 rows x 2 columns]"
      ]
     },
     "execution_count": 46,
     "metadata": {},
     "output_type": "execute_result"
    }
   ],
   "source": [
    "fear_df"
   ]
  },
  {
   "cell_type": "markdown",
   "id": "f9dcf4ae",
   "metadata": {},
   "source": [
    "## Removing Guilt Data"
   ]
  },
  {
   "cell_type": "code",
   "execution_count": 47,
   "id": "65e1f95e",
   "metadata": {},
   "outputs": [],
   "source": [
    "guilt_df = df.loc[df['emotion'] == 'guilt']"
   ]
  },
  {
   "cell_type": "code",
   "execution_count": 48,
   "id": "4ef85a41",
   "metadata": {},
   "outputs": [],
   "source": [
    "guilt_list = fear_df.values.tolist()"
   ]
  },
  {
   "cell_type": "code",
   "execution_count": 49,
   "id": "b2a5f27b",
   "metadata": {},
   "outputs": [],
   "source": [
    "rand = np.random.RandomState(32).permutation(len(guilt_list))"
   ]
  },
  {
   "cell_type": "code",
   "execution_count": 50,
   "id": "f52d4c74",
   "metadata": {},
   "outputs": [],
   "source": [
    "guilt_array = np.array(guilt_df)[rand]"
   ]
  },
  {
   "cell_type": "code",
   "execution_count": 51,
   "id": "08becd32",
   "metadata": {},
   "outputs": [],
   "source": [
    "guilt = guilt_array[0: 1050]"
   ]
  },
  {
   "cell_type": "code",
   "execution_count": 52,
   "id": "a31474c9",
   "metadata": {},
   "outputs": [],
   "source": [
    "guilt_list = guilt.tolist()"
   ]
  },
  {
   "cell_type": "code",
   "execution_count": 53,
   "id": "658365f4",
   "metadata": {},
   "outputs": [],
   "source": [
    "guilt_df = pd.DataFrame(guilt_list, columns=['emotion','sentence'])"
   ]
  },
  {
   "cell_type": "code",
   "execution_count": 54,
   "id": "5755a782",
   "metadata": {},
   "outputs": [
    {
     "data": {
      "text/html": [
       "<div>\n",
       "<style scoped>\n",
       "    .dataframe tbody tr th:only-of-type {\n",
       "        vertical-align: middle;\n",
       "    }\n",
       "\n",
       "    .dataframe tbody tr th {\n",
       "        vertical-align: top;\n",
       "    }\n",
       "\n",
       "    .dataframe thead th {\n",
       "        text-align: right;\n",
       "    }\n",
       "</style>\n",
       "<table border=\"1\" class=\"dataframe\">\n",
       "  <thead>\n",
       "    <tr style=\"text-align: right;\">\n",
       "      <th></th>\n",
       "      <th>emotion</th>\n",
       "      <th>sentence</th>\n",
       "    </tr>\n",
       "  </thead>\n",
       "  <tbody>\n",
       "    <tr>\n",
       "      <th>0</th>\n",
       "      <td>guilt</td>\n",
       "      <td>Squeezed the puppy in the door.</td>\n",
       "    </tr>\n",
       "    <tr>\n",
       "      <th>1</th>\n",
       "      <td>guilt</td>\n",
       "      <td>I got up late and I could not go to my lessons...</td>\n",
       "    </tr>\n",
       "    <tr>\n",
       "      <th>2</th>\n",
       "      <td>guilt</td>\n",
       "      <td>I used to have two boyfriends in the past. The...</td>\n",
       "    </tr>\n",
       "    <tr>\n",
       "      <th>3</th>\n",
       "      <td>guilt</td>\n",
       "      <td>When I sided with my mother in a quarrel she h...</td>\n",
       "    </tr>\n",
       "    <tr>\n",
       "      <th>4</th>\n",
       "      <td>guilt</td>\n",
       "      <td>One day I was chatting with children at home. ...</td>\n",
       "    </tr>\n",
       "    <tr>\n",
       "      <th>...</th>\n",
       "      <td>...</td>\n",
       "      <td>...</td>\n",
       "    </tr>\n",
       "    <tr>\n",
       "      <th>1045</th>\n",
       "      <td>guilt</td>\n",
       "      <td>When I was 4-5 years old my mother gave me som...</td>\n",
       "    </tr>\n",
       "    <tr>\n",
       "      <th>1046</th>\n",
       "      <td>guilt</td>\n",
       "      <td>When I was in the puberty I smashed the favour...</td>\n",
       "    </tr>\n",
       "    <tr>\n",
       "      <th>1047</th>\n",
       "      <td>guilt</td>\n",
       "      <td>Car accident. I let a 16-year old, incompetent...</td>\n",
       "    </tr>\n",
       "    <tr>\n",
       "      <th>1048</th>\n",
       "      <td>guilt</td>\n",
       "      <td>I felt guilty when one of my secondary teacher...</td>\n",
       "    </tr>\n",
       "    <tr>\n",
       "      <th>1049</th>\n",
       "      <td>guilt</td>\n",
       "      <td>When my pet dog,who was to us a family member,...</td>\n",
       "    </tr>\n",
       "  </tbody>\n",
       "</table>\n",
       "<p>1050 rows × 2 columns</p>\n",
       "</div>"
      ],
      "text/plain": [
       "     emotion                                           sentence\n",
       "0      guilt                    Squeezed the puppy in the door.\n",
       "1      guilt  I got up late and I could not go to my lessons...\n",
       "2      guilt  I used to have two boyfriends in the past. The...\n",
       "3      guilt  When I sided with my mother in a quarrel she h...\n",
       "4      guilt  One day I was chatting with children at home. ...\n",
       "...      ...                                                ...\n",
       "1045   guilt  When I was 4-5 years old my mother gave me som...\n",
       "1046   guilt  When I was in the puberty I smashed the favour...\n",
       "1047   guilt  Car accident. I let a 16-year old, incompetent...\n",
       "1048   guilt  I felt guilty when one of my secondary teacher...\n",
       "1049   guilt  When my pet dog,who was to us a family member,...\n",
       "\n",
       "[1050 rows x 2 columns]"
      ]
     },
     "execution_count": 54,
     "metadata": {},
     "output_type": "execute_result"
    }
   ],
   "source": [
    "guilt_df"
   ]
  },
  {
   "cell_type": "markdown",
   "id": "ef9d31ad",
   "metadata": {},
   "source": [
    "## Removing Joy Data"
   ]
  },
  {
   "cell_type": "code",
   "execution_count": 55,
   "id": "e04ffb58",
   "metadata": {},
   "outputs": [],
   "source": [
    "joy_df = df.loc[df['emotion'] == 'joy']"
   ]
  },
  {
   "cell_type": "code",
   "execution_count": 56,
   "id": "c991d751",
   "metadata": {},
   "outputs": [],
   "source": [
    "joy_list = joy_df.values.tolist()"
   ]
  },
  {
   "cell_type": "code",
   "execution_count": 57,
   "id": "21494824",
   "metadata": {},
   "outputs": [],
   "source": [
    "rand = np.random.RandomState(32).permutation(len(joy_list))"
   ]
  },
  {
   "cell_type": "code",
   "execution_count": null,
   "id": "bf19cc50",
   "metadata": {},
   "outputs": [],
   "source": [
    "joy_array = np.array(joy_df)[rand]"
   ]
  }
 ],
 "metadata": {
  "kernelspec": {
   "display_name": "Python 3 (ipykernel)",
   "language": "python",
   "name": "python3"
  },
  "language_info": {
   "codemirror_mode": {
    "name": "ipython",
    "version": 3
   },
   "file_extension": ".py",
   "mimetype": "text/x-python",
   "name": "python",
   "nbconvert_exporter": "python",
   "pygments_lexer": "ipython3",
   "version": "3.9.7"
  }
 },
 "nbformat": 4,
 "nbformat_minor": 5
}
