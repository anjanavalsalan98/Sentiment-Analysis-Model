{
 "cells": [
  {
   "cell_type": "code",
   "execution_count": 1,
   "id": "316f4a26",
   "metadata": {},
   "outputs": [],
   "source": [
    "import tensorflow as tf\n",
    "import numpy as np\n",
    "import pandas as pd\n",
    "import matplotlib.pyplot as plt\n",
    "import random"
   ]
  },
  {
   "cell_type": "code",
   "execution_count": 11,
   "id": "6a27e8b6",
   "metadata": {},
   "outputs": [
    {
     "data": {
      "text/html": [
       "<div>\n",
       "<style scoped>\n",
       "    .dataframe tbody tr th:only-of-type {\n",
       "        vertical-align: middle;\n",
       "    }\n",
       "\n",
       "    .dataframe tbody tr th {\n",
       "        vertical-align: top;\n",
       "    }\n",
       "\n",
       "    .dataframe thead th {\n",
       "        text-align: right;\n",
       "    }\n",
       "</style>\n",
       "<table border=\"1\" class=\"dataframe\">\n",
       "  <thead>\n",
       "    <tr style=\"text-align: right;\">\n",
       "      <th></th>\n",
       "      <th>text</th>\n",
       "    </tr>\n",
       "    <tr>\n",
       "      <th>label</th>\n",
       "      <th></th>\n",
       "    </tr>\n",
       "  </thead>\n",
       "  <tbody>\n",
       "    <tr>\n",
       "      <th>anger</th>\n",
       "      <td>1079</td>\n",
       "    </tr>\n",
       "    <tr>\n",
       "      <th>fear</th>\n",
       "      <td>1076</td>\n",
       "    </tr>\n",
       "    <tr>\n",
       "      <th>joy</th>\n",
       "      <td>1092</td>\n",
       "    </tr>\n",
       "    <tr>\n",
       "      <th>sadness</th>\n",
       "      <td>1082</td>\n",
       "    </tr>\n",
       "  </tbody>\n",
       "</table>\n",
       "</div>"
      ],
      "text/plain": [
       "         text\n",
       "label        \n",
       "anger    1079\n",
       "fear     1076\n",
       "joy      1092\n",
       "sadness  1082"
      ]
     },
     "execution_count": 11,
     "metadata": {},
     "output_type": "execute_result"
    }
   ],
   "source": [
    "ISEAR_dataset = pd.read_csv('G:\\My Drive\\AnjanaValsalan_ECNG 3020\\Implementation Files\\Datasets\\ISEAR csv\\ISEAR.csv')\n",
    "ISEAR_dataset.dropna(axis=1, how=\"any\", thresh=None, subset=None, inplace=True)\n",
    "ISEAR_dataset = ISEAR_dataset[ISEAR_dataset.emotion != 'disgust']\n",
    "ISEAR_dataset = ISEAR_dataset[ISEAR_dataset.emotion != 'shame']\n",
    "ISEAR_dataset = ISEAR_dataset[ISEAR_dataset.emotion != 'guilt']\n",
    "ISEAR_dataset = ISEAR_dataset[[\"sentence\", \"emotion\"]]\n",
    "ISEAR_dataset = ISEAR_dataset.rename(columns={'sentence':'text','emotion':'label'})\n",
    "ISEAR_dataset.groupby(['label']).count()"
   ]
  },
  {
   "cell_type": "code",
   "execution_count": 12,
   "id": "844ca038",
   "metadata": {},
   "outputs": [],
   "source": [
    "for index, row in ISEAR_dataset.iterrows():\n",
    "    row[\"text\"] = row[\"text\"].strip().replace(\"   \",\" \").replace(\"  \",\" \").replace(\"\\n\",\"\")"
   ]
  },
  {
   "cell_type": "code",
   "execution_count": 5,
   "id": "e293e5b8",
   "metadata": {},
   "outputs": [],
   "source": [
    "ISEAR_train = ISEAR_dataset[0: int(0.8*len(ISEAR_dataset))]\n",
    "ISEAR_val = ISEAR_dataset[int(0.8*len(ISEAR_dataset)):int(0.9*len(ISEAR_dataset))]\n",
    "ISEAR_test = ISEAR_dataset[int(0.9*len(ISEAR_dataset)):]"
   ]
  },
  {
   "cell_type": "code",
   "execution_count": 6,
   "id": "3e510254",
   "metadata": {},
   "outputs": [
    {
     "name": "stderr",
     "output_type": "stream",
     "text": [
      "Using custom data configuration default\n",
      "Reusing dataset emotion (C:\\Users\\valsa\\.cache\\huggingface\\datasets\\emotion\\default\\0.0.0\\348f63ca8e27b3713b6c04d723efe6d824a56fb3d1449794716c0f0296072705)\n"
     ]
    },
    {
     "data": {
      "application/vnd.jupyter.widget-view+json": {
       "model_id": "1538135051354b2bbdb4b3b6e3b542c1",
       "version_major": 2,
       "version_minor": 0
      },
      "text/plain": [
       "  0%|          | 0/3 [00:00<?, ?it/s]"
      ]
     },
     "metadata": {},
     "output_type": "display_data"
    }
   ],
   "source": [
    "from datasets import load_dataset\n",
    "dataset = load_dataset(\"emotion\")"
   ]
  },
  {
   "cell_type": "code",
   "execution_count": 7,
   "id": "ae6d708a",
   "metadata": {},
   "outputs": [],
   "source": [
    "dataset.set_format(type=\"pandas\")\n",
    "train = dataset[\"train\"][:]\n",
    "test = dataset[\"test\"][:]\n",
    "val = dataset[\"validation\"][:]"
   ]
  },
  {
   "cell_type": "code",
   "execution_count": 8,
   "id": "f022c293",
   "metadata": {},
   "outputs": [],
   "source": [
    "frames = [ISEAR_train, train]\n",
    "train = pd.concat(frames)\n",
    "train = train.reset_index(drop=True)\n",
    "\n",
    "frames = [ISEAR_test, test]\n",
    "test = pd.concat(frames)\n",
    "test = test.reset_index(drop=True)\n",
    "\n",
    "frames = [ISEAR_val, val]\n",
    "val = pd.concat(frames)\n",
    "val = val.reset_index(drop=True)"
   ]
  },
  {
   "cell_type": "code",
   "execution_count": 10,
   "id": "9420f91a",
   "metadata": {},
   "outputs": [],
   "source": [
    "train.to_csv(\"G:\\My Drive\\AnjanaValsalan_ECNG 3020\\Implementation Files\\Datasets\\ECNG3020_Final_Dataset\\ECNG3020_Train_Dataset.csv\", index = False)\n",
    "test.to_csv(\"G:\\My Drive\\AnjanaValsalan_ECNG 3020\\Implementation Files\\Datasets\\ECNG3020_Final_Dataset\\ECNG3020_Test_Dataset.csv\", index = False)\n",
    "val.to_csv(\"G:\\My Drive\\AnjanaValsalan_ECNG 3020\\Implementation Files\\Datasets\\ECNG3020_Final_Dataset\\ECNG3020_Val_Dataset.csv\", index = False)"
   ]
  }
 ],
 "metadata": {
  "kernelspec": {
   "display_name": "Python [conda env:ECNG3020] *",
   "language": "python",
   "name": "conda-env-ECNG3020-py"
  },
  "language_info": {
   "codemirror_mode": {
    "name": "ipython",
    "version": 3
   },
   "file_extension": ".py",
   "mimetype": "text/x-python",
   "name": "python",
   "nbconvert_exporter": "python",
   "pygments_lexer": "ipython3",
   "version": "3.8.8"
  }
 },
 "nbformat": 4,
 "nbformat_minor": 5
}
