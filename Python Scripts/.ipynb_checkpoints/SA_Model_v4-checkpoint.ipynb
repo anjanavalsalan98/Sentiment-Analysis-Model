{
 "cells": [
  {
   "cell_type": "code",
   "execution_count": 1,
   "id": "cd2685f5",
   "metadata": {},
   "outputs": [
    {
     "name": "stdout",
     "output_type": "stream",
     "text": [
      "Using TensorFlow version 2.7.0\n"
     ]
    }
   ],
   "source": [
    "import tensorflow as tf\n",
    "import nltk\n",
    "import matplotlib.pyplot as plt\n",
    "import numpy as np\n",
    "import pandas as pd\n",
    "import random\n",
    "from sklearn.model_selection import train_test_split \n",
    "from tensorflow.keras.preprocessing.text import Tokenizer \n",
    "\n",
    "def show_history(h):\n",
    "    epochs_trained = len(h.history['loss'])\n",
    "    plt.figure(figsize=(16, 6))\n",
    "\n",
    "    plt.subplot(1, 2, 1)\n",
    "    plt.plot(range(0, epochs_trained), h.history.get('accuracy'), label='Training')\n",
    "    plt.plot(range(0, epochs_trained), h.history.get('val_accuracy'), label='Validation')\n",
    "    plt.ylim([0., 1.])\n",
    "    plt.xlabel('Epochs')\n",
    "    plt.ylabel('Accuracy')\n",
    "    plt.legend()\n",
    "\n",
    "    plt.subplot(1, 2, 2)\n",
    "    plt.plot(range(0, epochs_trained), h.history.get('loss'), label='Training')\n",
    "    plt.plot(range(0, epochs_trained), h.history.get('val_loss'), label='Validation')\n",
    "    plt.xlabel('Epochs')\n",
    "    plt.ylabel('Loss')\n",
    "    plt.legend()\n",
    "    plt.show()\n",
    "\n",
    "    \n",
    "def show_confusion_matrix(y_true, y_pred, classes):\n",
    "    from sklearn.metrics import confusion_matrix\n",
    "    \n",
    "    cm = confusion_matrix(y_true, y_pred, normalize='true')\n",
    "\n",
    "    plt.figure(figsize=(4, 4))\n",
    "    sp = plt.subplot(1, 1, 1)\n",
    "    ctx = sp.matshow(cm)\n",
    "    plt.xticks(list(range(0, 4)), labels=classes)\n",
    "    plt.yticks(list(range(0, 4)), labels=classes)\n",
    "    plt.colorbar(ctx)\n",
    "    plt.show()\n",
    "   \n",
    "print('Using TensorFlow version', tf.__version__)"
   ]
  },
  {
   "cell_type": "code",
   "execution_count": 2,
   "id": "7bf4ab8c",
   "metadata": {},
   "outputs": [
    {
     "name": "stdout",
     "output_type": "stream",
     "text": [
      "Requirement already satisfied: datasets in c:\\software development\\anaconda\\envs\\ecng3020\\lib\\site-packages (1.16.1)\n",
      "Requirement already satisfied: dill in c:\\software development\\anaconda\\envs\\ecng3020\\lib\\site-packages (from datasets) (0.3.4)\n",
      "Requirement already satisfied: multiprocess in c:\\software development\\anaconda\\envs\\ecng3020\\lib\\site-packages (from datasets) (0.70.12.2)\n",
      "Requirement already satisfied: aiohttp in c:\\software development\\anaconda\\envs\\ecng3020\\lib\\site-packages (from datasets) (3.8.1)\n",
      "Requirement already satisfied: requests>=2.19.0 in c:\\software development\\anaconda\\envs\\ecng3020\\lib\\site-packages (from datasets) (2.26.0)\n",
      "Requirement already satisfied: pandas in c:\\software development\\anaconda\\envs\\ecng3020\\lib\\site-packages (from datasets) (1.3.4)\n",
      "Requirement already satisfied: numpy>=1.17 in c:\\software development\\anaconda\\envs\\ecng3020\\lib\\site-packages (from datasets) (1.21.4)\n",
      "Requirement already satisfied: pyarrow!=4.0.0,>=3.0.0 in c:\\software development\\anaconda\\envs\\ecng3020\\lib\\site-packages (from datasets) (6.0.0)\n",
      "Requirement already satisfied: fsspec[http]>=2021.05.0 in c:\\software development\\anaconda\\envs\\ecng3020\\lib\\site-packages (from datasets) (2021.11.1)\n",
      "Requirement already satisfied: xxhash in c:\\software development\\anaconda\\envs\\ecng3020\\lib\\site-packages (from datasets) (2.0.2)\n",
      "Requirement already satisfied: packaging in c:\\software development\\anaconda\\envs\\ecng3020\\lib\\site-packages (from datasets) (21.0)\n",
      "Requirement already satisfied: tqdm>=4.62.1 in c:\\software development\\anaconda\\envs\\ecng3020\\lib\\site-packages (from datasets) (4.62.3)\n",
      "Requirement already satisfied: huggingface-hub<1.0.0,>=0.1.0 in c:\\software development\\anaconda\\envs\\ecng3020\\lib\\site-packages (from datasets) (0.2.1)\n",
      "Requirement already satisfied: filelock in c:\\software development\\anaconda\\envs\\ecng3020\\lib\\site-packages (from huggingface-hub<1.0.0,>=0.1.0->datasets) (3.4.0)\n",
      "Requirement already satisfied: typing-extensions>=3.7.4.3 in c:\\software development\\anaconda\\envs\\ecng3020\\lib\\site-packages (from huggingface-hub<1.0.0,>=0.1.0->datasets) (4.0.0)\n",
      "Requirement already satisfied: pyyaml in c:\\software development\\anaconda\\envs\\ecng3020\\lib\\site-packages (from huggingface-hub<1.0.0,>=0.1.0->datasets) (6.0)\n",
      "Requirement already satisfied: pyparsing>=2.0.2 in c:\\software development\\anaconda\\envs\\ecng3020\\lib\\site-packages (from packaging->datasets) (3.0.4)\n",
      "Requirement already satisfied: urllib3<1.27,>=1.21.1 in c:\\software development\\anaconda\\envs\\ecng3020\\lib\\site-packages (from requests>=2.19.0->datasets) (1.26.7)\n",
      "Requirement already satisfied: idna<4,>=2.5 in c:\\software development\\anaconda\\envs\\ecng3020\\lib\\site-packages (from requests>=2.19.0->datasets) (3.3)\n",
      "Requirement already satisfied: certifi>=2017.4.17 in c:\\software development\\anaconda\\envs\\ecng3020\\lib\\site-packages (from requests>=2.19.0->datasets) (2021.10.8)\n",
      "Requirement already satisfied: charset-normalizer~=2.0.0 in c:\\software development\\anaconda\\envs\\ecng3020\\lib\\site-packages (from requests>=2.19.0->datasets) (2.0.7)\n",
      "Requirement already satisfied: colorama in c:\\software development\\anaconda\\envs\\ecng3020\\lib\\site-packages (from tqdm>=4.62.1->datasets) (0.4.4)\n",
      "Requirement already satisfied: frozenlist>=1.1.1 in c:\\software development\\anaconda\\envs\\ecng3020\\lib\\site-packages (from aiohttp->datasets) (1.2.0)\n",
      "Requirement already satisfied: attrs>=17.3.0 in c:\\software development\\anaconda\\envs\\ecng3020\\lib\\site-packages (from aiohttp->datasets) (21.2.0)\n",
      "Requirement already satisfied: multidict<7.0,>=4.5 in c:\\software development\\anaconda\\envs\\ecng3020\\lib\\site-packages (from aiohttp->datasets) (5.2.0)\n",
      "Requirement already satisfied: async-timeout<5.0,>=4.0.0a3 in c:\\software development\\anaconda\\envs\\ecng3020\\lib\\site-packages (from aiohttp->datasets) (4.0.1)\n",
      "Requirement already satisfied: aiosignal>=1.1.2 in c:\\software development\\anaconda\\envs\\ecng3020\\lib\\site-packages (from aiohttp->datasets) (1.2.0)\n",
      "Requirement already satisfied: yarl<2.0,>=1.0 in c:\\software development\\anaconda\\envs\\ecng3020\\lib\\site-packages (from aiohttp->datasets) (1.7.2)\n",
      "Requirement already satisfied: python-dateutil>=2.7.3 in c:\\software development\\anaconda\\envs\\ecng3020\\lib\\site-packages (from pandas->datasets) (2.8.2)\n",
      "Requirement already satisfied: pytz>=2017.3 in c:\\software development\\anaconda\\envs\\ecng3020\\lib\\site-packages (from pandas->datasets) (2021.3)\n",
      "Requirement already satisfied: six>=1.5 in c:\\software development\\anaconda\\envs\\ecng3020\\lib\\site-packages (from python-dateutil>=2.7.3->pandas->datasets) (1.16.0)\n"
     ]
    }
   ],
   "source": [
    "!pip install datasets"
   ]
  },
  {
   "cell_type": "code",
   "execution_count": 3,
   "id": "bee4be3a",
   "metadata": {},
   "outputs": [
    {
     "name": "stderr",
     "output_type": "stream",
     "text": [
      "Using custom data configuration default\n",
      "Reusing dataset emotion (C:\\Users\\valsa\\.cache\\huggingface\\datasets\\emotion\\default\\0.0.0\\348f63ca8e27b3713b6c04d723efe6d824a56fb3d1449794716c0f0296072705)\n"
     ]
    },
    {
     "data": {
      "application/vnd.jupyter.widget-view+json": {
       "model_id": "747853c73c4941438aeeb3f126a14281",
       "version_major": 2,
       "version_minor": 0
      },
      "text/plain": [
       "  0%|          | 0/3 [00:00<?, ?it/s]"
      ]
     },
     "metadata": {},
     "output_type": "display_data"
    }
   ],
   "source": [
    "from datasets import load_dataset\n",
    "emotion_dataset = load_dataset(\"emotion\")"
   ]
  },
  {
   "cell_type": "code",
   "execution_count": 4,
   "id": "2e2b6104",
   "metadata": {},
   "outputs": [
    {
     "name": "stdout",
     "output_type": "stream",
     "text": [
      "{'text': 'i didnt feel humiliated', 'label': 0}\n",
      "['text', 'label']\n",
      "{'text': Value(dtype='string', id=None), 'label': ClassLabel(num_classes=6, names=['sadness', 'joy', 'love', 'anger', 'fear', 'surprise'], names_file=None, id=None)}\n"
     ]
    }
   ],
   "source": [
    "emotion_train = emotion_dataset['train']\n",
    "print(emotion_train[0])\n",
    "print(emotion_train.column_names)\n",
    "print(emotion_train.features)"
   ]
  },
  {
   "cell_type": "code",
   "execution_count": 5,
   "id": "751c66bf",
   "metadata": {},
   "outputs": [],
   "source": [
    "emotion_dataset.set_format(type=\"pandas\")\n",
    "df1 = emotion_dataset[\"train\"][:]\n",
    "test = emotion_dataset[\"test\"][:]\n",
    "val = emotion_dataset[\"validation\"][:]"
   ]
  },
  {
   "cell_type": "code",
   "execution_count": 6,
   "id": "ac084ace",
   "metadata": {},
   "outputs": [
    {
     "name": "stdout",
     "output_type": "stream",
     "text": [
      "['sadness' 'anger' 'love' 'surprise' 'fear' 'joy']\n",
      "16000\n"
     ]
    }
   ],
   "source": [
    "df1 = df1.rename(columns={'text':'sentence','label':'emotion'})\n",
    "df1 = df1[[\"emotion\", \"sentence\"]]\n",
    "df1 = df1.replace([0,1,2,3,4,5],['sadness','joy','love','anger','fear','surprise'])\n",
    "print(df1.emotion.unique())\n",
    "print(len(df1))"
   ]
  },
  {
   "cell_type": "code",
   "execution_count": 7,
   "id": "f7cd6ba3",
   "metadata": {},
   "outputs": [
    {
     "name": "stdout",
     "output_type": "stream",
     "text": [
      "['sadness' 'joy' 'fear' 'anger']\n",
      "1775\n"
     ]
    }
   ],
   "source": [
    "test = test.rename(columns={'text':'sentence','label':'emotion'})\n",
    "test = test[[\"emotion\", \"sentence\"]]\n",
    "test = test.replace([0,1,2,3,4,5],['sadness','joy','love','anger','fear','surprise'])\n",
    "test = test[test.emotion != 'surprise']\n",
    "test = test[test.emotion != 'love']\n",
    "print(test.emotion.unique())\n",
    "print(len(test))"
   ]
  },
  {
   "cell_type": "code",
   "execution_count": 8,
   "id": "5f21d9a5",
   "metadata": {},
   "outputs": [
    {
     "name": "stdout",
     "output_type": "stream",
     "text": [
      "['sadness' 'anger' 'joy' 'fear']\n",
      "1741\n"
     ]
    }
   ],
   "source": [
    "val = val.rename(columns={'text':'sentence','label':'emotion'})\n",
    "val = val[[\"emotion\", \"sentence\"]]\n",
    "val = val.replace([0,1,2,3,4,5],['sadness','joy','love','anger','fear','surprise'])\n",
    "val = val[val.emotion != 'surprise']\n",
    "val = val[val.emotion != 'love']\n",
    "print(val.emotion.unique())\n",
    "print(len(val))"
   ]
  },
  {
   "cell_type": "code",
   "execution_count": 9,
   "id": "513e5989",
   "metadata": {},
   "outputs": [
    {
     "name": "stdout",
     "output_type": "stream",
     "text": [
      "['joy' 'fear' 'anger' 'sadness']\n",
      "4329\n"
     ]
    }
   ],
   "source": [
    "df2 = pd.read_csv('G:\\My Drive\\AnjanaValsalan_ECNG 3020\\Implementation Files\\Datasets\\ISEAR csv\\ISEAR.csv')\n",
    "df2.dropna(axis=1, how=\"any\", thresh=None, subset=None, inplace=True)\n",
    "df2 = df2[df2.emotion != 'disgust']\n",
    "df2 = df2[df2.emotion != 'shame']\n",
    "df2 = df2[df2.emotion != 'guilt']\n",
    "print(df2.emotion.unique())\n",
    "print(len(df2))"
   ]
  },
  {
   "cell_type": "code",
   "execution_count": 10,
   "id": "81466ea7",
   "metadata": {},
   "outputs": [
    {
     "data": {
      "text/plain": [
       "18453"
      ]
     },
     "execution_count": 10,
     "metadata": {},
     "output_type": "execute_result"
    }
   ],
   "source": [
    "frames = [df1, df2]\n",
    "df = pd.concat(frames)\n",
    "df = df[df.emotion != 'surprise']\n",
    "df = df[df.emotion != 'love']\n",
    "df = df.reset_index(drop=True)\n",
    "df.emotion.unique()\n",
    "len(df)"
   ]
  },
  {
   "cell_type": "code",
   "execution_count": 11,
   "id": "03e18989",
   "metadata": {},
   "outputs": [
    {
     "data": {
      "text/html": [
       "<div>\n",
       "<style scoped>\n",
       "    .dataframe tbody tr th:only-of-type {\n",
       "        vertical-align: middle;\n",
       "    }\n",
       "\n",
       "    .dataframe tbody tr th {\n",
       "        vertical-align: top;\n",
       "    }\n",
       "\n",
       "    .dataframe thead th {\n",
       "        text-align: right;\n",
       "    }\n",
       "</style>\n",
       "<table border=\"1\" class=\"dataframe\">\n",
       "  <thead>\n",
       "    <tr style=\"text-align: right;\">\n",
       "      <th></th>\n",
       "      <th>sentence</th>\n",
       "    </tr>\n",
       "    <tr>\n",
       "      <th>emotion</th>\n",
       "      <th></th>\n",
       "    </tr>\n",
       "  </thead>\n",
       "  <tbody>\n",
       "    <tr>\n",
       "      <th>anger</th>\n",
       "      <td>3238</td>\n",
       "    </tr>\n",
       "    <tr>\n",
       "      <th>fear</th>\n",
       "      <td>3013</td>\n",
       "    </tr>\n",
       "    <tr>\n",
       "      <th>joy</th>\n",
       "      <td>6454</td>\n",
       "    </tr>\n",
       "    <tr>\n",
       "      <th>sadness</th>\n",
       "      <td>5748</td>\n",
       "    </tr>\n",
       "  </tbody>\n",
       "</table>\n",
       "</div>"
      ],
      "text/plain": [
       "         sentence\n",
       "emotion          \n",
       "anger        3238\n",
       "fear         3013\n",
       "joy          6454\n",
       "sadness      5748"
      ]
     },
     "execution_count": 11,
     "metadata": {},
     "output_type": "execute_result"
    }
   ],
   "source": [
    "df.groupby(['emotion']).count()"
   ]
  },
  {
   "cell_type": "code",
   "execution_count": 12,
   "id": "5ffa9eef",
   "metadata": {},
   "outputs": [],
   "source": [
    "sad_df = df.loc[df['emotion'] == 'sadness']\n",
    "sad_list = sad_df.values.tolist()\n",
    "rand = np.random.RandomState(32).permutation(len(sad_list))\n",
    "sad_array = np.array(sad_df)[rand]\n",
    "sad = sad_array[0: 3000]\n",
    "sad_list = sad.tolist()\n",
    "sad_df = pd.DataFrame(sad_list, columns=['emotion','sentence'])"
   ]
  },
  {
   "cell_type": "code",
   "execution_count": 13,
   "id": "8197508f",
   "metadata": {},
   "outputs": [],
   "source": [
    "ang_df = df.loc[df['emotion'] == 'anger']\n",
    "ang_list = ang_df.values.tolist()\n",
    "rand = np.random.RandomState(32).permutation(len(ang_list))\n",
    "ang_array = np.array(ang_df)[rand]\n",
    "ang = ang_array[0: 3000]\n",
    "ang_list = ang.tolist()\n",
    "ang_df = pd.DataFrame(ang_list, columns=['emotion','sentence'])"
   ]
  },
  {
   "cell_type": "code",
   "execution_count": 14,
   "id": "9d168276",
   "metadata": {},
   "outputs": [],
   "source": [
    "fear_df = df.loc[df['emotion'] == 'fear']\n",
    "fear_list = fear_df.values.tolist()\n",
    "rand = np.random.RandomState(32).permutation(len(fear_list))\n",
    "fear_array = np.array(fear_df)[rand]\n",
    "fear = fear_array[0: 3000]\n",
    "fear_list = fear.tolist()\n",
    "fear_df = pd.DataFrame(fear_list, columns=['emotion','sentence'])"
   ]
  },
  {
   "cell_type": "code",
   "execution_count": 15,
   "id": "4830e644",
   "metadata": {},
   "outputs": [],
   "source": [
    "joy_df = df.loc[df['emotion'] == 'joy']\n",
    "joy_list = joy_df.values.tolist()\n",
    "rand = np.random.RandomState(32).permutation(len(joy_list))\n",
    "joy_array = np.array(joy_df)[rand]\n",
    "joy = joy_array[0: 3000]\n",
    "joy_list = joy.tolist()\n",
    "joy_df = pd.DataFrame(joy_list, columns=['emotion','sentence'])"
   ]
  },
  {
   "cell_type": "code",
   "execution_count": 16,
   "id": "4ae23360",
   "metadata": {},
   "outputs": [],
   "source": [
    "frames = [sad_df, ang_df, fear_df, joy_df]\n",
    "df = pd.concat(frames)\n",
    "from sklearn.utils import shuffle\n",
    "df = shuffle(df)\n",
    "df = df.reset_index(drop=True)"
   ]
  },
  {
   "cell_type": "code",
   "execution_count": 17,
   "id": "388f477d",
   "metadata": {},
   "outputs": [],
   "source": [
    "df.to_csv(r'G:\\My Drive\\AnjanaValsalan_ECNG 3020\\Implementation Files\\Datasets\\ISEAR_and_HF.csv')"
   ]
  },
  {
   "cell_type": "code",
   "execution_count": 18,
   "id": "1e1c4a67",
   "metadata": {},
   "outputs": [],
   "source": [
    "text_train = df.drop(columns = ['emotion']).copy()\n",
    "label_train = df['emotion']\n",
    "text_test = test.drop(columns = ['emotion']).copy()\n",
    "label_test = test['emotion']\n",
    "text_val = val.drop(columns = ['emotion']).copy()\n",
    "label_val = val['emotion']"
   ]
  },
  {
   "cell_type": "code",
   "execution_count": 19,
   "id": "f8c3e23f",
   "metadata": {},
   "outputs": [],
   "source": [
    "text_train_list=[ i[0] for i in text_train.values.tolist()]\n",
    "label_train_list=[ i[0] for i in label_train.values.tolist()]\n",
    "text_val_list=[ i[0] for i in text_val.values.tolist()]\n",
    "label_val_list=[ i[0] for i in label_val.values.tolist()]\n",
    "text_test_list=[ i[0] for i in text_test.values.tolist()]\n",
    "label_test_list=[ i[0] for i in label_test.values.tolist()]"
   ]
  },
  {
   "cell_type": "code",
   "execution_count": 20,
   "id": "948f1cb6",
   "metadata": {},
   "outputs": [
    {
     "data": {
      "text/plain": [
       "[[3, 4, 5, 6, 2, 7, 8, 9, 10, 11, 12, 13, 2, 14, 15, 16]]"
      ]
     },
     "execution_count": 20,
     "metadata": {},
     "output_type": "execute_result"
    }
   ],
   "source": [
    "tokenizer = Tokenizer(num_words=1000000, oov_token='<UNK>')\n",
    "tokenizer.fit_on_texts([text_train_list[1]])\n",
    "tokenizer.texts_to_sequences([text_train_list[1]])"
   ]
  },
  {
   "cell_type": "code",
   "execution_count": 21,
   "id": "ceb89e92",
   "metadata": {},
   "outputs": [
    {
     "data": {
      "text/plain": [
       "<function matplotlib.pyplot.show(close=None, block=None)>"
      ]
     },
     "execution_count": 21,
     "metadata": {},
     "output_type": "execute_result"
    },
    {
     "data": {
      "image/png": "[encoded data removed]",
      "text/plain": [
       "<Figure size 432x288 with 1 Axes>"
      ]
     },
     "metadata": {
      "needs_background": "light"
     },
     "output_type": "display_data"
    }
   ],
   "source": [
    "lengths = [len(t.split(' ')) for t in text_train_list]\n",
    "plt.hist(lengths, bins = len(set(lengths)))\n",
    "plt.show"
   ]
  },
  {
   "cell_type": "code",
   "execution_count": 22,
   "id": "03a62180",
   "metadata": {},
   "outputs": [],
   "source": [
    "max_length = 120\n",
    "from tensorflow.keras.preprocessing.sequence import pad_sequences\n",
    "\n",
    "def get_sequences(tokenizer, text_train_list):\n",
    "    sequences = tokenizer.texts_to_sequences(text_train_list)\n",
    "    padded = pad_sequences(sequences, truncating='post', padding='post', maxlen = max_length)\n",
    "    return padded\n",
    "\n",
    "padded_train_seq = get_sequences(tokenizer,text_train_list)"
   ]
  },
  {
   "cell_type": "code",
   "execution_count": 23,
   "id": "6e6ab2f2",
   "metadata": {},
   "outputs": [
    {
     "name": "stdout",
     "output_type": "stream",
     "text": [
      "{'anger', 'joy', 'sadness', 'fear'}\n"
     ]
    }
   ],
   "source": [
    "classes = set(label_train)\n",
    "print(classes)"
   ]
  },
  {
   "cell_type": "code",
   "execution_count": 24,
   "id": "2ea4b2f9",
   "metadata": {},
   "outputs": [
    {
     "data": {
      "image/png": "[encoded data removed]",
      "text/plain": [
       "<Figure size 432x288 with 1 Axes>"
      ]
     },
     "metadata": {
      "needs_background": "light"
     },
     "output_type": "display_data"
    }
   ],
   "source": [
    "plt.hist(label_train, bins=18)\n",
    "plt.show()"
   ]
  },
  {
   "cell_type": "code",
   "execution_count": 25,
   "id": "98a88837",
   "metadata": {},
   "outputs": [],
   "source": [
    "class_to_index = dict((c,i) for i, c in enumerate(classes))\n",
    "index_to_class = dict((v, k) for k, v in class_to_index.items())"
   ]
  },
  {
   "cell_type": "code",
   "execution_count": 26,
   "id": "5c998169",
   "metadata": {},
   "outputs": [],
   "source": [
    "names_to_ids = lambda label_train: np.array([class_to_index.get(x) for x in label_train])\n",
    "\n",
    "train_labels = names_to_ids(label_train)"
   ]
  },
  {
   "cell_type": "code",
   "execution_count": 27,
   "id": "f4e3a15a",
   "metadata": {},
   "outputs": [],
   "source": [
    "model = tf.keras.models.Sequential([\n",
    "    tf.keras.layers.Embedding(10000, 16, input_length=max_length),\n",
    "    tf.keras.layers.Bidirectional(tf.keras.layers.LSTM(64, activation='relu', return_sequences=True)),\n",
    "    tf.keras.layers.Bidirectional(tf.keras.layers.LSTM(64)),\n",
    "    tf.keras.layers.Dense(4 ,kernel_regularizer='l2', activation='softmax')\n",
    "])"
   ]
  },
  {
   "cell_type": "code",
   "execution_count": 28,
   "id": "1fb24c68",
   "metadata": {},
   "outputs": [],
   "source": [
    "optimizer = tf.keras.optimizers.Adam(\n",
    "    learning_rate=0.001, beta_1=0.9, beta_2=0.999, epsilon=1e-07, amsgrad=False,\n",
    "    name='Adam'\n",
    ")\n",
    "\n",
    "model.compile(\n",
    "    loss='sparse_categorical_crossentropy',\n",
    "    optimizer = optimizer,\n",
    "    metrics=['accuracy']\n",
    ")"
   ]
  },
  {
   "cell_type": "code",
   "execution_count": 29,
   "id": "ada665a7",
   "metadata": {},
   "outputs": [
    {
     "name": "stdout",
     "output_type": "stream",
     "text": [
      "Model: \"sequential\"\n",
      "_________________________________________________________________\n",
      " Layer (type)                Output Shape              Param #   \n",
      "=================================================================\n",
      " embedding (Embedding)       (None, 120, 16)           160000    \n",
      "                                                                 \n",
      " bidirectional (Bidirectiona  (None, 120, 128)         41472     \n",
      " l)                                                              \n",
      "                                                                 \n",
      " bidirectional_1 (Bidirectio  (None, 128)              98816     \n",
      " nal)                                                            \n",
      "                                                                 \n",
      " dense (Dense)               (None, 4)                 516       \n",
      "                                                                 \n",
      " dense_1 (Dense)             (None, 4)                 20        \n",
      "                                                                 \n",
      "=================================================================\n",
      "Total params: 300,824\n",
      "Trainable params: 300,824\n",
      "Non-trainable params: 0\n",
      "_________________________________________________________________\n"
     ]
    }
   ],
   "source": [
    "model.summary()"
   ]
  },
  {
   "cell_type": "code",
   "execution_count": 30,
   "id": "819af712",
   "metadata": {},
   "outputs": [],
   "source": [
    "text_val_seq = get_sequences(tokenizer, text_val_list)\n",
    "label_val = names_to_ids(label_val)"
   ]
  },
  {
   "cell_type": "code",
   "execution_count": 31,
   "id": "0bc4c990",
   "metadata": {},
   "outputs": [
    {
     "name": "stdout",
     "output_type": "stream",
     "text": [
      "Epoch 1/100\n",
      "60/60 [==============================] - 65s 1s/step - loss: 1.4375 - accuracy: 0.2497 - val_loss: 1.4077 - val_accuracy: 0.3159\n",
      "Epoch 2/100\n",
      "60/60 [==============================] - 64s 1s/step - loss: 1.4014 - accuracy: 0.2731 - val_loss: 1.4321 - val_accuracy: 0.2499\n",
      "Epoch 3/100\n",
      "60/60 [==============================] - 68s 1s/step - loss: 1.3813 - accuracy: 0.2882 - val_loss: 1.3596 - val_accuracy: 0.3504\n",
      "Epoch 4/100\n",
      "60/60 [==============================] - 68s 1s/step - loss: 1.3731 - accuracy: 0.2968 - val_loss: 1.3976 - val_accuracy: 0.3096\n",
      "Epoch 5/100\n",
      "60/60 [==============================] - 69s 1s/step - loss: 1.3710 - accuracy: 0.2992 - val_loss: 1.3638 - val_accuracy: 0.3257\n",
      "Epoch 6/100\n",
      "60/60 [==============================] - 69s 1s/step - loss: 1.3682 - accuracy: 0.3046 - val_loss: 1.3626 - val_accuracy: 0.3331\n",
      "Epoch 7/100\n",
      "60/60 [==============================] - 69s 1s/step - loss: 1.3647 - accuracy: 0.3152 - val_loss: 1.3566 - val_accuracy: 0.3423\n",
      "Epoch 8/100\n",
      "60/60 [==============================] - 69s 1s/step - loss: 1.3635 - accuracy: 0.3141 - val_loss: 1.3839 - val_accuracy: 0.3326\n",
      "Epoch 9/100\n",
      "60/60 [==============================] - 69s 1s/step - loss: 1.3627 - accuracy: 0.3121 - val_loss: 1.3664 - val_accuracy: 0.3240\n",
      "Epoch 10/100\n",
      "60/60 [==============================] - 70s 1s/step - loss: 1.3604 - accuracy: 0.3234 - val_loss: 1.3476 - val_accuracy: 0.3688\n",
      "Epoch 11/100\n",
      "60/60 [==============================] - 70s 1s/step - loss: 1.3603 - accuracy: 0.3212 - val_loss: 1.3634 - val_accuracy: 0.3435\n",
      "Epoch 12/100\n",
      "60/60 [==============================] - 70s 1s/step - loss: 1.3598 - accuracy: 0.3227 - val_loss: 1.3371 - val_accuracy: 0.3843\n",
      "Epoch 13/100\n",
      "60/60 [==============================] - 70s 1s/step - loss: 1.3596 - accuracy: 0.3196 - val_loss: 1.3430 - val_accuracy: 0.3475\n",
      "Epoch 14/100\n",
      "60/60 [==============================] - 71s 1s/step - loss: 1.3580 - accuracy: 0.3213 - val_loss: 1.3603 - val_accuracy: 0.3354\n",
      "Epoch 15/100\n",
      "60/60 [==============================] - 71s 1s/step - loss: 1.3575 - accuracy: 0.3243 - val_loss: 1.3502 - val_accuracy: 0.3492\n",
      "Epoch 16/100\n",
      "60/60 [==============================] - 73s 1s/step - loss: 1.3566 - accuracy: 0.3290 - val_loss: 1.3341 - val_accuracy: 0.3756\n",
      "Epoch 17/100\n",
      "60/60 [==============================] - 73s 1s/step - loss: 1.3557 - accuracy: 0.3266 - val_loss: 1.3596 - val_accuracy: 0.3423\n",
      "Epoch 18/100\n",
      "60/60 [==============================] - 74s 1s/step - loss: 1.3567 - accuracy: 0.3283 - val_loss: 1.3381 - val_accuracy: 0.3475\n",
      "Epoch 19/100\n",
      "60/60 [==============================] - 73s 1s/step - loss: 1.3559 - accuracy: 0.3280 - val_loss: 1.3619 - val_accuracy: 0.3423\n",
      "Epoch 20/100\n",
      "60/60 [==============================] - 73s 1s/step - loss: 1.3545 - accuracy: 0.3252 - val_loss: 1.3479 - val_accuracy: 0.3561\n",
      "Epoch 21/100\n",
      "60/60 [==============================] - 72s 1s/step - loss: 1.3545 - accuracy: 0.3276 - val_loss: 1.3582 - val_accuracy: 0.3469\n",
      "Epoch 22/100\n",
      "60/60 [==============================] - 72s 1s/step - loss: 1.3519 - accuracy: 0.3359 - val_loss: 1.3485 - val_accuracy: 0.3481\n",
      "Epoch 23/100\n",
      "60/60 [==============================] - 73s 1s/step - loss: 1.3528 - accuracy: 0.3312 - val_loss: 1.3639 - val_accuracy: 0.3377\n",
      "Epoch 24/100\n",
      "60/60 [==============================] - 72s 1s/step - loss: 1.3512 - accuracy: 0.3331 - val_loss: 1.3587 - val_accuracy: 0.3291\n",
      "Epoch 25/100\n",
      "60/60 [==============================] - 72s 1s/step - loss: 1.3511 - accuracy: 0.3372 - val_loss: 1.3594 - val_accuracy: 0.3153\n",
      "Epoch 26/100\n",
      "60/60 [==============================] - 72s 1s/step - loss: 1.3496 - accuracy: 0.3325 - val_loss: 1.3546 - val_accuracy: 0.3498\n",
      "Epoch 27/100\n",
      "60/60 [==============================] - 72s 1s/step - loss: 1.3490 - accuracy: 0.3335 - val_loss: 1.3596 - val_accuracy: 0.3429\n",
      "Epoch 28/100\n",
      "60/60 [==============================] - 72s 1s/step - loss: 1.3495 - accuracy: 0.3370 - val_loss: 1.3586 - val_accuracy: 0.3038\n",
      "Epoch 29/100\n",
      "60/60 [==============================] - 72s 1s/step - loss: 1.3467 - accuracy: 0.3381 - val_loss: 1.3775 - val_accuracy: 0.3320\n",
      "Epoch 30/100\n",
      "60/60 [==============================] - 73s 1s/step - loss: 1.3459 - accuracy: 0.3374 - val_loss: 1.3505 - val_accuracy: 0.3303\n",
      "Epoch 31/100\n",
      "60/60 [==============================] - 73s 1s/step - loss: 1.3468 - accuracy: 0.3340 - val_loss: 1.3503 - val_accuracy: 0.3262\n",
      "Epoch 32/100\n",
      "60/60 [==============================] - 73s 1s/step - loss: 1.3480 - accuracy: 0.3309 - val_loss: 1.3454 - val_accuracy: 0.3377\n"
     ]
    }
   ],
   "source": [
    "h = model.fit(\n",
    "padded_train_seq, train_labels,\n",
    "validation_data=(text_val_seq, label_val),\n",
    "batch_size = 200,\n",
    "epochs=100,\n",
    "callbacks=[\n",
    "    tf.keras.callbacks.EarlyStopping(monitor='val_accuracy', patience = 20)\n",
    "])"
   ]
  },
  {
   "cell_type": "code",
   "execution_count": 32,
   "id": "bbcafebb",
   "metadata": {},
   "outputs": [
    {
     "data": {
      "image/png": "[encoded data removed]",
      "text/plain": [
       "<Figure size 1152x432 with 2 Axes>"
      ]
     },
     "metadata": {
      "needs_background": "light"
     },
     "output_type": "display_data"
    }
   ],
   "source": [
    "show_history(h)"
   ]
  },
  {
   "cell_type": "code",
   "execution_count": 33,
   "id": "136ed469",
   "metadata": {},
   "outputs": [],
   "source": [
    "test_seq = get_sequences(tokenizer, text_test_list)\n",
    "test_labels = names_to_ids(label_test)"
   ]
  },
  {
   "cell_type": "code",
   "execution_count": 34,
   "id": "9381e137",
   "metadata": {},
   "outputs": [
    {
     "name": "stdout",
     "output_type": "stream",
     "text": [
      "56/56 [==============================] - 2s 39ms/step - loss: 1.3464 - accuracy: 0.3369\n"
     ]
    }
   ],
   "source": [
    "_= model.evaluate(test_seq, test_labels)"
   ]
  },
  {
   "cell_type": "code",
   "execution_count": 35,
   "id": "ac197897",
   "metadata": {},
   "outputs": [
    {
     "name": "stdout",
     "output_type": "stream",
     "text": [
      "Sentence: i think most interactions in person are probably fine sufficiently respectful and polite that the ladies don t feel abused\n",
      "Emotion: sadness\n",
      "Predicted Emotion: joy\n"
     ]
    }
   ],
   "source": [
    "i = random.randint(0, len(test_labels) - 1)\n",
    "\n",
    "print('Sentence:', text_test_list[i])\n",
    "print('Emotion:', index_to_class[test_labels[i]])\n",
    "\n",
    "p = model.predict(np.expand_dims(test_seq[i], axis=0))[0]\n",
    "pred_class = index_to_class[np.argmax(p).astype('uint8')]\n",
    "\n",
    "print('Predicted Emotion:', pred_class)"
   ]
  },
  {
   "cell_type": "code",
   "execution_count": 36,
   "id": "972f0a5f",
   "metadata": {},
   "outputs": [
    {
     "data": {
      "image/png": "[encoded data removed]",
      "text/plain": [
       "<Figure size 288x288 with 2 Axes>"
      ]
     },
     "metadata": {
      "needs_background": "light"
     },
     "output_type": "display_data"
    }
   ],
   "source": [
    "preds = np.argmax(model.predict(test_seq), axis=-1)\n",
    "show_confusion_matrix(test_labels, preds, list(classes))"
   ]
  },
  {
   "cell_type": "code",
   "execution_count": null,
   "id": "82881bbb",
   "metadata": {},
   "outputs": [],
   "source": []
  }
 ],
 "metadata": {
  "kernelspec": {
   "display_name": "Python 3 (ipykernel)",
   "language": "python",
   "name": "python3"
  },
  "language_info": {
   "codemirror_mode": {
    "name": "ipython",
    "version": 3
   },
   "file_extension": ".py",
   "mimetype": "text/x-python",
   "name": "python",
   "nbconvert_exporter": "python",
   "pygments_lexer": "ipython3",
   "version": "3.9.7"
  }
 },
 "nbformat": 4,
 "nbformat_minor": 5
}
