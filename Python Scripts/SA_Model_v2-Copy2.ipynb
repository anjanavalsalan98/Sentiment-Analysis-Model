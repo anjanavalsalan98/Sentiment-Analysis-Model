{
 "cells": [
  {
   "cell_type": "code",
   "execution_count": 1,
   "id": "37d39617",
   "metadata": {},
   "outputs": [
    {
     "name": "stdout",
     "output_type": "stream",
     "text": [
      "Using TensorFlow version 2.7.0\n"
     ]
    }
   ],
   "source": [
    "import tensorflow as tf\n",
    "import nltk\n",
    "import matplotlib.pyplot as plt\n",
    "import numpy as np\n",
    "import pandas as pd\n",
    "import random\n",
    "from sklearn.model_selection import train_test_split \n",
    "from tensorflow.keras.preprocessing.text import Tokenizer \n",
    "\n",
    "def show_history(h):\n",
    "    epochs_trained = len(h.history['loss'])\n",
    "    plt.figure(figsize=(16, 6))\n",
    "\n",
    "    plt.subplot(1, 2, 1)\n",
    "    plt.plot(range(0, epochs_trained), h.history.get('accuracy'), label='Training')\n",
    "    plt.plot(range(0, epochs_trained), h.history.get('val_accuracy'), label='Validation')\n",
    "    plt.ylim([0., 1.])\n",
    "    plt.xlabel('Epochs')\n",
    "    plt.ylabel('Accuracy')\n",
    "    plt.legend()\n",
    "\n",
    "    plt.subplot(1, 2, 2)\n",
    "    plt.plot(range(0, epochs_trained), h.history.get('loss'), label='Training')\n",
    "    plt.plot(range(0, epochs_trained), h.history.get('val_loss'), label='Validation')\n",
    "    plt.xlabel('Epochs')\n",
    "    plt.ylabel('Loss')\n",
    "    plt.legend()\n",
    "    plt.show()\n",
    "\n",
    "    \n",
    "def show_confusion_matrix(y_true, y_pred, classes):\n",
    "    from sklearn.metrics import confusion_matrix\n",
    "    \n",
    "    cm = confusion_matrix(y_true, y_pred, normalize='true')\n",
    "\n",
    "    plt.figure(figsize=(9, 9))\n",
    "    sp = plt.subplot(1, 1, 1)\n",
    "    ctx = sp.matshow(cm)\n",
    "    plt.xticks(list(range(9)), labels=classes)\n",
    "    plt.yticks(list(range(9)), labels=classes)\n",
    "    plt.colorbar(ctx)\n",
    "    plt.show()\n",
    "    return len(set(y_true))\n",
    "print('Using TensorFlow version', tf.__version__)"
   ]
  },
  {
   "cell_type": "code",
   "execution_count": 2,
   "id": "3101fc4d",
   "metadata": {},
   "outputs": [
    {
     "name": "stdout",
     "output_type": "stream",
     "text": [
      "Requirement already satisfied: datasets in c:\\software development\\anaconda\\envs\\ecng3020\\lib\\site-packages (1.16.1)\n",
      "Requirement already satisfied: xxhash in c:\\software development\\anaconda\\envs\\ecng3020\\lib\\site-packages (from datasets) (2.0.2)\n",
      "Requirement already satisfied: dill in c:\\software development\\anaconda\\envs\\ecng3020\\lib\\site-packages (from datasets) (0.3.4)\n",
      "Requirement already satisfied: numpy>=1.17 in c:\\software development\\anaconda\\envs\\ecng3020\\lib\\site-packages (from datasets) (1.21.4)\n",
      "Requirement already satisfied: huggingface-hub<1.0.0,>=0.1.0 in c:\\software development\\anaconda\\envs\\ecng3020\\lib\\site-packages (from datasets) (0.2.1)\n",
      "Requirement already satisfied: tqdm>=4.62.1 in c:\\software development\\anaconda\\envs\\ecng3020\\lib\\site-packages (from datasets) (4.62.3)\n",
      "Requirement already satisfied: pyarrow!=4.0.0,>=3.0.0 in c:\\software development\\anaconda\\envs\\ecng3020\\lib\\site-packages (from datasets) (6.0.0)\n",
      "Requirement already satisfied: pandas in c:\\software development\\anaconda\\envs\\ecng3020\\lib\\site-packages (from datasets) (1.3.4)\n",
      "Requirement already satisfied: fsspec[http]>=2021.05.0 in c:\\software development\\anaconda\\envs\\ecng3020\\lib\\site-packages (from datasets) (2021.11.1)\n",
      "Requirement already satisfied: aiohttp in c:\\software development\\anaconda\\envs\\ecng3020\\lib\\site-packages (from datasets) (3.8.1)\n",
      "Requirement already satisfied: requests>=2.19.0 in c:\\software development\\anaconda\\envs\\ecng3020\\lib\\site-packages (from datasets) (2.26.0)\n",
      "Requirement already satisfied: multiprocess in c:\\software development\\anaconda\\envs\\ecng3020\\lib\\site-packages (from datasets) (0.70.12.2)\n",
      "Requirement already satisfied: packaging in c:\\software development\\anaconda\\envs\\ecng3020\\lib\\site-packages (from datasets) (21.0)\n",
      "Requirement already satisfied: filelock in c:\\software development\\anaconda\\envs\\ecng3020\\lib\\site-packages (from huggingface-hub<1.0.0,>=0.1.0->datasets) (3.4.0)\n",
      "Requirement already satisfied: pyyaml in c:\\software development\\anaconda\\envs\\ecng3020\\lib\\site-packages (from huggingface-hub<1.0.0,>=0.1.0->datasets) (6.0)\n",
      "Requirement already satisfied: typing-extensions>=3.7.4.3 in c:\\software development\\anaconda\\envs\\ecng3020\\lib\\site-packages (from huggingface-hub<1.0.0,>=0.1.0->datasets) (4.0.0)\n",
      "Requirement already satisfied: pyparsing>=2.0.2 in c:\\software development\\anaconda\\envs\\ecng3020\\lib\\site-packages (from packaging->datasets) (3.0.4)\n",
      "Requirement already satisfied: certifi>=2017.4.17 in c:\\software development\\anaconda\\envs\\ecng3020\\lib\\site-packages (from requests>=2.19.0->datasets) (2021.10.8)\n",
      "Requirement already satisfied: charset-normalizer~=2.0.0 in c:\\software development\\anaconda\\envs\\ecng3020\\lib\\site-packages (from requests>=2.19.0->datasets) (2.0.7)\n",
      "Requirement already satisfied: urllib3<1.27,>=1.21.1 in c:\\software development\\anaconda\\envs\\ecng3020\\lib\\site-packages (from requests>=2.19.0->datasets) (1.26.7)\n",
      "Requirement already satisfied: idna<4,>=2.5 in c:\\software development\\anaconda\\envs\\ecng3020\\lib\\site-packages (from requests>=2.19.0->datasets) (3.3)\n",
      "Requirement already satisfied: colorama in c:\\software development\\anaconda\\envs\\ecng3020\\lib\\site-packages (from tqdm>=4.62.1->datasets) (0.4.4)\n",
      "Requirement already satisfied: yarl<2.0,>=1.0 in c:\\software development\\anaconda\\envs\\ecng3020\\lib\\site-packages (from aiohttp->datasets) (1.7.2)\n",
      "Requirement already satisfied: frozenlist>=1.1.1 in c:\\software development\\anaconda\\envs\\ecng3020\\lib\\site-packages (from aiohttp->datasets) (1.2.0)\n",
      "Requirement already satisfied: aiosignal>=1.1.2 in c:\\software development\\anaconda\\envs\\ecng3020\\lib\\site-packages (from aiohttp->datasets) (1.2.0)\n",
      "Requirement already satisfied: async-timeout<5.0,>=4.0.0a3 in c:\\software development\\anaconda\\envs\\ecng3020\\lib\\site-packages (from aiohttp->datasets) (4.0.1)\n",
      "Requirement already satisfied: multidict<7.0,>=4.5 in c:\\software development\\anaconda\\envs\\ecng3020\\lib\\site-packages (from aiohttp->datasets) (5.2.0)\n",
      "Requirement already satisfied: attrs>=17.3.0 in c:\\software development\\anaconda\\envs\\ecng3020\\lib\\site-packages (from aiohttp->datasets) (21.2.0)\n",
      "Requirement already satisfied: python-dateutil>=2.7.3 in c:\\software development\\anaconda\\envs\\ecng3020\\lib\\site-packages (from pandas->datasets) (2.8.2)\n",
      "Requirement already satisfied: pytz>=2017.3 in c:\\software development\\anaconda\\envs\\ecng3020\\lib\\site-packages (from pandas->datasets) (2021.3)\n",
      "Requirement already satisfied: six>=1.5 in c:\\software development\\anaconda\\envs\\ecng3020\\lib\\site-packages (from python-dateutil>=2.7.3->pandas->datasets) (1.16.0)\n"
     ]
    }
   ],
   "source": [
    "!pip install datasets"
   ]
  },
  {
   "cell_type": "code",
   "execution_count": 3,
   "id": "32edd0bd",
   "metadata": {},
   "outputs": [
    {
     "name": "stderr",
     "output_type": "stream",
     "text": [
      "Using custom data configuration default\n",
      "Reusing dataset emotion (C:\\Users\\valsa\\.cache\\huggingface\\datasets\\emotion\\default\\0.0.0\\348f63ca8e27b3713b6c04d723efe6d824a56fb3d1449794716c0f0296072705)\n"
     ]
    },
    {
     "data": {
      "application/vnd.jupyter.widget-view+json": {
       "model_id": "a76e9f8b746f4967a75ab1344b997d00",
       "version_major": 2,
       "version_minor": 0
      },
      "text/plain": [
       "  0%|          | 0/3 [00:00<?, ?it/s]"
      ]
     },
     "metadata": {},
     "output_type": "display_data"
    }
   ],
   "source": [
    "from datasets import load_dataset\n",
    "\n",
    "emotion_dataset = load_dataset(\"emotion\")"
   ]
  },
  {
   "cell_type": "code",
   "execution_count": 4,
   "id": "93f8e601",
   "metadata": {},
   "outputs": [
    {
     "data": {
      "text/plain": [
       "DatasetDict({\n",
       "    train: Dataset({\n",
       "        features: ['text', 'label'],\n",
       "        num_rows: 16000\n",
       "    })\n",
       "    validation: Dataset({\n",
       "        features: ['text', 'label'],\n",
       "        num_rows: 2000\n",
       "    })\n",
       "    test: Dataset({\n",
       "        features: ['text', 'label'],\n",
       "        num_rows: 2000\n",
       "    })\n",
       "})"
      ]
     },
     "execution_count": 4,
     "metadata": {},
     "output_type": "execute_result"
    }
   ],
   "source": [
    "emotion_dataset"
   ]
  },
  {
   "cell_type": "code",
   "execution_count": 5,
   "id": "d61f6fe2",
   "metadata": {},
   "outputs": [
    {
     "name": "stdout",
     "output_type": "stream",
     "text": [
      "{'text': 'i didnt feel humiliated', 'label': 0}\n",
      "['text', 'label']\n",
      "{'text': Value(dtype='string', id=None), 'label': ClassLabel(num_classes=6, names=['sadness', 'joy', 'love', 'anger', 'fear', 'surprise'], names_file=None, id=None)}\n"
     ]
    }
   ],
   "source": [
    "emotion_train = emotion_dataset['train']\n",
    "print(emotion_train[0])\n",
    "print(emotion_train.column_names)\n",
    "print(emotion_train.features)"
   ]
  },
  {
   "cell_type": "code",
   "execution_count": 6,
   "id": "34e817b2",
   "metadata": {},
   "outputs": [],
   "source": [
    "emotion_dataset.set_format(type=\"pandas\")\n",
    "df1 = emotion_dataset[\"train\"][:]\n",
    "test = emotion_dataset[\"test\"][:]\n",
    "val = emotion_dataset[\"validation\"][:]"
   ]
  },
  {
   "cell_type": "code",
   "execution_count": 7,
   "id": "d871cec8",
   "metadata": {},
   "outputs": [],
   "source": [
    "df1 = df1.rename(columns={'text':'sentence','label':'emotion'})"
   ]
  },
  {
   "cell_type": "code",
   "execution_count": 8,
   "id": "19341651",
   "metadata": {},
   "outputs": [
    {
     "data": {
      "text/html": [
       "<div>\n",
       "<style scoped>\n",
       "    .dataframe tbody tr th:only-of-type {\n",
       "        vertical-align: middle;\n",
       "    }\n",
       "\n",
       "    .dataframe tbody tr th {\n",
       "        vertical-align: top;\n",
       "    }\n",
       "\n",
       "    .dataframe thead th {\n",
       "        text-align: right;\n",
       "    }\n",
       "</style>\n",
       "<table border=\"1\" class=\"dataframe\">\n",
       "  <thead>\n",
       "    <tr style=\"text-align: right;\">\n",
       "      <th></th>\n",
       "      <th>sentence</th>\n",
       "      <th>emotion</th>\n",
       "    </tr>\n",
       "  </thead>\n",
       "  <tbody>\n",
       "    <tr>\n",
       "      <th>0</th>\n",
       "      <td>i didnt feel humiliated</td>\n",
       "      <td>0</td>\n",
       "    </tr>\n",
       "    <tr>\n",
       "      <th>1</th>\n",
       "      <td>i can go from feeling so hopeless to so damned...</td>\n",
       "      <td>0</td>\n",
       "    </tr>\n",
       "    <tr>\n",
       "      <th>2</th>\n",
       "      <td>im grabbing a minute to post i feel greedy wrong</td>\n",
       "      <td>3</td>\n",
       "    </tr>\n",
       "    <tr>\n",
       "      <th>3</th>\n",
       "      <td>i am ever feeling nostalgic about the fireplac...</td>\n",
       "      <td>2</td>\n",
       "    </tr>\n",
       "    <tr>\n",
       "      <th>4</th>\n",
       "      <td>i am feeling grouchy</td>\n",
       "      <td>3</td>\n",
       "    </tr>\n",
       "  </tbody>\n",
       "</table>\n",
       "</div>"
      ],
      "text/plain": [
       "                                            sentence  emotion\n",
       "0                            i didnt feel humiliated        0\n",
       "1  i can go from feeling so hopeless to so damned...        0\n",
       "2   im grabbing a minute to post i feel greedy wrong        3\n",
       "3  i am ever feeling nostalgic about the fireplac...        2\n",
       "4                               i am feeling grouchy        3"
      ]
     },
     "execution_count": 8,
     "metadata": {},
     "output_type": "execute_result"
    }
   ],
   "source": [
    "df1.head()"
   ]
  },
  {
   "cell_type": "code",
   "execution_count": 9,
   "id": "22561a8d",
   "metadata": {},
   "outputs": [],
   "source": [
    "df1 = df1[[\"emotion\", \"sentence\"]]"
   ]
  },
  {
   "cell_type": "code",
   "execution_count": 10,
   "id": "fab4f7cc",
   "metadata": {},
   "outputs": [
    {
     "data": {
      "text/html": [
       "<div>\n",
       "<style scoped>\n",
       "    .dataframe tbody tr th:only-of-type {\n",
       "        vertical-align: middle;\n",
       "    }\n",
       "\n",
       "    .dataframe tbody tr th {\n",
       "        vertical-align: top;\n",
       "    }\n",
       "\n",
       "    .dataframe thead th {\n",
       "        text-align: right;\n",
       "    }\n",
       "</style>\n",
       "<table border=\"1\" class=\"dataframe\">\n",
       "  <thead>\n",
       "    <tr style=\"text-align: right;\">\n",
       "      <th></th>\n",
       "      <th>emotion</th>\n",
       "      <th>sentence</th>\n",
       "    </tr>\n",
       "  </thead>\n",
       "  <tbody>\n",
       "    <tr>\n",
       "      <th>0</th>\n",
       "      <td>0</td>\n",
       "      <td>i didnt feel humiliated</td>\n",
       "    </tr>\n",
       "    <tr>\n",
       "      <th>1</th>\n",
       "      <td>0</td>\n",
       "      <td>i can go from feeling so hopeless to so damned...</td>\n",
       "    </tr>\n",
       "    <tr>\n",
       "      <th>2</th>\n",
       "      <td>3</td>\n",
       "      <td>im grabbing a minute to post i feel greedy wrong</td>\n",
       "    </tr>\n",
       "    <tr>\n",
       "      <th>3</th>\n",
       "      <td>2</td>\n",
       "      <td>i am ever feeling nostalgic about the fireplac...</td>\n",
       "    </tr>\n",
       "    <tr>\n",
       "      <th>4</th>\n",
       "      <td>3</td>\n",
       "      <td>i am feeling grouchy</td>\n",
       "    </tr>\n",
       "  </tbody>\n",
       "</table>\n",
       "</div>"
      ],
      "text/plain": [
       "   emotion                                           sentence\n",
       "0        0                            i didnt feel humiliated\n",
       "1        0  i can go from feeling so hopeless to so damned...\n",
       "2        3   im grabbing a minute to post i feel greedy wrong\n",
       "3        2  i am ever feeling nostalgic about the fireplac...\n",
       "4        3                               i am feeling grouchy"
      ]
     },
     "execution_count": 10,
     "metadata": {},
     "output_type": "execute_result"
    }
   ],
   "source": [
    "df1.head()"
   ]
  },
  {
   "cell_type": "code",
   "execution_count": 11,
   "id": "1210a387",
   "metadata": {},
   "outputs": [
    {
     "data": {
      "text/plain": [
       "array([0, 3, 2, 5, 4, 1], dtype=int64)"
      ]
     },
     "execution_count": 11,
     "metadata": {},
     "output_type": "execute_result"
    }
   ],
   "source": [
    "df1.emotion.unique()"
   ]
  },
  {
   "cell_type": "code",
   "execution_count": 12,
   "id": "e6aa2a91",
   "metadata": {},
   "outputs": [
    {
     "data": {
      "text/html": [
       "<div>\n",
       "<style scoped>\n",
       "    .dataframe tbody tr th:only-of-type {\n",
       "        vertical-align: middle;\n",
       "    }\n",
       "\n",
       "    .dataframe tbody tr th {\n",
       "        vertical-align: top;\n",
       "    }\n",
       "\n",
       "    .dataframe thead th {\n",
       "        text-align: right;\n",
       "    }\n",
       "</style>\n",
       "<table border=\"1\" class=\"dataframe\">\n",
       "  <thead>\n",
       "    <tr style=\"text-align: right;\">\n",
       "      <th></th>\n",
       "      <th>emotion</th>\n",
       "      <th>sentence</th>\n",
       "    </tr>\n",
       "  </thead>\n",
       "  <tbody>\n",
       "    <tr>\n",
       "      <th>0</th>\n",
       "      <td>sadness</td>\n",
       "      <td>i didnt feel humiliated</td>\n",
       "    </tr>\n",
       "    <tr>\n",
       "      <th>1</th>\n",
       "      <td>sadness</td>\n",
       "      <td>i can go from feeling so hopeless to so damned...</td>\n",
       "    </tr>\n",
       "    <tr>\n",
       "      <th>2</th>\n",
       "      <td>anger</td>\n",
       "      <td>im grabbing a minute to post i feel greedy wrong</td>\n",
       "    </tr>\n",
       "    <tr>\n",
       "      <th>3</th>\n",
       "      <td>love</td>\n",
       "      <td>i am ever feeling nostalgic about the fireplac...</td>\n",
       "    </tr>\n",
       "    <tr>\n",
       "      <th>4</th>\n",
       "      <td>anger</td>\n",
       "      <td>i am feeling grouchy</td>\n",
       "    </tr>\n",
       "  </tbody>\n",
       "</table>\n",
       "</div>"
      ],
      "text/plain": [
       "   emotion                                           sentence\n",
       "0  sadness                            i didnt feel humiliated\n",
       "1  sadness  i can go from feeling so hopeless to so damned...\n",
       "2    anger   im grabbing a minute to post i feel greedy wrong\n",
       "3     love  i am ever feeling nostalgic about the fireplac...\n",
       "4    anger                               i am feeling grouchy"
      ]
     },
     "execution_count": 12,
     "metadata": {},
     "output_type": "execute_result"
    }
   ],
   "source": [
    "df1 = df1.replace([0,1,2,3,4,5],['sadness','joy','love','anger','fear','surprise'])\n",
    "df1.head()"
   ]
  },
  {
   "cell_type": "code",
   "execution_count": 13,
   "id": "2fb92332",
   "metadata": {},
   "outputs": [],
   "source": [
    "df2 = pd.read_csv('G:\\My Drive\\AnjanaValsalan_ECNG 3020\\Implementation Files\\ISEAR csv\\ISEAR.csv')"
   ]
  },
  {
   "cell_type": "code",
   "execution_count": 14,
   "id": "af8263dc",
   "metadata": {},
   "outputs": [
    {
     "data": {
      "text/html": [
       "<div>\n",
       "<style scoped>\n",
       "    .dataframe tbody tr th:only-of-type {\n",
       "        vertical-align: middle;\n",
       "    }\n",
       "\n",
       "    .dataframe tbody tr th {\n",
       "        vertical-align: top;\n",
       "    }\n",
       "\n",
       "    .dataframe thead th {\n",
       "        text-align: right;\n",
       "    }\n",
       "</style>\n",
       "<table border=\"1\" class=\"dataframe\">\n",
       "  <thead>\n",
       "    <tr style=\"text-align: right;\">\n",
       "      <th></th>\n",
       "      <th>emotion</th>\n",
       "      <th>sentence</th>\n",
       "      <th>Unnamed: 2</th>\n",
       "    </tr>\n",
       "  </thead>\n",
       "  <tbody>\n",
       "    <tr>\n",
       "      <th>0</th>\n",
       "      <td>joy</td>\n",
       "      <td>On days when I feel close to my partner and ot...</td>\n",
       "      <td>NaN</td>\n",
       "    </tr>\n",
       "    <tr>\n",
       "      <th>1</th>\n",
       "      <td>fear</td>\n",
       "      <td>Every time I imagine that someone I love or I ...</td>\n",
       "      <td>NaN</td>\n",
       "    </tr>\n",
       "    <tr>\n",
       "      <th>2</th>\n",
       "      <td>anger</td>\n",
       "      <td>When I had been obviously unjustly treated and...</td>\n",
       "      <td>NaN</td>\n",
       "    </tr>\n",
       "    <tr>\n",
       "      <th>3</th>\n",
       "      <td>sadness</td>\n",
       "      <td>When I think about the short time that we live...</td>\n",
       "      <td>NaN</td>\n",
       "    </tr>\n",
       "    <tr>\n",
       "      <th>4</th>\n",
       "      <td>disgust</td>\n",
       "      <td>At a gathering I found myself involuntarily si...</td>\n",
       "      <td>NaN</td>\n",
       "    </tr>\n",
       "  </tbody>\n",
       "</table>\n",
       "</div>"
      ],
      "text/plain": [
       "   emotion                                           sentence Unnamed: 2\n",
       "0      joy  On days when I feel close to my partner and ot...        NaN\n",
       "1     fear  Every time I imagine that someone I love or I ...        NaN\n",
       "2    anger  When I had been obviously unjustly treated and...        NaN\n",
       "3  sadness  When I think about the short time that we live...        NaN\n",
       "4  disgust  At a gathering I found myself involuntarily si...        NaN"
      ]
     },
     "execution_count": 14,
     "metadata": {},
     "output_type": "execute_result"
    }
   ],
   "source": [
    "df2.head()"
   ]
  },
  {
   "cell_type": "code",
   "execution_count": 15,
   "id": "85e45c0d",
   "metadata": {},
   "outputs": [],
   "source": [
    "df2.dropna(axis=1, how=\"any\", thresh=None, subset=None, inplace=True)"
   ]
  },
  {
   "cell_type": "code",
   "execution_count": 16,
   "id": "75365898",
   "metadata": {},
   "outputs": [
    {
     "data": {
      "text/html": [
       "<div>\n",
       "<style scoped>\n",
       "    .dataframe tbody tr th:only-of-type {\n",
       "        vertical-align: middle;\n",
       "    }\n",
       "\n",
       "    .dataframe tbody tr th {\n",
       "        vertical-align: top;\n",
       "    }\n",
       "\n",
       "    .dataframe thead th {\n",
       "        text-align: right;\n",
       "    }\n",
       "</style>\n",
       "<table border=\"1\" class=\"dataframe\">\n",
       "  <thead>\n",
       "    <tr style=\"text-align: right;\">\n",
       "      <th></th>\n",
       "      <th>emotion</th>\n",
       "      <th>sentence</th>\n",
       "    </tr>\n",
       "  </thead>\n",
       "  <tbody>\n",
       "    <tr>\n",
       "      <th>0</th>\n",
       "      <td>joy</td>\n",
       "      <td>On days when I feel close to my partner and ot...</td>\n",
       "    </tr>\n",
       "    <tr>\n",
       "      <th>1</th>\n",
       "      <td>fear</td>\n",
       "      <td>Every time I imagine that someone I love or I ...</td>\n",
       "    </tr>\n",
       "    <tr>\n",
       "      <th>2</th>\n",
       "      <td>anger</td>\n",
       "      <td>When I had been obviously unjustly treated and...</td>\n",
       "    </tr>\n",
       "    <tr>\n",
       "      <th>3</th>\n",
       "      <td>sadness</td>\n",
       "      <td>When I think about the short time that we live...</td>\n",
       "    </tr>\n",
       "    <tr>\n",
       "      <th>4</th>\n",
       "      <td>disgust</td>\n",
       "      <td>At a gathering I found myself involuntarily si...</td>\n",
       "    </tr>\n",
       "  </tbody>\n",
       "</table>\n",
       "</div>"
      ],
      "text/plain": [
       "   emotion                                           sentence\n",
       "0      joy  On days when I feel close to my partner and ot...\n",
       "1     fear  Every time I imagine that someone I love or I ...\n",
       "2    anger  When I had been obviously unjustly treated and...\n",
       "3  sadness  When I think about the short time that we live...\n",
       "4  disgust  At a gathering I found myself involuntarily si..."
      ]
     },
     "execution_count": 16,
     "metadata": {},
     "output_type": "execute_result"
    }
   ],
   "source": [
    "df2.head()"
   ]
  },
  {
   "cell_type": "code",
   "execution_count": 17,
   "id": "fa1196b1",
   "metadata": {},
   "outputs": [],
   "source": [
    "frames = [df1, df2]"
   ]
  },
  {
   "cell_type": "code",
   "execution_count": 18,
   "id": "2df9e63c",
   "metadata": {},
   "outputs": [],
   "source": [
    "df = pd.concat(frames)"
   ]
  },
  {
   "cell_type": "code",
   "execution_count": 19,
   "id": "d4ed11a3",
   "metadata": {},
   "outputs": [
    {
     "data": {
      "text/html": [
       "<div>\n",
       "<style scoped>\n",
       "    .dataframe tbody tr th:only-of-type {\n",
       "        vertical-align: middle;\n",
       "    }\n",
       "\n",
       "    .dataframe tbody tr th {\n",
       "        vertical-align: top;\n",
       "    }\n",
       "\n",
       "    .dataframe thead th {\n",
       "        text-align: right;\n",
       "    }\n",
       "</style>\n",
       "<table border=\"1\" class=\"dataframe\">\n",
       "  <thead>\n",
       "    <tr style=\"text-align: right;\">\n",
       "      <th></th>\n",
       "      <th>emotion</th>\n",
       "      <th>sentence</th>\n",
       "    </tr>\n",
       "  </thead>\n",
       "  <tbody>\n",
       "    <tr>\n",
       "      <th>0</th>\n",
       "      <td>sadness</td>\n",
       "      <td>i didnt feel humiliated</td>\n",
       "    </tr>\n",
       "    <tr>\n",
       "      <th>1</th>\n",
       "      <td>sadness</td>\n",
       "      <td>i can go from feeling so hopeless to so damned...</td>\n",
       "    </tr>\n",
       "    <tr>\n",
       "      <th>2</th>\n",
       "      <td>anger</td>\n",
       "      <td>im grabbing a minute to post i feel greedy wrong</td>\n",
       "    </tr>\n",
       "    <tr>\n",
       "      <th>3</th>\n",
       "      <td>love</td>\n",
       "      <td>i am ever feeling nostalgic about the fireplac...</td>\n",
       "    </tr>\n",
       "    <tr>\n",
       "      <th>4</th>\n",
       "      <td>anger</td>\n",
       "      <td>i am feeling grouchy</td>\n",
       "    </tr>\n",
       "    <tr>\n",
       "      <th>...</th>\n",
       "      <td>...</td>\n",
       "      <td>...</td>\n",
       "    </tr>\n",
       "    <tr>\n",
       "      <th>23511</th>\n",
       "      <td>shame</td>\n",
       "      <td>Two years back someone invited me to be the tu...</td>\n",
       "    </tr>\n",
       "    <tr>\n",
       "      <th>23512</th>\n",
       "      <td>shame</td>\n",
       "      <td>I had taken the responsibility to do something...</td>\n",
       "    </tr>\n",
       "    <tr>\n",
       "      <th>23513</th>\n",
       "      <td>fear</td>\n",
       "      <td>I was at home and I heard a loud sound of spit...</td>\n",
       "    </tr>\n",
       "    <tr>\n",
       "      <th>23514</th>\n",
       "      <td>guilt</td>\n",
       "      <td>I did not do the homework that the teacher had...</td>\n",
       "    </tr>\n",
       "    <tr>\n",
       "      <th>23515</th>\n",
       "      <td>fear</td>\n",
       "      <td>I had shouted at my younger brother and he was...</td>\n",
       "    </tr>\n",
       "  </tbody>\n",
       "</table>\n",
       "<p>23516 rows × 2 columns</p>\n",
       "</div>"
      ],
      "text/plain": [
       "       emotion                                           sentence\n",
       "0      sadness                            i didnt feel humiliated\n",
       "1      sadness  i can go from feeling so hopeless to so damned...\n",
       "2        anger   im grabbing a minute to post i feel greedy wrong\n",
       "3         love  i am ever feeling nostalgic about the fireplac...\n",
       "4        anger                               i am feeling grouchy\n",
       "...        ...                                                ...\n",
       "23511    shame  Two years back someone invited me to be the tu...\n",
       "23512    shame  I had taken the responsibility to do something...\n",
       "23513     fear  I was at home and I heard a loud sound of spit...\n",
       "23514    guilt  I did not do the homework that the teacher had...\n",
       "23515     fear  I had shouted at my younger brother and he was...\n",
       "\n",
       "[23516 rows x 2 columns]"
      ]
     },
     "execution_count": 19,
     "metadata": {},
     "output_type": "execute_result"
    }
   ],
   "source": [
    "df.reset_index(drop=True)"
   ]
  },
  {
   "cell_type": "code",
   "execution_count": 20,
   "id": "fbaa4356",
   "metadata": {},
   "outputs": [],
   "source": [
    "text = df.drop(columns = ['emotion']).copy()\n",
    "label = df['emotion']\n",
    "\n",
    "text_list = text.values.tolist()"
   ]
  },
  {
   "cell_type": "code",
   "execution_count": 21,
   "id": "65057177",
   "metadata": {},
   "outputs": [],
   "source": [
    "label_list = label.values.tolist()"
   ]
  },
  {
   "cell_type": "code",
   "execution_count": 22,
   "id": "332e9917",
   "metadata": {},
   "outputs": [],
   "source": [
    "rand = np.random.RandomState(32).permutation(len(label_list))"
   ]
  },
  {
   "cell_type": "code",
   "execution_count": 23,
   "id": "613d0a98",
   "metadata": {},
   "outputs": [],
   "source": [
    "text_array = np.array(text)[rand]"
   ]
  },
  {
   "cell_type": "code",
   "execution_count": 24,
   "id": "d99d6bee",
   "metadata": {},
   "outputs": [],
   "source": [
    "label_array = np.array(label)[rand]"
   ]
  },
  {
   "cell_type": "code",
   "execution_count": 25,
   "id": "9e2cf5b0",
   "metadata": {},
   "outputs": [],
   "source": [
    "text_train = text_array[0: int(0.8*len(text_array))]"
   ]
  },
  {
   "cell_type": "code",
   "execution_count": 26,
   "id": "7edf8017",
   "metadata": {},
   "outputs": [],
   "source": [
    "label_train = label_array[0: int(0.8*len(label_array))]"
   ]
  },
  {
   "cell_type": "code",
   "execution_count": 27,
   "id": "c93d0618",
   "metadata": {},
   "outputs": [
    {
     "data": {
      "text/plain": [
       "array(['Once in primary five, I had forgotten to take a book to class and  \\nthe teacher punished me by asking me to stand at the back of the  \\nclass.  I thought about the way my mother would react if she saw  \\nme being punished.  My mother was very good to me and though she  \\ndid not see me punished, I felt sorry for her.'],\n",
       "      dtype=object)"
      ]
     },
     "execution_count": 27,
     "metadata": {},
     "output_type": "execute_result"
    }
   ],
   "source": [
    "i = 53\n",
    "text_train[i]"
   ]
  },
  {
   "cell_type": "code",
   "execution_count": 28,
   "id": "c2bce641",
   "metadata": {},
   "outputs": [
    {
     "data": {
      "text/plain": [
       "'shame'"
      ]
     },
     "execution_count": 28,
     "metadata": {},
     "output_type": "execute_result"
    }
   ],
   "source": [
    "label_train[i]"
   ]
  },
  {
   "cell_type": "code",
   "execution_count": 29,
   "id": "e20fe8b8",
   "metadata": {},
   "outputs": [],
   "source": [
    "text_val = text_array[int(0.8*len(text_array)):]"
   ]
  },
  {
   "cell_type": "code",
   "execution_count": 30,
   "id": "44324dab",
   "metadata": {},
   "outputs": [],
   "source": [
    "label_val = label_array[int(0.8*len(label_array)):]"
   ]
  },
  {
   "cell_type": "code",
   "execution_count": 31,
   "id": "02fcd4c2",
   "metadata": {},
   "outputs": [
    {
     "data": {
      "text/plain": [
       "array(['i keep feeling that im unloved unwanted unimportant in everyones eyes at all'],\n",
       "      dtype=object)"
      ]
     },
     "execution_count": 31,
     "metadata": {},
     "output_type": "execute_result"
    }
   ],
   "source": [
    "text_val[i]"
   ]
  },
  {
   "cell_type": "code",
   "execution_count": 32,
   "id": "998e56cc",
   "metadata": {},
   "outputs": [
    {
     "data": {
      "text/plain": [
       "'sadness'"
      ]
     },
     "execution_count": 32,
     "metadata": {},
     "output_type": "execute_result"
    }
   ],
   "source": [
    "label_val[i]"
   ]
  },
  {
   "cell_type": "code",
   "execution_count": 33,
   "id": "0cdef54f",
   "metadata": {},
   "outputs": [],
   "source": [
    "text_train_list=[ i[0] for i in text_train.tolist()]"
   ]
  },
  {
   "cell_type": "code",
   "execution_count": 34,
   "id": "f055f344",
   "metadata": {},
   "outputs": [],
   "source": [
    "label_train_list=[ i[0] for i in label_train.tolist()]"
   ]
  },
  {
   "cell_type": "code",
   "execution_count": 35,
   "id": "f4ec234b",
   "metadata": {},
   "outputs": [],
   "source": [
    "text_val_list=[ i[0] for i in text_val.tolist()]"
   ]
  },
  {
   "cell_type": "code",
   "execution_count": 36,
   "id": "01770dac",
   "metadata": {},
   "outputs": [],
   "source": [
    "label_val_list=[ i[0] for i in label_val.tolist()]"
   ]
  },
  {
   "cell_type": "code",
   "execution_count": 37,
   "id": "c57dfb25",
   "metadata": {},
   "outputs": [],
   "source": [
    "tokenizer = Tokenizer(num_words=1000000, oov_token='<UNK>')\n",
    "tokenizer.fit_on_texts([text_train_list[1]])"
   ]
  },
  {
   "cell_type": "code",
   "execution_count": 38,
   "id": "7ed7ef08",
   "metadata": {},
   "outputs": [
    {
     "data": {
      "text/plain": [
       "[[2, 4, 5, 6, 7, 3, 3, 8, 9, 10, 11, 12, 13, 2, 14, 15, 16]]"
      ]
     },
     "execution_count": 38,
     "metadata": {},
     "output_type": "execute_result"
    }
   ],
   "source": [
    "tokenizer.texts_to_sequences([text_train_list[1]])"
   ]
  },
  {
   "cell_type": "code",
   "execution_count": 39,
   "id": "88fa479d",
   "metadata": {},
   "outputs": [
    {
     "data": {
      "text/plain": [
       "'i went for the large double double along with a chocolate chip muffin i was feeling dangerous'"
      ]
     },
     "execution_count": 39,
     "metadata": {},
     "output_type": "execute_result"
    }
   ],
   "source": [
    "text_train_list[1]"
   ]
  },
  {
   "cell_type": "code",
   "execution_count": 40,
   "id": "2f17c991",
   "metadata": {},
   "outputs": [
    {
     "data": {
      "text/plain": [
       "<function matplotlib.pyplot.show(close=None, block=None)>"
      ]
     },
     "execution_count": 40,
     "metadata": {},
     "output_type": "execute_result"
    },
    {
     "data": {
      "image/png": "[encoded data removed]",
      "text/plain": [
       "<Figure size 432x288 with 1 Axes>"
      ]
     },
     "metadata": {
      "needs_background": "light"
     },
     "output_type": "display_data"
    }
   ],
   "source": [
    "lengths = [len(t.split(' ')) for t in text_train_list]\n",
    "plt.hist(lengths, bins = len(set(lengths)))\n",
    "plt.show"
   ]
  },
  {
   "cell_type": "code",
   "execution_count": 41,
   "id": "62366575",
   "metadata": {},
   "outputs": [],
   "source": [
    "max_length = 125\n",
    "from tensorflow.keras.preprocessing.sequence import pad_sequences"
   ]
  },
  {
   "cell_type": "code",
   "execution_count": 42,
   "id": "83e1aad1",
   "metadata": {},
   "outputs": [],
   "source": [
    "def get_sequences(tokenizer, text_train_list):\n",
    "    sequences = tokenizer.texts_to_sequences(text_train_list)\n",
    "    padded = pad_sequences(sequences, truncating='post', padding='post', maxlen = max_length)\n",
    "    return padded"
   ]
  },
  {
   "cell_type": "code",
   "execution_count": 43,
   "id": "5c03655c",
   "metadata": {},
   "outputs": [],
   "source": [
    "padded_train_seq = get_sequences(tokenizer,text_train_list)"
   ]
  },
  {
   "cell_type": "code",
   "execution_count": 44,
   "id": "6e18dd04",
   "metadata": {},
   "outputs": [
    {
     "data": {
      "text/plain": [
       "array([[2, 1, 1, ..., 0, 0, 0],\n",
       "       [2, 4, 5, ..., 0, 0, 0],\n",
       "       [2, 1, 1, ..., 0, 0, 0],\n",
       "       ...,\n",
       "       [1, 2, 1, ..., 0, 0, 0],\n",
       "       [1, 1, 1, ..., 0, 0, 0],\n",
       "       [2, 1, 1, ..., 0, 0, 0]])"
      ]
     },
     "execution_count": 44,
     "metadata": {},
     "output_type": "execute_result"
    }
   ],
   "source": [
    "padded_train_seq"
   ]
  },
  {
   "cell_type": "code",
   "execution_count": 45,
   "id": "fa6f2081",
   "metadata": {},
   "outputs": [
    {
     "name": "stdout",
     "output_type": "stream",
     "text": [
      "{'anger', 'fear', 'shame', 'guilt', 'love', 'surprise', 'joy', 'sadness', 'disgust'}\n"
     ]
    }
   ],
   "source": [
    "classes = set(label_train)\n",
    "print(classes)"
   ]
  },
  {
   "cell_type": "code",
   "execution_count": 46,
   "id": "28962f73",
   "metadata": {},
   "outputs": [
    {
     "data": {
      "image/png": "[encoded data removed]",
      "text/plain": [
       "<Figure size 432x288 with 1 Axes>"
      ]
     },
     "metadata": {
      "needs_background": "light"
     },
     "output_type": "display_data"
    }
   ],
   "source": [
    "plt.hist(label_train, bins=18)\n",
    "plt.show()"
   ]
  },
  {
   "cell_type": "code",
   "execution_count": 47,
   "id": "8582b41e",
   "metadata": {},
   "outputs": [],
   "source": [
    "class_to_index = dict((c,i) for i, c in enumerate(classes))\n",
    "index_to_class = dict((v, k) for k, v in class_to_index.items())"
   ]
  },
  {
   "cell_type": "code",
   "execution_count": 48,
   "id": "9a61b32c",
   "metadata": {},
   "outputs": [
    {
     "data": {
      "text/plain": [
       "{'anger': 0,\n",
       " 'fear': 1,\n",
       " 'shame': 2,\n",
       " 'guilt': 3,\n",
       " 'love': 4,\n",
       " 'surprise': 5,\n",
       " 'joy': 6,\n",
       " 'sadness': 7,\n",
       " 'disgust': 8}"
      ]
     },
     "execution_count": 48,
     "metadata": {},
     "output_type": "execute_result"
    }
   ],
   "source": [
    "class_to_index"
   ]
  },
  {
   "cell_type": "code",
   "execution_count": 49,
   "id": "b7bf8c9d",
   "metadata": {},
   "outputs": [
    {
     "data": {
      "text/plain": [
       "{0: 'anger',\n",
       " 1: 'fear',\n",
       " 2: 'shame',\n",
       " 3: 'guilt',\n",
       " 4: 'love',\n",
       " 5: 'surprise',\n",
       " 6: 'joy',\n",
       " 7: 'sadness',\n",
       " 8: 'disgust'}"
      ]
     },
     "execution_count": 49,
     "metadata": {},
     "output_type": "execute_result"
    }
   ],
   "source": [
    "index_to_class"
   ]
  },
  {
   "cell_type": "code",
   "execution_count": 50,
   "id": "34b21cab",
   "metadata": {},
   "outputs": [],
   "source": [
    "names_to_ids = lambda label_train: np.array([class_to_index.get(x) for x in label_train])"
   ]
  },
  {
   "cell_type": "code",
   "execution_count": 51,
   "id": "8d870ef8",
   "metadata": {},
   "outputs": [
    {
     "name": "stdout",
     "output_type": "stream",
     "text": [
      "1\n"
     ]
    }
   ],
   "source": [
    "train_labels = names_to_ids(label_train)\n",
    "print(train_labels[0])"
   ]
  },
  {
   "cell_type": "code",
   "execution_count": 52,
   "id": "49721cbc",
   "metadata": {},
   "outputs": [],
   "source": [
    "model = tf.keras.models.Sequential([\n",
    "    tf.keras.layers.Embedding(23516, 16, input_length=max_length),\n",
    "    tf.keras.layers.Bidirectional(tf.keras.layers.LSTM(20, return_sequences=True)),\n",
    "    tf.keras.layers.Bidirectional(tf.keras.layers.LSTM(20)),\n",
    "    tf.keras.layers.Dense(9, activation='softmax')\n",
    "])\n",
    "\n",
    "optimizer = tf.keras.optimizers.Adam(\n",
    "    learning_rate=0.001, beta_1=0.9, beta_2=0.999, epsilon=1e-07, amsgrad=False,\n",
    "    name='Adam'\n",
    ")\n",
    "\n",
    "model.compile(\n",
    "    loss='sparse_categorical_crossentropy',\n",
    "    optimizer = optimizer,\n",
    "    metrics=['accuracy']\n",
    ")"
   ]
  },
  {
   "cell_type": "code",
   "execution_count": 53,
   "id": "f19f7733",
   "metadata": {},
   "outputs": [
    {
     "name": "stdout",
     "output_type": "stream",
     "text": [
      "Model: \"sequential\"\n",
      "_________________________________________________________________\n",
      " Layer (type)                Output Shape              Param #   \n",
      "=================================================================\n",
      " embedding (Embedding)       (None, 125, 16)           376256    \n",
      "                                                                 \n",
      " bidirectional (Bidirectiona  (None, 125, 40)          5920      \n",
      " l)                                                              \n",
      "                                                                 \n",
      " bidirectional_1 (Bidirectio  (None, 40)               9760      \n",
      " nal)                                                            \n",
      "                                                                 \n",
      " dense (Dense)               (None, 9)                 369       \n",
      "                                                                 \n",
      "=================================================================\n",
      "Total params: 392,305\n",
      "Trainable params: 392,305\n",
      "Non-trainable params: 0\n",
      "_________________________________________________________________\n"
     ]
    }
   ],
   "source": [
    "model.summary()"
   ]
  },
  {
   "cell_type": "code",
   "execution_count": 54,
   "id": "08eeecdb",
   "metadata": {},
   "outputs": [],
   "source": [
    "text_val_list=[ i[0] for i in text_val.tolist()]"
   ]
  },
  {
   "cell_type": "code",
   "execution_count": 55,
   "id": "c4f87b70",
   "metadata": {},
   "outputs": [],
   "source": [
    "text_val_seq = get_sequences(tokenizer, text_val_list)"
   ]
  },
  {
   "cell_type": "code",
   "execution_count": 56,
   "id": "6623ff51",
   "metadata": {},
   "outputs": [
    {
     "data": {
      "text/plain": [
       "array([[ 2,  1,  1, ...,  0,  0,  0],\n",
       "       [ 1, 15,  1, ...,  0,  0,  0],\n",
       "       [ 2,  1,  1, ...,  0,  0,  0],\n",
       "       ...,\n",
       "       [ 2,  1,  1, ...,  0,  0,  0],\n",
       "       [ 2,  1,  1, ...,  0,  0,  0],\n",
       "       [ 2,  1,  1, ...,  0,  0,  0]])"
      ]
     },
     "execution_count": 56,
     "metadata": {},
     "output_type": "execute_result"
    }
   ],
   "source": [
    "text_val_seq"
   ]
  },
  {
   "cell_type": "code",
   "execution_count": 57,
   "id": "82d564b4",
   "metadata": {},
   "outputs": [
    {
     "data": {
      "text/plain": [
       "array([1, 0, 7, ..., 3, 0, 7])"
      ]
     },
     "execution_count": 57,
     "metadata": {},
     "output_type": "execute_result"
    }
   ],
   "source": [
    "train_labels"
   ]
  },
  {
   "cell_type": "code",
   "execution_count": 58,
   "id": "7b42fed4",
   "metadata": {},
   "outputs": [],
   "source": [
    "label_val = names_to_ids(label_val)"
   ]
  },
  {
   "cell_type": "code",
   "execution_count": 59,
   "id": "8a67eeec",
   "metadata": {},
   "outputs": [
    {
     "data": {
      "text/plain": [
       "array([7, 5, 4, ..., 6, 7, 7])"
      ]
     },
     "execution_count": 59,
     "metadata": {},
     "output_type": "execute_result"
    }
   ],
   "source": [
    "label_val"
   ]
  },
  {
   "cell_type": "code",
   "execution_count": 60,
   "id": "3a5cf188",
   "metadata": {},
   "outputs": [
    {
     "name": "stdout",
     "output_type": "stream",
     "text": [
      "Epoch 1/100\n",
      "95/95 [==============================] - 21s 174ms/step - loss: 1.9505 - accuracy: 0.2690 - val_loss: 1.9224 - val_accuracy: 0.2713\n",
      "Epoch 2/100\n",
      "95/95 [==============================] - 15s 158ms/step - loss: 1.8931 - accuracy: 0.2801 - val_loss: 1.8944 - val_accuracy: 0.2736\n",
      "Epoch 3/100\n",
      "95/95 [==============================] - 16s 164ms/step - loss: 1.8459 - accuracy: 0.2830 - val_loss: 1.8434 - val_accuracy: 0.2802\n",
      "Epoch 4/100\n",
      "95/95 [==============================] - 15s 160ms/step - loss: 1.8183 - accuracy: 0.2881 - val_loss: 1.8270 - val_accuracy: 0.2785\n",
      "Epoch 5/100\n",
      "95/95 [==============================] - 16s 166ms/step - loss: 1.8041 - accuracy: 0.2951 - val_loss: 1.8166 - val_accuracy: 0.2893\n",
      "Epoch 6/100\n",
      "95/95 [==============================] - 16s 169ms/step - loss: 1.7937 - accuracy: 0.2928 - val_loss: 1.8111 - val_accuracy: 0.2929\n",
      "Epoch 7/100\n",
      "95/95 [==============================] - 15s 156ms/step - loss: 1.7877 - accuracy: 0.2926 - val_loss: 1.7966 - val_accuracy: 0.2840\n",
      "Epoch 8/100\n",
      "95/95 [==============================] - 15s 156ms/step - loss: 1.7808 - accuracy: 0.2950 - val_loss: 1.7903 - val_accuracy: 0.2927\n",
      "Epoch 9/100\n",
      "95/95 [==============================] - 15s 157ms/step - loss: 1.7743 - accuracy: 0.2978 - val_loss: 1.7911 - val_accuracy: 0.2789\n",
      "Epoch 10/100\n",
      "95/95 [==============================] - 15s 157ms/step - loss: 1.7713 - accuracy: 0.2943 - val_loss: 1.7845 - val_accuracy: 0.2917\n",
      "Epoch 11/100\n",
      "95/95 [==============================] - 15s 157ms/step - loss: 1.7667 - accuracy: 0.2952 - val_loss: 1.7784 - val_accuracy: 0.2927\n",
      "Epoch 12/100\n",
      "95/95 [==============================] - 14s 151ms/step - loss: 1.7662 - accuracy: 0.2967 - val_loss: 1.7770 - val_accuracy: 0.2940\n",
      "Epoch 13/100\n",
      "95/95 [==============================] - 15s 159ms/step - loss: 1.7621 - accuracy: 0.2958 - val_loss: 1.7758 - val_accuracy: 0.2904\n",
      "Epoch 14/100\n",
      "95/95 [==============================] - 15s 155ms/step - loss: 1.7630 - accuracy: 0.2979 - val_loss: 1.7742 - val_accuracy: 0.2934\n",
      "Epoch 15/100\n",
      "95/95 [==============================] - 15s 156ms/step - loss: 1.7600 - accuracy: 0.2978 - val_loss: 1.7707 - val_accuracy: 0.2957\n",
      "Epoch 16/100\n",
      "95/95 [==============================] - 14s 150ms/step - loss: 1.7580 - accuracy: 0.2993 - val_loss: 1.7720 - val_accuracy: 0.2949\n",
      "Epoch 17/100\n",
      "95/95 [==============================] - 14s 146ms/step - loss: 1.7576 - accuracy: 0.2996 - val_loss: 1.7686 - val_accuracy: 0.2955\n",
      "Epoch 18/100\n",
      "95/95 [==============================] - 14s 144ms/step - loss: 1.7550 - accuracy: 0.3043 - val_loss: 1.7666 - val_accuracy: 0.2966\n",
      "Epoch 19/100\n",
      "95/95 [==============================] - 15s 154ms/step - loss: 1.7537 - accuracy: 0.3029 - val_loss: 1.7670 - val_accuracy: 0.2959\n",
      "Epoch 20/100\n",
      "95/95 [==============================] - 15s 162ms/step - loss: 1.7523 - accuracy: 0.3024 - val_loss: 1.7743 - val_accuracy: 0.2980\n",
      "Epoch 21/100\n",
      "95/95 [==============================] - 15s 163ms/step - loss: 1.7531 - accuracy: 0.3023 - val_loss: 1.7680 - val_accuracy: 0.2968\n",
      "Epoch 22/100\n",
      "95/95 [==============================] - 14s 148ms/step - loss: 1.7516 - accuracy: 0.3043 - val_loss: 1.7659 - val_accuracy: 0.2951\n",
      "Epoch 23/100\n",
      "95/95 [==============================] - 14s 144ms/step - loss: 1.7499 - accuracy: 0.3034 - val_loss: 1.7654 - val_accuracy: 0.2987\n",
      "Epoch 24/100\n",
      "95/95 [==============================] - 13s 142ms/step - loss: 1.7491 - accuracy: 0.3065 - val_loss: 1.7667 - val_accuracy: 0.2927\n",
      "Epoch 25/100\n",
      "95/95 [==============================] - 14s 149ms/step - loss: 1.7489 - accuracy: 0.3060 - val_loss: 1.7669 - val_accuracy: 0.2932\n",
      "Epoch 26/100\n",
      "95/95 [==============================] - 14s 147ms/step - loss: 1.7464 - accuracy: 0.3080 - val_loss: 1.7627 - val_accuracy: 0.2938\n",
      "Epoch 27/100\n",
      "95/95 [==============================] - 14s 146ms/step - loss: 1.7464 - accuracy: 0.3075 - val_loss: 1.7645 - val_accuracy: 0.2968\n",
      "Epoch 28/100\n",
      "95/95 [==============================] - 15s 156ms/step - loss: 1.7458 - accuracy: 0.3093 - val_loss: 1.7644 - val_accuracy: 0.3000\n",
      "Epoch 29/100\n",
      "95/95 [==============================] - 15s 152ms/step - loss: 1.7457 - accuracy: 0.3054 - val_loss: 1.7646 - val_accuracy: 0.2955\n",
      "Epoch 30/100\n",
      "95/95 [==============================] - 15s 164ms/step - loss: 1.7450 - accuracy: 0.3071 - val_loss: 1.7629 - val_accuracy: 0.2983\n",
      "Epoch 31/100\n",
      "95/95 [==============================] - 16s 168ms/step - loss: 1.7421 - accuracy: 0.3097 - val_loss: 1.7660 - val_accuracy: 0.2917\n",
      "Epoch 32/100\n",
      "95/95 [==============================] - 16s 170ms/step - loss: 1.7440 - accuracy: 0.3071 - val_loss: 1.7638 - val_accuracy: 0.2904\n",
      "Epoch 33/100\n",
      "95/95 [==============================] - 15s 155ms/step - loss: 1.7416 - accuracy: 0.3095 - val_loss: 1.7637 - val_accuracy: 0.2946\n",
      "Epoch 34/100\n",
      "95/95 [==============================] - 15s 156ms/step - loss: 1.7403 - accuracy: 0.3103 - val_loss: 1.7649 - val_accuracy: 0.2987\n",
      "Epoch 35/100\n",
      "95/95 [==============================] - 15s 154ms/step - loss: 1.7396 - accuracy: 0.3125 - val_loss: 1.7641 - val_accuracy: 0.2946\n",
      "Epoch 36/100\n",
      "95/95 [==============================] - 14s 149ms/step - loss: 1.7386 - accuracy: 0.3097 - val_loss: 1.7681 - val_accuracy: 0.2944\n",
      "Epoch 37/100\n",
      "95/95 [==============================] - 16s 166ms/step - loss: 1.7392 - accuracy: 0.3105 - val_loss: 1.7631 - val_accuracy: 0.2995\n",
      "Epoch 38/100\n",
      "95/95 [==============================] - 14s 151ms/step - loss: 1.7382 - accuracy: 0.3117 - val_loss: 1.7676 - val_accuracy: 0.2927\n"
     ]
    }
   ],
   "source": [
    "h = model.fit(\n",
    "padded_train_seq, train_labels,\n",
    "validation_data=(text_val_seq, label_val),\n",
    "batch_size = 200,\n",
    "epochs=100,\n",
    "callbacks=[\n",
    "    tf.keras.callbacks.EarlyStopping(monitor='val_accuracy', patience = 10)\n",
    "])"
   ]
  },
  {
   "cell_type": "code",
   "execution_count": 61,
   "id": "f9cd239f",
   "metadata": {},
   "outputs": [
    {
     "data": {
      "image/png": "[encoded data removed]",
      "text/plain": [
       "<Figure size 1152x432 with 2 Axes>"
      ]
     },
     "metadata": {
      "needs_background": "light"
     },
     "output_type": "display_data"
    }
   ],
   "source": [
    "show_history(h)"
   ]
  },
  {
   "cell_type": "code",
   "execution_count": 62,
   "id": "55e8a958",
   "metadata": {},
   "outputs": [],
   "source": [
    "test = test.rename(columns={'text':'sentence','label':'emotion'})"
   ]
  },
  {
   "cell_type": "code",
   "execution_count": 63,
   "id": "3d4e252e",
   "metadata": {},
   "outputs": [],
   "source": [
    "test = test[[\"emotion\", \"sentence\"]]"
   ]
  },
  {
   "cell_type": "code",
   "execution_count": 64,
   "id": "8f2d13eb",
   "metadata": {},
   "outputs": [],
   "source": [
    "test = test.replace([0,1,2,3,4,5],['sadness','joy','love','anger','fear','surprise'])"
   ]
  },
  {
   "cell_type": "code",
   "execution_count": 65,
   "id": "ccc7769e",
   "metadata": {},
   "outputs": [],
   "source": [
    "text_test = test.drop(columns = ['emotion']).copy()\n",
    "label_test = test['emotion']\n",
    "\n",
    "text_test_list = text_test.values.tolist()"
   ]
  },
  {
   "cell_type": "code",
   "execution_count": 66,
   "id": "1a252cec",
   "metadata": {},
   "outputs": [],
   "source": [
    "label_test_list = label_test.values.tolist()"
   ]
  },
  {
   "cell_type": "code",
   "execution_count": 67,
   "id": "3b453f07",
   "metadata": {},
   "outputs": [],
   "source": [
    "test_seq = get_sequences(tokenizer, text_test_list)\n",
    "test_labels = names_to_ids(label_test_list)"
   ]
  },
  {
   "cell_type": "code",
   "execution_count": 68,
   "id": "aec433ad",
   "metadata": {},
   "outputs": [
    {
     "name": "stdout",
     "output_type": "stream",
     "text": [
      "<class 'numpy.ndarray'>\n"
     ]
    }
   ],
   "source": [
    "print(type(test_seq))"
   ]
  },
  {
   "cell_type": "code",
   "execution_count": 69,
   "id": "ed37e896",
   "metadata": {},
   "outputs": [
    {
     "name": "stdout",
     "output_type": "stream",
     "text": [
      "63/63 [==============================] - 1s 16ms/step - loss: 2.1208 - accuracy: 0.2905\n"
     ]
    }
   ],
   "source": [
    "_=model.evaluate(test_seq, test_labels)"
   ]
  },
  {
   "cell_type": "code",
   "execution_count": 70,
   "id": "f988ae33",
   "metadata": {},
   "outputs": [
    {
     "name": "stdout",
     "output_type": "stream",
     "text": [
      "Sentence: ['im okay with her getting married whirlwind style at the courthouse and going off to kentucky to live with him but im still feeling hurt by the betrayal and secretive style she had adopted']\n",
      "Emotion: sadness\n",
      "Predicted Emotion: sadness\n"
     ]
    }
   ],
   "source": [
    "i = random.randint(0, len(test_labels) - 1)\n",
    "\n",
    "print('Sentence:', text_test_list[i])\n",
    "print('Emotion:', index_to_class[test_labels[i]])\n",
    "\n",
    "p = model.predict(np.expand_dims(test_seq[i], axis=0))[0]\n",
    "pred_class = index_to_class[np.argmax(p).astype('uint8')]\n",
    "\n",
    "print('Predicted Emotion:', pred_class)"
   ]
  },
  {
   "cell_type": "code",
   "execution_count": 71,
   "id": "a5cfe89c",
   "metadata": {},
   "outputs": [],
   "source": [
    "preds = np.argmax(model.predict(test_seq), axis=-1)"
   ]
  },
  {
   "cell_type": "code",
   "execution_count": 72,
   "id": "7c8159f7",
   "metadata": {},
   "outputs": [
    {
     "data": {
      "text/plain": [
       "7"
      ]
     },
     "execution_count": 72,
     "metadata": {},
     "output_type": "execute_result"
    }
   ],
   "source": [
    "preds[1]"
   ]
  },
  {
   "cell_type": "code",
   "execution_count": 73,
   "id": "e47f1fad",
   "metadata": {},
   "outputs": [
    {
     "data": {
      "image/png": "[encoded data removed]",
      "text/plain": [
       "<Figure size 648x648 with 2 Axes>"
      ]
     },
     "metadata": {
      "needs_background": "light"
     },
     "output_type": "display_data"
    },
    {
     "data": {
      "text/plain": [
       "6"
      ]
     },
     "execution_count": 73,
     "metadata": {},
     "output_type": "execute_result"
    }
   ],
   "source": [
    "show_confusion_matrix(test_labels, preds, list(classes))"
   ]
  },
  {
   "cell_type": "code",
   "execution_count": 74,
   "id": "9b10c989",
   "metadata": {},
   "outputs": [
    {
     "data": {
      "text/plain": [
       "{7}"
      ]
     },
     "execution_count": 74,
     "metadata": {},
     "output_type": "execute_result"
    }
   ],
   "source": [
    "set(preds)"
   ]
  },
  {
   "cell_type": "code",
   "execution_count": null,
   "id": "7d7ec623",
   "metadata": {},
   "outputs": [],
   "source": []
  }
 ],
 "metadata": {
  "kernelspec": {
   "display_name": "Python 3 (ipykernel)",
   "language": "python",
   "name": "python3"
  },
  "language_info": {
   "codemirror_mode": {
    "name": "ipython",
    "version": 3
   },
   "file_extension": ".py",
   "mimetype": "text/x-python",
   "name": "python",
   "nbconvert_exporter": "python",
   "pygments_lexer": "ipython3",
   "version": "3.8.8"
  }
 },
 "nbformat": 4,
 "nbformat_minor": 5
}
