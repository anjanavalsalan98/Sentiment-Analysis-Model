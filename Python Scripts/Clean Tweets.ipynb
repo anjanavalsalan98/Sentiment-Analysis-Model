{
 "cells": [
  {
   "cell_type": "code",
   "execution_count": 1,
   "id": "7ee73d15",
   "metadata": {},
   "outputs": [],
   "source": [
    "import re\n",
    "import pandas as pd"
   ]
  },
  {
   "cell_type": "code",
   "execution_count": 2,
   "id": "133fec00",
   "metadata": {},
   "outputs": [],
   "source": [
    "df = pd.read_csv('G:\\My Drive\\AnjanaValsalan_ECNG 3020\\Implementation Files\\Tweets\\sentiment_tweets3.csv')\n",
    "df.drop('Index',axis='columns',inplace=True)"
   ]
  },
  {
   "cell_type": "code",
   "execution_count": 3,
   "id": "6ebba396",
   "metadata": {},
   "outputs": [],
   "source": [
    "tweet = df['message to examine']"
   ]
  },
  {
   "cell_type": "code",
   "execution_count": 4,
   "id": "3fa8bc17",
   "metadata": {},
   "outputs": [],
   "source": [
    "tweet_list=tweet.tolist()\n",
    "length = len(tweet_list)"
   ]
  },
  {
   "cell_type": "code",
   "execution_count": 6,
   "id": "442cbc83",
   "metadata": {},
   "outputs": [],
   "source": [
    "def cleaner(tweets):\n",
    "    new_tweet = []\n",
    "    for i in range(len(tweets)):\n",
    "        clean_tweet = re.sub(\"@[A-Za-z0-9_]+\",\"\", tweets[i])\n",
    "        clean_tweet = re.sub(\"#[A-Za-z0-9_]+\",\"\", clean_tweet)\n",
    "        new_tweet.append(clean_tweet)\n",
    "    return new_tweet"
   ]
  },
  {
   "cell_type": "code",
   "execution_count": 7,
   "id": "17d9b53f",
   "metadata": {},
   "outputs": [],
   "source": [
    "clean_set = cleaner(tweet_list)"
   ]
  },
  {
   "cell_type": "code",
   "execution_count": 8,
   "id": "e6e2d6cc",
   "metadata": {},
   "outputs": [],
   "source": [
    "df_new = pd.DataFrame(clean_set, columns = ['sentence'])"
   ]
  },
  {
   "cell_type": "code",
   "execution_count": 9,
   "id": "7079a1e2",
   "metadata": {},
   "outputs": [
    {
     "data": {
      "text/html": [
       "<div>\n",
       "<style scoped>\n",
       "    .dataframe tbody tr th:only-of-type {\n",
       "        vertical-align: middle;\n",
       "    }\n",
       "\n",
       "    .dataframe tbody tr th {\n",
       "        vertical-align: top;\n",
       "    }\n",
       "\n",
       "    .dataframe thead th {\n",
       "        text-align: right;\n",
       "    }\n",
       "</style>\n",
       "<table border=\"1\" class=\"dataframe\">\n",
       "  <thead>\n",
       "    <tr style=\"text-align: right;\">\n",
       "      <th></th>\n",
       "      <th>sentence</th>\n",
       "    </tr>\n",
       "  </thead>\n",
       "  <tbody>\n",
       "    <tr>\n",
       "      <th>0</th>\n",
       "      <td>just had a real good moment. i missssssssss hi...</td>\n",
       "    </tr>\n",
       "    <tr>\n",
       "      <th>1</th>\n",
       "      <td>is reading manga  http://plurk.com/p/mzp1e</td>\n",
       "    </tr>\n",
       "    <tr>\n",
       "      <th>2</th>\n",
       "      <td>http://twitpic.com/2y2lx - http://www.youtube...</td>\n",
       "    </tr>\n",
       "    <tr>\n",
       "      <th>3</th>\n",
       "      <td>Need to send 'em to my accountant tomorrow. O...</td>\n",
       "    </tr>\n",
       "    <tr>\n",
       "      <th>4</th>\n",
       "      <td>ADD ME ON MYSPACE!!!  myspace.com/LookThunder</td>\n",
       "    </tr>\n",
       "    <tr>\n",
       "      <th>...</th>\n",
       "      <td>...</td>\n",
       "    </tr>\n",
       "    <tr>\n",
       "      <th>10309</th>\n",
       "      <td>No Depression by G Herbo is my mood from now o...</td>\n",
       "    </tr>\n",
       "    <tr>\n",
       "      <th>10310</th>\n",
       "      <td>What do you do when depression succumbs the br...</td>\n",
       "    </tr>\n",
       "    <tr>\n",
       "      <th>10311</th>\n",
       "      <td>Ketamine Nasal Spray Shows Promise Against Dep...</td>\n",
       "    </tr>\n",
       "    <tr>\n",
       "      <th>10312</th>\n",
       "      <td>dont mistake a bad day with depression! everyo...</td>\n",
       "    </tr>\n",
       "    <tr>\n",
       "      <th>10313</th>\n",
       "      <td>0</td>\n",
       "    </tr>\n",
       "  </tbody>\n",
       "</table>\n",
       "<p>10314 rows × 1 columns</p>\n",
       "</div>"
      ],
      "text/plain": [
       "                                                sentence\n",
       "0      just had a real good moment. i missssssssss hi...\n",
       "1             is reading manga  http://plurk.com/p/mzp1e\n",
       "2       http://twitpic.com/2y2lx - http://www.youtube...\n",
       "3       Need to send 'em to my accountant tomorrow. O...\n",
       "4          ADD ME ON MYSPACE!!!  myspace.com/LookThunder\n",
       "...                                                  ...\n",
       "10309  No Depression by G Herbo is my mood from now o...\n",
       "10310  What do you do when depression succumbs the br...\n",
       "10311  Ketamine Nasal Spray Shows Promise Against Dep...\n",
       "10312  dont mistake a bad day with depression! everyo...\n",
       "10313                                                  0\n",
       "\n",
       "[10314 rows x 1 columns]"
      ]
     },
     "execution_count": 9,
     "metadata": {},
     "output_type": "execute_result"
    }
   ],
   "source": [
    "df_new"
   ]
  },
  {
   "cell_type": "code",
   "execution_count": null,
   "id": "ed6ff12b",
   "metadata": {},
   "outputs": [],
   "source": []
  },
  {
   "cell_type": "code",
   "execution_count": null,
   "id": "ba187e92",
   "metadata": {},
   "outputs": [],
   "source": []
  }
 ],
 "metadata": {
  "kernelspec": {
   "display_name": "Python 3 (ipykernel)",
   "language": "python",
   "name": "python3"
  },
  "language_info": {
   "codemirror_mode": {
    "name": "ipython",
    "version": 3
   },
   "file_extension": ".py",
   "mimetype": "text/x-python",
   "name": "python",
   "nbconvert_exporter": "python",
   "pygments_lexer": "ipython3",
   "version": "3.8.8"
  }
 },
 "nbformat": 4,
 "nbformat_minor": 5
}
