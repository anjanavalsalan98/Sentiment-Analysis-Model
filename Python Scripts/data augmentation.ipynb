{
 "cells": [
  {
   "cell_type": "code",
   "execution_count": 2,
   "id": "5c69f178",
   "metadata": {},
   "outputs": [],
   "source": [
    "from nlpaug.util.file.download import DownloadUtil\n",
    "DownloadUtil.download_word2vec(dest_dir='.')"
   ]
  },
  {
   "cell_type": "code",
   "execution_count": 3,
   "id": "a45cbd48",
   "metadata": {},
   "outputs": [],
   "source": [
    "import os\n",
    "model_dir = \"../model/\""
   ]
  },
  {
   "cell_type": "code",
   "execution_count": 4,
   "id": "f7a441da",
   "metadata": {},
   "outputs": [],
   "source": [
    "import nlpaug.augmenter.word as naw\n",
    "import nlpaug.flow as nafc\n",
    "import pandas as pd\n",
    "import tensorflow as tf\n",
    "import numpy as np\n",
    "import matplotlib.pyplot as plt\n",
    "import nltk\n",
    "import random\n",
    "\n",
    "from nlpaug.util import Action"
   ]
  },
  {
   "cell_type": "code",
   "execution_count": 5,
   "id": "bc0f891b",
   "metadata": {},
   "outputs": [
    {
     "data": {
      "text/html": [
       "<div>\n",
       "<style scoped>\n",
       "    .dataframe tbody tr th:only-of-type {\n",
       "        vertical-align: middle;\n",
       "    }\n",
       "\n",
       "    .dataframe tbody tr th {\n",
       "        vertical-align: top;\n",
       "    }\n",
       "\n",
       "    .dataframe thead th {\n",
       "        text-align: right;\n",
       "    }\n",
       "</style>\n",
       "<table border=\"1\" class=\"dataframe\">\n",
       "  <thead>\n",
       "    <tr style=\"text-align: right;\">\n",
       "      <th></th>\n",
       "      <th>text</th>\n",
       "    </tr>\n",
       "    <tr>\n",
       "      <th>label</th>\n",
       "      <th></th>\n",
       "    </tr>\n",
       "  </thead>\n",
       "  <tbody>\n",
       "    <tr>\n",
       "      <th>anger</th>\n",
       "      <td>1079</td>\n",
       "    </tr>\n",
       "    <tr>\n",
       "      <th>fear</th>\n",
       "      <td>1076</td>\n",
       "    </tr>\n",
       "    <tr>\n",
       "      <th>joy</th>\n",
       "      <td>1092</td>\n",
       "    </tr>\n",
       "    <tr>\n",
       "      <th>sadness</th>\n",
       "      <td>1082</td>\n",
       "    </tr>\n",
       "  </tbody>\n",
       "</table>\n",
       "</div>"
      ],
      "text/plain": [
       "         text\n",
       "label        \n",
       "anger    1079\n",
       "fear     1076\n",
       "joy      1092\n",
       "sadness  1082"
      ]
     },
     "execution_count": 5,
     "metadata": {},
     "output_type": "execute_result"
    }
   ],
   "source": [
    "ISEAR_dataset = pd.read_csv('G:\\My Drive\\AnjanaValsalan_ECNG 3020\\Implementation Files\\Datasets\\ISEAR csv\\ISEAR.csv')\n",
    "ISEAR_dataset.dropna(axis=1, how=\"any\", thresh=None, subset=None, inplace=True)\n",
    "ISEAR_dataset = ISEAR_dataset[ISEAR_dataset.emotion != 'disgust']\n",
    "ISEAR_dataset = ISEAR_dataset[ISEAR_dataset.emotion != 'shame']\n",
    "ISEAR_dataset = ISEAR_dataset[ISEAR_dataset.emotion != 'guilt']\n",
    "ISEAR_dataset = ISEAR_dataset[[\"sentence\", \"emotion\"]]\n",
    "ISEAR_dataset = ISEAR_dataset.rename(columns={'sentence':'text','emotion':'label'})\n",
    "ISEAR_dataset.groupby(['label']).count()"
   ]
  },
  {
   "cell_type": "code",
   "execution_count": 6,
   "id": "1f747866",
   "metadata": {},
   "outputs": [],
   "source": [
    "for index, row in ISEAR_dataset.iterrows():\n",
    "    row[\"text\"] = row[\"text\"].strip().replace(\"   \",\" \").replace(\"  \",\" \").replace(\"\\n\",\"\")"
   ]
  },
  {
   "cell_type": "code",
   "execution_count": 7,
   "id": "547f5224",
   "metadata": {},
   "outputs": [],
   "source": [
    "ISEAR_train = ISEAR_dataset[0: int(0.8*len(ISEAR_dataset))]\n",
    "ISEAR_val = ISEAR_dataset[int(0.8*len(ISEAR_dataset)):int(0.9*len(ISEAR_dataset))]\n",
    "ISEAR_test = ISEAR_dataset[int(0.9*len(ISEAR_dataset)):]"
   ]
  },
  {
   "cell_type": "code",
   "execution_count": 8,
   "id": "c9422090",
   "metadata": {},
   "outputs": [
    {
     "name": "stderr",
     "output_type": "stream",
     "text": [
      "Using custom data configuration default\n",
      "Reusing dataset emotion (C:\\Users\\valsa\\.cache\\huggingface\\datasets\\emotion\\default\\0.0.0\\348f63ca8e27b3713b6c04d723efe6d824a56fb3d1449794716c0f0296072705)\n"
     ]
    },
    {
     "data": {
      "application/vnd.jupyter.widget-view+json": {
       "model_id": "28145e1cefbe433da318a9e8d2f066bf",
       "version_major": 2,
       "version_minor": 0
      },
      "text/plain": [
       "  0%|          | 0/3 [00:00<?, ?it/s]"
      ]
     },
     "metadata": {},
     "output_type": "display_data"
    }
   ],
   "source": [
    "from datasets import load_dataset\n",
    "dataset = load_dataset(\"emotion\")"
   ]
  },
  {
   "cell_type": "code",
   "execution_count": 9,
   "id": "f2af6e68",
   "metadata": {},
   "outputs": [],
   "source": [
    "dataset.set_format(type=\"pandas\")\n",
    "train = dataset[\"train\"][:]\n",
    "test = dataset[\"test\"][:]\n",
    "val = dataset[\"validation\"][:]"
   ]
  },
  {
   "cell_type": "code",
   "execution_count": 10,
   "id": "09bc1fdd",
   "metadata": {},
   "outputs": [],
   "source": [
    "# train = train[train.label != 2]\n",
    "# train = train[train.label != 5]\n",
    "frames = [ISEAR_train, train]\n",
    "train = pd.concat(frames)\n",
    "train = train.reset_index(drop=True)\n",
    "\n",
    "# test = test[test.label != 2]\n",
    "# test = test[test.label != 5]\n",
    "frames = [ISEAR_test, test]\n",
    "test = pd.concat(frames)\n",
    "test = test.reset_index(drop=True)\n",
    "\n",
    "# val = val[val.label != 2]\n",
    "# val = val[val.label != 5]\n",
    "frames = [ISEAR_val, val]\n",
    "val = pd.concat(frames)\n",
    "val = val.reset_index(drop=True)"
   ]
  },
  {
   "cell_type": "code",
   "execution_count": 11,
   "id": "e106a871",
   "metadata": {},
   "outputs": [],
   "source": [
    "def data_aug(data, emotion_str, emotion_no, aug_num):\n",
    "    list_temp = []\n",
    "    aug = naw.ContextualWordEmbsAug(model_path='bert-base-uncased', action=\"insert\")\n",
    "    for index, row in data.iterrows():\n",
    "         if emotion_str == row['label'] or emotion_no == row['label']:\n",
    "                for i in range(aug_num):\n",
    "                    augmented_text = aug.augment(row[\"text\"])\n",
    "                    list_temp.append([augmented_text, row[\"label\"]])\n",
    "    df_temp = pd.DataFrame(list_temp, columns = [\"text\",\"label\"])\n",
    "    frames = [data, df_temp]\n",
    "    data = pd.concat(frames)\n",
    "    data = data.reset_index(drop=True)\n",
    "    return data"
   ]
  },
  {
   "cell_type": "code",
   "execution_count": 12,
   "id": "176556b9",
   "metadata": {},
   "outputs": [],
   "source": [
    "train = data_aug(train, \"love\", 2, 1)\n",
    "train = data_aug(train, \"surprise\", 5, 3)\n",
    "test = data_aug(test, \"love\", 2, 1)\n",
    "test = data_aug(test, \"surprise\", 5, 3)\n",
    "val = data_aug(val, \"love\", 2, 1)\n",
    "val = data_aug(val, \"surprise\", 5, 3)"
   ]
  },
  {
   "cell_type": "code",
   "execution_count": 28,
   "id": "195aae1d",
   "metadata": {},
   "outputs": [],
   "source": [
    "train.to_csv(\"G:\\My Drive\\AnjanaValsalan_ECNG 3020\\Implementation Files\\Datasets\\ECNG3020_Final_Dataset\\ECNG3020_Train_Dataset.csv\", index = False)\n",
    "test.to_csv(\"G:\\My Drive\\AnjanaValsalan_ECNG 3020\\Implementation Files\\Datasets\\ECNG3020_Final_Dataset\\ECNG3020_Test_Dataset.csv\", index = False)\n",
    "val.to_csv(\"G:\\My Drive\\AnjanaValsalan_ECNG 3020\\Implementation Files\\Datasets\\ECNG3020_Final_Dataset\\ECNG3020_Val_Dataset.csv\", index = False)"
   ]
  },
  {
   "cell_type": "code",
   "execution_count": null,
   "id": "87fd1a2d",
   "metadata": {},
   "outputs": [],
   "source": []
  }
 ],
 "metadata": {
  "kernelspec": {
   "display_name": "Python [conda env:ECNG3020] *",
   "language": "python",
   "name": "conda-env-ECNG3020-py"
  },
  "language_info": {
   "codemirror_mode": {
    "name": "ipython",
    "version": 3
   },
   "file_extension": ".py",
   "mimetype": "text/x-python",
   "name": "python",
   "nbconvert_exporter": "python",
   "pygments_lexer": "ipython3",
   "version": "3.8.8"
  }
 },
 "nbformat": 4,
 "nbformat_minor": 5
}
