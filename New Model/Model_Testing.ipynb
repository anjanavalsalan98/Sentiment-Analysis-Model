{
 "cells": [
  {
   "cell_type": "code",
   "execution_count": 18,
   "id": "b1722989",
   "metadata": {},
   "outputs": [],
   "source": [
    "import tensorflow as tf\n",
    "import numpy as np\n",
    "import pandas as pd\n",
    "import matplotlib.pyplot as plt\n",
    "import nltk\n",
    "import random\n",
    "from keras.models import load_model\n",
    "\n",
    "def show_confusion_matrix(y_true, y_pred, classes):\n",
    "    from sklearn.metrics import confusion_matrix\n",
    "    \n",
    "    cm = confusion_matrix(y_true, y_pred, normalize='true')\n",
    "\n",
    "    plt.figure(figsize=(8, 8))\n",
    "    sp = plt.subplot(1, 1, 1)\n",
    "    ctx = sp.matshow(cm)\n",
    "    plt.xticks(list(range(0, 6)), labels=classes)\n",
    "    plt.yticks(list(range(0, 6)), labels=classes)\n",
    "    plt.colorbar(ctx)\n",
    "    plt.show()\n",
    "\n"
   ]
  },
  {
   "cell_type": "code",
   "execution_count": 19,
   "id": "67d023b7",
   "metadata": {},
   "outputs": [],
   "source": [
    "model = tf.saved_model.load('models/SA_Model_Final_2')\n"
   ]
  },
  {
   "cell_type": "markdown",
   "id": "3df5f514",
   "metadata": {},
   "source": [
    "model.summary()\n",
    "model.optimizer"
   ]
  },
  {
   "cell_type": "markdown",
   "id": "79bd4a9b",
   "metadata": {},
   "source": [
    "model.get_weights()"
   ]
  },
  {
   "cell_type": "markdown",
   "id": "54c4c435",
   "metadata": {},
   "source": [
    "model = tf.keras.models.Sequential([\n",
    "        tf.keras.layers.Embedding(10000, 16, input_length=50),\n",
    "        tf.keras.layers.LSTM(20, return_sequences=True),\n",
    "        tf.keras.layers.LSTM(20),\n",
    "        tf.keras.layers.Dense(6, activation='softmax')\n",
    "])\n",
    "\n",
    "model.compile(\n",
    "    loss='sparse_categorical_crossentropy',\n",
    "    optimizer='adam',\n",
    "    metrics=['accuracy']\n",
    ")\n",
    "\n",
    "model.load_weights('weights/SA_Model_Final_Weights.h5')"
   ]
  },
  {
   "cell_type": "code",
   "execution_count": 20,
   "id": "85e70c2a",
   "metadata": {},
   "outputs": [],
   "source": [
    "train = pd.read_csv(\"~/development/anjana/datasets/ECNG3020_Train_Dataset.csv\")\n",
    "test = pd.read_csv(\"~/development/anjana/datasets/ECNG3020_Test_Dataset.csv\")"
   ]
  },
  {
   "cell_type": "code",
   "execution_count": 21,
   "id": "61d65426",
   "metadata": {},
   "outputs": [],
   "source": [
    "def get_tweet(data):\n",
    "    tweets = data['text']\n",
    "    labels = data['label']\n",
    "    labels = labels.replace([\"0\",\"1\",\"2\",\"3\",\"4\",\"5\"],['sadness','joy','love','anger','fear','surprise'])\n",
    "    return tweets, labels"
   ]
  },
  {
   "cell_type": "code",
   "execution_count": 22,
   "id": "5d044834",
   "metadata": {},
   "outputs": [],
   "source": [
    "tweets, labels = get_tweet(train)"
   ]
  },
  {
   "cell_type": "markdown",
   "id": "b603e66f",
   "metadata": {},
   "source": [
    "classes"
   ]
  },
  {
   "cell_type": "markdown",
   "id": "b271130b",
   "metadata": {},
   "source": [
    "labels ('sadness','joy','love','anger','fear','surprise')"
   ]
  },
  {
   "cell_type": "code",
   "execution_count": 23,
   "id": "b4899215",
   "metadata": {},
   "outputs": [
    {
     "data": {
      "text/plain": [
       "[[168, 45, 2, 946, 10, 136, 2, 89, 38, 2, 83, 1213, 7, 1241, 1145, 80, 344]]"
      ]
     },
     "execution_count": 23,
     "metadata": {},
     "output_type": "execute_result"
    }
   ],
   "source": [
    "from tensorflow.keras.preprocessing.text import Tokenizer\n",
    "\n",
    "tokenizer = Tokenizer(num_words=10000, oov_token='<UNK>')\n",
    "tokenizer.fit_on_texts(tweets)\n",
    "tokenizer.texts_to_sequences([tweets[1]])"
   ]
  },
  {
   "cell_type": "code",
   "execution_count": 24,
   "id": "83929962",
   "metadata": {},
   "outputs": [],
   "source": [
    "maxlen = 50\n",
    "from tensorflow.keras.preprocessing.sequence import pad_sequences"
   ]
  },
  {
   "cell_type": "code",
   "execution_count": 25,
   "id": "32be5431",
   "metadata": {},
   "outputs": [],
   "source": [
    "def get_sequences(tokenizer, tweets):\n",
    "  sequences = tokenizer.texts_to_sequences(tweets)\n",
    "  padded = pad_sequences(sequences, truncating='post' , padding='post', maxlen = maxlen)\n",
    "  return padded"
   ]
  },
  {
   "cell_type": "code",
   "execution_count": 26,
   "id": "a43b3d65",
   "metadata": {},
   "outputs": [
    {
     "name": "stdout",
     "output_type": "stream",
     "text": [
      "['fear', 'anger', 'surprise', 'sadness', 'love', 'joy']\n"
     ]
    }
   ],
   "source": [
    "classes = ['fear', 'anger', 'surprise', 'sadness', 'love', 'joy']\n",
    "print(classes)"
   ]
  },
  {
   "cell_type": "markdown",
   "id": "954cd175",
   "metadata": {},
   "source": [
    "{'joy', 'love', 'sadness', 'anger', 'surprise', 'fear'}"
   ]
  },
  {
   "cell_type": "code",
   "execution_count": 27,
   "id": "1c545eeb",
   "metadata": {},
   "outputs": [],
   "source": [
    "class_to_index = dict((c,i) for i, c in enumerate(classes))\n",
    "index_to_class = dict((v, k) for k, v in class_to_index.items())"
   ]
  },
  {
   "cell_type": "markdown",
   "id": "e7f01390",
   "metadata": {},
   "source": [
    "msg = [\"When, as a child, I was nearly knocked down by a car.\"] #fear\n",
    "msg_seq = get_sequences(tokenizer, msg)\n",
    "\n",
    "p = model.predict(msg_seq)[0]\n",
    "#p = model.predict(np.expand_dims(msg_seq[0], axis=0))[0]\n",
    "pred_class = index_to_class[np.argmax(p).astype('uint8')]\n",
    "\n",
    "print('Predicted Emotion:', pred_class)\n"
   ]
  },
  {
   "cell_type": "markdown",
   "id": "fcee4c6f",
   "metadata": {},
   "source": [
    "p"
   ]
  },
  {
   "cell_type": "markdown",
   "id": "35deef81",
   "metadata": {},
   "source": [
    "names_to_ids = lambda labels: np.array([class_to_index.get(x) for x in labels])"
   ]
  },
  {
   "cell_type": "markdown",
   "id": "a7df0de6",
   "metadata": {},
   "source": [
    "test_tweets, test_labels = get_tweet(test)\n",
    "test_seq = get_sequences(tokenizer, test_tweets)\n",
    "test_labels = names_to_ids(test_labels)"
   ]
  },
  {
   "cell_type": "markdown",
   "id": "e31a654a",
   "metadata": {},
   "source": [
    "_=model.evaluate(test_seq, test_labels)"
   ]
  },
  {
   "cell_type": "code",
   "execution_count": 28,
   "id": "9967390b",
   "metadata": {},
   "outputs": [
    {
     "data": {
      "text/plain": [
       "['serving_default']"
      ]
     },
     "execution_count": 28,
     "metadata": {},
     "output_type": "execute_result"
    }
   ],
   "source": [
    "list(model.signatures.keys())"
   ]
  },
  {
   "cell_type": "code",
   "execution_count": 29,
   "id": "f0d119fb",
   "metadata": {},
   "outputs": [
    {
     "name": "stdout",
     "output_type": "stream",
     "text": [
      "{'dense': TensorSpec(shape=(None, 6), dtype=tf.float32, name='dense')}\n"
     ]
    }
   ],
   "source": [
    "infer = model.signatures[\"serving_default\"]\n",
    "print(infer.structured_outputs)"
   ]
  },
  {
   "cell_type": "code",
   "execution_count": 30,
   "id": "5b8f35cd",
   "metadata": {},
   "outputs": [
    {
     "data": {
      "text/plain": [
       "'anger'"
      ]
     },
     "execution_count": 30,
     "metadata": {},
     "output_type": "execute_result"
    }
   ],
   "source": [
    "msg = [\"Finding out that I was deceived by a friend.\"]\n",
    "msg_seq = get_sequences(tokenizer, msg)\n",
    "\n",
    "\n",
    "labeling = infer(tf.constant(msg_seq, dtype=tf.float32))[\"dense\"] #dense specifies the output layer\n",
    "\n",
    "#decoded = imagenet_labels[np.argsort(labeling)[0,::-1][:5]+1]\n",
    "\n",
    "#p = model.predict(np.expand_dims(test_seq[i], axis=0))[0]\n",
    "pred_class = index_to_class[np.argmax(labeling).astype('uint8')]\n",
    "\n",
    "labeling\n",
    "pred_class"
   ]
  },
  {
   "cell_type": "code",
   "execution_count": 31,
   "id": "495c2ebf",
   "metadata": {},
   "outputs": [],
   "source": [
    "test_tweets, test_labels = get_tweet(test)\n",
    "names_to_ids = lambda labels: np.array([class_to_index.get(x) for x in labels])\n",
    "test_labels = names_to_ids(test_labels)\n",
    "\n",
    "pred = []\n",
    "\n",
    "for message in test_tweets:\n",
    "    msg_seq = get_sequences(tokenizer, [message])\n",
    "    labeling = infer(tf.constant(msg_seq, dtype=tf.float32))[\"dense\"]\n",
    "    pred.append(np.argmax(labeling).astype('uint8'))"
   ]
  },
  {
   "cell_type": "code",
   "execution_count": 32,
   "id": "4f205c73",
   "metadata": {},
   "outputs": [
    {
     "data": {
      "text/plain": [
       "['fear', 'anger', 'surprise', 'sadness', 'love', 'joy']"
      ]
     },
     "execution_count": 32,
     "metadata": {},
     "output_type": "execute_result"
    }
   ],
   "source": [
    "list(classes)"
   ]
  },
  {
   "cell_type": "code",
   "execution_count": 33,
   "id": "ec56122c",
   "metadata": {},
   "outputs": [
    {
     "data": {
      "image/png": "[encoded data removed]",
      "text/plain": [
       "<Figure size 576x576 with 2 Axes>"
      ]
     },
     "metadata": {
      "needs_background": "light"
     },
     "output_type": "display_data"
    }
   ],
   "source": [
    "show_confusion_matrix(test_labels, pred, list(classes))"
   ]
  }
 ],
 "metadata": {
  "interpreter": {
   "hash": "628df30646c78f2e13b3bf0b19884278436a546b4cc7e76802b13a7a344a3940"
  },
  "kernelspec": {
   "display_name": "Python [conda env:ECNG3020] *",
   "language": "python",
   "name": "python3"
  },
  "language_info": {
   "codemirror_mode": {
    "name": "ipython",
    "version": 3
   },
   "file_extension": ".py",
   "mimetype": "text/x-python",
   "name": "python",
   "nbconvert_exporter": "python",
   "pygments_lexer": "ipython3",
   "version": "3.8.10"
  }
 },
 "nbformat": 4,
 "nbformat_minor": 5
}
