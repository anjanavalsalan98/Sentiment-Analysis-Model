{
 "cells": [
  {
   "cell_type": "markdown",
   "id": "f19ced55",
   "metadata": {},
   "source": [
    "# Balancing the Dataset"
   ]
  },
  {
   "cell_type": "markdown",
   "id": "91612803",
   "metadata": {},
   "source": [
    "## Installing the Emotion dataset from Hugging Face"
   ]
  },
  {
   "cell_type": "code",
   "execution_count": 1,
   "id": "9911bab2",
   "metadata": {},
   "outputs": [
    {
     "name": "stdout",
     "output_type": "stream",
     "text": [
      "Requirement already satisfied: datasets in c:\\software development\\anaconda\\envs\\ecng3020\\lib\\site-packages (1.16.1)\n",
      "Requirement already satisfied: huggingface-hub<1.0.0,>=0.1.0 in c:\\software development\\anaconda\\envs\\ecng3020\\lib\\site-packages (from datasets) (0.2.1)\n",
      "Requirement already satisfied: fsspec[http]>=2021.05.0 in c:\\software development\\anaconda\\envs\\ecng3020\\lib\\site-packages (from datasets) (2021.11.1)\n",
      "Requirement already satisfied: requests>=2.19.0 in c:\\software development\\anaconda\\envs\\ecng3020\\lib\\site-packages (from datasets) (2.26.0)\n",
      "Requirement already satisfied: numpy>=1.17 in c:\\software development\\anaconda\\envs\\ecng3020\\lib\\site-packages (from datasets) (1.21.4)\n",
      "Requirement already satisfied: aiohttp in c:\\software development\\anaconda\\envs\\ecng3020\\lib\\site-packages (from datasets) (3.8.1)\n",
      "Requirement already satisfied: pyarrow!=4.0.0,>=3.0.0 in c:\\software development\\anaconda\\envs\\ecng3020\\lib\\site-packages (from datasets) (6.0.0)\n",
      "Requirement already satisfied: tqdm>=4.62.1 in c:\\software development\\anaconda\\envs\\ecng3020\\lib\\site-packages (from datasets) (4.62.3)\n",
      "Requirement already satisfied: dill in c:\\software development\\anaconda\\envs\\ecng3020\\lib\\site-packages (from datasets) (0.3.4)\n",
      "Requirement already satisfied: pandas in c:\\software development\\anaconda\\envs\\ecng3020\\lib\\site-packages (from datasets) (1.3.4)\n",
      "Requirement already satisfied: xxhash in c:\\software development\\anaconda\\envs\\ecng3020\\lib\\site-packages (from datasets) (2.0.2)\n",
      "Requirement already satisfied: packaging in c:\\software development\\anaconda\\envs\\ecng3020\\lib\\site-packages (from datasets) (21.0)\n",
      "Requirement already satisfied: multiprocess in c:\\software development\\anaconda\\envs\\ecng3020\\lib\\site-packages (from datasets) (0.70.12.2)\n",
      "Requirement already satisfied: pyyaml in c:\\software development\\anaconda\\envs\\ecng3020\\lib\\site-packages (from huggingface-hub<1.0.0,>=0.1.0->datasets) (6.0)\n",
      "Requirement already satisfied: filelock in c:\\software development\\anaconda\\envs\\ecng3020\\lib\\site-packages (from huggingface-hub<1.0.0,>=0.1.0->datasets) (3.4.0)\n",
      "Requirement already satisfied: typing-extensions>=3.7.4.3 in c:\\software development\\anaconda\\envs\\ecng3020\\lib\\site-packages (from huggingface-hub<1.0.0,>=0.1.0->datasets) (4.0.0)\n",
      "Requirement already satisfied: pyparsing>=2.0.2 in c:\\software development\\anaconda\\envs\\ecng3020\\lib\\site-packages (from packaging->datasets) (3.0.4)\n",
      "Requirement already satisfied: urllib3<1.27,>=1.21.1 in c:\\software development\\anaconda\\envs\\ecng3020\\lib\\site-packages (from requests>=2.19.0->datasets) (1.26.7)\n",
      "Requirement already satisfied: certifi>=2017.4.17 in c:\\software development\\anaconda\\envs\\ecng3020\\lib\\site-packages (from requests>=2.19.0->datasets) (2021.10.8)\n",
      "Requirement already satisfied: idna<4,>=2.5 in c:\\software development\\anaconda\\envs\\ecng3020\\lib\\site-packages (from requests>=2.19.0->datasets) (3.3)\n",
      "Requirement already satisfied: charset-normalizer~=2.0.0 in c:\\software development\\anaconda\\envs\\ecng3020\\lib\\site-packages (from requests>=2.19.0->datasets) (2.0.7)\n",
      "Requirement already satisfied: colorama in c:\\software development\\anaconda\\envs\\ecng3020\\lib\\site-packages (from tqdm>=4.62.1->datasets) (0.4.4)\n",
      "Requirement already satisfied: frozenlist>=1.1.1 in c:\\software development\\anaconda\\envs\\ecng3020\\lib\\site-packages (from aiohttp->datasets) (1.2.0)\n",
      "Requirement already satisfied: async-timeout<5.0,>=4.0.0a3 in c:\\software development\\anaconda\\envs\\ecng3020\\lib\\site-packages (from aiohttp->datasets) (4.0.1)\n",
      "Requirement already satisfied: attrs>=17.3.0 in c:\\software development\\anaconda\\envs\\ecng3020\\lib\\site-packages (from aiohttp->datasets) (21.2.0)\n",
      "Requirement already satisfied: multidict<7.0,>=4.5 in c:\\software development\\anaconda\\envs\\ecng3020\\lib\\site-packages (from aiohttp->datasets) (5.2.0)\n",
      "Requirement already satisfied: aiosignal>=1.1.2 in c:\\software development\\anaconda\\envs\\ecng3020\\lib\\site-packages (from aiohttp->datasets) (1.2.0)\n",
      "Requirement already satisfied: yarl<2.0,>=1.0 in c:\\software development\\anaconda\\envs\\ecng3020\\lib\\site-packages (from aiohttp->datasets) (1.7.2)\n",
      "Requirement already satisfied: pytz>=2017.3 in c:\\software development\\anaconda\\envs\\ecng3020\\lib\\site-packages (from pandas->datasets) (2021.3)\n",
      "Requirement already satisfied: python-dateutil>=2.7.3 in c:\\software development\\anaconda\\envs\\ecng3020\\lib\\site-packages (from pandas->datasets) (2.8.2)\n",
      "Requirement already satisfied: six>=1.5 in c:\\software development\\anaconda\\envs\\ecng3020\\lib\\site-packages (from python-dateutil>=2.7.3->pandas->datasets) (1.16.0)\n"
     ]
    }
   ],
   "source": [
    "!pip install datasets"
   ]
  },
  {
   "cell_type": "code",
   "execution_count": 2,
   "id": "116eee28",
   "metadata": {},
   "outputs": [
    {
     "name": "stderr",
     "output_type": "stream",
     "text": [
      "Using custom data configuration default\n",
      "Reusing dataset emotion (C:\\Users\\valsa\\.cache\\huggingface\\datasets\\emotion\\default\\0.0.0\\348f63ca8e27b3713b6c04d723efe6d824a56fb3d1449794716c0f0296072705)\n"
     ]
    },
    {
     "data": {
      "application/vnd.jupyter.widget-view+json": {
       "model_id": "c69c68a08e4c4cd0838d9b725a5381c0",
       "version_major": 2,
       "version_minor": 0
      },
      "text/plain": [
       "  0%|          | 0/3 [00:00<?, ?it/s]"
      ]
     },
     "metadata": {},
     "output_type": "display_data"
    }
   ],
   "source": [
    "from datasets import load_dataset\n",
    "import pandas as pd\n",
    "import numpy as np\n",
    "\n",
    "emotion_dataset = load_dataset(\"emotion\")"
   ]
  },
  {
   "cell_type": "code",
   "execution_count": 3,
   "id": "2c48d8f0",
   "metadata": {},
   "outputs": [
    {
     "name": "stdout",
     "output_type": "stream",
     "text": [
      "{'text': 'i didnt feel humiliated', 'label': 0}\n",
      "['text', 'label']\n",
      "{'text': Value(dtype='string', id=None), 'label': ClassLabel(num_classes=6, names=['sadness', 'joy', 'love', 'anger', 'fear', 'surprise'], names_file=None, id=None)}\n"
     ]
    }
   ],
   "source": [
    "emotion_train = emotion_dataset['train']\n",
    "print(emotion_train[0])\n",
    "print(emotion_train.column_names)\n",
    "print(emotion_train.features)"
   ]
  },
  {
   "cell_type": "code",
   "execution_count": 4,
   "id": "d3e01d16",
   "metadata": {},
   "outputs": [],
   "source": [
    "emotion_dataset.set_format(type=\"pandas\")\n",
    "df1 = emotion_dataset[\"train\"][:]\n",
    "test = emotion_dataset[\"test\"][:]\n",
    "val = emotion_dataset[\"validation\"][:]"
   ]
  },
  {
   "cell_type": "markdown",
   "id": "0382662b",
   "metadata": {},
   "source": [
    "## Renaming the Columns to Match ISEAR Dataset and Changing Emotion Labels"
   ]
  },
  {
   "cell_type": "code",
   "execution_count": 5,
   "id": "312df635",
   "metadata": {},
   "outputs": [],
   "source": [
    "df1 = df1.rename(columns={'text':'sentence','label':'emotion'})"
   ]
  },
  {
   "cell_type": "code",
   "execution_count": 6,
   "id": "58c8a0c2",
   "metadata": {},
   "outputs": [],
   "source": [
    "df1 = df1[[\"emotion\", \"sentence\"]]"
   ]
  },
  {
   "cell_type": "code",
   "execution_count": 7,
   "id": "0a15bca0",
   "metadata": {},
   "outputs": [
    {
     "data": {
      "text/plain": [
       "array([0, 3, 2, 5, 4, 1], dtype=int64)"
      ]
     },
     "execution_count": 7,
     "metadata": {},
     "output_type": "execute_result"
    }
   ],
   "source": [
    "df1.emotion.unique()"
   ]
  },
  {
   "cell_type": "code",
   "execution_count": 8,
   "id": "6ef227be",
   "metadata": {},
   "outputs": [],
   "source": [
    "df1 = df1.replace([0,1,2,3,4,5],['sadness','joy','love','anger','fear','surprise'])"
   ]
  },
  {
   "cell_type": "markdown",
   "id": "7bff38d5",
   "metadata": {},
   "source": [
    "## Loading in ISEAR Dataset"
   ]
  },
  {
   "cell_type": "code",
   "execution_count": 9,
   "id": "344a8d0a",
   "metadata": {},
   "outputs": [],
   "source": [
    "df2 = pd.read_csv('G:\\My Drive\\AnjanaValsalan_ECNG 3020\\Implementation Files\\ISEAR csv\\ISEAR.csv')"
   ]
  },
  {
   "cell_type": "code",
   "execution_count": 10,
   "id": "e29f1ff8",
   "metadata": {},
   "outputs": [],
   "source": [
    "df2.dropna(axis=1, how=\"any\", thresh=None, subset=None, inplace=True)"
   ]
  },
  {
   "cell_type": "markdown",
   "id": "c43cfd97",
   "metadata": {},
   "source": [
    "## Merging Isear Dataframe with Hugging Face Dataframe"
   ]
  },
  {
   "cell_type": "code",
   "execution_count": 11,
   "id": "b6faab42",
   "metadata": {},
   "outputs": [],
   "source": [
    "frames = [df1, df2]\n",
    "df = pd.concat(frames)"
   ]
  },
  {
   "cell_type": "code",
   "execution_count": 12,
   "id": "e34eb773",
   "metadata": {},
   "outputs": [],
   "source": [
    "df = df.reset_index(drop=True)"
   ]
  },
  {
   "cell_type": "markdown",
   "id": "29b3f713",
   "metadata": {},
   "source": [
    "## Deleting the Shame and Surprise Emotions"
   ]
  },
  {
   "cell_type": "code",
   "execution_count": 13,
   "id": "02c9e229",
   "metadata": {},
   "outputs": [],
   "source": [
    "df = df[df.emotion != 'shame']"
   ]
  },
  {
   "cell_type": "code",
   "execution_count": 14,
   "id": "edfef481",
   "metadata": {},
   "outputs": [],
   "source": [
    "df = df[df.emotion != 'surprise']"
   ]
  },
  {
   "cell_type": "code",
   "execution_count": 15,
   "id": "da9ed70e",
   "metadata": {},
   "outputs": [
    {
     "data": {
      "text/plain": [
       "array(['sadness', 'anger', 'love', 'fear', 'joy', 'disgust', 'guilt'],\n",
       "      dtype=object)"
      ]
     },
     "execution_count": 15,
     "metadata": {},
     "output_type": "execute_result"
    }
   ],
   "source": [
    "df.emotion.unique()"
   ]
  },
  {
   "cell_type": "code",
   "execution_count": 16,
   "id": "05793086",
   "metadata": {},
   "outputs": [
    {
     "data": {
      "text/html": [
       "<div>\n",
       "<style scoped>\n",
       "    .dataframe tbody tr th:only-of-type {\n",
       "        vertical-align: middle;\n",
       "    }\n",
       "\n",
       "    .dataframe tbody tr th {\n",
       "        vertical-align: top;\n",
       "    }\n",
       "\n",
       "    .dataframe thead th {\n",
       "        text-align: right;\n",
       "    }\n",
       "</style>\n",
       "<table border=\"1\" class=\"dataframe\">\n",
       "  <thead>\n",
       "    <tr style=\"text-align: right;\">\n",
       "      <th></th>\n",
       "      <th>sentence</th>\n",
       "    </tr>\n",
       "    <tr>\n",
       "      <th>emotion</th>\n",
       "      <th></th>\n",
       "    </tr>\n",
       "  </thead>\n",
       "  <tbody>\n",
       "    <tr>\n",
       "      <th>anger</th>\n",
       "      <td>3238</td>\n",
       "    </tr>\n",
       "    <tr>\n",
       "      <th>disgust</th>\n",
       "      <td>1066</td>\n",
       "    </tr>\n",
       "    <tr>\n",
       "      <th>fear</th>\n",
       "      <td>3013</td>\n",
       "    </tr>\n",
       "    <tr>\n",
       "      <th>guilt</th>\n",
       "      <td>1050</td>\n",
       "    </tr>\n",
       "    <tr>\n",
       "      <th>joy</th>\n",
       "      <td>6454</td>\n",
       "    </tr>\n",
       "    <tr>\n",
       "      <th>love</th>\n",
       "      <td>1304</td>\n",
       "    </tr>\n",
       "    <tr>\n",
       "      <th>sadness</th>\n",
       "      <td>5748</td>\n",
       "    </tr>\n",
       "  </tbody>\n",
       "</table>\n",
       "</div>"
      ],
      "text/plain": [
       "         sentence\n",
       "emotion          \n",
       "anger        3238\n",
       "disgust      1066\n",
       "fear         3013\n",
       "guilt        1050\n",
       "joy          6454\n",
       "love         1304\n",
       "sadness      5748"
      ]
     },
     "execution_count": 16,
     "metadata": {},
     "output_type": "execute_result"
    }
   ],
   "source": [
    "df.groupby(['emotion']).count()"
   ]
  },
  {
   "cell_type": "markdown",
   "id": "4a5402fd",
   "metadata": {},
   "source": [
    "## Removing Sadness Data"
   ]
  },
  {
   "cell_type": "code",
   "execution_count": 17,
   "id": "7990781b",
   "metadata": {},
   "outputs": [],
   "source": [
    "sad_df = df.loc[df['emotion'] == 'sadness']"
   ]
  },
  {
   "cell_type": "code",
   "execution_count": 18,
   "id": "2a858124",
   "metadata": {},
   "outputs": [],
   "source": [
    "sad_list = sad_df.values.tolist()"
   ]
  },
  {
   "cell_type": "code",
   "execution_count": 19,
   "id": "b9b6e333",
   "metadata": {},
   "outputs": [],
   "source": [
    "rand = np.random.RandomState(32).permutation(len(sad_list))"
   ]
  },
  {
   "cell_type": "code",
   "execution_count": 20,
   "id": "c465a3ae",
   "metadata": {},
   "outputs": [],
   "source": [
    "sad_array = np.array(sad_df)[rand]"
   ]
  },
  {
   "cell_type": "code",
   "execution_count": 21,
   "id": "47cb51de",
   "metadata": {},
   "outputs": [],
   "source": [
    "sad = sad_array[0: 1050]"
   ]
  },
  {
   "cell_type": "code",
   "execution_count": 22,
   "id": "03f24de1",
   "metadata": {},
   "outputs": [],
   "source": [
    "sad_list = sad.tolist()"
   ]
  },
  {
   "cell_type": "code",
   "execution_count": 23,
   "id": "e7e9600e",
   "metadata": {},
   "outputs": [],
   "source": [
    "sad_df = pd.DataFrame(sad_list, columns=['emotion','sentence'])"
   ]
  },
  {
   "cell_type": "markdown",
   "id": "8b2a50e8",
   "metadata": {},
   "source": [
    "## Removing Anger Data"
   ]
  },
  {
   "cell_type": "code",
   "execution_count": 24,
   "id": "d261acda",
   "metadata": {},
   "outputs": [],
   "source": [
    "ang_df = df.loc[df['emotion'] == 'anger']"
   ]
  },
  {
   "cell_type": "code",
   "execution_count": 25,
   "id": "501bbff0",
   "metadata": {},
   "outputs": [],
   "source": [
    "ang_list = ang_df.values.tolist()"
   ]
  },
  {
   "cell_type": "code",
   "execution_count": 26,
   "id": "25278f3e",
   "metadata": {},
   "outputs": [],
   "source": [
    "rand = np.random.RandomState(32).permutation(len(ang_list))"
   ]
  },
  {
   "cell_type": "code",
   "execution_count": 27,
   "id": "397529f6",
   "metadata": {},
   "outputs": [],
   "source": [
    "ang_array = np.array(ang_df)[rand]"
   ]
  },
  {
   "cell_type": "code",
   "execution_count": 28,
   "id": "879a5f22",
   "metadata": {},
   "outputs": [],
   "source": [
    "ang = ang_array[0: 1050]"
   ]
  },
  {
   "cell_type": "code",
   "execution_count": 29,
   "id": "c63407fd",
   "metadata": {},
   "outputs": [],
   "source": [
    "ang_list = ang.tolist()"
   ]
  },
  {
   "cell_type": "code",
   "execution_count": 30,
   "id": "e0e974b2",
   "metadata": {},
   "outputs": [],
   "source": [
    "ang_df = pd.DataFrame(ang_list, columns=['emotion','sentence'])"
   ]
  },
  {
   "cell_type": "markdown",
   "id": "dbe9e949",
   "metadata": {},
   "source": [
    "## Removing Disgust Data"
   ]
  },
  {
   "cell_type": "code",
   "execution_count": 31,
   "id": "88e9b0a3",
   "metadata": {},
   "outputs": [],
   "source": [
    "dis_df = df.loc[df['emotion'] == 'disgust']"
   ]
  },
  {
   "cell_type": "code",
   "execution_count": 32,
   "id": "fa7cfc38",
   "metadata": {},
   "outputs": [],
   "source": [
    "dis_list = dis_df.values.tolist()"
   ]
  },
  {
   "cell_type": "code",
   "execution_count": 33,
   "id": "95dace5a",
   "metadata": {},
   "outputs": [],
   "source": [
    "rand = np.random.RandomState(32).permutation(len(dis_list))"
   ]
  },
  {
   "cell_type": "code",
   "execution_count": 34,
   "id": "4316dc32",
   "metadata": {},
   "outputs": [],
   "source": [
    "dis_array = np.array(dis_df)[rand]"
   ]
  },
  {
   "cell_type": "code",
   "execution_count": 35,
   "id": "0812e5e9",
   "metadata": {},
   "outputs": [],
   "source": [
    "dis = dis_array[0: 1050]"
   ]
  },
  {
   "cell_type": "code",
   "execution_count": 36,
   "id": "689d179e",
   "metadata": {},
   "outputs": [],
   "source": [
    "dis_list = dis.tolist()"
   ]
  },
  {
   "cell_type": "code",
   "execution_count": 37,
   "id": "8ac47843",
   "metadata": {},
   "outputs": [],
   "source": [
    "dis_df = pd.DataFrame(dis_list, columns=['emotion','sentence'])"
   ]
  },
  {
   "cell_type": "markdown",
   "id": "79e01654",
   "metadata": {},
   "source": [
    "## Removing Fear Data"
   ]
  },
  {
   "cell_type": "code",
   "execution_count": 39,
   "id": "73b0e6bf",
   "metadata": {},
   "outputs": [],
   "source": [
    "fear_df = df.loc[df['emotion'] == 'fear']"
   ]
  },
  {
   "cell_type": "code",
   "execution_count": 40,
   "id": "e05e5515",
   "metadata": {},
   "outputs": [],
   "source": [
    "fear_list = fear_df.values.tolist()"
   ]
  },
  {
   "cell_type": "code",
   "execution_count": 41,
   "id": "44190769",
   "metadata": {},
   "outputs": [],
   "source": [
    "rand = np.random.RandomState(32).permutation(len(fear_list))"
   ]
  },
  {
   "cell_type": "code",
   "execution_count": 42,
   "id": "c6f0a97c",
   "metadata": {},
   "outputs": [],
   "source": [
    "fear_array = np.array(fear_df)[rand]"
   ]
  },
  {
   "cell_type": "code",
   "execution_count": 43,
   "id": "f81666e6",
   "metadata": {},
   "outputs": [],
   "source": [
    "fear = fear_array[0: 1050]"
   ]
  },
  {
   "cell_type": "code",
   "execution_count": 44,
   "id": "dbc72a5b",
   "metadata": {},
   "outputs": [],
   "source": [
    "fear_list = fear.tolist()"
   ]
  },
  {
   "cell_type": "code",
   "execution_count": 45,
   "id": "24f2c2ab",
   "metadata": {},
   "outputs": [],
   "source": [
    "fear_df = pd.DataFrame(fear_list, columns=['emotion','sentence'])"
   ]
  },
  {
   "cell_type": "markdown",
   "id": "85615793",
   "metadata": {},
   "source": [
    "## Removing Guilt Data"
   ]
  },
  {
   "cell_type": "code",
   "execution_count": 47,
   "id": "252321d5",
   "metadata": {},
   "outputs": [],
   "source": [
    "guilt_df = df.loc[df['emotion'] == 'guilt']"
   ]
  },
  {
   "cell_type": "code",
   "execution_count": 48,
   "id": "c606e485",
   "metadata": {},
   "outputs": [],
   "source": [
    "guilt_list = fear_df.values.tolist()"
   ]
  },
  {
   "cell_type": "code",
   "execution_count": 49,
   "id": "72df966d",
   "metadata": {},
   "outputs": [],
   "source": [
    "rand = np.random.RandomState(32).permutation(len(guilt_list))"
   ]
  },
  {
   "cell_type": "code",
   "execution_count": 50,
   "id": "74c35756",
   "metadata": {},
   "outputs": [],
   "source": [
    "guilt_array = np.array(guilt_df)[rand]"
   ]
  },
  {
   "cell_type": "code",
   "execution_count": 51,
   "id": "c8267e99",
   "metadata": {},
   "outputs": [],
   "source": [
    "guilt = guilt_array[0: 1050]"
   ]
  },
  {
   "cell_type": "code",
   "execution_count": 52,
   "id": "5f9d7291",
   "metadata": {},
   "outputs": [],
   "source": [
    "guilt_list = guilt.tolist()"
   ]
  },
  {
   "cell_type": "code",
   "execution_count": 53,
   "id": "3ffd5749",
   "metadata": {},
   "outputs": [],
   "source": [
    "guilt_df = pd.DataFrame(guilt_list, columns=['emotion','sentence'])"
   ]
  },
  {
   "cell_type": "markdown",
   "id": "11ca37e2",
   "metadata": {},
   "source": [
    "## Removing Joy Data"
   ]
  },
  {
   "cell_type": "code",
   "execution_count": 55,
   "id": "8ecb1bac",
   "metadata": {},
   "outputs": [],
   "source": [
    "joy_df = df.loc[df['emotion'] == 'joy']"
   ]
  },
  {
   "cell_type": "code",
   "execution_count": 56,
   "id": "a237fad8",
   "metadata": {},
   "outputs": [],
   "source": [
    "joy_list = joy_df.values.tolist()"
   ]
  },
  {
   "cell_type": "code",
   "execution_count": 57,
   "id": "533db9c2",
   "metadata": {},
   "outputs": [],
   "source": [
    "rand = np.random.RandomState(32).permutation(len(joy_list))"
   ]
  },
  {
   "cell_type": "code",
   "execution_count": 58,
   "id": "09579244",
   "metadata": {},
   "outputs": [],
   "source": [
    "joy_array = np.array(joy_df)[rand]"
   ]
  },
  {
   "cell_type": "code",
   "execution_count": 59,
   "id": "f8238604",
   "metadata": {},
   "outputs": [],
   "source": [
    "joy = joy_array[0: 1050]"
   ]
  },
  {
   "cell_type": "code",
   "execution_count": 60,
   "id": "7e990539",
   "metadata": {},
   "outputs": [],
   "source": [
    "joy_list = joy.tolist()"
   ]
  },
  {
   "cell_type": "code",
   "execution_count": 61,
   "id": "a5bb892b",
   "metadata": {},
   "outputs": [],
   "source": [
    "joy_df = pd.DataFrame(joy_list, columns=['emotion','sentence'])"
   ]
  },
  {
   "cell_type": "markdown",
   "id": "fa1bebf6",
   "metadata": {},
   "source": [
    "## Removing Love Data"
   ]
  },
  {
   "cell_type": "code",
   "execution_count": 63,
   "id": "4f679e74",
   "metadata": {},
   "outputs": [],
   "source": [
    "love_df = df.loc[df['emotion'] == 'love']"
   ]
  },
  {
   "cell_type": "code",
   "execution_count": 64,
   "id": "e02f1742",
   "metadata": {},
   "outputs": [],
   "source": [
    "love_list = love_df.values.tolist()"
   ]
  },
  {
   "cell_type": "code",
   "execution_count": 65,
   "id": "e19ec45f",
   "metadata": {},
   "outputs": [],
   "source": [
    "rand = np.random.RandomState(32).permutation(len(love_list))"
   ]
  },
  {
   "cell_type": "code",
   "execution_count": 66,
   "id": "df5a8742",
   "metadata": {},
   "outputs": [],
   "source": [
    "love_array = np.array(love_df)[rand]"
   ]
  },
  {
   "cell_type": "code",
   "execution_count": 67,
   "id": "9a36d18f",
   "metadata": {},
   "outputs": [],
   "source": [
    "love = love_array[0: 1050]"
   ]
  },
  {
   "cell_type": "code",
   "execution_count": 68,
   "id": "81afd08e",
   "metadata": {},
   "outputs": [],
   "source": [
    "love_list = love.tolist()"
   ]
  },
  {
   "cell_type": "code",
   "execution_count": 70,
   "id": "cb3cb4fe",
   "metadata": {},
   "outputs": [],
   "source": [
    "love_df = pd.DataFrame(love_list, columns=['emotion','sentence'])"
   ]
  },
  {
   "cell_type": "markdown",
   "id": "87f5962d",
   "metadata": {},
   "source": [
    "## Combining the Dataframes"
   ]
  },
  {
   "cell_type": "code",
   "execution_count": 72,
   "id": "feec145e",
   "metadata": {},
   "outputs": [],
   "source": [
    "frames = [sad_df, ang_df, dis_df, fear_df, guilt_df, joy_df, love_df]"
   ]
  },
  {
   "cell_type": "code",
   "execution_count": 73,
   "id": "63d8aada",
   "metadata": {},
   "outputs": [],
   "source": [
    "df = pd.concat(frames)"
   ]
  },
  {
   "cell_type": "code",
   "execution_count": 74,
   "id": "095d901d",
   "metadata": {},
   "outputs": [
    {
     "data": {
      "text/html": [
       "<div>\n",
       "<style scoped>\n",
       "    .dataframe tbody tr th:only-of-type {\n",
       "        vertical-align: middle;\n",
       "    }\n",
       "\n",
       "    .dataframe tbody tr th {\n",
       "        vertical-align: top;\n",
       "    }\n",
       "\n",
       "    .dataframe thead th {\n",
       "        text-align: right;\n",
       "    }\n",
       "</style>\n",
       "<table border=\"1\" class=\"dataframe\">\n",
       "  <thead>\n",
       "    <tr style=\"text-align: right;\">\n",
       "      <th></th>\n",
       "      <th>emotion</th>\n",
       "      <th>sentence</th>\n",
       "    </tr>\n",
       "  </thead>\n",
       "  <tbody>\n",
       "    <tr>\n",
       "      <th>0</th>\n",
       "      <td>sadness</td>\n",
       "      <td>i still feel so alone i just cant give you any...</td>\n",
       "    </tr>\n",
       "    <tr>\n",
       "      <th>1</th>\n",
       "      <td>sadness</td>\n",
       "      <td>i know there was just two of us but i was feel...</td>\n",
       "    </tr>\n",
       "    <tr>\n",
       "      <th>2</th>\n",
       "      <td>sadness</td>\n",
       "      <td>i sooooo understand feeling like an ugly brown...</td>\n",
       "    </tr>\n",
       "    <tr>\n",
       "      <th>3</th>\n",
       "      <td>sadness</td>\n",
       "      <td>i feel exhausted just by writing that</td>\n",
       "    </tr>\n",
       "    <tr>\n",
       "      <th>4</th>\n",
       "      <td>sadness</td>\n",
       "      <td>i feel foolish admitting how hard this hit me</td>\n",
       "    </tr>\n",
       "    <tr>\n",
       "      <th>...</th>\n",
       "      <td>...</td>\n",
       "      <td>...</td>\n",
       "    </tr>\n",
       "    <tr>\n",
       "      <th>7345</th>\n",
       "      <td>love</td>\n",
       "      <td>i could better understand and feel the desires...</td>\n",
       "    </tr>\n",
       "    <tr>\n",
       "      <th>7346</th>\n",
       "      <td>love</td>\n",
       "      <td>i appreciate when i open up to the universe an...</td>\n",
       "    </tr>\n",
       "    <tr>\n",
       "      <th>7347</th>\n",
       "      <td>love</td>\n",
       "      <td>i just havent been taking much action in my li...</td>\n",
       "    </tr>\n",
       "    <tr>\n",
       "      <th>7348</th>\n",
       "      <td>love</td>\n",
       "      <td>i feel loyal to style</td>\n",
       "    </tr>\n",
       "    <tr>\n",
       "      <th>7349</th>\n",
       "      <td>love</td>\n",
       "      <td>i took away all the disappointed feeling all t...</td>\n",
       "    </tr>\n",
       "  </tbody>\n",
       "</table>\n",
       "<p>7350 rows × 2 columns</p>\n",
       "</div>"
      ],
      "text/plain": [
       "      emotion                                           sentence\n",
       "0     sadness  i still feel so alone i just cant give you any...\n",
       "1     sadness  i know there was just two of us but i was feel...\n",
       "2     sadness  i sooooo understand feeling like an ugly brown...\n",
       "3     sadness              i feel exhausted just by writing that\n",
       "4     sadness      i feel foolish admitting how hard this hit me\n",
       "...       ...                                                ...\n",
       "7345     love  i could better understand and feel the desires...\n",
       "7346     love  i appreciate when i open up to the universe an...\n",
       "7347     love  i just havent been taking much action in my li...\n",
       "7348     love                              i feel loyal to style\n",
       "7349     love  i took away all the disappointed feeling all t...\n",
       "\n",
       "[7350 rows x 2 columns]"
      ]
     },
     "execution_count": 74,
     "metadata": {},
     "output_type": "execute_result"
    }
   ],
   "source": [
    "df.reset_index(drop=True)"
   ]
  },
  {
   "cell_type": "code",
   "execution_count": 75,
   "id": "10b559f9",
   "metadata": {},
   "outputs": [],
   "source": [
    "from sklearn.utils import shuffle"
   ]
  },
  {
   "cell_type": "code",
   "execution_count": 76,
   "id": "35bd93d2",
   "metadata": {},
   "outputs": [],
   "source": [
    "df = shuffle(df)"
   ]
  },
  {
   "cell_type": "code",
   "execution_count": 77,
   "id": "14f31c31",
   "metadata": {},
   "outputs": [
    {
     "data": {
      "text/html": [
       "<div>\n",
       "<style scoped>\n",
       "    .dataframe tbody tr th:only-of-type {\n",
       "        vertical-align: middle;\n",
       "    }\n",
       "\n",
       "    .dataframe tbody tr th {\n",
       "        vertical-align: top;\n",
       "    }\n",
       "\n",
       "    .dataframe thead th {\n",
       "        text-align: right;\n",
       "    }\n",
       "</style>\n",
       "<table border=\"1\" class=\"dataframe\">\n",
       "  <thead>\n",
       "    <tr style=\"text-align: right;\">\n",
       "      <th></th>\n",
       "      <th>emotion</th>\n",
       "      <th>sentence</th>\n",
       "    </tr>\n",
       "  </thead>\n",
       "  <tbody>\n",
       "    <tr>\n",
       "      <th>106</th>\n",
       "      <td>disgust</td>\n",
       "      <td>When I was taking my girlfriend out, she seeme...</td>\n",
       "    </tr>\n",
       "    <tr>\n",
       "      <th>1014</th>\n",
       "      <td>love</td>\n",
       "      <td>im not going to lie some days i feel uber supp...</td>\n",
       "    </tr>\n",
       "    <tr>\n",
       "      <th>749</th>\n",
       "      <td>love</td>\n",
       "      <td>i have no word to describe the feeling reply s...</td>\n",
       "    </tr>\n",
       "    <tr>\n",
       "      <th>862</th>\n",
       "      <td>love</td>\n",
       "      <td>i needed to clear my head he tells him and sig...</td>\n",
       "    </tr>\n",
       "    <tr>\n",
       "      <th>501</th>\n",
       "      <td>disgust</td>\n",
       "      <td>When I had exams a relative of ours, who lives...</td>\n",
       "    </tr>\n",
       "    <tr>\n",
       "      <th>...</th>\n",
       "      <td>...</td>\n",
       "      <td>...</td>\n",
       "    </tr>\n",
       "    <tr>\n",
       "      <th>833</th>\n",
       "      <td>fear</td>\n",
       "      <td>When I went home and there was nobody, I waite...</td>\n",
       "    </tr>\n",
       "    <tr>\n",
       "      <th>517</th>\n",
       "      <td>guilt</td>\n",
       "      <td>When one of my parents insinuates something ab...</td>\n",
       "    </tr>\n",
       "    <tr>\n",
       "      <th>661</th>\n",
       "      <td>anger</td>\n",
       "      <td>When our cat was killed in a car-accident I wa...</td>\n",
       "    </tr>\n",
       "    <tr>\n",
       "      <th>844</th>\n",
       "      <td>anger</td>\n",
       "      <td>i feel too rushed</td>\n",
       "    </tr>\n",
       "    <tr>\n",
       "      <th>511</th>\n",
       "      <td>fear</td>\n",
       "      <td>i feel a little strange chasing after them sin...</td>\n",
       "    </tr>\n",
       "  </tbody>\n",
       "</table>\n",
       "<p>7350 rows × 2 columns</p>\n",
       "</div>"
      ],
      "text/plain": [
       "      emotion                                           sentence\n",
       "106   disgust  When I was taking my girlfriend out, she seeme...\n",
       "1014     love  im not going to lie some days i feel uber supp...\n",
       "749      love  i have no word to describe the feeling reply s...\n",
       "862      love  i needed to clear my head he tells him and sig...\n",
       "501   disgust  When I had exams a relative of ours, who lives...\n",
       "...       ...                                                ...\n",
       "833      fear  When I went home and there was nobody, I waite...\n",
       "517     guilt  When one of my parents insinuates something ab...\n",
       "661     anger  When our cat was killed in a car-accident I wa...\n",
       "844     anger                                  i feel too rushed\n",
       "511      fear  i feel a little strange chasing after them sin...\n",
       "\n",
       "[7350 rows x 2 columns]"
      ]
     },
     "execution_count": 77,
     "metadata": {},
     "output_type": "execute_result"
    }
   ],
   "source": [
    "df"
   ]
  },
  {
   "cell_type": "code",
   "execution_count": 78,
   "id": "73dbaa9c",
   "metadata": {},
   "outputs": [
    {
     "data": {
      "text/html": [
       "<div>\n",
       "<style scoped>\n",
       "    .dataframe tbody tr th:only-of-type {\n",
       "        vertical-align: middle;\n",
       "    }\n",
       "\n",
       "    .dataframe tbody tr th {\n",
       "        vertical-align: top;\n",
       "    }\n",
       "\n",
       "    .dataframe thead th {\n",
       "        text-align: right;\n",
       "    }\n",
       "</style>\n",
       "<table border=\"1\" class=\"dataframe\">\n",
       "  <thead>\n",
       "    <tr style=\"text-align: right;\">\n",
       "      <th></th>\n",
       "      <th>emotion</th>\n",
       "      <th>sentence</th>\n",
       "    </tr>\n",
       "  </thead>\n",
       "  <tbody>\n",
       "    <tr>\n",
       "      <th>0</th>\n",
       "      <td>disgust</td>\n",
       "      <td>When I was taking my girlfriend out, she seeme...</td>\n",
       "    </tr>\n",
       "    <tr>\n",
       "      <th>1</th>\n",
       "      <td>love</td>\n",
       "      <td>im not going to lie some days i feel uber supp...</td>\n",
       "    </tr>\n",
       "    <tr>\n",
       "      <th>2</th>\n",
       "      <td>love</td>\n",
       "      <td>i have no word to describe the feeling reply s...</td>\n",
       "    </tr>\n",
       "    <tr>\n",
       "      <th>3</th>\n",
       "      <td>love</td>\n",
       "      <td>i needed to clear my head he tells him and sig...</td>\n",
       "    </tr>\n",
       "    <tr>\n",
       "      <th>4</th>\n",
       "      <td>disgust</td>\n",
       "      <td>When I had exams a relative of ours, who lives...</td>\n",
       "    </tr>\n",
       "    <tr>\n",
       "      <th>...</th>\n",
       "      <td>...</td>\n",
       "      <td>...</td>\n",
       "    </tr>\n",
       "    <tr>\n",
       "      <th>7345</th>\n",
       "      <td>fear</td>\n",
       "      <td>When I went home and there was nobody, I waite...</td>\n",
       "    </tr>\n",
       "    <tr>\n",
       "      <th>7346</th>\n",
       "      <td>guilt</td>\n",
       "      <td>When one of my parents insinuates something ab...</td>\n",
       "    </tr>\n",
       "    <tr>\n",
       "      <th>7347</th>\n",
       "      <td>anger</td>\n",
       "      <td>When our cat was killed in a car-accident I wa...</td>\n",
       "    </tr>\n",
       "    <tr>\n",
       "      <th>7348</th>\n",
       "      <td>anger</td>\n",
       "      <td>i feel too rushed</td>\n",
       "    </tr>\n",
       "    <tr>\n",
       "      <th>7349</th>\n",
       "      <td>fear</td>\n",
       "      <td>i feel a little strange chasing after them sin...</td>\n",
       "    </tr>\n",
       "  </tbody>\n",
       "</table>\n",
       "<p>7350 rows × 2 columns</p>\n",
       "</div>"
      ],
      "text/plain": [
       "      emotion                                           sentence\n",
       "0     disgust  When I was taking my girlfriend out, she seeme...\n",
       "1        love  im not going to lie some days i feel uber supp...\n",
       "2        love  i have no word to describe the feeling reply s...\n",
       "3        love  i needed to clear my head he tells him and sig...\n",
       "4     disgust  When I had exams a relative of ours, who lives...\n",
       "...       ...                                                ...\n",
       "7345     fear  When I went home and there was nobody, I waite...\n",
       "7346    guilt  When one of my parents insinuates something ab...\n",
       "7347    anger  When our cat was killed in a car-accident I wa...\n",
       "7348    anger                                  i feel too rushed\n",
       "7349     fear  i feel a little strange chasing after them sin...\n",
       "\n",
       "[7350 rows x 2 columns]"
      ]
     },
     "execution_count": 78,
     "metadata": {},
     "output_type": "execute_result"
    }
   ],
   "source": [
    "df.reset_index(drop=True)"
   ]
  },
  {
   "cell_type": "code",
   "execution_count": null,
   "id": "da2ccde3",
   "metadata": {},
   "outputs": [],
   "source": []
  }
 ],
 "metadata": {
  "kernelspec": {
   "display_name": "Python 3 (ipykernel)",
   "language": "python",
   "name": "python3"
  },
  "language_info": {
   "codemirror_mode": {
    "name": "ipython",
    "version": 3
   },
   "file_extension": ".py",
   "mimetype": "text/x-python",
   "name": "python",
   "nbconvert_exporter": "python",
   "pygments_lexer": "ipython3",
   "version": "3.9.7"
  }
 },
 "nbformat": 4,
 "nbformat_minor": 5
}
